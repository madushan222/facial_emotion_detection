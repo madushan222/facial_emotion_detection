{
 "cells": [
  {
   "cell_type": "code",
   "execution_count": 1,
   "metadata": {},
   "outputs": [],
   "source": [
    "import matplotlib.pyplot as plt\n",
    "\n",
    "import pandas as pd\n",
    "import numpy as np\n",
    "from pprint import pprint\n",
    "import pickle\n",
    "import string\n",
    "\n",
    "from idna import unicode, re\n",
    "from re import split as regex_split, sub as regex_sub, UNICODE as REGEX_UNICODE\n",
    "\n",
    "import nltk\n",
    "import os\n",
    "import xlwt \n",
    "\n",
    "from nltk.tokenize import sent_tokenize, word_tokenize\n",
    "from nltk.corpus import stopwords\n",
    "\n",
    "import pandas as pd\n",
    "import numpy as np\n",
    "from pprint import pprint\n",
    "import pickle \n",
    "\n",
    "from idna import unicode, re\n",
    "from re import split as regex_split, sub as regex_sub, UNICODE as REGEX_UNICODE\n",
    "\n",
    "import nltk\n",
    "import os\n",
    "import xlwt \n",
    "\n",
    "from nltk.tokenize import sent_tokenize, word_tokenize\n",
    "from nltk.corpus import stopwords"
   ]
  },
  {
   "cell_type": "code",
   "execution_count": 2,
   "metadata": {},
   "outputs": [],
   "source": [
    "import nltk\n",
    "from nltk.corpus import stopwords"
   ]
  },
  {
   "cell_type": "code",
   "execution_count": 3,
   "metadata": {},
   "outputs": [],
   "source": [
    "from nltk.tokenize import word_tokenize"
   ]
  },
  {
   "cell_type": "code",
   "execution_count": 4,
   "metadata": {},
   "outputs": [],
   "source": [
    "import pandas as pd\n",
    "import sklearn.datasets\n",
    "from sklearn import metrics\n",
    "from sklearn.metrics import accuracy_score\n",
    "import numpy as np\n",
    "from sklearn.feature_extraction.text import TfidfVectorizer\n",
    "from sklearn.pipeline import Pipeline\n",
    "from sklearn.naive_bayes import MultinomialNB\n",
    "from sklearn.model_selection import train_test_split\n",
    "from sklearn.metrics import classification_report\n",
    "import pandas as pd\n",
    "from sklearn.feature_extraction.text import CountVectorizer #convert text comment into a numeric vector\n",
    "from sklearn.feature_extraction.text import TfidfVectorizer #use TF IDF transformer to change text vector created by count vectorizer\n",
    "from sklearn.feature_extraction.text import TfidfTransformer\n",
    "from sklearn.model_selection import train_test_split\n",
    "from sklearn.svm import SVC# Support Vector Machine\n",
    "from sklearn.pipeline import Pipeline #pipeline to implement steps in series\n",
    "from sklearn.metrics import classification_report\n",
    "from sklearn import metrics\n",
    "import xlrd \n",
    "from collections import Counter"
   ]
  },
  {
   "cell_type": "code",
   "execution_count": 31,
   "metadata": {},
   "outputs": [
    {
     "name": "stdout",
     "output_type": "stream",
     "text": [
      "Collecting plotly\n",
      "  Downloading plotly-5.0.0-py2.py3-none-any.whl (19.1 MB)\n",
      "Collecting tenacity>=6.2.0\n",
      "  Downloading tenacity-7.0.0-py2.py3-none-any.whl (23 kB)\n",
      "Requirement already satisfied: six in c:\\users\\asus\\anaconda3\\lib\\site-packages (from plotly) (1.15.0)\n",
      "Installing collected packages: tenacity, plotly\n",
      "Successfully installed plotly-5.0.0 tenacity-7.0.0\n",
      "Note: you may need to restart the kernel to use updated packages.\n"
     ]
    }
   ],
   "source": [
    "pip install plotly"
   ]
  },
  {
   "cell_type": "code",
   "execution_count": 14,
   "metadata": {},
   "outputs": [
    {
     "name": "stdout",
     "output_type": "stream",
     "text": [
      "Collecting cufflinks\n",
      "  Downloading cufflinks-0.17.3.tar.gz (81 kB)\n",
      "Requirement already satisfied: numpy>=1.9.2 in c:\\users\\asus\\anaconda3\\lib\\site-packages (from cufflinks) (1.19.2)\n",
      "Requirement already satisfied: pandas>=0.19.2 in c:\\users\\asus\\anaconda3\\lib\\site-packages (from cufflinks) (1.1.3)\n",
      "Requirement already satisfied: plotly>=4.1.1 in c:\\users\\asus\\anaconda3\\lib\\site-packages (from cufflinks) (5.0.0)\n",
      "Requirement already satisfied: six>=1.9.0 in c:\\users\\asus\\anaconda3\\lib\\site-packages (from cufflinks) (1.15.0)\n",
      "Collecting colorlover>=0.2.1\n",
      "  Downloading colorlover-0.3.0-py3-none-any.whl (8.9 kB)\n",
      "Requirement already satisfied: setuptools>=34.4.1 in c:\\users\\asus\\anaconda3\\lib\\site-packages (from cufflinks) (50.3.1.post20201107)\n",
      "Requirement already satisfied: ipython>=5.3.0 in c:\\users\\asus\\anaconda3\\lib\\site-packages (from cufflinks) (7.19.0)\n",
      "Requirement already satisfied: ipywidgets>=7.0.0 in c:\\users\\asus\\anaconda3\\lib\\site-packages (from cufflinks) (7.5.1)\n",
      "Requirement already satisfied: python-dateutil>=2.7.3 in c:\\users\\asus\\anaconda3\\lib\\site-packages (from pandas>=0.19.2->cufflinks) (2.8.1)\n",
      "Requirement already satisfied: pytz>=2017.2 in c:\\users\\asus\\anaconda3\\lib\\site-packages (from pandas>=0.19.2->cufflinks) (2020.1)\n",
      "Requirement already satisfied: tenacity>=6.2.0 in c:\\users\\asus\\anaconda3\\lib\\site-packages (from plotly>=4.1.1->cufflinks) (7.0.0)\n",
      "Requirement already satisfied: colorama; sys_platform == \"win32\" in c:\\users\\asus\\anaconda3\\lib\\site-packages (from ipython>=5.3.0->cufflinks) (0.4.4)\n",
      "Requirement already satisfied: prompt-toolkit!=3.0.0,!=3.0.1,<3.1.0,>=2.0.0 in c:\\users\\asus\\anaconda3\\lib\\site-packages (from ipython>=5.3.0->cufflinks) (3.0.8)\n",
      "Requirement already satisfied: decorator in c:\\users\\asus\\anaconda3\\lib\\site-packages (from ipython>=5.3.0->cufflinks) (4.4.2)\n",
      "Requirement already satisfied: pygments in c:\\users\\asus\\anaconda3\\lib\\site-packages (from ipython>=5.3.0->cufflinks) (2.7.2)\n",
      "Requirement already satisfied: traitlets>=4.2 in c:\\users\\asus\\anaconda3\\lib\\site-packages (from ipython>=5.3.0->cufflinks) (5.0.5)\n",
      "Requirement already satisfied: jedi>=0.10 in c:\\users\\asus\\anaconda3\\lib\\site-packages (from ipython>=5.3.0->cufflinks) (0.17.1)\n",
      "Requirement already satisfied: pickleshare in c:\\users\\asus\\anaconda3\\lib\\site-packages (from ipython>=5.3.0->cufflinks) (0.7.5)\n",
      "Requirement already satisfied: backcall in c:\\users\\asus\\anaconda3\\lib\\site-packages (from ipython>=5.3.0->cufflinks) (0.2.0)\n",
      "Requirement already satisfied: nbformat>=4.2.0 in c:\\users\\asus\\anaconda3\\lib\\site-packages (from ipywidgets>=7.0.0->cufflinks) (5.0.8)\n",
      "Requirement already satisfied: widgetsnbextension~=3.5.0 in c:\\users\\asus\\anaconda3\\lib\\site-packages (from ipywidgets>=7.0.0->cufflinks) (3.5.1)\n",
      "Requirement already satisfied: ipykernel>=4.5.1 in c:\\users\\asus\\anaconda3\\lib\\site-packages (from ipywidgets>=7.0.0->cufflinks) (5.3.4)\n",
      "Requirement already satisfied: wcwidth in c:\\users\\asus\\anaconda3\\lib\\site-packages (from prompt-toolkit!=3.0.0,!=3.0.1,<3.1.0,>=2.0.0->ipython>=5.3.0->cufflinks) (0.2.5)\n",
      "Requirement already satisfied: ipython-genutils in c:\\users\\asus\\anaconda3\\lib\\site-packages (from traitlets>=4.2->ipython>=5.3.0->cufflinks) (0.2.0)\n",
      "Requirement already satisfied: parso<0.8.0,>=0.7.0 in c:\\users\\asus\\anaconda3\\lib\\site-packages (from jedi>=0.10->ipython>=5.3.0->cufflinks) (0.7.0)\n",
      "Requirement already satisfied: jupyter-core in c:\\users\\asus\\anaconda3\\lib\\site-packages (from nbformat>=4.2.0->ipywidgets>=7.0.0->cufflinks) (4.6.3)\n",
      "Requirement already satisfied: jsonschema!=2.5.0,>=2.4 in c:\\users\\asus\\anaconda3\\lib\\site-packages (from nbformat>=4.2.0->ipywidgets>=7.0.0->cufflinks) (3.2.0)\n",
      "Requirement already satisfied: notebook>=4.4.1 in c:\\users\\asus\\anaconda3\\lib\\site-packages (from widgetsnbextension~=3.5.0->ipywidgets>=7.0.0->cufflinks) (6.1.4)\n",
      "Requirement already satisfied: tornado>=4.2 in c:\\users\\asus\\anaconda3\\lib\\site-packages (from ipykernel>=4.5.1->ipywidgets>=7.0.0->cufflinks) (6.0.4)\n",
      "Requirement already satisfied: jupyter-client in c:\\users\\asus\\anaconda3\\lib\\site-packages (from ipykernel>=4.5.1->ipywidgets>=7.0.0->cufflinks) (6.1.7)\n",
      "Requirement already satisfied: pywin32>=1.0; sys_platform == \"win32\" in c:\\users\\asus\\anaconda3\\lib\\site-packages (from jupyter-core->nbformat>=4.2.0->ipywidgets>=7.0.0->cufflinks) (227)\n",
      "Requirement already satisfied: attrs>=17.4.0 in c:\\users\\asus\\anaconda3\\lib\\site-packages (from jsonschema!=2.5.0,>=2.4->nbformat>=4.2.0->ipywidgets>=7.0.0->cufflinks) (20.3.0)\n",
      "Requirement already satisfied: pyrsistent>=0.14.0 in c:\\users\\asus\\anaconda3\\lib\\site-packages (from jsonschema!=2.5.0,>=2.4->nbformat>=4.2.0->ipywidgets>=7.0.0->cufflinks) (0.17.3)\n",
      "Requirement already satisfied: pyzmq>=17 in c:\\users\\asus\\anaconda3\\lib\\site-packages (from notebook>=4.4.1->widgetsnbextension~=3.5.0->ipywidgets>=7.0.0->cufflinks) (19.0.2)\n",
      "Requirement already satisfied: terminado>=0.8.3 in c:\\users\\asus\\anaconda3\\lib\\site-packages (from notebook>=4.4.1->widgetsnbextension~=3.5.0->ipywidgets>=7.0.0->cufflinks) (0.9.1)\n",
      "Requirement already satisfied: Send2Trash in c:\\users\\asus\\anaconda3\\lib\\site-packages (from notebook>=4.4.1->widgetsnbextension~=3.5.0->ipywidgets>=7.0.0->cufflinks) (1.5.0)\n",
      "Requirement already satisfied: argon2-cffi in c:\\users\\asus\\anaconda3\\lib\\site-packages (from notebook>=4.4.1->widgetsnbextension~=3.5.0->ipywidgets>=7.0.0->cufflinks) (20.1.0)\n",
      "Requirement already satisfied: nbconvert in c:\\users\\asus\\anaconda3\\lib\\site-packages (from notebook>=4.4.1->widgetsnbextension~=3.5.0->ipywidgets>=7.0.0->cufflinks) (6.0.7)\n",
      "Requirement already satisfied: jinja2 in c:\\users\\asus\\anaconda3\\lib\\site-packages (from notebook>=4.4.1->widgetsnbextension~=3.5.0->ipywidgets>=7.0.0->cufflinks) (2.11.2)\n",
      "Requirement already satisfied: prometheus-client in c:\\users\\asus\\anaconda3\\lib\\site-packages (from notebook>=4.4.1->widgetsnbextension~=3.5.0->ipywidgets>=7.0.0->cufflinks) (0.8.0)\n",
      "Requirement already satisfied: pywinpty>=0.5 in c:\\users\\asus\\anaconda3\\lib\\site-packages (from terminado>=0.8.3->notebook>=4.4.1->widgetsnbextension~=3.5.0->ipywidgets>=7.0.0->cufflinks) (0.5.7)\n",
      "Requirement already satisfied: cffi>=1.0.0 in c:\\users\\asus\\anaconda3\\lib\\site-packages (from argon2-cffi->notebook>=4.4.1->widgetsnbextension~=3.5.0->ipywidgets>=7.0.0->cufflinks) (1.14.3)\n",
      "Requirement already satisfied: mistune<2,>=0.8.1 in c:\\users\\asus\\anaconda3\\lib\\site-packages (from nbconvert->notebook>=4.4.1->widgetsnbextension~=3.5.0->ipywidgets>=7.0.0->cufflinks) (0.8.4)\n",
      "Requirement already satisfied: testpath in c:\\users\\asus\\anaconda3\\lib\\site-packages (from nbconvert->notebook>=4.4.1->widgetsnbextension~=3.5.0->ipywidgets>=7.0.0->cufflinks) (0.4.4)\n",
      "Requirement already satisfied: entrypoints>=0.2.2 in c:\\users\\asus\\anaconda3\\lib\\site-packages (from nbconvert->notebook>=4.4.1->widgetsnbextension~=3.5.0->ipywidgets>=7.0.0->cufflinks) (0.3)\n",
      "Requirement already satisfied: bleach in c:\\users\\asus\\anaconda3\\lib\\site-packages (from nbconvert->notebook>=4.4.1->widgetsnbextension~=3.5.0->ipywidgets>=7.0.0->cufflinks) (3.2.1)\n",
      "Requirement already satisfied: pandocfilters>=1.4.1 in c:\\users\\asus\\anaconda3\\lib\\site-packages (from nbconvert->notebook>=4.4.1->widgetsnbextension~=3.5.0->ipywidgets>=7.0.0->cufflinks) (1.4.3)\n",
      "Requirement already satisfied: jupyterlab-pygments in c:\\users\\asus\\anaconda3\\lib\\site-packages (from nbconvert->notebook>=4.4.1->widgetsnbextension~=3.5.0->ipywidgets>=7.0.0->cufflinks) (0.1.2)\n",
      "Requirement already satisfied: defusedxml in c:\\users\\asus\\anaconda3\\lib\\site-packages (from nbconvert->notebook>=4.4.1->widgetsnbextension~=3.5.0->ipywidgets>=7.0.0->cufflinks) (0.6.0)\n",
      "Requirement already satisfied: nbclient<0.6.0,>=0.5.0 in c:\\users\\asus\\anaconda3\\lib\\site-packages (from nbconvert->notebook>=4.4.1->widgetsnbextension~=3.5.0->ipywidgets>=7.0.0->cufflinks) (0.5.1)\n",
      "Requirement already satisfied: MarkupSafe>=0.23 in c:\\users\\asus\\anaconda3\\lib\\site-packages (from jinja2->notebook>=4.4.1->widgetsnbextension~=3.5.0->ipywidgets>=7.0.0->cufflinks) (1.1.1)\n",
      "Requirement already satisfied: pycparser in c:\\users\\asus\\anaconda3\\lib\\site-packages (from cffi>=1.0.0->argon2-cffi->notebook>=4.4.1->widgetsnbextension~=3.5.0->ipywidgets>=7.0.0->cufflinks) (2.20)\n",
      "Requirement already satisfied: packaging in c:\\users\\asus\\anaconda3\\lib\\site-packages (from bleach->nbconvert->notebook>=4.4.1->widgetsnbextension~=3.5.0->ipywidgets>=7.0.0->cufflinks) (20.4)\n",
      "Requirement already satisfied: webencodings in c:\\users\\asus\\anaconda3\\lib\\site-packages (from bleach->nbconvert->notebook>=4.4.1->widgetsnbextension~=3.5.0->ipywidgets>=7.0.0->cufflinks) (0.5.1)\n",
      "Requirement already satisfied: async-generator in c:\\users\\asus\\anaconda3\\lib\\site-packages (from nbclient<0.6.0,>=0.5.0->nbconvert->notebook>=4.4.1->widgetsnbextension~=3.5.0->ipywidgets>=7.0.0->cufflinks) (1.10)\n",
      "Requirement already satisfied: nest-asyncio in c:\\users\\asus\\anaconda3\\lib\\site-packages (from nbclient<0.6.0,>=0.5.0->nbconvert->notebook>=4.4.1->widgetsnbextension~=3.5.0->ipywidgets>=7.0.0->cufflinks) (1.4.2)\n",
      "Requirement already satisfied: pyparsing>=2.0.2 in c:\\users\\asus\\anaconda3\\lib\\site-packages (from packaging->bleach->nbconvert->notebook>=4.4.1->widgetsnbextension~=3.5.0->ipywidgets>=7.0.0->cufflinks) (2.4.7)\n",
      "Building wheels for collected packages: cufflinks\n",
      "  Building wheel for cufflinks (setup.py): started\n",
      "  Building wheel for cufflinks (setup.py): finished with status 'done'\n",
      "  Created wheel for cufflinks: filename=cufflinks-0.17.3-py3-none-any.whl size=68727 sha256=30ecdd31cc4879a647aabd70809ae0d361e817d1c2d31e147e9f54058d0fc187\n",
      "  Stored in directory: c:\\users\\asus\\appdata\\local\\pip\\cache\\wheels\\6b\\76\\62\\6da97734911ffcbdd559fd1a3f28526321f0ae699182a23866\n",
      "Successfully built cufflinks\n",
      "Installing collected packages: colorlover, cufflinks\n",
      "Successfully installed colorlover-0.3.0 cufflinks-0.17.3\n",
      "Note: you may need to restart the kernel to use updated packages.\n"
     ]
    }
   ],
   "source": [
    "pip install cufflinks"
   ]
  },
  {
   "cell_type": "code",
   "execution_count": 5,
   "metadata": {},
   "outputs": [
    {
     "data": {
      "text/html": [
       "        <script type=\"text/javascript\">\n",
       "        window.PlotlyConfig = {MathJaxConfig: 'local'};\n",
       "        if (window.MathJax) {MathJax.Hub.Config({SVG: {font: \"STIX-Web\"}});}\n",
       "        if (typeof require !== 'undefined') {\n",
       "        require.undef(\"plotly\");\n",
       "        requirejs.config({\n",
       "            paths: {\n",
       "                'plotly': ['https://cdn.plot.ly/plotly-2.1.0.min']\n",
       "            }\n",
       "        });\n",
       "        require(['plotly'], function(Plotly) {\n",
       "            window._Plotly = Plotly;\n",
       "        });\n",
       "        }\n",
       "        </script>\n",
       "        "
      ]
     },
     "metadata": {},
     "output_type": "display_data"
    }
   ],
   "source": [
    "#for LSTM model visualization\n",
    "import plotly.graph_objs as go\n",
    "#import plotly.plotly as py\n",
    "import cufflinks\n",
    "from IPython.core.interactiveshell import InteractiveShell\n",
    "import plotly.figure_factory as ff\n",
    "InteractiveShell.ast_node_interactivity = 'all'\n",
    "from plotly.offline import iplot\n",
    "cufflinks.go_offline()"
   ]
  },
  {
   "cell_type": "code",
   "execution_count": 19,
   "metadata": {},
   "outputs": [
    {
     "name": "stdout",
     "output_type": "stream",
     "text": [
      "Collecting keras\n",
      "  Downloading Keras-2.4.3-py2.py3-none-any.whl (36 kB)\n",
      "Requirement already satisfied: numpy>=1.9.1 in c:\\users\\asus\\anaconda3\\lib\\site-packages (from keras) (1.19.2)\n",
      "Requirement already satisfied: h5py in c:\\users\\asus\\anaconda3\\lib\\site-packages (from keras) (2.10.0)\n",
      "Requirement already satisfied: scipy>=0.14 in c:\\users\\asus\\anaconda3\\lib\\site-packages (from keras) (1.5.2)\n",
      "Requirement already satisfied: pyyaml in c:\\users\\asus\\anaconda3\\lib\\site-packages (from keras) (5.3.1)\n",
      "Requirement already satisfied: six in c:\\users\\asus\\anaconda3\\lib\\site-packages (from h5py->keras) (1.15.0)\n",
      "Installing collected packages: keras\n",
      "Successfully installed keras-2.4.3\n",
      "Note: you may need to restart the kernel to use updated packages.\n"
     ]
    }
   ],
   "source": [
    "pip install keras"
   ]
  },
  {
   "cell_type": "code",
   "execution_count": 6,
   "metadata": {},
   "outputs": [
    {
     "name": "stdout",
     "output_type": "stream",
     "text": [
      "Requirement already satisfied: tensorflow in c:\\users\\asus\\anaconda3\\lib\\site-packages (2.5.0)\n",
      "Requirement already satisfied: tensorboard~=2.5 in c:\\users\\asus\\anaconda3\\lib\\site-packages (from tensorflow) (2.5.0)\n",
      "Requirement already satisfied: absl-py~=0.10 in c:\\users\\asus\\anaconda3\\lib\\site-packages (from tensorflow) (0.13.0)\n",
      "Requirement already satisfied: termcolor~=1.1.0 in c:\\users\\asus\\anaconda3\\lib\\site-packages (from tensorflow) (1.1.0)\n",
      "Requirement already satisfied: opt-einsum~=3.3.0 in c:\\users\\asus\\anaconda3\\lib\\site-packages (from tensorflow) (3.3.0)\n",
      "Requirement already satisfied: protobuf>=3.9.2 in c:\\users\\asus\\anaconda3\\lib\\site-packages (from tensorflow) (3.17.3)\n",
      "Requirement already satisfied: six~=1.15.0 in c:\\users\\asus\\anaconda3\\lib\\site-packages (from tensorflow) (1.15.0)\n",
      "Requirement already satisfied: typing-extensions~=3.7.4 in c:\\users\\asus\\anaconda3\\lib\\site-packages (from tensorflow) (3.7.4.3)\n",
      "Requirement already satisfied: keras-nightly~=2.5.0.dev in c:\\users\\asus\\anaconda3\\lib\\site-packages (from tensorflow) (2.5.0.dev2021032900)\n",
      "Requirement already satisfied: keras-preprocessing~=1.1.2 in c:\\users\\asus\\anaconda3\\lib\\site-packages (from tensorflow) (1.1.2)\n",
      "Requirement already satisfied: gast==0.4.0 in c:\\users\\asus\\anaconda3\\lib\\site-packages (from tensorflow) (0.4.0)\n",
      "Requirement already satisfied: tensorflow-estimator<2.6.0,>=2.5.0rc0 in c:\\users\\asus\\anaconda3\\lib\\site-packages (from tensorflow) (2.5.0)\n",
      "Requirement already satisfied: numpy~=1.19.2 in c:\\users\\asus\\anaconda3\\lib\\site-packages (from tensorflow) (1.19.2)\n",
      "Requirement already satisfied: google-pasta~=0.2 in c:\\users\\asus\\anaconda3\\lib\\site-packages (from tensorflow) (0.2.0)\n",
      "Requirement already satisfied: wrapt~=1.12.1 in c:\\users\\asus\\anaconda3\\lib\\site-packages (from tensorflow) (1.12.1)\n",
      "Requirement already satisfied: astunparse~=1.6.3 in c:\\users\\asus\\anaconda3\\lib\\site-packages (from tensorflow) (1.6.3)\n",
      "Requirement already satisfied: flatbuffers~=1.12.0 in c:\\users\\asus\\anaconda3\\lib\\site-packages (from tensorflow) (1.12)\n",
      "Requirement already satisfied: wheel~=0.35 in c:\\users\\asus\\anaconda3\\lib\\site-packages (from tensorflow) (0.35.1)\n",
      "Requirement already satisfied: grpcio~=1.34.0 in c:\\users\\asus\\anaconda3\\lib\\site-packages (from tensorflow) (1.34.1)\n",
      "Requirement already satisfied: h5py~=3.1.0 in c:\\users\\asus\\anaconda3\\lib\\site-packages (from tensorflow) (3.1.0)\n",
      "Requirement already satisfied: requests<3,>=2.21.0 in c:\\users\\asus\\anaconda3\\lib\\site-packages (from tensorboard~=2.5->tensorflow) (2.24.0)\n",
      "Requirement already satisfied: tensorboard-plugin-wit>=1.6.0 in c:\\users\\asus\\anaconda3\\lib\\site-packages (from tensorboard~=2.5->tensorflow) (1.8.0)\n",
      "Requirement already satisfied: werkzeug>=0.11.15 in c:\\users\\asus\\anaconda3\\lib\\site-packages (from tensorboard~=2.5->tensorflow) (1.0.1)\n",
      "Requirement already satisfied: tensorboard-data-server<0.7.0,>=0.6.0 in c:\\users\\asus\\anaconda3\\lib\\site-packages (from tensorboard~=2.5->tensorflow) (0.6.1)\n",
      "Requirement already satisfied: google-auth-oauthlib<0.5,>=0.4.1 in c:\\users\\asus\\anaconda3\\lib\\site-packages (from tensorboard~=2.5->tensorflow) (0.4.4)\n",
      "Requirement already satisfied: setuptools>=41.0.0 in c:\\users\\asus\\anaconda3\\lib\\site-packages (from tensorboard~=2.5->tensorflow) (50.3.1.post20201107)\n",
      "Requirement already satisfied: markdown>=2.6.8 in c:\\users\\asus\\anaconda3\\lib\\site-packages (from tensorboard~=2.5->tensorflow) (3.3.4)\n",
      "Requirement already satisfied: google-auth<2,>=1.6.3 in c:\\users\\asus\\anaconda3\\lib\\site-packages (from tensorboard~=2.5->tensorflow) (1.32.0)\n",
      "Requirement already satisfied: idna<3,>=2.5 in c:\\users\\asus\\anaconda3\\lib\\site-packages (from requests<3,>=2.21.0->tensorboard~=2.5->tensorflow) (2.10)\n",
      "Requirement already satisfied: certifi>=2017.4.17 in c:\\users\\asus\\anaconda3\\lib\\site-packages (from requests<3,>=2.21.0->tensorboard~=2.5->tensorflow) (2020.6.20)\n",
      "Requirement already satisfied: chardet<4,>=3.0.2 in c:\\users\\asus\\anaconda3\\lib\\site-packages (from requests<3,>=2.21.0->tensorboard~=2.5->tensorflow) (3.0.4)\n",
      "Requirement already satisfied: urllib3!=1.25.0,!=1.25.1,<1.26,>=1.21.1 in c:\\users\\asus\\anaconda3\\lib\\site-packages (from requests<3,>=2.21.0->tensorboard~=2.5->tensorflow) (1.25.11)\n",
      "Requirement already satisfied: requests-oauthlib>=0.7.0 in c:\\users\\asus\\anaconda3\\lib\\site-packages (from google-auth-oauthlib<0.5,>=0.4.1->tensorboard~=2.5->tensorflow) (1.3.0)\n",
      "Requirement already satisfied: pyasn1-modules>=0.2.1 in c:\\users\\asus\\anaconda3\\lib\\site-packages (from google-auth<2,>=1.6.3->tensorboard~=2.5->tensorflow) (0.2.8)\n",
      "Requirement already satisfied: rsa<5,>=3.1.4; python_version >= \"3.6\" in c:\\users\\asus\\anaconda3\\lib\\site-packages (from google-auth<2,>=1.6.3->tensorboard~=2.5->tensorflow) (4.7.2)\n",
      "Requirement already satisfied: cachetools<5.0,>=2.0.0 in c:\\users\\asus\\anaconda3\\lib\\site-packages (from google-auth<2,>=1.6.3->tensorboard~=2.5->tensorflow) (4.2.2)\n",
      "Requirement already satisfied: oauthlib>=3.0.0 in c:\\users\\asus\\anaconda3\\lib\\site-packages (from requests-oauthlib>=0.7.0->google-auth-oauthlib<0.5,>=0.4.1->tensorboard~=2.5->tensorflow) (3.1.1)\n",
      "Requirement already satisfied: pyasn1<0.5.0,>=0.4.6 in c:\\users\\asus\\anaconda3\\lib\\site-packages (from pyasn1-modules>=0.2.1->google-auth<2,>=1.6.3->tensorboard~=2.5->tensorflow) (0.4.8)\n",
      "Note: you may need to restart the kernel to use updated packages.\n"
     ]
    }
   ],
   "source": [
    "pip install tensorflow"
   ]
  },
  {
   "cell_type": "code",
   "execution_count": 6,
   "metadata": {},
   "outputs": [],
   "source": [
    "import seaborn as sns\n",
    "from keras.preprocessing.text import Tokenizer\n",
    "from keras.preprocessing.sequence import pad_sequences\n",
    "from keras.models import Sequential\n",
    "from keras.layers import Dense, Embedding, LSTM, SpatialDropout1D\n",
    "from sklearn.model_selection import train_test_split\n",
    "from keras.utils.np_utils import to_categorical\n",
    "from keras.callbacks import EarlyStopping\n",
    "from keras.layers import Dropout\n",
    "import re\n",
    "from nltk.corpus import stopwords\n",
    "from nltk import word_tokenize"
   ]
  },
  {
   "cell_type": "code",
   "execution_count": 7,
   "metadata": {},
   "outputs": [],
   "source": [
    "from keras.preprocessing.text import Tokenizer\n",
    "from keras.preprocessing import text"
   ]
  },
  {
   "cell_type": "code",
   "execution_count": 8,
   "metadata": {},
   "outputs": [
    {
     "data": {
      "text/html": [
       "<div>\n",
       "<style scoped>\n",
       "    .dataframe tbody tr th:only-of-type {\n",
       "        vertical-align: middle;\n",
       "    }\n",
       "\n",
       "    .dataframe tbody tr th {\n",
       "        vertical-align: top;\n",
       "    }\n",
       "\n",
       "    .dataframe thead th {\n",
       "        text-align: right;\n",
       "    }\n",
       "</style>\n",
       "<table border=\"1\" class=\"dataframe\">\n",
       "  <thead>\n",
       "    <tr style=\"text-align: right;\">\n",
       "      <th></th>\n",
       "      <th>Body</th>\n",
       "      <th>Category</th>\n",
       "    </tr>\n",
       "  </thead>\n",
       "  <tbody>\n",
       "    <tr>\n",
       "      <th>0</th>\n",
       "      <td>රුසියාවේදී පැවැත්වෙන ලෝක කුසලාන පාපන්දු තරඟාවල...</td>\n",
       "      <td>Sports</td>\n",
       "    </tr>\n",
       "    <tr>\n",
       "      <th>1</th>\n",
       "      <td>හොද්දක් රස ගන්න වගේම සැන්ඩ්විච් , සලාද ආදිය පි...</td>\n",
       "      <td>Health</td>\n",
       "    </tr>\n",
       "    <tr>\n",
       "      <th>2</th>\n",
       "      <td>හම්බන්තොට - රිදියගම සෆාරි උද්‍යානයේ සත්ව කලාප ...</td>\n",
       "      <td>Bussiness</td>\n",
       "    </tr>\n",
       "    <tr>\n",
       "      <th>3</th>\n",
       "      <td>කොට්ඨාස සීමා නිර්ණය පිළිබඳ අභියාචනා විමර්ශන කා...</td>\n",
       "      <td>Politics</td>\n",
       "    </tr>\n",
       "    <tr>\n",
       "      <th>4</th>\n",
       "      <td>ranveer singh ඉන්දියාවේ ඉන්න හැම වෙලාවකම අමුතු...</td>\n",
       "      <td>Entertainment</td>\n",
       "    </tr>\n",
       "  </tbody>\n",
       "</table>\n",
       "</div>"
      ],
      "text/plain": [
       "                                                Body       Category\n",
       "0  රුසියාවේදී පැවැත්වෙන ලෝක කුසලාන පාපන්දු තරඟාවල...         Sports\n",
       "1  හොද්දක් රස ගන්න වගේම සැන්ඩ්විච් , සලාද ආදිය පි...         Health\n",
       "2  හම්බන්තොට - රිදියගම සෆාරි උද්‍යානයේ සත්ව කලාප ...      Bussiness\n",
       "3  කොට්ඨාස සීමා නිර්ණය පිළිබඳ අභියාචනා විමර්ශන කා...       Politics\n",
       "4  ranveer singh ඉන්දියාවේ ඉන්න හැම වෙලාවකම අමුතු...  Entertainment"
      ]
     },
     "execution_count": 8,
     "metadata": {},
     "output_type": "execute_result"
    }
   ],
   "source": [
    "#Import the dataset\n",
    "df = pd.read_excel('newsDatasetUpdated.xls')\n",
    "df.head()"
   ]
  },
  {
   "cell_type": "code",
   "execution_count": 9,
   "metadata": {
    "scrolled": true
   },
   "outputs": [
    {
     "data": {
      "text/plain": [
       "0       රුසියාවේදී පැවැත්වෙන ලෝක කුසලාන පාපන්දු තරඟාවල...\n",
       "1       හොද්දක් රස ගන්න වගේම සැන්ඩ්විච් , සලාද ආදිය පි...\n",
       "2       හම්බන්තොට - රිදියගම සෆාරි උද්‍යානයේ සත්ව කලාප ...\n",
       "3       කොට්ඨාස සීමා නිර්ණය පිළිබඳ අභියාචනා විමර්ශන කා...\n",
       "4       ranveer singh ඉන්දියාවේ ඉන්න හැම වෙලාවකම අමුතු...\n",
       "                              ...                        \n",
       "2386    කලම්බු ඩොක්යාඩ් සමාගම නිෂ්පාදනය අති නවීන තාක්ෂ...\n",
       "2387    ජනප්‍රිය නළු විශ්ව කොඩිකාර පිය පදවියට පත්වී දි...\n",
       "2388    නිරිත දිග මෝසම සක්‍රිය වීමත් සමග දිවයිනට බලපා ...\n",
       "2389    කී‍්‍රඩා සංගම් 10 නිලවරණ හෙට දිනයේදී 15 වැනිදා...\n",
       "2390    ඇඟළුම් කර්මාන්තයේ ශ්‍රී ලාංකික කීර්තිනාමය ඉහළ ...\n",
       "Name: Body, Length: 2391, dtype: object"
      ]
     },
     "execution_count": 9,
     "metadata": {},
     "output_type": "execute_result"
    }
   ],
   "source": [
    "df['Body']"
   ]
  },
  {
   "cell_type": "code",
   "execution_count": 10,
   "metadata": {},
   "outputs": [
    {
     "name": "stdout",
     "output_type": "stream",
     "text": [
      "<class 'pandas.core.frame.DataFrame'>\n",
      "RangeIndex: 2391 entries, 0 to 2390\n",
      "Data columns (total 2 columns):\n",
      " #   Column    Non-Null Count  Dtype \n",
      "---  ------    --------------  ----- \n",
      " 0   Body      2391 non-null   object\n",
      " 1   Category  2391 non-null   object\n",
      "dtypes: object(2)\n",
      "memory usage: 37.5+ KB\n"
     ]
    }
   ],
   "source": [
    "df.info()"
   ]
  },
  {
   "cell_type": "code",
   "execution_count": 11,
   "metadata": {},
   "outputs": [
    {
     "data": {
      "text/plain": [
       "Health           450\n",
       "Sports           450\n",
       "Entertainment    450\n",
       "Bussiness        440\n",
       "Crime            201\n",
       "Politics         200\n",
       "Religious        200\n",
       "Name: Category, dtype: int64"
      ]
     },
     "execution_count": 11,
     "metadata": {},
     "output_type": "execute_result"
    }
   ],
   "source": [
    "df.Category.value_counts()"
   ]
  },
  {
   "cell_type": "code",
   "execution_count": 12,
   "metadata": {},
   "outputs": [
    {
     "data": {
      "application/vnd.plotly.v1+json": {
       "config": {
        "linkText": "Export to plot.ly",
        "plotlyServerURL": "https://plot.ly",
        "showLink": true
       },
       "data": [
        {
         "marker": {
          "color": "rgba(255, 153, 51, 0.6)",
          "line": {
           "color": "rgba(255, 153, 51, 1.0)",
           "width": 1
          }
         },
         "name": "Category",
         "orientation": "v",
         "text": "",
         "type": "bar",
         "x": [
          "Health",
          "Sports",
          "Entertainment",
          "Bussiness",
          "Crime",
          "Politics",
          "Religious"
         ],
         "y": [
          450,
          450,
          450,
          440,
          201,
          200,
          200
         ]
        }
       ],
       "layout": {
        "legend": {
         "bgcolor": "#F5F6F9",
         "font": {
          "color": "#4D5663"
         }
        },
        "paper_bgcolor": "#F5F6F9",
        "plot_bgcolor": "#F5F6F9",
        "template": {
         "data": {
          "bar": [
           {
            "error_x": {
             "color": "#2a3f5f"
            },
            "error_y": {
             "color": "#2a3f5f"
            },
            "marker": {
             "line": {
              "color": "#E5ECF6",
              "width": 0.5
             },
             "pattern": {
              "fillmode": "overlay",
              "size": 10,
              "solidity": 0.2
             }
            },
            "type": "bar"
           }
          ],
          "barpolar": [
           {
            "marker": {
             "line": {
              "color": "#E5ECF6",
              "width": 0.5
             },
             "pattern": {
              "fillmode": "overlay",
              "size": 10,
              "solidity": 0.2
             }
            },
            "type": "barpolar"
           }
          ],
          "carpet": [
           {
            "aaxis": {
             "endlinecolor": "#2a3f5f",
             "gridcolor": "white",
             "linecolor": "white",
             "minorgridcolor": "white",
             "startlinecolor": "#2a3f5f"
            },
            "baxis": {
             "endlinecolor": "#2a3f5f",
             "gridcolor": "white",
             "linecolor": "white",
             "minorgridcolor": "white",
             "startlinecolor": "#2a3f5f"
            },
            "type": "carpet"
           }
          ],
          "choropleth": [
           {
            "colorbar": {
             "outlinewidth": 0,
             "ticks": ""
            },
            "type": "choropleth"
           }
          ],
          "contour": [
           {
            "colorbar": {
             "outlinewidth": 0,
             "ticks": ""
            },
            "colorscale": [
             [
              0,
              "#0d0887"
             ],
             [
              0.1111111111111111,
              "#46039f"
             ],
             [
              0.2222222222222222,
              "#7201a8"
             ],
             [
              0.3333333333333333,
              "#9c179e"
             ],
             [
              0.4444444444444444,
              "#bd3786"
             ],
             [
              0.5555555555555556,
              "#d8576b"
             ],
             [
              0.6666666666666666,
              "#ed7953"
             ],
             [
              0.7777777777777778,
              "#fb9f3a"
             ],
             [
              0.8888888888888888,
              "#fdca26"
             ],
             [
              1,
              "#f0f921"
             ]
            ],
            "type": "contour"
           }
          ],
          "contourcarpet": [
           {
            "colorbar": {
             "outlinewidth": 0,
             "ticks": ""
            },
            "type": "contourcarpet"
           }
          ],
          "heatmap": [
           {
            "colorbar": {
             "outlinewidth": 0,
             "ticks": ""
            },
            "colorscale": [
             [
              0,
              "#0d0887"
             ],
             [
              0.1111111111111111,
              "#46039f"
             ],
             [
              0.2222222222222222,
              "#7201a8"
             ],
             [
              0.3333333333333333,
              "#9c179e"
             ],
             [
              0.4444444444444444,
              "#bd3786"
             ],
             [
              0.5555555555555556,
              "#d8576b"
             ],
             [
              0.6666666666666666,
              "#ed7953"
             ],
             [
              0.7777777777777778,
              "#fb9f3a"
             ],
             [
              0.8888888888888888,
              "#fdca26"
             ],
             [
              1,
              "#f0f921"
             ]
            ],
            "type": "heatmap"
           }
          ],
          "heatmapgl": [
           {
            "colorbar": {
             "outlinewidth": 0,
             "ticks": ""
            },
            "colorscale": [
             [
              0,
              "#0d0887"
             ],
             [
              0.1111111111111111,
              "#46039f"
             ],
             [
              0.2222222222222222,
              "#7201a8"
             ],
             [
              0.3333333333333333,
              "#9c179e"
             ],
             [
              0.4444444444444444,
              "#bd3786"
             ],
             [
              0.5555555555555556,
              "#d8576b"
             ],
             [
              0.6666666666666666,
              "#ed7953"
             ],
             [
              0.7777777777777778,
              "#fb9f3a"
             ],
             [
              0.8888888888888888,
              "#fdca26"
             ],
             [
              1,
              "#f0f921"
             ]
            ],
            "type": "heatmapgl"
           }
          ],
          "histogram": [
           {
            "marker": {
             "pattern": {
              "fillmode": "overlay",
              "size": 10,
              "solidity": 0.2
             }
            },
            "type": "histogram"
           }
          ],
          "histogram2d": [
           {
            "colorbar": {
             "outlinewidth": 0,
             "ticks": ""
            },
            "colorscale": [
             [
              0,
              "#0d0887"
             ],
             [
              0.1111111111111111,
              "#46039f"
             ],
             [
              0.2222222222222222,
              "#7201a8"
             ],
             [
              0.3333333333333333,
              "#9c179e"
             ],
             [
              0.4444444444444444,
              "#bd3786"
             ],
             [
              0.5555555555555556,
              "#d8576b"
             ],
             [
              0.6666666666666666,
              "#ed7953"
             ],
             [
              0.7777777777777778,
              "#fb9f3a"
             ],
             [
              0.8888888888888888,
              "#fdca26"
             ],
             [
              1,
              "#f0f921"
             ]
            ],
            "type": "histogram2d"
           }
          ],
          "histogram2dcontour": [
           {
            "colorbar": {
             "outlinewidth": 0,
             "ticks": ""
            },
            "colorscale": [
             [
              0,
              "#0d0887"
             ],
             [
              0.1111111111111111,
              "#46039f"
             ],
             [
              0.2222222222222222,
              "#7201a8"
             ],
             [
              0.3333333333333333,
              "#9c179e"
             ],
             [
              0.4444444444444444,
              "#bd3786"
             ],
             [
              0.5555555555555556,
              "#d8576b"
             ],
             [
              0.6666666666666666,
              "#ed7953"
             ],
             [
              0.7777777777777778,
              "#fb9f3a"
             ],
             [
              0.8888888888888888,
              "#fdca26"
             ],
             [
              1,
              "#f0f921"
             ]
            ],
            "type": "histogram2dcontour"
           }
          ],
          "mesh3d": [
           {
            "colorbar": {
             "outlinewidth": 0,
             "ticks": ""
            },
            "type": "mesh3d"
           }
          ],
          "parcoords": [
           {
            "line": {
             "colorbar": {
              "outlinewidth": 0,
              "ticks": ""
             }
            },
            "type": "parcoords"
           }
          ],
          "pie": [
           {
            "automargin": true,
            "type": "pie"
           }
          ],
          "scatter": [
           {
            "marker": {
             "colorbar": {
              "outlinewidth": 0,
              "ticks": ""
             }
            },
            "type": "scatter"
           }
          ],
          "scatter3d": [
           {
            "line": {
             "colorbar": {
              "outlinewidth": 0,
              "ticks": ""
             }
            },
            "marker": {
             "colorbar": {
              "outlinewidth": 0,
              "ticks": ""
             }
            },
            "type": "scatter3d"
           }
          ],
          "scattercarpet": [
           {
            "marker": {
             "colorbar": {
              "outlinewidth": 0,
              "ticks": ""
             }
            },
            "type": "scattercarpet"
           }
          ],
          "scattergeo": [
           {
            "marker": {
             "colorbar": {
              "outlinewidth": 0,
              "ticks": ""
             }
            },
            "type": "scattergeo"
           }
          ],
          "scattergl": [
           {
            "marker": {
             "colorbar": {
              "outlinewidth": 0,
              "ticks": ""
             }
            },
            "type": "scattergl"
           }
          ],
          "scattermapbox": [
           {
            "marker": {
             "colorbar": {
              "outlinewidth": 0,
              "ticks": ""
             }
            },
            "type": "scattermapbox"
           }
          ],
          "scatterpolar": [
           {
            "marker": {
             "colorbar": {
              "outlinewidth": 0,
              "ticks": ""
             }
            },
            "type": "scatterpolar"
           }
          ],
          "scatterpolargl": [
           {
            "marker": {
             "colorbar": {
              "outlinewidth": 0,
              "ticks": ""
             }
            },
            "type": "scatterpolargl"
           }
          ],
          "scatterternary": [
           {
            "marker": {
             "colorbar": {
              "outlinewidth": 0,
              "ticks": ""
             }
            },
            "type": "scatterternary"
           }
          ],
          "surface": [
           {
            "colorbar": {
             "outlinewidth": 0,
             "ticks": ""
            },
            "colorscale": [
             [
              0,
              "#0d0887"
             ],
             [
              0.1111111111111111,
              "#46039f"
             ],
             [
              0.2222222222222222,
              "#7201a8"
             ],
             [
              0.3333333333333333,
              "#9c179e"
             ],
             [
              0.4444444444444444,
              "#bd3786"
             ],
             [
              0.5555555555555556,
              "#d8576b"
             ],
             [
              0.6666666666666666,
              "#ed7953"
             ],
             [
              0.7777777777777778,
              "#fb9f3a"
             ],
             [
              0.8888888888888888,
              "#fdca26"
             ],
             [
              1,
              "#f0f921"
             ]
            ],
            "type": "surface"
           }
          ],
          "table": [
           {
            "cells": {
             "fill": {
              "color": "#EBF0F8"
             },
             "line": {
              "color": "white"
             }
            },
            "header": {
             "fill": {
              "color": "#C8D4E3"
             },
             "line": {
              "color": "white"
             }
            },
            "type": "table"
           }
          ]
         },
         "layout": {
          "annotationdefaults": {
           "arrowcolor": "#2a3f5f",
           "arrowhead": 0,
           "arrowwidth": 1
          },
          "autotypenumbers": "strict",
          "coloraxis": {
           "colorbar": {
            "outlinewidth": 0,
            "ticks": ""
           }
          },
          "colorscale": {
           "diverging": [
            [
             0,
             "#8e0152"
            ],
            [
             0.1,
             "#c51b7d"
            ],
            [
             0.2,
             "#de77ae"
            ],
            [
             0.3,
             "#f1b6da"
            ],
            [
             0.4,
             "#fde0ef"
            ],
            [
             0.5,
             "#f7f7f7"
            ],
            [
             0.6,
             "#e6f5d0"
            ],
            [
             0.7,
             "#b8e186"
            ],
            [
             0.8,
             "#7fbc41"
            ],
            [
             0.9,
             "#4d9221"
            ],
            [
             1,
             "#276419"
            ]
           ],
           "sequential": [
            [
             0,
             "#0d0887"
            ],
            [
             0.1111111111111111,
             "#46039f"
            ],
            [
             0.2222222222222222,
             "#7201a8"
            ],
            [
             0.3333333333333333,
             "#9c179e"
            ],
            [
             0.4444444444444444,
             "#bd3786"
            ],
            [
             0.5555555555555556,
             "#d8576b"
            ],
            [
             0.6666666666666666,
             "#ed7953"
            ],
            [
             0.7777777777777778,
             "#fb9f3a"
            ],
            [
             0.8888888888888888,
             "#fdca26"
            ],
            [
             1,
             "#f0f921"
            ]
           ],
           "sequentialminus": [
            [
             0,
             "#0d0887"
            ],
            [
             0.1111111111111111,
             "#46039f"
            ],
            [
             0.2222222222222222,
             "#7201a8"
            ],
            [
             0.3333333333333333,
             "#9c179e"
            ],
            [
             0.4444444444444444,
             "#bd3786"
            ],
            [
             0.5555555555555556,
             "#d8576b"
            ],
            [
             0.6666666666666666,
             "#ed7953"
            ],
            [
             0.7777777777777778,
             "#fb9f3a"
            ],
            [
             0.8888888888888888,
             "#fdca26"
            ],
            [
             1,
             "#f0f921"
            ]
           ]
          },
          "colorway": [
           "#636efa",
           "#EF553B",
           "#00cc96",
           "#ab63fa",
           "#FFA15A",
           "#19d3f3",
           "#FF6692",
           "#B6E880",
           "#FF97FF",
           "#FECB52"
          ],
          "font": {
           "color": "#2a3f5f"
          },
          "geo": {
           "bgcolor": "white",
           "lakecolor": "white",
           "landcolor": "#E5ECF6",
           "showlakes": true,
           "showland": true,
           "subunitcolor": "white"
          },
          "hoverlabel": {
           "align": "left"
          },
          "hovermode": "closest",
          "mapbox": {
           "style": "light"
          },
          "paper_bgcolor": "white",
          "plot_bgcolor": "#E5ECF6",
          "polar": {
           "angularaxis": {
            "gridcolor": "white",
            "linecolor": "white",
            "ticks": ""
           },
           "bgcolor": "#E5ECF6",
           "radialaxis": {
            "gridcolor": "white",
            "linecolor": "white",
            "ticks": ""
           }
          },
          "scene": {
           "xaxis": {
            "backgroundcolor": "#E5ECF6",
            "gridcolor": "white",
            "gridwidth": 2,
            "linecolor": "white",
            "showbackground": true,
            "ticks": "",
            "zerolinecolor": "white"
           },
           "yaxis": {
            "backgroundcolor": "#E5ECF6",
            "gridcolor": "white",
            "gridwidth": 2,
            "linecolor": "white",
            "showbackground": true,
            "ticks": "",
            "zerolinecolor": "white"
           },
           "zaxis": {
            "backgroundcolor": "#E5ECF6",
            "gridcolor": "white",
            "gridwidth": 2,
            "linecolor": "white",
            "showbackground": true,
            "ticks": "",
            "zerolinecolor": "white"
           }
          },
          "shapedefaults": {
           "line": {
            "color": "#2a3f5f"
           }
          },
          "ternary": {
           "aaxis": {
            "gridcolor": "white",
            "linecolor": "white",
            "ticks": ""
           },
           "baxis": {
            "gridcolor": "white",
            "linecolor": "white",
            "ticks": ""
           },
           "bgcolor": "#E5ECF6",
           "caxis": {
            "gridcolor": "white",
            "linecolor": "white",
            "ticks": ""
           }
          },
          "title": {
           "x": 0.05
          },
          "xaxis": {
           "automargin": true,
           "gridcolor": "white",
           "linecolor": "white",
           "ticks": "",
           "title": {
            "standoff": 15
           },
           "zerolinecolor": "white",
           "zerolinewidth": 2
          },
          "yaxis": {
           "automargin": true,
           "gridcolor": "white",
           "linecolor": "white",
           "ticks": "",
           "title": {
            "standoff": 15
           },
           "zerolinecolor": "white",
           "zerolinewidth": 2
          }
         }
        },
        "title": {
         "font": {
          "color": "#4D5663"
         },
         "text": "Number of Articles in each Category"
        },
        "xaxis": {
         "gridcolor": "#E1E5ED",
         "showgrid": true,
         "tickfont": {
          "color": "#4D5663"
         },
         "title": {
          "font": {
           "color": "#4D5663"
          },
          "text": ""
         },
         "zerolinecolor": "#E1E5ED"
        },
        "yaxis": {
         "gridcolor": "#E1E5ED",
         "showgrid": true,
         "tickfont": {
          "color": "#4D5663"
         },
         "title": {
          "font": {
           "color": "#4D5663"
          },
          "text": "Number of articles"
         },
         "zerolinecolor": "#E1E5ED"
        }
       }
      },
      "text/html": [
       "<div>                            <div id=\"5ae29eb3-87c2-4be8-803c-ae8a7871aac1\" class=\"plotly-graph-div\" style=\"height:525px; width:100%;\"></div>            <script type=\"text/javascript\">                require([\"plotly\"], function(Plotly) {                    window.PLOTLYENV=window.PLOTLYENV || {};\n",
       "                    window.PLOTLYENV.BASE_URL='https://plot.ly';                                    if (document.getElementById(\"5ae29eb3-87c2-4be8-803c-ae8a7871aac1\")) {                    Plotly.newPlot(                        \"5ae29eb3-87c2-4be8-803c-ae8a7871aac1\",                        [{\"marker\":{\"color\":\"rgba(255, 153, 51, 0.6)\",\"line\":{\"color\":\"rgba(255, 153, 51, 1.0)\",\"width\":1}},\"name\":\"Category\",\"orientation\":\"v\",\"text\":\"\",\"type\":\"bar\",\"x\":[\"Health\",\"Sports\",\"Entertainment\",\"Bussiness\",\"Crime\",\"Politics\",\"Religious\"],\"y\":[450,450,450,440,201,200,200]}],                        {\"legend\":{\"bgcolor\":\"#F5F6F9\",\"font\":{\"color\":\"#4D5663\"}},\"paper_bgcolor\":\"#F5F6F9\",\"plot_bgcolor\":\"#F5F6F9\",\"template\":{\"data\":{\"bar\":[{\"error_x\":{\"color\":\"#2a3f5f\"},\"error_y\":{\"color\":\"#2a3f5f\"},\"marker\":{\"line\":{\"color\":\"#E5ECF6\",\"width\":0.5},\"pattern\":{\"fillmode\":\"overlay\",\"size\":10,\"solidity\":0.2}},\"type\":\"bar\"}],\"barpolar\":[{\"marker\":{\"line\":{\"color\":\"#E5ECF6\",\"width\":0.5},\"pattern\":{\"fillmode\":\"overlay\",\"size\":10,\"solidity\":0.2}},\"type\":\"barpolar\"}],\"carpet\":[{\"aaxis\":{\"endlinecolor\":\"#2a3f5f\",\"gridcolor\":\"white\",\"linecolor\":\"white\",\"minorgridcolor\":\"white\",\"startlinecolor\":\"#2a3f5f\"},\"baxis\":{\"endlinecolor\":\"#2a3f5f\",\"gridcolor\":\"white\",\"linecolor\":\"white\",\"minorgridcolor\":\"white\",\"startlinecolor\":\"#2a3f5f\"},\"type\":\"carpet\"}],\"choropleth\":[{\"colorbar\":{\"outlinewidth\":0,\"ticks\":\"\"},\"type\":\"choropleth\"}],\"contour\":[{\"colorbar\":{\"outlinewidth\":0,\"ticks\":\"\"},\"colorscale\":[[0.0,\"#0d0887\"],[0.1111111111111111,\"#46039f\"],[0.2222222222222222,\"#7201a8\"],[0.3333333333333333,\"#9c179e\"],[0.4444444444444444,\"#bd3786\"],[0.5555555555555556,\"#d8576b\"],[0.6666666666666666,\"#ed7953\"],[0.7777777777777778,\"#fb9f3a\"],[0.8888888888888888,\"#fdca26\"],[1.0,\"#f0f921\"]],\"type\":\"contour\"}],\"contourcarpet\":[{\"colorbar\":{\"outlinewidth\":0,\"ticks\":\"\"},\"type\":\"contourcarpet\"}],\"heatmap\":[{\"colorbar\":{\"outlinewidth\":0,\"ticks\":\"\"},\"colorscale\":[[0.0,\"#0d0887\"],[0.1111111111111111,\"#46039f\"],[0.2222222222222222,\"#7201a8\"],[0.3333333333333333,\"#9c179e\"],[0.4444444444444444,\"#bd3786\"],[0.5555555555555556,\"#d8576b\"],[0.6666666666666666,\"#ed7953\"],[0.7777777777777778,\"#fb9f3a\"],[0.8888888888888888,\"#fdca26\"],[1.0,\"#f0f921\"]],\"type\":\"heatmap\"}],\"heatmapgl\":[{\"colorbar\":{\"outlinewidth\":0,\"ticks\":\"\"},\"colorscale\":[[0.0,\"#0d0887\"],[0.1111111111111111,\"#46039f\"],[0.2222222222222222,\"#7201a8\"],[0.3333333333333333,\"#9c179e\"],[0.4444444444444444,\"#bd3786\"],[0.5555555555555556,\"#d8576b\"],[0.6666666666666666,\"#ed7953\"],[0.7777777777777778,\"#fb9f3a\"],[0.8888888888888888,\"#fdca26\"],[1.0,\"#f0f921\"]],\"type\":\"heatmapgl\"}],\"histogram\":[{\"marker\":{\"pattern\":{\"fillmode\":\"overlay\",\"size\":10,\"solidity\":0.2}},\"type\":\"histogram\"}],\"histogram2d\":[{\"colorbar\":{\"outlinewidth\":0,\"ticks\":\"\"},\"colorscale\":[[0.0,\"#0d0887\"],[0.1111111111111111,\"#46039f\"],[0.2222222222222222,\"#7201a8\"],[0.3333333333333333,\"#9c179e\"],[0.4444444444444444,\"#bd3786\"],[0.5555555555555556,\"#d8576b\"],[0.6666666666666666,\"#ed7953\"],[0.7777777777777778,\"#fb9f3a\"],[0.8888888888888888,\"#fdca26\"],[1.0,\"#f0f921\"]],\"type\":\"histogram2d\"}],\"histogram2dcontour\":[{\"colorbar\":{\"outlinewidth\":0,\"ticks\":\"\"},\"colorscale\":[[0.0,\"#0d0887\"],[0.1111111111111111,\"#46039f\"],[0.2222222222222222,\"#7201a8\"],[0.3333333333333333,\"#9c179e\"],[0.4444444444444444,\"#bd3786\"],[0.5555555555555556,\"#d8576b\"],[0.6666666666666666,\"#ed7953\"],[0.7777777777777778,\"#fb9f3a\"],[0.8888888888888888,\"#fdca26\"],[1.0,\"#f0f921\"]],\"type\":\"histogram2dcontour\"}],\"mesh3d\":[{\"colorbar\":{\"outlinewidth\":0,\"ticks\":\"\"},\"type\":\"mesh3d\"}],\"parcoords\":[{\"line\":{\"colorbar\":{\"outlinewidth\":0,\"ticks\":\"\"}},\"type\":\"parcoords\"}],\"pie\":[{\"automargin\":true,\"type\":\"pie\"}],\"scatter\":[{\"marker\":{\"colorbar\":{\"outlinewidth\":0,\"ticks\":\"\"}},\"type\":\"scatter\"}],\"scatter3d\":[{\"line\":{\"colorbar\":{\"outlinewidth\":0,\"ticks\":\"\"}},\"marker\":{\"colorbar\":{\"outlinewidth\":0,\"ticks\":\"\"}},\"type\":\"scatter3d\"}],\"scattercarpet\":[{\"marker\":{\"colorbar\":{\"outlinewidth\":0,\"ticks\":\"\"}},\"type\":\"scattercarpet\"}],\"scattergeo\":[{\"marker\":{\"colorbar\":{\"outlinewidth\":0,\"ticks\":\"\"}},\"type\":\"scattergeo\"}],\"scattergl\":[{\"marker\":{\"colorbar\":{\"outlinewidth\":0,\"ticks\":\"\"}},\"type\":\"scattergl\"}],\"scattermapbox\":[{\"marker\":{\"colorbar\":{\"outlinewidth\":0,\"ticks\":\"\"}},\"type\":\"scattermapbox\"}],\"scatterpolar\":[{\"marker\":{\"colorbar\":{\"outlinewidth\":0,\"ticks\":\"\"}},\"type\":\"scatterpolar\"}],\"scatterpolargl\":[{\"marker\":{\"colorbar\":{\"outlinewidth\":0,\"ticks\":\"\"}},\"type\":\"scatterpolargl\"}],\"scatterternary\":[{\"marker\":{\"colorbar\":{\"outlinewidth\":0,\"ticks\":\"\"}},\"type\":\"scatterternary\"}],\"surface\":[{\"colorbar\":{\"outlinewidth\":0,\"ticks\":\"\"},\"colorscale\":[[0.0,\"#0d0887\"],[0.1111111111111111,\"#46039f\"],[0.2222222222222222,\"#7201a8\"],[0.3333333333333333,\"#9c179e\"],[0.4444444444444444,\"#bd3786\"],[0.5555555555555556,\"#d8576b\"],[0.6666666666666666,\"#ed7953\"],[0.7777777777777778,\"#fb9f3a\"],[0.8888888888888888,\"#fdca26\"],[1.0,\"#f0f921\"]],\"type\":\"surface\"}],\"table\":[{\"cells\":{\"fill\":{\"color\":\"#EBF0F8\"},\"line\":{\"color\":\"white\"}},\"header\":{\"fill\":{\"color\":\"#C8D4E3\"},\"line\":{\"color\":\"white\"}},\"type\":\"table\"}]},\"layout\":{\"annotationdefaults\":{\"arrowcolor\":\"#2a3f5f\",\"arrowhead\":0,\"arrowwidth\":1},\"autotypenumbers\":\"strict\",\"coloraxis\":{\"colorbar\":{\"outlinewidth\":0,\"ticks\":\"\"}},\"colorscale\":{\"diverging\":[[0,\"#8e0152\"],[0.1,\"#c51b7d\"],[0.2,\"#de77ae\"],[0.3,\"#f1b6da\"],[0.4,\"#fde0ef\"],[0.5,\"#f7f7f7\"],[0.6,\"#e6f5d0\"],[0.7,\"#b8e186\"],[0.8,\"#7fbc41\"],[0.9,\"#4d9221\"],[1,\"#276419\"]],\"sequential\":[[0.0,\"#0d0887\"],[0.1111111111111111,\"#46039f\"],[0.2222222222222222,\"#7201a8\"],[0.3333333333333333,\"#9c179e\"],[0.4444444444444444,\"#bd3786\"],[0.5555555555555556,\"#d8576b\"],[0.6666666666666666,\"#ed7953\"],[0.7777777777777778,\"#fb9f3a\"],[0.8888888888888888,\"#fdca26\"],[1.0,\"#f0f921\"]],\"sequentialminus\":[[0.0,\"#0d0887\"],[0.1111111111111111,\"#46039f\"],[0.2222222222222222,\"#7201a8\"],[0.3333333333333333,\"#9c179e\"],[0.4444444444444444,\"#bd3786\"],[0.5555555555555556,\"#d8576b\"],[0.6666666666666666,\"#ed7953\"],[0.7777777777777778,\"#fb9f3a\"],[0.8888888888888888,\"#fdca26\"],[1.0,\"#f0f921\"]]},\"colorway\":[\"#636efa\",\"#EF553B\",\"#00cc96\",\"#ab63fa\",\"#FFA15A\",\"#19d3f3\",\"#FF6692\",\"#B6E880\",\"#FF97FF\",\"#FECB52\"],\"font\":{\"color\":\"#2a3f5f\"},\"geo\":{\"bgcolor\":\"white\",\"lakecolor\":\"white\",\"landcolor\":\"#E5ECF6\",\"showlakes\":true,\"showland\":true,\"subunitcolor\":\"white\"},\"hoverlabel\":{\"align\":\"left\"},\"hovermode\":\"closest\",\"mapbox\":{\"style\":\"light\"},\"paper_bgcolor\":\"white\",\"plot_bgcolor\":\"#E5ECF6\",\"polar\":{\"angularaxis\":{\"gridcolor\":\"white\",\"linecolor\":\"white\",\"ticks\":\"\"},\"bgcolor\":\"#E5ECF6\",\"radialaxis\":{\"gridcolor\":\"white\",\"linecolor\":\"white\",\"ticks\":\"\"}},\"scene\":{\"xaxis\":{\"backgroundcolor\":\"#E5ECF6\",\"gridcolor\":\"white\",\"gridwidth\":2,\"linecolor\":\"white\",\"showbackground\":true,\"ticks\":\"\",\"zerolinecolor\":\"white\"},\"yaxis\":{\"backgroundcolor\":\"#E5ECF6\",\"gridcolor\":\"white\",\"gridwidth\":2,\"linecolor\":\"white\",\"showbackground\":true,\"ticks\":\"\",\"zerolinecolor\":\"white\"},\"zaxis\":{\"backgroundcolor\":\"#E5ECF6\",\"gridcolor\":\"white\",\"gridwidth\":2,\"linecolor\":\"white\",\"showbackground\":true,\"ticks\":\"\",\"zerolinecolor\":\"white\"}},\"shapedefaults\":{\"line\":{\"color\":\"#2a3f5f\"}},\"ternary\":{\"aaxis\":{\"gridcolor\":\"white\",\"linecolor\":\"white\",\"ticks\":\"\"},\"baxis\":{\"gridcolor\":\"white\",\"linecolor\":\"white\",\"ticks\":\"\"},\"bgcolor\":\"#E5ECF6\",\"caxis\":{\"gridcolor\":\"white\",\"linecolor\":\"white\",\"ticks\":\"\"}},\"title\":{\"x\":0.05},\"xaxis\":{\"automargin\":true,\"gridcolor\":\"white\",\"linecolor\":\"white\",\"ticks\":\"\",\"title\":{\"standoff\":15},\"zerolinecolor\":\"white\",\"zerolinewidth\":2},\"yaxis\":{\"automargin\":true,\"gridcolor\":\"white\",\"linecolor\":\"white\",\"ticks\":\"\",\"title\":{\"standoff\":15},\"zerolinecolor\":\"white\",\"zerolinewidth\":2}}},\"title\":{\"font\":{\"color\":\"#4D5663\"},\"text\":\"Number of Articles in each Category\"},\"xaxis\":{\"gridcolor\":\"#E1E5ED\",\"showgrid\":true,\"tickfont\":{\"color\":\"#4D5663\"},\"title\":{\"font\":{\"color\":\"#4D5663\"},\"text\":\"\"},\"zerolinecolor\":\"#E1E5ED\"},\"yaxis\":{\"gridcolor\":\"#E1E5ED\",\"showgrid\":true,\"tickfont\":{\"color\":\"#4D5663\"},\"title\":{\"font\":{\"color\":\"#4D5663\"},\"text\":\"Number of articles\"},\"zerolinecolor\":\"#E1E5ED\"}},                        {\"showLink\": true, \"linkText\": \"Export to plot.ly\", \"plotlyServerURL\": \"https://plot.ly\", \"responsive\": true}                    ).then(function(){\n",
       "                            \n",
       "var gd = document.getElementById('5ae29eb3-87c2-4be8-803c-ae8a7871aac1');\n",
       "var x = new MutationObserver(function (mutations, observer) {{\n",
       "        var display = window.getComputedStyle(gd).display;\n",
       "        if (!display || display === 'none') {{\n",
       "            console.log([gd, 'removed!']);\n",
       "            Plotly.purge(gd);\n",
       "            observer.disconnect();\n",
       "        }}\n",
       "}});\n",
       "\n",
       "// Listen for the removal of the full notebook cells\n",
       "var notebookContainer = gd.closest('#notebook-container');\n",
       "if (notebookContainer) {{\n",
       "    x.observe(notebookContainer, {childList: true});\n",
       "}}\n",
       "\n",
       "// Listen for the clearing of the current output cell\n",
       "var outputEl = gd.closest('.output');\n",
       "if (outputEl) {{\n",
       "    x.observe(outputEl, {childList: true});\n",
       "}}\n",
       "\n",
       "                        })                };                });            </script>        </div>"
      ]
     },
     "metadata": {},
     "output_type": "display_data"
    }
   ],
   "source": [
    "df['Category'].value_counts().sort_values(ascending=False).iplot(kind='bar', yTitle='Number of articles', \n",
    "                                                                title='Number of Articles in each Category')"
   ]
  },
  {
   "cell_type": "code",
   "execution_count": 12,
   "metadata": {},
   "outputs": [
    {
     "data": {
      "text/html": [
       "<div>\n",
       "<style scoped>\n",
       "    .dataframe tbody tr th:only-of-type {\n",
       "        vertical-align: middle;\n",
       "    }\n",
       "\n",
       "    .dataframe tbody tr th {\n",
       "        vertical-align: top;\n",
       "    }\n",
       "\n",
       "    .dataframe thead th {\n",
       "        text-align: right;\n",
       "    }\n",
       "</style>\n",
       "<table border=\"1\" class=\"dataframe\">\n",
       "  <thead>\n",
       "    <tr style=\"text-align: right;\">\n",
       "      <th></th>\n",
       "      <th>Body</th>\n",
       "      <th>Category</th>\n",
       "    </tr>\n",
       "  </thead>\n",
       "  <tbody>\n",
       "    <tr>\n",
       "      <th>0</th>\n",
       "      <td>රුසියාවේදී පැවැත්වෙන ලෝක කුසලාන පාපන්දු තරඟාවල...</td>\n",
       "      <td>Sports</td>\n",
       "    </tr>\n",
       "    <tr>\n",
       "      <th>1</th>\n",
       "      <td>හොද්දක් රස ගන්න වගේම සැන්ඩ්විච්  සලාද ආදිය පිළ...</td>\n",
       "      <td>Health</td>\n",
       "    </tr>\n",
       "    <tr>\n",
       "      <th>2</th>\n",
       "      <td>හම්බන්තොට  රිදියගම සෆාරි උද්‍යානයේ සත්ව කලාප ද...</td>\n",
       "      <td>Bussiness</td>\n",
       "    </tr>\n",
       "    <tr>\n",
       "      <th>3</th>\n",
       "      <td>කොට්ඨාස සීමා නිර්ණය පිළිබඳ අභියාචනා විමර්ශන කා...</td>\n",
       "      <td>Politics</td>\n",
       "    </tr>\n",
       "    <tr>\n",
       "      <th>4</th>\n",
       "      <td>ranveer singh ඉන්දියාවේ ඉන්න හැම වෙලාවකම අමුතු...</td>\n",
       "      <td>Entertainment</td>\n",
       "    </tr>\n",
       "  </tbody>\n",
       "</table>\n",
       "</div>"
      ],
      "text/plain": [
       "                                                Body       Category\n",
       "0  රුසියාවේදී පැවැත්වෙන ලෝක කුසලාන පාපන්දු තරඟාවල...         Sports\n",
       "1  හොද්දක් රස ගන්න වගේම සැන්ඩ්විච්  සලාද ආදිය පිළ...         Health\n",
       "2  හම්බන්තොට  රිදියගම සෆාරි උද්‍යානයේ සත්ව කලාප ද...      Bussiness\n",
       "3  කොට්ඨාස සීමා නිර්ණය පිළිබඳ අභියාචනා විමර්ශන කා...       Politics\n",
       "4  ranveer singh ඉන්දියාවේ ඉන්න හැම වෙලාවකම අමුතු...  Entertainment"
      ]
     },
     "execution_count": 12,
     "metadata": {},
     "output_type": "execute_result"
    }
   ],
   "source": [
    "#remove punctuation marks\n",
    "def remove_punctuation(txt):\n",
    "    txt_nopunct = \"\".join([c for c in txt if c not in string.punctuation ])\n",
    "    return txt_nopunct\n",
    "\n",
    "df['Body'] = df['Body'].apply(lambda x: remove_punctuation(x))\n",
    "df.head()"
   ]
  },
  {
   "cell_type": "code",
   "execution_count": 13,
   "metadata": {},
   "outputs": [
    {
     "data": {
      "text/plain": [
       "0    රුසියාවේදී පැවැත්වෙන ලෝක කුසලාන පාපන්දු තරඟාවල...\n",
       "1    හොද්දක් රස ගන්න වගේම සැන්ඩ්විච්  සලාද ආදිය පිළ...\n",
       "2    හම්බන්තොට  රිදියගම සෆාරි උද්‍යානයේ සත්ව කලාප ද...\n",
       "3    කොට්ඨාස සීමා නිර්ණය පිළිබඳ අභියාචනා විමර්ශන කා...\n",
       "4    ranveer singh ඉන්දියාවේ ඉන්න හැම වෙලාවකම අමුතු...\n",
       "Name: Body, dtype: object"
      ]
     },
     "execution_count": 13,
     "metadata": {},
     "output_type": "execute_result"
    }
   ],
   "source": [
    "#remove numbers\n",
    "news= df['Body']\n",
    "news = news.str.replace('\\d+', '')\n",
    "news.head()"
   ]
  },
  {
   "cell_type": "code",
   "execution_count": 14,
   "metadata": {},
   "outputs": [
    {
     "data": {
      "text/plain": [
       "0    රුසියාවේදී පැවැත්වෙන ලෝක කුසලාන පාපන්දු තරඟාවල...\n",
       "1    හොද්දක් රස ගන්න වගේම සැන්ඩ්විච් සලාද ආදිය පිළි...\n",
       "2    හම්බන්තොට රිදියගම සෆාරි උද්‍යානයේ සත්ව කලාප දෙ...\n",
       "3    කොට්ඨාස සීමා නිර්ණය පිළිබඳ අභියාචනා විමර්ශන කා...\n",
       "4    ranveer singh ඉන්දියාවේ ඉන්න හැම වෙලාවකම අමුතු...\n",
       "Name: Body, dtype: object"
      ]
     },
     "execution_count": 14,
     "metadata": {},
     "output_type": "execute_result"
    }
   ],
   "source": [
    "#remove stop words\n",
    "stopWords = {\"-\", \" \", \",\", \".\", \"සහ\", \"හෝ\", \"යැයි\", \"හා\", \"සමග\", \"දැයි\", \"එහෙත්\", \"ඒත්\", \"අතර\", \"මුත්\", \"නමුත්\",\n",
    "             \"මත\", \"වෙත\", \"සේම\", \"මිස\", \"උදෙසා\", \"සම්බන්ධයෙන්\", \"මගින්\", \"දක්වා\", \"තුලින්\", \"තුල\", \"පිණිස\", \"පිළිබඳව\",\n",
    "             \"යටතේ\", \"වෙනුවෙන්\", \"අතරින්\", \"ඔස්සේ\", \"පටන්\", \"හරහා\", \"හට\", \"හැර\", \"වගේ\", \"අසල\", \"මෙන්ම\", \"වෙනුවට\",\n",
    "             \"තෙක්\", \"පරිදි\", \"හෙයින්\", \"හෙවත්\", \"හැටියට\", \"පුරා\", \"කරා\", \"කල\", \"කල්හි\", \"විට\", \"විටත්\", \"ද\", \"ය\",\"ක\",\"ඉතා\", \"වඩා\", \"ඇති\", \"නැති\", \"ඕනෑ\", \"එපා\", \"සහිත\", \"රහිත\", \"විරහිත\", \"ඇතත්\", \"ඇතිවනු\", \"කුමක්ද\", \"කෙසේද\",\n",
    "             \"කවදාද\", \"කවරේද\", \"කොතැනදීද\", \"කවරෙක්ද\", \"කවරක්ද\", \"කුමක්\", \"කවර\", \"කෙසේ\", \"කවරෙක්\", \"කවරක්\", \"ට\", \"ගේ\",\n",
    "             \"ගෙන්\", \"වලට\", \"වලින්\", \"වල\", \"හිදී\", \"හැකි\", \"යුතු\", \"නොහැකි\", \"අයුතු\",\"වන\",\"බවයි\",\"ඒ\",\"බව\",\"ක්\",\"මේ\",\"වී\",\"ඒ\",\"එම\",\"කර\",\"මෙම\",\"යි\",\"මෙවැනි\",\"තවත්\",\"උණුසුම්\",\"සහ\"\n",
    "             ,\"හා\",\"දී\",\"ද\",\"වූ\",\"න්\"}\n",
    "\n",
    "New = news.apply(lambda x:\" \".join(word for word in x.split() if word not in stopWords))\n",
    "New.head()"
   ]
  },
  {
   "cell_type": "code",
   "execution_count": 15,
   "metadata": {},
   "outputs": [
    {
     "data": {
      "text/plain": [
       "0    [රුසියාවේදී, පැවැත්වෙන, ලෝක, කුසලාන, පාපන්දු, ...\n",
       "1    [හොද්දක්, රස, ගන්න, වගේම, සැන්ඩ්විච්, සලාද, ආද...\n",
       "2    [හම්බන්තොට, රිදියගම, සෆාරි, උද්‍යානයේ, සත්ව, ක...\n",
       "3    [කොට්ඨාස, සීමා, නිර්ණය, පිළිබඳ, අභියාචනා, විමර...\n",
       "4    [ranveer, singh, ඉන්දියාවේ, ඉන්න, හැම, වෙලාවකම...\n",
       "Name: Body, dtype: object"
      ]
     },
     "execution_count": 15,
     "metadata": {},
     "output_type": "execute_result"
    }
   ],
   "source": [
    "# Apply tockenization\n",
    "def tokenize(txt):\n",
    "    tokens = re.split(' ',txt)\n",
    "    return tokens\n",
    "tokenizedset = New.apply(lambda x: tokenize(x))\n",
    "\n",
    "tokenizedset.head()"
   ]
  },
  {
   "cell_type": "code",
   "execution_count": 16,
   "metadata": {},
   "outputs": [],
   "source": [
    "df['Body']=df['Body'].apply(lambda x:\" \".join(word for word in x.split() if word not in stopWords))"
   ]
  },
  {
   "cell_type": "code",
   "execution_count": 17,
   "metadata": {},
   "outputs": [
    {
     "data": {
      "text/plain": [
       "0       රුසියාවේදී පැවැත්වෙන ලෝක කුසලාන පාපන්දු තරඟාවල...\n",
       "1       හොද්දක් රස ගන්න වගේම සැන්ඩ්විච් සලාද ආදිය පිළි...\n",
       "2       හම්බන්තොට රිදියගම සෆාරි උද්‍යානයේ සත්ව කලාප දෙ...\n",
       "3       කොට්ඨාස සීමා නිර්ණය පිළිබඳ අභියාචනා විමර්ශන කා...\n",
       "4       ranveer singh ඉන්දියාවේ ඉන්න හැම වෙලාවකම අමුතු...\n",
       "                              ...                        \n",
       "2386    කලම්බු ඩොක්යාඩ් සමාගම නිෂ්පාදනය අති නවීන තාක්ෂ...\n",
       "2387    ජනප්‍රිය නළු විශ්ව කොඩිකාර පිය පදවියට පත්වී දි...\n",
       "2388    නිරිත දිග මෝසම සක්‍රිය වීමත් දිවයිනට බලපා සුළං...\n",
       "2389    කී‍්‍රඩා සංගම් 10 නිලවරණ හෙට දිනයේදී 15 වැනිදා...\n",
       "2390    ඇඟළුම් කර්මාන්තයේ ශ්‍රී ලාංකික කීර්තිනාමය ඉහළ ...\n",
       "Name: Body, Length: 2391, dtype: object"
      ]
     },
     "execution_count": 17,
     "metadata": {},
     "output_type": "execute_result"
    }
   ],
   "source": [
    "df['Body']"
   ]
  },
  {
   "cell_type": "code",
   "execution_count": 19,
   "metadata": {},
   "outputs": [],
   "source": [
    "g=[]"
   ]
  },
  {
   "cell_type": "code",
   "execution_count": 20,
   "metadata": {},
   "outputs": [],
   "source": [
    "for i in df['Body']:\n",
    "    g.append(i)"
   ]
  },
  {
   "cell_type": "code",
   "execution_count": 21,
   "metadata": {},
   "outputs": [
    {
     "data": {
      "text/plain": [
       "2391"
      ]
     },
     "execution_count": 21,
     "metadata": {},
     "output_type": "execute_result"
    }
   ],
   "source": [
    "len(g)"
   ]
  },
  {
   "cell_type": "code",
   "execution_count": 22,
   "metadata": {},
   "outputs": [
    {
     "data": {
      "text/plain": [
       "343"
      ]
     },
     "execution_count": 22,
     "metadata": {},
     "output_type": "execute_result"
    }
   ],
   "source": [
    "len(g[4])"
   ]
  },
  {
   "cell_type": "code",
   "execution_count": 23,
   "metadata": {},
   "outputs": [
    {
     "name": "stdout",
     "output_type": "stream",
     "text": [
      "Maximum sequence length in the list of sentences: 21044\n"
     ]
    }
   ],
   "source": [
    "maxl = max([len(s) for s in g])\n",
    "print ('Maximum sequence length in the list of sentences:', maxl)"
   ]
  },
  {
   "cell_type": "code",
   "execution_count": 24,
   "metadata": {},
   "outputs": [
    {
     "name": "stdout",
     "output_type": "stream",
     "text": [
      "Found 59770 unique tokens.\n"
     ]
    }
   ],
   "source": [
    "tokenizer = Tokenizer(num_words=50000, filters='!\"#$%&()*+,-./:;<=>?@[\\]^_`{|}~', lower=True)\n",
    "tokenizer.fit_on_texts(df['Body'].values)\n",
    "word_index = tokenizer.word_index\n",
    "print('Found %s unique tokens.' % len(word_index))"
   ]
  },
  {
   "cell_type": "code",
   "execution_count": 25,
   "metadata": {},
   "outputs": [
    {
     "data": {
      "text/plain": [
       "{'ශ්\\u200dරී': 1,\n",
       " 'සඳහා': 2,\n",
       " 'ලකුණු': 3,\n",
       " 'මහතා': 4,\n",
       " 'ලංකා': 5,\n",
       " 'තිබෙනවා': 6,\n",
       " 'අපි': 7,\n",
       " 'කටයුතු': 8,\n",
       " 'මහා': 9,\n",
       " 'අද': 10,\n",
       " 'කිරීමට': 11,\n",
       " 'අවසන්': 12,\n",
       " 'යන': 13,\n",
       " 'පළමු': 14,\n",
       " 'කිරීම': 15,\n",
       " 'ජාතික': 16,\n",
       " 'ගැන': 17,\n",
       " 'වහන්සේ': 18,\n",
       " 'නැහැ': 19,\n",
       " 'විසින්': 20,\n",
       " 'පාපන්දු': 21,\n",
       " 'අපේ': 22,\n",
       " '2': 23,\n",
       " 'කොළඹ': 24,\n",
       " 'අනුව': 25,\n",
       " 'ගැනීමට': 26,\n",
       " 'තරග': 27,\n",
       " 'කරන්න': 28,\n",
       " 'කරමින්': 29,\n",
       " 'සඳහන්': 30,\n",
       " 'කණ්ඩායම': 31,\n",
       " 'කරනවා': 32,\n",
       " 'කියලා': 33,\n",
       " 'පිල': 34,\n",
       " 'විදුහල': 35,\n",
       " 'වශයෙන්': 36,\n",
       " 'බවට': 37,\n",
       " 'රුපියල්': 38,\n",
       " 'වාර්තා': 39,\n",
       " 'ලබා': 40,\n",
       " 'බවත්': 41,\n",
       " 'වෙනවා': 42,\n",
       " 'රටේ': 43,\n",
       " 'ආරම්භ': 44,\n",
       " 'වන්නේ': 45,\n",
       " 'මහ': 46,\n",
       " 'පසුගිය': 47,\n",
       " '3': 48,\n",
       " 'තරගය': 49,\n",
       " 'වසර': 50,\n",
       " 'යුතුයි': 51,\n",
       " 'කුසලාන': 52,\n",
       " 'ඔහු': 53,\n",
       " 'කින්': 54,\n",
       " 'මම': 55,\n",
       " 'රග්බි': 56,\n",
       " 'දින': 57,\n",
       " 'ලෝක': 58,\n",
       " 'රට': 59,\n",
       " '‘': 60,\n",
       " 'ප්\\u200dරධාන': 61,\n",
       " 'තරගාවලියේ': 62,\n",
       " 'ක්\\u200dරීඩා': 63,\n",
       " 'එක': 64,\n",
       " 'වසරේ': 65,\n",
       " 'පත්': 66,\n",
       " 'ඔබ': 67,\n",
       " 'දෙවැනි': 68,\n",
       " 'අවශ්\\u200dය': 69,\n",
       " 'ඇතුළු': 70,\n",
       " '’': 71,\n",
       " 'කඩුලු': 72,\n",
       " '1': 73,\n",
       " 'තිබෙන': 74,\n",
       " 'ඊයේ': 75,\n",
       " 'වැනිදා': 76,\n",
       " 'ඇත්තේ': 77,\n",
       " 'උත්සාහක': 78,\n",
       " '0': 79,\n",
       " 'ඉදිරිපත්': 80,\n",
       " 'විශාල': 81,\n",
       " 'පාසල්': 82,\n",
       " 'ගෝල': 83,\n",
       " 'තමයි': 84,\n",
       " 'ප්\\u200dරකාශ': 85,\n",
       " 'වැඩ': 86,\n",
       " 'බොහෝ': 87,\n",
       " '5': 88,\n",
       " 'කදී': 89,\n",
       " 'පිළිබඳ': 90,\n",
       " 'ලබන': 91,\n",
       " 'අපට': 92,\n",
       " 'එරෙහිව': 93,\n",
       " 'දැවී': 94,\n",
       " 'සමත්': 95,\n",
       " 'හිටපු': 96,\n",
       " '4': 97,\n",
       " 'මිල': 98,\n",
       " 'කොට': 99,\n",
       " '”': 100,\n",
       " 'සියලු': 101,\n",
       " 'කළේය': 102,\n",
       " 'ක\\u200d්\\u200dරීඩා': 103,\n",
       " 'කිරීමේ': 104,\n",
       " 'මුදල්': 105,\n",
       " 'කරන්නේ': 106,\n",
       " 'පමණක්': 107,\n",
       " 'ජාත්\\u200dයන්තර': 108,\n",
       " 'ජනාධිපති': 109,\n",
       " 'රාජ්\\u200dය': 110,\n",
       " 'පොලිස්': 111,\n",
       " 'ගැනීම': 112,\n",
       " 'පහර': 113,\n",
       " 'මා': 114,\n",
       " 'වගේම': 115,\n",
       " 'අය': 116,\n",
       " 'බෞද්ධ': 117,\n",
       " 'තරගයේ': 118,\n",
       " 'සහභාගි': 119,\n",
       " 'විවිධ': 120,\n",
       " 'සිටින': 121,\n",
       " 'මහනුවර': 122,\n",
       " 'මාධ්\\u200dය': 123,\n",
       " 'හමුදා': 124,\n",
       " 'මස': 125,\n",
       " 'ඕවර': 126,\n",
       " 'එක්සත්': 127,\n",
       " 'ලද': 128,\n",
       " 'පුළුවන්': 129,\n",
       " 'ඊට': 130,\n",
       " 'ම': 131,\n",
       " 'නිදහස්': 132,\n",
       " 'පන්දු': 133,\n",
       " 'අමාත්\\u200dය': 134,\n",
       " 'ගන්න': 135,\n",
       " 'කතා': 136,\n",
       " 'දැන්': 137,\n",
       " 'මිලියන': 138,\n",
       " 'ඉහළ': 139,\n",
       " 'එක්': 140,\n",
       " 'අදහස්': 141,\n",
       " 'නෑ': 142,\n",
       " 'ඉදිරියට': 143,\n",
       " 'ඇය': 144,\n",
       " '“': 145,\n",
       " 'පරාජය': 146,\n",
       " 'අපිට': 147,\n",
       " 'ලංකාවේ': 148,\n",
       " 'සංවර්ධන': 149,\n",
       " 'සමාජ': 150,\n",
       " 'පැවසීය': 151,\n",
       " 'සමාජය': 152,\n",
       " 'ඔවුන්': 153,\n",
       " 'පළාත්': 154,\n",
       " 'ක්\\u200dරිකට්': 155,\n",
       " 'නායක': 156,\n",
       " 'ලංකාව': 157,\n",
       " 'පැවැත්වෙන': 158,\n",
       " 'ශාන්ත': 159,\n",
       " 'පෙන්වා': 160,\n",
       " 'තරුණ': 161,\n",
       " 'ඉනිම': 162,\n",
       " 'මෙසේ': 163,\n",
       " 'කියන': 164,\n",
       " 'හේතුවෙන්': 165,\n",
       " 'ධර්ම': 166,\n",
       " 'අවස්ථාව': 167,\n",
       " 'පිරිසක්': 168,\n",
       " 'වීම': 169,\n",
       " 'ගොස්': 170,\n",
       " 'තීරණය': 171,\n",
       " 'නැවත': 172,\n",
       " 'පහළ': 173,\n",
       " 'විශේෂ': 174,\n",
       " '10': 175,\n",
       " 'සභාපති': 176,\n",
       " 'ජනතාව': 177,\n",
       " 'එදා': 178,\n",
       " 'කණ්ඩායම්': 179,\n",
       " 'වෙයි': 180,\n",
       " 'ඔහුගේ': 181,\n",
       " 'කියන්නේ': 182,\n",
       " 'කරුණු': 183,\n",
       " '20': 184,\n",
       " 'බුදුරජාණන්': 185,\n",
       " 'කරනු': 186,\n",
       " 'තමන්': 187,\n",
       " 'විදුහල්': 188,\n",
       " 'සාර්ථක': 189,\n",
       " '7': 190,\n",
       " 'මෙවර': 191,\n",
       " 'කණ්ඩායමේ': 192,\n",
       " '6': 193,\n",
       " 'සියයට': 194,\n",
       " 'යුද': 195,\n",
       " 'හමුවේ': 196,\n",
       " 'පමණ': 197,\n",
       " 'කාලය': 198,\n",
       " 'යන්න': 199,\n",
       " 'මෙරට': 200,\n",
       " 'අදාළ': 201,\n",
       " 'යම්': 202,\n",
       " 'කරගෙන': 203,\n",
       " 'තරගාවලිය': 204,\n",
       " 'අවුරුදු': 205,\n",
       " 'වෙලා': 206,\n",
       " 'දිනය': 207,\n",
       " 'පවතින': 208,\n",
       " 'මට': 209,\n",
       " 'අත්අඩංගුවට': 210,\n",
       " 'සිරිසේන': 211,\n",
       " 'රජය': 212,\n",
       " 'රනිල්': 213,\n",
       " 'පෙරහර': 214,\n",
       " 'එහිදී': 215,\n",
       " 'ඉන්දීය': 216,\n",
       " 'ණය': 217,\n",
       " 'පහත': 218,\n",
       " 'ගුවන්': 219,\n",
       " 'දකුණු': 220,\n",
       " 'වෙසක්': 221,\n",
       " 'වැදගත්': 222,\n",
       " 'කාලයක්': 223,\n",
       " '8': 224,\n",
       " 'තත්ත්වය': 225,\n",
       " 'ක්\\u200dරියාත්මක': 226,\n",
       " 'මහින්ද': 227,\n",
       " 'රාජපක්ෂ': 228,\n",
       " 'සංවිධානය': 229,\n",
       " 'දේ': 230,\n",
       " 'දේශපාලන': 231,\n",
       " 'සුපිරි': 232,\n",
       " 'පිලේ': 233,\n",
       " 'ඩොලර්': 234,\n",
       " 'ඔබට': 235,\n",
       " 'කොටස්': 236,\n",
       " 'පෙරේරා': 237,\n",
       " 'යුතුය': 238,\n",
       " 'භික්ෂූන්': 239,\n",
       " 'හොඳ': 240,\n",
       " 'බලාපොරොත්තු': 241,\n",
       " 'පක්ෂය': 242,\n",
       " 'දෙකක්': 243,\n",
       " 'වයස': 244,\n",
       " 'අනතුරුව': 245,\n",
       " 'නොදැවී': 246,\n",
       " 'සිල්වා': 247,\n",
       " 'තමන්ගේ': 248,\n",
       " 'දේශනා': 249,\n",
       " 'ගමන්': 250,\n",
       " 'කරලා': 251,\n",
       " 'වූහ': 252,\n",
       " 'නිර්මාණය': 253,\n",
       " 'පසුව': 254,\n",
       " 'පාර්ලිමේන්තු': 255,\n",
       " 'තිබූ': 256,\n",
       " 'ගන්නා': 257,\n",
       " 'තරගයේදී': 258,\n",
       " 'මහතාගේ': 259,\n",
       " 'පූජා': 260,\n",
       " 'ඒක': 261,\n",
       " '12': 262,\n",
       " 'පැමිණි': 263,\n",
       " 'සිත': 264,\n",
       " 'මෙය': 265,\n",
       " 'පක්ෂ': 266,\n",
       " 'ලෝකයේ': 267,\n",
       " 'දියුණු': 268,\n",
       " 'පැමිණ': 269,\n",
       " 'ජනතාවට': 270,\n",
       " 'දෙයක්': 271,\n",
       " 'එකම': 272,\n",
       " 'පක්ෂයේ': 273,\n",
       " 'විදේශ': 274,\n",
       " 'වහන්සේගේ': 275,\n",
       " 'මෙහිදී': 276,\n",
       " 'ජනාධිපතිවරයා': 277,\n",
       " 'සම්බන්ධ': 278,\n",
       " 'තියෙනවා': 279,\n",
       " 'පූර්ව': 280,\n",
       " 'ආර්ථික': 281,\n",
       " 'බවද': 282,\n",
       " 'අන්තර්': 283,\n",
       " 'හෙට': 284,\n",
       " 'ආහාර': 285,\n",
       " 'සටහන්': 286,\n",
       " 'ලේකම්': 287,\n",
       " 'පැවැත්වීමට': 288,\n",
       " 'කිරීමෙන්': 289,\n",
       " 'නිකුත්': 290,\n",
       " 'mp3': 291,\n",
       " 'මුහුණ': 292,\n",
       " 'එකතු': 293,\n",
       " 'කණ්ඩායමට': 294,\n",
       " 'අඩු': 295,\n",
       " 'එමෙන්ම': 296,\n",
       " 'තුළින්': 297,\n",
       " 'නොවන': 298,\n",
       " 'වනවිට': 299,\n",
       " '14': 300,\n",
       " 'දෙන්න': 301,\n",
       " 'සිංහල': 302,\n",
       " 'උන්වහන්සේ': 303,\n",
       " 'බදු': 304,\n",
       " 'ආණ්ඩුව': 305,\n",
       " 'සම්පත්': 306,\n",
       " '19': 307,\n",
       " 'හැකිය': 308,\n",
       " 'ජයක්': 309,\n",
       " 'පැවති': 310,\n",
       " 'වැඩිදුරටත්': 311,\n",
       " 'පොලිසිය': 312,\n",
       " 'නියෝජනය': 313,\n",
       " 'නොව': 314,\n",
       " 'මගේ': 315,\n",
       " 'අවධානය': 316,\n",
       " 'එක්ක': 317,\n",
       " 'වෙන්න': 318,\n",
       " 'ලදී': 319,\n",
       " 'ජය': 320,\n",
       " 'සංඛ්\\u200dයාව': 321,\n",
       " 'පහතින්': 322,\n",
       " 'නොමැති': 323,\n",
       " 'සේවා': 324,\n",
       " 'වීමට': 325,\n",
       " 'ප්\\u200dරදේශයේ': 326,\n",
       " '17': 327,\n",
       " 'සමත්විය': 328,\n",
       " 'ක්\\u200dරීඩාංගණයේදී': 329,\n",
       " 'මූලික': 330,\n",
       " 'ජීවිතය': 331,\n",
       " 'වහන්සේලා': 332,\n",
       " 'සංවර්ධනය': 333,\n",
       " 'වික්\\u200dරමසිංහ': 334,\n",
       " 'හේතු': 335,\n",
       " 'දඬුවම්': 336,\n",
       " 'වෙනස්': 337,\n",
       " 'චිත්\\u200dරපටය': 338,\n",
       " 'පැවැති': 339,\n",
       " 'එහෙම': 340,\n",
       " '15': 341,\n",
       " 'මැයි': 342,\n",
       " 'අමාත්\\u200dයාංශය': 343,\n",
       " 'සංගමය': 344,\n",
       " 'සිටිනවා': 345,\n",
       " 'පිලට': 346,\n",
       " 'යොමු': 347,\n",
       " 'තරම්': 348,\n",
       " 'වරාය': 349,\n",
       " 'කී\\u200d්\\u200dරඩා': 350,\n",
       " '9': 351,\n",
       " 'කරයි': 352,\n",
       " 'එවැනි': 353,\n",
       " 'ගෝලයක්': 354,\n",
       " 'අයට': 355,\n",
       " 'අධ්\\u200dයාපන': 356,\n",
       " 'ආරක්ෂා': 357,\n",
       " 'ලැබෙන': 358,\n",
       " 'තිබුණා': 359,\n",
       " 'සාකච්ඡා': 360,\n",
       " 'සම්පූර්ණ': 361,\n",
       " 'දිනුම්': 362,\n",
       " 'සංඝ': 363,\n",
       " 'තමා': 364,\n",
       " 'දරුවන්': 365,\n",
       " 'මහත්': 366,\n",
       " 'සියලූ': 367,\n",
       " 'චෝදනා': 368,\n",
       " 'ආසියානු': 369,\n",
       " 'ලබාගත්': 370,\n",
       " 'බුද්ධ': 371,\n",
       " 'කළහ': 372,\n",
       " 'උත්සවය': 373,\n",
       " 'ඉන්': 374,\n",
       " 'සූදානම්': 375,\n",
       " 'ලොව': 376,\n",
       " 'ආගමික': 377,\n",
       " '13': 378,\n",
       " 'ඇතැම්': 379,\n",
       " 'සදහා': 380,\n",
       " 'ඉවත්': 381,\n",
       " 'තොරතුරු': 382,\n",
       " 'හැම': 383,\n",
       " '18': 384,\n",
       " 'ලක්ෂ': 385,\n",
       " 'යුතුව': 386,\n",
       " 'රටට': 387,\n",
       " 'ජයග්\\u200dරහණය': 388,\n",
       " 'තරගාවලියට': 389,\n",
       " 'යයි': 390,\n",
       " 'තොරව': 391,\n",
       " 'ඔබේ': 392,\n",
       " 'දුන්': 393,\n",
       " 'තෙල්': 394,\n",
       " '26': 395,\n",
       " 'රජයේ': 396,\n",
       " 'ඉන්න': 397,\n",
       " 'අවස්ථාවේ': 398,\n",
       " 'එකක්': 399,\n",
       " 'රැසක්': 400,\n",
       " 'ජනප්\\u200dරිය': 401,\n",
       " 'තවදුරටත්': 402,\n",
       " '25': 403,\n",
       " '21': 404,\n",
       " 'කාන්තා': 405,\n",
       " 'රාජකීය': 406,\n",
       " 'දිය': 407,\n",
       " 'සකස්': 408,\n",
       " 'අලුත්': 409,\n",
       " 'දෙක': 410,\n",
       " 'දැඩි': 411,\n",
       " 'සභාවේ': 412,\n",
       " 'හැකියි': 413,\n",
       " 'මිහින්තලා': 414,\n",
       " 'යනුවෙන්': 415,\n",
       " 'පිරිස': 416,\n",
       " 'ඇතුළත්': 417,\n",
       " 'අර්ධ': 418,\n",
       " 'ඔහුට': 419,\n",
       " 'තරගයට': 420,\n",
       " 'ගනිමින්': 421,\n",
       " 'පෙනී': 422,\n",
       " 'සිනමා': 423,\n",
       " 'යාමට': 424,\n",
       " 'නැත': 425,\n",
       " 'සම්මාන': 426,\n",
       " 'සුදුසුකම්': 427,\n",
       " '23': 428,\n",
       " 'ශී\\u200d්\\u200dර': 429,\n",
       " 'නියෝජ්\\u200dය': 430,\n",
       " 'සියල්ල': 431,\n",
       " 'සහභාගී': 432,\n",
       " 'උතුම්': 433,\n",
       " 'ඔලිම්පික්': 434,\n",
       " 'චිත්\\u200dරපට': 435,\n",
       " 'මුල්': 436,\n",
       " 'රටවල්': 437,\n",
       " 'ශක්තිමත්': 438,\n",
       " 'උපදෙස්': 439,\n",
       " 'වෙනත්': 440,\n",
       " '16': 441,\n",
       " 'වසරේදී': 442,\n",
       " 'පැවැත්වේ': 443,\n",
       " 'දේවල්': 444,\n",
       " 'හැව්ලොක්ස්': 445,\n",
       " 'නිලධාරීන්': 446,\n",
       " 'ඕන': 447,\n",
       " 'ඇමරිකානු': 448,\n",
       " 'ගොඩක්': 449,\n",
       " 'තිබෙන්නේ': 450,\n",
       " 'කරන්නට': 451,\n",
       " 'වෙන්නේ': 452,\n",
       " 'විදෙස්': 453,\n",
       " 'තව': 454,\n",
       " 'තියෙන්නේ': 455,\n",
       " 'වෛද්\\u200dය': 456,\n",
       " 'වෙන': 457,\n",
       " 'සම්මා': 458,\n",
       " 'නොවේ': 459,\n",
       " 'හැකියාව': 460,\n",
       " 'ලීග්': 461,\n",
       " 'විදියට': 462,\n",
       " 'මුළු': 463,\n",
       " 'ආකාරය': 464,\n",
       " 'දුන්නා': 465,\n",
       " 'ලංකාවට': 466,\n",
       " 'සමස්ත': 467,\n",
       " 'කොටසේ': 468,\n",
       " 'දෙනවා': 469,\n",
       " '28': 470,\n",
       " 'පෙරමුණ': 471,\n",
       " 'දැන': 472,\n",
       " '22': 473,\n",
       " 'සංචාරක': 474,\n",
       " 'ඔවුන්ට': 475,\n",
       " '30': 476,\n",
       " 'හිමිකම්': 477,\n",
       " 'පාලනය': 478,\n",
       " 'සංගමයේ': 479,\n",
       " 'දක්නට': 480,\n",
       " 'සම': 481,\n",
       " 'අයත්': 482,\n",
       " 'යනවා': 483,\n",
       " 'අවස්ථා': 484,\n",
       " 'කිසිම': 485,\n",
       " 'සමහර': 486,\n",
       " 'ටෙස්ට්': 487,\n",
       " 'එල්ල': 488,\n",
       " 'සිටියේය': 489,\n",
       " 'සාමාජික': 490,\n",
       " 'ඉතින්': 491,\n",
       " 'අනුරාධපුර': 492,\n",
       " 'ජනතාවගේ': 493,\n",
       " 'ඉල්ලා': 494,\n",
       " 'පැවිදි': 495,\n",
       " 'බිලියන': 496,\n",
       " 'කුඩා': 497,\n",
       " 'තරගයෙන්': 498,\n",
       " 'නියමිතය': 499,\n",
       " 'විහාර': 500,\n",
       " 'දළදා': 501,\n",
       " 'කිහිපයක්': 502,\n",
       " 'හේතුව': 503,\n",
       " 'චිත්\\u200dරපටයේ': 504,\n",
       " 'එනම්': 505,\n",
       " 'හතරේ': 506,\n",
       " 'උසස්': 507,\n",
       " 'අපරාධ': 508,\n",
       " 'රටක්': 509,\n",
       " 'නියමිත': 510,\n",
       " 'බැගින්': 511,\n",
       " 'යොදා': 512,\n",
       " 'ඉඩ': 513,\n",
       " 'බැවින්': 514,\n",
       " 'මෛත්\\u200dරීපාල': 515,\n",
       " 'ප්\\u200dරශ්න': 516,\n",
       " 'අධ්\\u200dයාපනය': 517,\n",
       " 'සේවය': 518,\n",
       " 'සභාව': 519,\n",
       " 'දහම්': 520,\n",
       " 'සිටියේ': 521,\n",
       " 'වටයේ': 522,\n",
       " 'කෙනෙක්': 523,\n",
       " 'කියනවා': 524,\n",
       " 'මන්ත්\\u200dරී': 525,\n",
       " 'දිනා': 526,\n",
       " 'දෙන්නේ': 527,\n",
       " 'ප්\\u200dරථම': 528,\n",
       " 'වෙමින්': 529,\n",
       " 'සොයා': 530,\n",
       " 'පරීක්ෂණ': 531,\n",
       " 'උත්සාහ': 532,\n",
       " 'සී': 533,\n",
       " 'මිනිත්තුවේදී': 534,\n",
       " '11': 535,\n",
       " 'පවා': 536,\n",
       " 'පියවර': 537,\n",
       " 'මෙන්': 538,\n",
       " 'විද්\\u200dයාලය': 539,\n",
       " 'කෙරෙන': 540,\n",
       " 'මණ්ඩලය': 541,\n",
       " 'තේ': 542,\n",
       " 'වෙතත්': 543,\n",
       " 'හිරු': 544,\n",
       " 'රැගෙන': 545,\n",
       " 'වස්': 546,\n",
       " '29': 547,\n",
       " 'හිමියන්': 548,\n",
       " 'ඇතැයි': 549,\n",
       " 'සමාජයේ': 550,\n",
       " 'කිසිදු': 551,\n",
       " '24': 552,\n",
       " 'ආරක්ෂක': 553,\n",
       " 'දානය': 554,\n",
       " 'තබා': 555,\n",
       " 'වර්ධනය': 556,\n",
       " 'කෙරෙහි': 557,\n",
       " 'බැහැ': 558,\n",
       " 'සතර': 559,\n",
       " 'නියෝග': 560,\n",
       " 'නොවෙයි': 561,\n",
       " 'සාමාන්\\u200dය': 562,\n",
       " 'ප්\\u200dරනාන්දු': 563,\n",
       " 'සේනානායක': 564,\n",
       " 'හම්බන්තොට': 565,\n",
       " 'පැහැදිලි': 566,\n",
       " 'කාලයේ': 567,\n",
       " 'ක්\\u200dරීඩක': 568,\n",
       " 'ආචාර්ය': 569,\n",
       " 'අවස්ථාවට': 570,\n",
       " 'ශූරතාව': 571,\n",
       " 'නියම': 572,\n",
       " 'නාවික': 573,\n",
       " 'සෞඛ්\\u200dය': 574,\n",
       " 'අයුරින්': 575,\n",
       " 'පසුගියදා': 576,\n",
       " 'පවසයි': 577,\n",
       " 'පෞද්ගලික': 578,\n",
       " 'ලැබූ': 579,\n",
       " 'පුද්ගලයන්': 580,\n",
       " 'තිබුණි': 581,\n",
       " 'ශ\\u200d්\\u200dරී': 582,\n",
       " 'ලබාගැනීමට': 583,\n",
       " 'මෙලෙස': 584,\n",
       " 'මාර්ග': 585,\n",
       " 'මිනිත්තු': 586,\n",
       " 'අගය': 587,\n",
       " 'මූල්\\u200dය': 588,\n",
       " 'ඇමැති': 589,\n",
       " 'පොදු': 590,\n",
       " 'කිව්වා': 591,\n",
       " 'තැබූ': 592,\n",
       " 'ස්ථානය': 593,\n",
       " 'ඒකාබද්ධ': 594,\n",
       " 'ඉටු': 595,\n",
       " 'වඩාත්': 596,\n",
       " 'ගුණ': 597,\n",
       " 'සීමා': 598,\n",
       " 'බලය': 599,\n",
       " 'දැක්වූ': 600,\n",
       " 'ජීවිත': 601,\n",
       " 'අමාත්\\u200dයවරයා': 602,\n",
       " 'දෙවන': 603,\n",
       " 'බුදු': 604,\n",
       " 'භාවනා': 605,\n",
       " 'වැඩම': 606,\n",
       " 'ආදරය': 607,\n",
       " 'පාර්ශ්වයේ': 608,\n",
       " 'දෙනා': 609,\n",
       " 'ඡායාරූප': 610,\n",
       " 'දායක': 611,\n",
       " 'නමින්': 612,\n",
       " 'ගැනීමේ': 613,\n",
       " 'වැඩිම': 614,\n",
       " 'අධිකරණය': 615,\n",
       " 'මල්වතු': 616,\n",
       " 'විමර්ශන': 617,\n",
       " 'කරගත්': 618,\n",
       " 'තෙවැනි': 619,\n",
       " 'අධික': 620,\n",
       " 'පුහුණු': 621,\n",
       " 'වනවා': 622,\n",
       " 'අවසානයේ': 623,\n",
       " 'දේශීය': 624,\n",
       " 'ආනන්ද': 625,\n",
       " 'අවස්ථාවක්': 626,\n",
       " 'ආයතන': 627,\n",
       " 'නැවතත්': 628,\n",
       " 'අවබෝධ': 629,\n",
       " 'අපගේ': 630,\n",
       " 'පත්ව': 631,\n",
       " 'විහාරාධිපති': 632,\n",
       " 'එයින්': 633,\n",
       " 'මොහොමඞ්': 634,\n",
       " 'ලැබේ': 635,\n",
       " 'මාස': 636,\n",
       " 'පහරක්': 637,\n",
       " 'සමාගම': 638,\n",
       " 'තමන්ට': 639,\n",
       " 'කෙරේ': 640,\n",
       " 'පූජාව': 641,\n",
       " 'කමිටුවේ': 642,\n",
       " 'ඉන්නවා': 643,\n",
       " 'ලෙසයි': 644,\n",
       " 'මාර්ගය': 645,\n",
       " 'අනෙක්': 646,\n",
       " 'පමණි': 647,\n",
       " 'නිවාස': 648,\n",
       " 'යහපත්': 649,\n",
       " 'මානව': 650,\n",
       " 'යන්නේ': 651,\n",
       " 'ජාතීන්ගේ': 652,\n",
       " 'තිබුණේ': 653,\n",
       " 'කාර්ය': 654,\n",
       " 'එක්ව': 655,\n",
       " 'සාපේක්ෂව': 656,\n",
       " 'එයට': 657,\n",
       " 'ජනවාරි': 658,\n",
       " 'ජනතා': 659,\n",
       " 'විදුහලේ': 660,\n",
       " 'පිටියේදී': 661,\n",
       " 'ගන්නවා': 662,\n",
       " 'නායකත්වය': 663,\n",
       " 'එකට': 664,\n",
       " 'පෙන්නුම්': 665,\n",
       " 'අමතරව': 666,\n",
       " 'යාම': 667,\n",
       " 'සේ': 668,\n",
       " 'නිරත': 669,\n",
       " 'ගත්තා': 670,\n",
       " 'ඉතාම': 671,\n",
       " 'මොකද': 672,\n",
       " 'පන්දුව': 673,\n",
       " 'විදුලි': 674,\n",
       " 'පිහිටි': 675,\n",
       " 'යෝජනා': 676,\n",
       " 'දෙදෙනා': 677,\n",
       " 'රංගන': 678,\n",
       " 'විවාහ': 679,\n",
       " 'දස්කම්': 680,\n",
       " 'කඩුල්ල': 681,\n",
       " 'ඉදිරි': 682,\n",
       " 'කියන්න': 683,\n",
       " '2016': 684,\n",
       " 'නිසයි': 685,\n",
       " 'ක්\\u200dරියා': 686,\n",
       " 'හැබැයි': 687,\n",
       " 'මහානායක': 688,\n",
       " 'පත්විය': 689,\n",
       " 'සත්': 690,\n",
       " '2015': 691,\n",
       " 'ක්\\u200dරීඩකයන්': 692,\n",
       " 'ආයතනයේ': 693,\n",
       " 'ඇප': 694,\n",
       " 'වික\\u200d්\\u200dරමසිංහ': 695,\n",
       " 'පොඩි': 696,\n",
       " 'ලොකු': 697,\n",
       " 'රාත්\\u200dරී': 698,\n",
       " 'ධර්මය': 699,\n",
       " 'කී': 700,\n",
       " 'කෘෂිකර්ම': 701,\n",
       " 'හරි': 702,\n",
       " 'කර්මාන්ත': 703,\n",
       " 'ජීවත්': 704,\n",
       " 'දීමට': 705,\n",
       " 'මඟින්': 706,\n",
       " 'උපන්': 707,\n",
       " 'වහන්සේට': 708,\n",
       " 'පහසුකම්': 709,\n",
       " 'රැකියා': 710,\n",
       " 'වැටී': 711,\n",
       " 'ති\\u200dබෙනවා': 712,\n",
       " 'ඉන්දියාව': 713,\n",
       " 'ලක්': 714,\n",
       " 'හමුදාව': 715,\n",
       " 'සුදුසු': 716,\n",
       " 'ලේක්හවුස්': 717,\n",
       " '2017': 718,\n",
       " 'පාලන': 719,\n",
       " 'ලබාදීමට': 720,\n",
       " 'ඉන්දියාවේ': 721,\n",
       " 'ආයතනය': 722,\n",
       " 'ලෙසින්': 723,\n",
       " 'දුක්': 724,\n",
       " '–': 725,\n",
       " 'දිනයේ': 726,\n",
       " '27': 727,\n",
       " 'කීය': 728,\n",
       " 'තියෙන': 729,\n",
       " 'ආදි': 730,\n",
       " 'සිටියා': 731,\n",
       " 'සම්මේලනයේ': 732,\n",
       " 'වත්මන්': 733,\n",
       " 'ගියා': 734,\n",
       " 'ආර්ථිකය': 735,\n",
       " 'පොලීසිය': 736,\n",
       " 'පවසනවා': 737,\n",
       " 'අධ්\\u200dයක්ෂ': 738,\n",
       " 'මංගල': 739,\n",
       " '31': 740,\n",
       " 'වෙඩි': 741,\n",
       " 'අධිකරණ': 742,\n",
       " 'පිට': 743,\n",
       " 'විනය': 744,\n",
       " 'සිදුවිය': 745,\n",
       " 'රත්නායක': 746,\n",
       " 'තහවුරු': 747,\n",
       " 'නමක්': 748,\n",
       " 'වනදා': 749,\n",
       " 'ප\\u200d්\\u200dරධාන': 750,\n",
       " 'පවත්වාගෙන': 751,\n",
       " 'ප\\u200d්\\u200dරශ්න': 752,\n",
       " 'සියලුම': 753,\n",
       " '50': 754,\n",
       " 'සිංගර්': 755,\n",
       " 'විශේෂයෙන්': 756,\n",
       " 'විශ්ව': 757,\n",
       " 'මේක': 758,\n",
       " 'නඩු': 759,\n",
       " 'තරගාවලියේදී': 760,\n",
       " 'නිෂ්පාදනය': 761,\n",
       " 'කමිටුව': 762,\n",
       " 'එසේම': 763,\n",
       " 'දිනුම': 764,\n",
       " 'අමතක': 765,\n",
       " 'සිටියහ': 766,\n",
       " 'ලබාදෙන': 767,\n",
       " 'මිනිසුන්': 768,\n",
       " 'පවත්වා': 769,\n",
       " 'ඔවුන්ගේ': 770,\n",
       " 'සැලසුම්': 771,\n",
       " 'ආදායම්': 772,\n",
       " 'අන්තර්ජාතික': 773,\n",
       " 'කරපු': 774,\n",
       " 'මධ්\\u200dයම': 775,\n",
       " 'මාසයේ': 776,\n",
       " 'එස්': 777,\n",
       " 'අග්\\u200dරාමාත්\\u200dය': 778,\n",
       " 'ශක්තිය': 779,\n",
       " 'යුද්ධය': 780,\n",
       " 'දෙමින්': 781,\n",
       " 'නිතර': 782,\n",
       " 'ලැබෙනවා': 783,\n",
       " 'නා': 784,\n",
       " 'සෙසු': 785,\n",
       " 'පුද්ගලයා': 786,\n",
       " 'මිලදී': 787,\n",
       " 'රන්': 788,\n",
       " 'නීති': 789,\n",
       " 'සමගින්': 790,\n",
       " 'බී': 791,\n",
       " 'දැනට': 792,\n",
       " 'මුස්ලිම්': 793,\n",
       " 'මහේස්ත්\\u200dරාත්': 794,\n",
       " 'විනාශ': 795,\n",
       " 'අති': 796,\n",
       " 'රජ': 797,\n",
       " 'කාරක': 798,\n",
       " 'නුවර': 799,\n",
       " 'මැද': 800,\n",
       " 'පන්දුවට': 801,\n",
       " 'සියලුදෙනා': 802,\n",
       " 'අත්සන්': 803,\n",
       " 'නළු': 804,\n",
       " 'මුදලක්': 805,\n",
       " 'මෙතෙක්': 806,\n",
       " 'සැප': 807,\n",
       " 'පවසා': 808,\n",
       " 'පැවසුවේ': 809,\n",
       " 'යුත්තේ': 810,\n",
       " 'කිරීමයි': 811,\n",
       " 'සදහන්': 812,\n",
       " 'කිරීම්': 813,\n",
       " 'බලන්න': 814,\n",
       " '\\u200dවෙනවා': 815,\n",
       " 'විවෘත': 816,\n",
       " 'අතිරේක': 817,\n",
       " 'කැපී': 818,\n",
       " 'ඓතිහාසික': 819,\n",
       " 'කාන්තාවන්': 820,\n",
       " 'බණ්ඩාරනායක': 821,\n",
       " 'හොඳම': 822,\n",
       " 'ආදායම': 823,\n",
       " 'තිබිය': 824,\n",
       " 'පෙරමුණේ': 825,\n",
       " 'ඔබගේ': 826,\n",
       " 'නිකායේ': 827,\n",
       " 'පරාජයට': 828,\n",
       " 'සිටිති': 829,\n",
       " 'දෙමළ': 830,\n",
       " 'හයේ': 831,\n",
       " 'කර්ම': 832,\n",
       " 'සති': 833,\n",
       " 'වෙති': 834,\n",
       " 'ගියේය': 835,\n",
       " 'කෝටි': 836,\n",
       " 'අයුරු': 837,\n",
       " 'කීවේය': 838,\n",
       " 'පිළිතුරු': 839,\n",
       " 'වරට': 840,\n",
       " 'තැන': 841,\n",
       " 'අපේක්ෂා': 842,\n",
       " 'දෙපාර්තමේන්තුව': 843,\n",
       " 'ටික': 844,\n",
       " 'ආරාධනා': 845,\n",
       " 'නෙවෙයි': 846,\n",
       " 'ගත්තේ': 847,\n",
       " 'විශිෂ්ට': 848,\n",
       " 'සම්මේලනය': 849,\n",
       " 'පස්වරු': 850,\n",
       " 'පැවැසීය': 851,\n",
       " 'පොල්': 852,\n",
       " 'පස්සේ': 853,\n",
       " 'මල්': 854,\n",
       " 'දක්ෂ': 855,\n",
       " 'ලබන්නේ': 856,\n",
       " 'හැවිරිදි': 857,\n",
       " 'අනෙකුත්': 858,\n",
       " 'හදන්න': 859,\n",
       " 'ස්ථානයේ': 860,\n",
       " 'ලෝකය': 861,\n",
       " 'මහතාට': 862,\n",
       " 'දිස්ත්\\u200dරික්': 863,\n",
       " 'අලෙවි': 864,\n",
       " 'දිනවල': 865,\n",
       " 'ප්\\u200dරතිකාර': 866,\n",
       " 'ගියේ': 867,\n",
       " 'පළ': 868,\n",
       " 'සත්\\u200dය': 869,\n",
       " 'වෙන්': 870,\n",
       " 'ලැබීය': 871,\n",
       " 'ආණ්ඩු': 872,\n",
       " 'දඩුවම්': 873,\n",
       " 'දෙනෙකු': 874,\n",
       " 'අස්ගිරි': 875,\n",
       " 'අනාවරණය': 876,\n",
       " 'භාගය': 877,\n",
       " 'ඉතාමත්': 878,\n",
       " 'සිදුවන': 879,\n",
       " 'මාතර': 880,\n",
       " 'බැංකුව': 881,\n",
       " 'සිද්ධිය': 882,\n",
       " 'ඉසිපතන': 883,\n",
       " 'ඝාතනය': 884,\n",
       " 'මංගල්\\u200dයය': 885,\n",
       " 'ලස්සන': 886,\n",
       " 'දායකත්වය': 887,\n",
       " 'මහජන': 888,\n",
       " 'රෝග': 889,\n",
       " 'පවත්වන': 890,\n",
       " 'දිසානායක': 891,\n",
       " 'ජන': 892,\n",
       " 'ගිහි': 893,\n",
       " 'ඡන්ද': 894,\n",
       " 'රැස්': 895,\n",
       " 'විහාරය': 896,\n",
       " 'සැකකරුවන්': 897,\n",
       " 'ඉඩම්': 898,\n",
       " 'වීදිය': 899,\n",
       " 'සංගම්': 900,\n",
       " 'බුදුරදුන්': 901,\n",
       " 'ප්\\u200dරඥාව': 902,\n",
       " 'සිදුවූ': 903,\n",
       " 'නම': 904,\n",
       " '34': 905,\n",
       " 'අගමැති': 906,\n",
       " 'සිදුකළ': 907,\n",
       " 'සිටින්නේ': 908,\n",
       " 'මාසයේදී': 909,\n",
       " 'විස්තර': 910,\n",
       " 'ඕනෑම': 911,\n",
       " 'අතින්': 912,\n",
       " 'සතියේ': 913,\n",
       " 'ඛාන්': 914,\n",
       " 'කුසල්': 915,\n",
       " 'සිදුකර': 916,\n",
       " 'අංශ': 917,\n",
       " 'වැඩසටහන': 918,\n",
       " 'උප': 919,\n",
       " 'දෙනෙක්': 920,\n",
       " 'ප්\\u200dරසාද': 921,\n",
       " 'අත්': 922,\n",
       " 'වුවද': 923,\n",
       " 'පෙරේදා': 924,\n",
       " 'නිදහස': 925,\n",
       " 'විනිසුරු': 926,\n",
       " 'ඉතිහාසයේ': 927,\n",
       " 'මරණය': 928,\n",
       " 'දන්': 929,\n",
       " 'ඇසළ': 930,\n",
       " 'මේවා': 931,\n",
       " 'නියමිතව': 932,\n",
       " 'භාවිතා': 933,\n",
       " 'අලූත්': 934,\n",
       " 'වදාළ': 935,\n",
       " 'මග': 936,\n",
       " 'දන්නවා': 937,\n",
       " 'පුහුණුකරු': 938,\n",
       " 'මහාචාර්ය': 939,\n",
       " 'ලැබීමට': 940,\n",
       " 'එතුමා': 941,\n",
       " 'තුනක්': 942,\n",
       " 'පමණයි': 943,\n",
       " 'පිරිසුදු': 944,\n",
       " 'ඩයලොග්': 945,\n",
       " 'පින්': 946,\n",
       " 'සැප්තැම්බර්': 947,\n",
       " 'විද්\\u200dයාලයේ': 948,\n",
       " 'මිනිස්': 949,\n",
       " 'බණ්ඩාර': 950,\n",
       " 'අක්කර': 951,\n",
       " 'සමන්විත': 952,\n",
       " 'වගකීම': 953,\n",
       " 'කියලයි': 954,\n",
       " 'දිනුමක්': 955,\n",
       " 'යොවුන්': 956,\n",
       " 'පැවැත්විණි': 957,\n",
       " 'ලබාදී': 958,\n",
       " 'කාණ්ඩයේ': 959,\n",
       " 'මණ්ඩලයේ': 960,\n",
       " 'අංශයේ': 961,\n",
       " 'ජ්\\u200dයෙෂ්ඨ': 962,\n",
       " 'හැකියාවක්': 963,\n",
       " 'කප්රුක්': 964,\n",
       " 'ඉනිමේ': 965,\n",
       " 'ලෙසත්': 966,\n",
       " 'කැමති': 967,\n",
       " 'සුළු': 968,\n",
       " 'අවධාරණය': 969,\n",
       " 'නිවන්': 970,\n",
       " 'ගත්තේය': 971,\n",
       " 'පෙළ': 972,\n",
       " 'ආර්': 973,\n",
       " 'විදුහලට': 974,\n",
       " 'තත්ත්වයක්': 975,\n",
       " 'සසර': 976,\n",
       " 'අවශ්\\u200dයයි': 977,\n",
       " 'සාමය': 978,\n",
       " 'වෘත්තීය': 979,\n",
       " 'බැරි': 980,\n",
       " 'ගණන්': 981,\n",
       " 'දියුණුව': 982,\n",
       " 'උපකාර': 983,\n",
       " 'බර': 984,\n",
       " 'අගෝස්තු': 985,\n",
       " 'සංවිධාන': 986,\n",
       " 'ලදි': 987,\n",
       " 'පුංචි': 988,\n",
       " 'කවුරුත්': 989,\n",
       " 'සටන්': 990,\n",
       " 'කිව්වේ': 991,\n",
       " 'ශත': 992,\n",
       " 'පුර': 993,\n",
       " 'උපසම්පදා': 994,\n",
       " 'විදේශීය': 995,\n",
       " 'කිරීමත්': 996,\n",
       " 'ඉහත': 997,\n",
       " 'ආකාරයෙන්': 998,\n",
       " 'සතුටු': 999,\n",
       " 'අපනයන': 1000,\n",
       " ...}"
      ]
     },
     "execution_count": 25,
     "metadata": {},
     "output_type": "execute_result"
    }
   ],
   "source": [
    "word_index"
   ]
  },
  {
   "cell_type": "code",
   "execution_count": 30,
   "metadata": {},
   "outputs": [],
   "source": [
    "X = tokenizer.texts_to_sequences(df['Body'].values)\n",
    "X = pad_sequences(X, maxlen=3000)"
   ]
  },
  {
   "cell_type": "code",
   "execution_count": 31,
   "metadata": {},
   "outputs": [
    {
     "data": {
      "text/plain": [
       "(2391, 3000)"
      ]
     },
     "execution_count": 31,
     "metadata": {},
     "output_type": "execute_result"
    }
   ],
   "source": [
    "X.shape"
   ]
  },
  {
   "cell_type": "code",
   "execution_count": 32,
   "metadata": {},
   "outputs": [
    {
     "data": {
      "text/plain": [
       "array([[    0,     0,     0, ...,  9857, 18116,  1427],\n",
       "       [    0,     0,     0, ..., 26913,  8688,   783],\n",
       "       [    0,     0,     0, ...,   816,  1643,    30],\n",
       "       ...,\n",
       "       [    0,     0,     0, ...,   139,   170,     6],\n",
       "       [    0,     0,     0, ...,  3242,  9818,  1012],\n",
       "       [    0,     0,     0, ...,   316,   347,  3131]])"
      ]
     },
     "execution_count": 32,
     "metadata": {},
     "output_type": "execute_result"
    }
   ],
   "source": [
    "X"
   ]
  },
  {
   "cell_type": "code",
   "execution_count": 33,
   "metadata": {},
   "outputs": [
    {
     "data": {
      "text/plain": [
       "array([[0, 0, 0, ..., 0, 0, 1],\n",
       "       [0, 0, 0, ..., 0, 0, 0],\n",
       "       [1, 0, 0, ..., 0, 0, 0],\n",
       "       ...,\n",
       "       [1, 0, 0, ..., 0, 0, 0],\n",
       "       [0, 0, 0, ..., 0, 0, 1],\n",
       "       [1, 0, 0, ..., 0, 0, 0]], dtype=uint8)"
      ]
     },
     "execution_count": 33,
     "metadata": {},
     "output_type": "execute_result"
    }
   ],
   "source": [
    "Y = pd.get_dummies(df['Category'],columns=df[\"Category\"]).values\n",
    "Y"
   ]
  },
  {
   "cell_type": "code",
   "execution_count": 34,
   "metadata": {},
   "outputs": [
    {
     "data": {
      "text/plain": [
       "2391"
      ]
     },
     "execution_count": 34,
     "metadata": {},
     "output_type": "execute_result"
    }
   ],
   "source": [
    "len(Y)"
   ]
  },
  {
   "cell_type": "code",
   "execution_count": 35,
   "metadata": {},
   "outputs": [
    {
     "data": {
      "text/plain": [
       "array([0, 0, 0, 0, 0, 0, 1], dtype=uint8)"
      ]
     },
     "execution_count": 35,
     "metadata": {},
     "output_type": "execute_result"
    }
   ],
   "source": [
    "Y[0]"
   ]
  },
  {
   "cell_type": "code",
   "execution_count": 36,
   "metadata": {},
   "outputs": [
    {
     "data": {
      "text/plain": [
       "array([0, 0, 0, 1, 0, 0, 0], dtype=uint8)"
      ]
     },
     "execution_count": 36,
     "metadata": {},
     "output_type": "execute_result"
    }
   ],
   "source": [
    "Y[1]"
   ]
  },
  {
   "cell_type": "code",
   "execution_count": 37,
   "metadata": {},
   "outputs": [
    {
     "data": {
      "text/plain": [
       "array([0, 0, 0, 0, 0, 1, 0], dtype=uint8)"
      ]
     },
     "execution_count": 37,
     "metadata": {},
     "output_type": "execute_result"
    }
   ],
   "source": [
    "Y[10]"
   ]
  },
  {
   "cell_type": "code",
   "execution_count": 38,
   "metadata": {},
   "outputs": [
    {
     "data": {
      "text/plain": [
       "array([0, 1, 0, 0, 0, 0, 0], dtype=uint8)"
      ]
     },
     "execution_count": 38,
     "metadata": {},
     "output_type": "execute_result"
    }
   ],
   "source": [
    "Y[2000]"
   ]
  },
  {
   "cell_type": "code",
   "execution_count": 39,
   "metadata": {},
   "outputs": [
    {
     "data": {
      "text/html": [
       "<div>\n",
       "<style scoped>\n",
       "    .dataframe tbody tr th:only-of-type {\n",
       "        vertical-align: middle;\n",
       "    }\n",
       "\n",
       "    .dataframe tbody tr th {\n",
       "        vertical-align: top;\n",
       "    }\n",
       "\n",
       "    .dataframe thead th {\n",
       "        text-align: right;\n",
       "    }\n",
       "</style>\n",
       "<table border=\"1\" class=\"dataframe\">\n",
       "  <thead>\n",
       "    <tr style=\"text-align: right;\">\n",
       "      <th></th>\n",
       "      <th>Body</th>\n",
       "      <th>Category</th>\n",
       "    </tr>\n",
       "  </thead>\n",
       "  <tbody>\n",
       "    <tr>\n",
       "      <th>0</th>\n",
       "      <td>රුසියාවේදී පැවැත්වෙන ලෝක කුසලාන පාපන්දු තරඟාවල...</td>\n",
       "      <td>Sports</td>\n",
       "    </tr>\n",
       "    <tr>\n",
       "      <th>1</th>\n",
       "      <td>හොද්දක් රස ගන්න වගේම සැන්ඩ්විච් සලාද ආදිය පිළි...</td>\n",
       "      <td>Health</td>\n",
       "    </tr>\n",
       "    <tr>\n",
       "      <th>2</th>\n",
       "      <td>හම්බන්තොට රිදියගම සෆාරි උද්‍යානයේ සත්ව කලාප දෙ...</td>\n",
       "      <td>Bussiness</td>\n",
       "    </tr>\n",
       "  </tbody>\n",
       "</table>\n",
       "</div>"
      ],
      "text/plain": [
       "                                                Body   Category\n",
       "0  රුසියාවේදී පැවැත්වෙන ලෝක කුසලාන පාපන්දු තරඟාවල...     Sports\n",
       "1  හොද්දක් රස ගන්න වගේම සැන්ඩ්විච් සලාද ආදිය පිළි...     Health\n",
       "2  හම්බන්තොට රිදියගම සෆාරි උද්‍යානයේ සත්ව කලාප දෙ...  Bussiness"
      ]
     },
     "execution_count": 39,
     "metadata": {},
     "output_type": "execute_result"
    }
   ],
   "source": [
    "df.head(3)"
   ]
  },
  {
   "cell_type": "code",
   "execution_count": 40,
   "metadata": {},
   "outputs": [
    {
     "data": {
      "text/html": [
       "<div>\n",
       "<style scoped>\n",
       "    .dataframe tbody tr th:only-of-type {\n",
       "        vertical-align: middle;\n",
       "    }\n",
       "\n",
       "    .dataframe tbody tr th {\n",
       "        vertical-align: top;\n",
       "    }\n",
       "\n",
       "    .dataframe thead th {\n",
       "        text-align: right;\n",
       "    }\n",
       "</style>\n",
       "<table border=\"1\" class=\"dataframe\">\n",
       "  <thead>\n",
       "    <tr style=\"text-align: right;\">\n",
       "      <th></th>\n",
       "      <th>Body</th>\n",
       "      <th>Category</th>\n",
       "    </tr>\n",
       "  </thead>\n",
       "  <tbody>\n",
       "    <tr>\n",
       "      <th>2388</th>\n",
       "      <td>නිරිත දිග මෝසම සක්‍රිය වීමත් දිවයිනට බලපා සුළං...</td>\n",
       "      <td>Bussiness</td>\n",
       "    </tr>\n",
       "    <tr>\n",
       "      <th>2389</th>\n",
       "      <td>කී‍්‍රඩා සංගම් 10 නිලවරණ හෙට දිනයේදී 15 වැනිදා...</td>\n",
       "      <td>Sports</td>\n",
       "    </tr>\n",
       "    <tr>\n",
       "      <th>2390</th>\n",
       "      <td>ඇඟළුම් කර්මාන්තයේ ශ්‍රී ලාංකික කීර්තිනාමය ඉහළ ...</td>\n",
       "      <td>Bussiness</td>\n",
       "    </tr>\n",
       "  </tbody>\n",
       "</table>\n",
       "</div>"
      ],
      "text/plain": [
       "                                                   Body   Category\n",
       "2388  නිරිත දිග මෝසම සක්‍රිය වීමත් දිවයිනට බලපා සුළං...  Bussiness\n",
       "2389  කී‍්‍රඩා සංගම් 10 නිලවරණ හෙට දිනයේදී 15 වැනිදා...     Sports\n",
       "2390  ඇඟළුම් කර්මාන්තයේ ශ්‍රී ලාංකික කීර්තිනාමය ඉහළ ...  Bussiness"
      ]
     },
     "execution_count": 40,
     "metadata": {},
     "output_type": "execute_result"
    }
   ],
   "source": [
    "df.tail(3)"
   ]
  },
  {
   "cell_type": "code",
   "execution_count": 41,
   "metadata": {},
   "outputs": [
    {
     "name": "stdout",
     "output_type": "stream",
     "text": [
      "(1912, 3000) (1912, 7)\n",
      "(479, 3000) (479, 7)\n"
     ]
    }
   ],
   "source": [
    "X_train, X_test, Y_train, Y_test = train_test_split(X,Y, test_size = 0.2, random_state = 42)\n",
    "print(X_train.shape,Y_train.shape)\n",
    "print(X_test.shape,Y_test.shape)"
   ]
  },
  {
   "cell_type": "code",
   "execution_count": 42,
   "metadata": {},
   "outputs": [],
   "source": [
    "#Implement the LSTM model\n",
    "model=Sequential()\n",
    "model.add(Embedding(50000,100,input_length=3000))\n",
    "model.add(SpatialDropout1D(0.2))\n",
    "model.add(LSTM(100, dropout=0.2, recurrent_dropout=0.2))\n",
    "model.add(Dense(7, activation='softmax'))\n",
    "model.compile(loss='categorical_crossentropy', optimizer='adam', metrics=['accuracy'])"
   ]
  },
  {
   "cell_type": "code",
   "execution_count": 43,
   "metadata": {},
   "outputs": [
    {
     "name": "stdout",
     "output_type": "stream",
     "text": [
      "Model: \"sequential\"\n",
      "_________________________________________________________________\n",
      "Layer (type)                 Output Shape              Param #   \n",
      "=================================================================\n",
      "embedding (Embedding)        (None, 3000, 100)         5000000   \n",
      "_________________________________________________________________\n",
      "spatial_dropout1d (SpatialDr (None, 3000, 100)         0         \n",
      "_________________________________________________________________\n",
      "lstm (LSTM)                  (None, 100)               80400     \n",
      "_________________________________________________________________\n",
      "dense (Dense)                (None, 7)                 707       \n",
      "=================================================================\n",
      "Total params: 5,081,107\n",
      "Trainable params: 5,081,107\n",
      "Non-trainable params: 0\n",
      "_________________________________________________________________\n"
     ]
    }
   ],
   "source": [
    "model.summary()"
   ]
  },
  {
   "cell_type": "code",
   "execution_count": 44,
   "metadata": {
    "scrolled": true
   },
   "outputs": [
    {
     "name": "stdout",
     "output_type": "stream",
     "text": [
      "Epoch 1/5\n",
      "24/24 [==============================] - 3363s 135s/step - loss: 1.9158 - accuracy: 0.3101 - val_loss: 1.6188 - val_accuracy: 0.5614\n",
      "Epoch 2/5\n",
      "24/24 [==============================] - 3138s 131s/step - loss: 1.4475 - accuracy: 0.5551 - val_loss: 1.0741 - val_accuracy: 0.6110\n",
      "Epoch 3/5\n",
      "24/24 [==============================] - 987s 37s/step - loss: 0.9110 - accuracy: 0.6614 - val_loss: 0.7294 - val_accuracy: 0.8016\n",
      "Epoch 4/5\n",
      "24/24 [==============================] - 771s 32s/step - loss: 0.5388 - accuracy: 0.8656 - val_loss: 0.4978 - val_accuracy: 0.8538\n",
      "Epoch 5/5\n",
      "24/24 [==============================] - 753s 31s/step - loss: 0.3208 - accuracy: 0.9343 - val_loss: 0.4991 - val_accuracy: 0.8329\n"
     ]
    }
   ],
   "source": [
    "history = model.fit(X_train, Y_train, epochs=5, batch_size=64,validation_split=0.2,callbacks=[EarlyStopping(monitor='val_loss', patience=3, min_delta=0.0001)])"
   ]
  },
  {
   "cell_type": "code",
   "execution_count": 41,
   "metadata": {},
   "outputs": [
    {
     "name": "stdout",
     "output_type": "stream",
     "text": [
      "15/15 [==============================] - 18s 1s/step - loss: 0.5251 - accuracy: 0.8246\n",
      "Test set\n",
      "  Loss: 0.525\n",
      "  Accuracy: 0.825\n"
     ]
    }
   ],
   "source": [
    "accr = model.evaluate(X_test,Y_test)\n",
    "print('Test set\\n  Loss: {:0.3f}\\n  Accuracy: {:0.3f}'.format(accr[0],accr[1]))"
   ]
  },
  {
   "cell_type": "code",
   "execution_count": 45,
   "metadata": {},
   "outputs": [
    {
     "name": "stdout",
     "output_type": "stream",
     "text": [
      "15/15 [==============================] - 19s 1s/step - loss: 0.5426 - accuracy: 0.8267\n",
      "Test set\n",
      "  Loss: 0.543\n",
      "  Accuracy: 0.827\n"
     ]
    }
   ],
   "source": [
    "accr = model.evaluate(X_test,Y_test)\n",
    "print('Test set\\n  Loss: {:0.3f}\\n  Accuracy: {:0.3f}'.format(accr[0],accr[1]))"
   ]
  },
  {
   "cell_type": "code",
   "execution_count": 42,
   "metadata": {},
   "outputs": [
    {
     "data": {
      "image/png": "[encoded data removed]",
      "text/plain": [
       "<Figure size 432x288 with 1 Axes>"
      ]
     },
     "metadata": {
      "needs_background": "light"
     },
     "output_type": "display_data"
    }
   ],
   "source": [
    "plt.title('Loss')\n",
    "plt.plot(history.history['loss'], label='train')\n",
    "plt.plot(history.history['val_loss'], label='test')\n",
    "plt.legend()\n",
    "plt.show();"
   ]
  },
  {
   "cell_type": "code",
   "execution_count": 43,
   "metadata": {},
   "outputs": [
    {
     "data": {
      "image/png": "[encoded data removed]",
      "text/plain": [
       "<Figure size 432x288 with 1 Axes>"
      ]
     },
     "metadata": {
      "needs_background": "light"
     },
     "output_type": "display_data"
    }
   ],
   "source": [
    "plt.title('Accuracy')\n",
    "plt.plot(history.history['accuracy'], label='train')\n",
    "plt.plot(history.history['val_accuracy'], label='test')\n",
    "plt.legend()\n",
    "plt.show();"
   ]
  },
  {
   "cell_type": "code",
   "execution_count": 42,
   "metadata": {},
   "outputs": [
    {
     "data": {
      "text/plain": [
       "Entertainment    450\n",
       "Sports           450\n",
       "Health           450\n",
       "Bussiness        440\n",
       "Crime            201\n",
       "Religious        200\n",
       "Politics         200\n",
       "Name: Category, dtype: int64"
      ]
     },
     "execution_count": 42,
     "metadata": {},
     "output_type": "execute_result"
    }
   ],
   "source": [
    "df['Category'].value_counts()"
   ]
  },
  {
   "cell_type": "code",
   "execution_count": 67,
   "metadata": {},
   "outputs": [
    {
     "name": "stdout",
     "output_type": "stream",
     "text": [
      "[[0.00843991 0.3706127  0.02455784 0.00797653 0.29829508 0.26602283\n",
      "  0.02409521]] Crime\n"
     ]
    }
   ],
   "source": [
    "new_complaint = ['අබිරහස් මියගිය බවට සැක කෙරෙන ‍කොළඹ වෛද්‍ය විද්‍යාලයේ වෛද්‍ය සිසුවකුගේ මළ සිරුරක් වෛද්‍ය විද්‍යාලය ආසන්නයේ පිහිටි නේවාසිකාගාරයක තිබී සොයාගැනීමට හැකිවී . අවුරුදු 27ක් වයසැති බිබිල ප්‍රදේශයේ පදිංචි සිසුවා විශ්වවිද්‍යාලයේ අවසන් වසරේ අයෙකු පොලිසිය කියයි . පොලිසිය පවසන ආකාරයට සිසුවා ‍දෙවරක් අවසන් විභාගයට පෙනී විභාගය අසමත්වීම සිත්තැවුලෙන් බවට පොලිසියට තොරතුරු තිබුණි . සිසුවා සියදිවි හානි ගැනීමක් ගත්තාද යන සැකයද පොලිසියට ඇතිවී . වෙතත් මොහු නේවාසිකාගාර කාමරයේ එවැනි දෙයක් කරගත්තා යන්න සොයා බැලීම සඳහා පොලිසිය ඊයේ ( 11 ) කාමරය පරීක්ෂාවට ලක්කර තිබිණි . සිසුවාගේ මෘත දේහය කොළඹ ජාතික රෝහල ගෙනගොස් තිබුණි . ඊයේ ( 11 ) පස්වරුවේ ඔහුගේ පශ්චාත් මරණ පරීක්ෂණය පැවැත්වීමට නියමිතව තිබුණි . සම්බන්ධයෙන් කුරුඳුවත්ත පොලිසිය පරීක්ෂණ සිදුකරගෙන යයි .']\n",
    "seq = tokenizer.texts_to_sequences(new_complaint)\n",
    "padded = pad_sequences(seq, maxlen=3000)\n",
    "pred = model.predict(padded)\n",
    "labels = ['Sports', 'Crime', 'Health', 'Entertainment', 'Bussiness', 'Religious', 'Politics']\n",
    "print(pred, labels[np.argmax(pred)])"
   ]
  },
  {
   "cell_type": "code",
   "execution_count": 68,
   "metadata": {},
   "outputs": [
    {
     "name": "stdout",
     "output_type": "stream",
     "text": [
      "[[7.8306627e-03 8.1659458e-04 1.4559955e-02 9.7415382e-01 8.3169335e-04\n",
      "  6.5221055e-04 1.1549661e-03]] Health\n"
     ]
    }
   ],
   "source": [
    "new_complaint = ['හෘදය ආශ්‍රිත රෝගාබාධ වර්තමානයේ සුලබ තත්වයක් බවට පත් තිබෙනවා . බොහෝ වෙලාවට අධික කාර්යබහුල තමාගේ ශරීරය දක්වන අවධානය මදිකම මෙයට හේතුවක් . බොහෝ දෙනෙකු සිතන්නේ සෞඛ්‍ය සම්පන්න ආහාර වේලක් අනුභව කිරීම , විධිමත් ව්‍යායාම නිරත වීම තමාගේ හදවත නිරෝගිව තබා ගැනීම සදහා උපකාරී . හදවත් නිරෝගිව පවත්වා ගැනීමට ව්‍යායාම ආහාර පමණක් ප්‍රමාණවත් නොවන පර්යේෂකයින්ගේ මතයයි .']\n",
    "seq = tokenizer.texts_to_sequences(new_complaint)\n",
    "padded = pad_sequences(seq, maxlen=3000)\n",
    "pred = model.predict(padded)\n",
    "labels = ['Sports', 'Crime', 'Entertainment', 'Health', 'Bussiness', 'Religious', 'Politics']\n",
    "print(pred, labels[np.argmax(pred)])"
   ]
  },
  {
   "cell_type": "code",
   "execution_count": 69,
   "metadata": {},
   "outputs": [
    {
     "name": "stdout",
     "output_type": "stream",
     "text": [
      "[[9.5644534e-01 9.4861630e-04 4.1050846e-03 4.6018804e-03 7.0065010e-04\n",
      "  1.1168986e-03 3.2081589e-02]] Bussiness\n"
     ]
    }
   ],
   "source": [
    "new_complaint = ['තොරතුරු හා සන්නිවේදන තාක්ෂණය, අධ්‍යාපනය, ඇඟලුම් ආහාර ඇතුළු විවිධ අංශ සමග ජපානයේ සහයෝගිතාව වර්ධනය කර ගැනීම සදහා වු වෙබිනාර් සාකච්ඡාවක් ඉකුත් දා පැවැත්විණ. ජපානයේ ශ්‍රී ලංකා තානාපති කාර්යාලය ජපානය වෙත කෙරෙන අපනයනය සහ ශ්‍රී ලංකාවේ ආයෝජනය ඉහළ නැංවීම සඳහා, ජපාන ආයෝජකයින් 220 කට අධික සංඛ්‍යාවකගේ සහභාගීත්වයෙන් යුතුව පැවති මෙම වෙබිනාර් සාකච්ඡාවට ශ්‍රී ලංකා ආයෝජන සංසදයේ…']\n",
    "seq = tokenizer.texts_to_sequences(new_complaint)\n",
    "padded = pad_sequences(seq, maxlen=3000)\n",
    "pred = model.predict(padded)\n",
    "labels = ['Bussiness','Crime','Entertainment', 'Health', 'Politics', 'Religious' ,'Sports']\n",
    "print(pred, labels[np.argmax(pred)])"
   ]
  },
  {
   "cell_type": "code",
   "execution_count": null,
   "metadata": {},
   "outputs": [],
   "source": [
    "new_complaint = ['ආසියානු කුසලාන ක්‍රිකට් තරගාවලියේ පළමු තරගය ශ්‍රී ලංකාව බංග්ලාදේශය ඩුබායි ක්‍රීඩාංගයේදී 15 වැනිදා තරගයේදී මුෂ්ෆිකුර් රහීම් ලබාගත් අනගි ශතකය හමුවේ ශ්‍රී ලංකාවට එරෙහිව ලකුණු 137 ක දැවැන්ත ජයක් අත්කර ගැනීමට බංග්ලාදේශය සමත් ජයග්‍රහණය ලකුණු 262 ක ඉලක්කයක් හඹාගිය ශ්‍රී ලංකා කණ්ඩායම ඕවර 35.2 ක් අවසානයේ ලකුණු 124 කට සීමා කිරීමට බංග්ලාදේශ පන්දු යවන්නෝ සමත් වූහ දක්ෂ පන්දු යැවීමක නිරත නායක මෂ්රෆී මොටාසා මුස්තෆිසුර් රෙහෙමාන් මෙහෙදි හසන් කඩුලු 2 බැගින් දවාගනිමින් ශ්‍රී ලංකා ඉනිම සුනුවිසුණු කළහ සකීබ් අල් හසන් රුබෙල් හොසේන් මොසද්දික් හොසේන්ද කඩුල්ල බැගින් දවාගනිමින් බංග්ලාදේශ කණ්ඩායමේ ජයග්‍රහණයට දායකත්වය සැපයූහ පෙළ පිතිකරුවන් ඩිල්රුවන් පෙරේරා හයේ පහර 2 ක් ලකුණු 29 ක්ද සුරංග ලක්මාල් හයේ පහරක් හතරේ පහරක් ලකුණු 20 ක්ද බැගින් රැස්කළද ශ්‍රී ලංකා කණ්ඩායම පරාජයෙන් ගළවා ගැනීමට ඔවුන්ට නොහැකි වූහ තරග දිනවිය ප්‍රවේගකාරී පිතිකරුවකු දරා තිසර පෙරේරාටද තරගයේදී සුපුරුදු ක්‍රීඩා විලාශයට අවතීර්ණ නොහැකි මෙහෙදි හසන්ගේ පන්දුවක් හමුවේ රුබෙල් හොසේන් අතට උඩ පන්දුවක් දෙමින් දැවීයන ලකුණු 6 ක් පමණි ඇන්ජලෝ මැතිව්ස් 16 ශ්‍රී ලංකා ඉනිමේ 5 කඩුල්ල වෙනුවෙන් පන්දු 41 කදී ලකුණු 22 ක සම්බන්ධතාවක් ගොඩනැගීමට දසුන් ශානක 7 සමත් දුවද්දී දැවී යෑමකට හසුවෙමින් දැවී යෑමත් සම්බන්ධතාව නිමාවට පත්විය ශානකගේ දැවී යෑමෙන් ශ්‍රී ලංකා ලකුණු පුවරුවට 3 ක් එක්වන මැතිව්ස්ද දැවී ගියේ රුබෙල් හොසේන්ගේ පන්දුවක් හමුවේ කඩුල්ල මුවා කිරීමේ වරදට හසුවෙමිනි දහවැනි ඕවරයේ දෙවැනි පන්දුවේදී විනිසුරුවරයා ලබාදුන් වැරදි තීරණයක් හේතුවෙන් ශ්‍රී ලංකා ඉනිමේ සිවුවැනි කඩුල්ලත් බිඳ වැටිණ ලකුණු 11 ක් සිටියදී මෙහෙදි හසන්ගේ පන්දුවක් හමුවේ කුසල් පෙරේරා කඩුල්ල මුවා විනිසුරුවරයා සංඥ්ඥා කළද සිදුවීමේ පුනුරූපණ නිරීක්ෂණය කිරීමේදී පෙනී ගියේ පන්දුව කුසල්ගේ පාදයේ වැදීමට ඔහුගේ පිත්තේ දාරයේ වදින ලබාගැනීමට විනිසුරු තීරණ විමසීමේ අවස්ථාවක් නොමැතිවීම නොදැවුණ ක්‍රීඩකයකු දැන දැනම කුසල්ට පිටියෙන් ඉවත්ව යෑමට සිදුවිය පන්දු 16 කදී හයේ පහරක් හතරේ පහර 4 ක් ලකුණු 27 ක් රැස්කරමින් වේගවත් ආරම්භයක් ලබාගත් උපුල් තරංග දැවී ගියේ පිත්තේ ඇතුළත දාරයේ වැදුණ මෂ්රෆී මොටාසාගේ පන්දුවක් කඩුල්ල ඇදී ඒමෙනි තරංග එක්දින තරගයකදී මොටාසාගේ පන්දුවක් හමුවේ දැවී 6 අවස්තාව සටහන් මෂ්රෆී මොටාසාගේ පන්දුවක් හමුවේ කඩුල්ල මුවා කිරීමේ වරද හසුවෙමින් ධනංජය සිල්වාද මුස්තෆිසර් රෙහෙමාන්ගේ පන්දුවක් හමුවේ කඩුල්ල මුවා කිරීමේ වරද හසුවෙමින් කුසල් මෙන්ඩිස්ද ලකුණු නොළබාම ආපසු ක්‍රීඩාගාරයේ අසුන් ගත්හ කුසල් දැවී ගියේ මුහුණදුන් පළමු පන්දුවේදීම ධනංජය දැවී ගියේ මුහුණදුන් තෙවැනි පන්දුවේදීය තමාගේ දැවී යාම විනිසුරු තීරණ විමසීමේ ක්‍රමයට කිරීමට ධනංජය ගැනීමත් ශ්‍රී ලංකා කණ්ඩායමට එකම විනිසුරු තීරණ විමසීමේ අවස්ථාවද අහිමිව ගියේය කාසියේ වාසිය දිනා පළමුවෙන් පන්දුවට පහරදුන් බංග්ලාදේශ කණ්ඩායම ඕවර 49.3 ක් අවසානයේ දැවී ලකුණු 261 ක් ලබාගත්තේය බංග්ලාදේශ ඉනිමේ කොඳු නාරටිය මුෂ්ෆිකුර් රහීම් 144 6 එක්දින ශතකය ලබාගත්තේ හයේ පහර 4 ක් හතරේ පහර 11 ක් සමගිනි රහීම් එක්දින තරගයකදී ලබාගත් වැඩිම එක්දින ලකුණු සංඛ්‍යාව වාර්තා අතරට එක්විය ශතකය ලබාගැනීමේන් අනතුරුව ප්‍රවේගකාරී පිතිහරඹයක නිතර රහීම් අවසන් ඕවර කිහිපයේදී ශ්‍රී ලංකා පිතිකරුවන්ට එළවා එළවා පහර දෙමින් පිටිය පුරා ලකුණු රැස්කළේය ලකුණකට කඩුලු 2 ක් බිඳවැටී අවස්ථාවේ පස්වැනි පිතිකරුවා පිටියට පිවිසි මොහොමඞ් මිතුන් තෙවැනි කඩුල්ල වෙනුවෙන් පන්දු 141 කදී ලකුණු 131 ක සම්බන්ධතාවක් ගොඩනැගීමට රහීම් සමත් පන්දු 68 කදී මුහුණදුන් මිතුන් මංගල අර්ධ ශතකය හයේ පහර 2 කින් හතරේ පහර 5 කින් අලංකාර කළේය බංග්ලාදේශ ඉනිමේ 26 ඕවරය යැවීම කැඳවූ ලසිත් මාලිංග තෙවැනි කඩුල්ලේ සම්බන්ධතාව බිඳ දැමුවේ කඩුලු රකින ක්‍රීඩක කුසල් පෙරේරාගේ සහායද ඇතිවය එතැන් පටන් බංග්ලාදේශ ලකුණු පුවරුවට ලකුණු 8 ක් එක්වන මහමදුල්ලා රියාද් මොසෙද්දික් හොසේන්ද ලකුණ බැගින් සිටියදී අමිල අපොන්සුගේ ලසිත් මාලිංගගේ පන්දු හමුවේ දැවී ගියේ ධනංජය සිල්වා කුසල් පෙරේරා අතට උඩ පන්දු දෙමිනි පෙළ පිතිකරුවන් ක්‍රමක්‍රමයෙන් ලකුණු ලබාගැනීමේ වේගය රහීම් බංග්ලාදේශ කණ්ඩායමේ ලකුණු සංඛ්‍යාව 250 සීමාවෙන් ඔබ්බට රැගෙන ගියේය කැපී පෙනෙන සිදුවීම දෙවැනි ඕවරයේදී සුරංග ලක්මාල් යැවූ පන්දුවක් අතේ වැදීම ආබාධයකට ලක්ව පිටියෙන් ඉවත්ව ආරම්භක පිතිකරු ටමීම් ඉක්බාල් 9 කඩුල්ල බිඳ වැටීමෙන් අනතුරුව නැවතත් පිටියට පැමිණ කණ්ඩායමේ ලකුණු සංඛ්‍යාව දැමීම රහීම්ට සහාය දීමය මුල් ඕවර 10 නිමාවන ලකුණු 24 ක් පමණක් බංග්ලාදේශ පිතිකරුවෝ 11 ඕවරයේ ලකුණු ලබාගැනීමේ වේගය කළහ අමිල අපොන්සු යැවූ ඕවරයේදී හයේ පහරක් හතරේ පහරක් බංග්ලාදේශ පිතිකරුවන් රැස්කළ ලකුණු සංඛ්‍යාව 12 කි ඉනිමේ 15 ඕවරය යැවීම ඩිල්රුවන් පෙරේරා කැඳවූ ඕවරයේ පිට පිට පන්දු 3 කදී හයේ පහරක් හතරේ පහර 2 ක් ලකුණු 14 ක් රැස් කිරීමට මොහොමඞ් මිතුන් සමත් පළමු ඕවරයේ පස්වැනි පන්දුවේදී ආරම්භක පිතිකරු ලිටන් දාස් පිටියෙන් ලසිත් මාලිංග ඕවරයේම අවසන් පන්දුවේදී සකීබ් අල් හසන්ගේ කඩුල්ලද බිඳ දමමින් බංග්ලාදේශ කණ්ඩායම අසීරු තත්වයකට ඇද දැමුවේය පිට ඉන්නෙන් ඉවතට ඇදී පන්දුවක් පිත්තේ පිටත දාරයේ වැදී ස්ලිප්හි පන්දු රකිමින් කුසල් මෙන්ඩිස් අතට පත්වීම ලිටන් දාස් දැවී සකීබ් අල් හසන් දැවී ගියේ මාලිංගගේ වේගවත් යෝකර් පන්දුවක් හරි හැටි අවබෝධ කරගැනීමට නොහැකි වීමෙනි දෙදෙනාම ආපසු ක්‍රීඩාගාරය ගියේ එකදු ලකුණක් නොලබාය එක්දින තරගයක පළමු ඕවරය කඩුලු 2 ක් 2 කට සංඛ්‍යාවක් දැවී දුර්ලභ අවස්ථාවක් වාර්තා අතරට එක්වූ මින් අවසන් වරට එවන් අවස්ථාවක් සටහන් තිබුණේ වසර 15 කට ඉහතදීය 2003 වසරේ ලෝක කුසලාන තරගාවලියේදී ශ්‍රී ලංකාව බංග්ලාදේශය තරගයේ පළමු ඕවරයේදී කඩුලු 4 ක් දවාගනිමින් චමින්ද වාස් වාර්තාව පිහිටුවා තිබිණ මොහොමඞ් මිතුන් ලකුණක් සිටියදී මාලිංගගේ පන්දුවක් හමුවේ උඩ පන්දුවක් මිඞ් ඕන් කළාපයේ පන්දු රකිමින් නායක ඇන්ජලෝ මැතිව්ස් අතින් ගිළිහී ගියේය ඕවරයේම අවසන් පන්දුවේදී මොහොමඞ් මිතුන් නැවතත් ෆයින් ලෙග් කළාපයට උඩ පන්දුවක් ලබාදුන් පන්දු රකිමින් අමිල අපොන්සු උඩ පන්දුව රැකගැනීමට අපොහොසත් සමගම මිතුන්ට තවදුරටත් පිටියේ රැදී සිටීමට අවස්ථාව උදා මාලිංගගේ පන්දුව නිපන්දුවක් විනිසුරුවරයා සංඥ්ඥා කිරීමත් බංග්ලාදේශ කණ්ඩායමට නිදහස් පහරක්ද හිමිවිය බංග්ලාදේශ ඉනිමේ 10 ඕවරය යැවීම කැඳවූ තිසර පෙරේරා ඕවරය ලකුණු 2 කට සීමා කිරීමට සමත් ඕවරයේ තෙවැනි පන්දුවේදී ලකුණු 10 ක් සිටියදී මුෂ්ෆිකුර් රහීම් ලබාදුන් පහසු උඩ පන්දුවක් ස්කුවෙයාර් ලෙග්හි පන්දු රකිමින් ඩිල්රුවන් පෙරේරා අතින් ගිළිහී ගියේ ශ්‍රී ලංකා පන්දු රකින්නන්ට උඩ පන්දු අත්හරින හැටි යළිත් මතක් දෙමිනි තරගයේදී ශ්‍රී ලංකා කණ්ඩායමට වේග පන්දු යවන ක්‍රීඩක ලසිත් මාලිංග පිට දඟ පන්දු යවන ක්‍රීඩක ඩිල්රුවන් පෙරේරා කැඳවා සිටියහ මාලිංග එක්දින තරගයකට සහභාගි වසරකට ඩි']\n",
    "seq = tokenizer.texts_to_sequences(new_complaint)\n",
    "padded = pad_sequences(seq, maxlen=3000)\n",
    "pred = model.predict(padded)\n",
    "labels = ['Crime', 'Health', 'Entertainment', 'Bussiness', 'Religious', 'Politics','Sports']\n",
    "print(pred, labels[np.argmax(pred)])"
   ]
  },
  {
   "cell_type": "code",
   "execution_count": null,
   "metadata": {},
   "outputs": [],
   "source": [
    "new_complaint = ['ප්‍රියංකා චොප්රා ගංගනා රනවුද් අතරෙ දවස්වල යුද්ධයක් යනවාලූ ක්‍රිශ් 3 අලූත්ම චිත්‍රපටිය එළි දක්වපුවාම ඒක බලන්න පුළුවන් හැබැයි දෙන්නා අතරෙ සැබෑ ජීවිතෙත් ගැටුම් තියෙනවා කියලයි ආරංචිය තියෙන්නේ']\n",
    "seq = tokenizer.texts_to_sequences(new_complaint)\n",
    "padded = pad_sequences(seq, maxlen=3000)\n",
    "pred = model.predict(padded)\n",
    "labels = ['Politics','Crime','Entertainment', 'Health', 'Bussiness', 'Religious' ,'Sports']\n",
    "print(pred, labels[np.argmax(pred)])"
   ]
  },
  {
   "cell_type": "code",
   "execution_count": 65,
   "metadata": {},
   "outputs": [
    {
     "name": "stdout",
     "output_type": "stream",
     "text": [
      "[[6.6659874e-03 9.4511668e-04 1.9035038e-02 9.7061586e-01 8.8595523e-04\n",
      "  6.8871881e-04 1.1632603e-03]] Health\n"
     ]
    }
   ],
   "source": [
    "new_complaint = ['ඔබට අවශ්‍ය හැම දෙයක්ම බැහැයි නොකියා කරලා ඔබේ දෑත් වලට හොඳින් නොසැලකුවොත් ඒවායේ නිර‌ෝගී සුන්දරත්වය අඩු වෙන්න පුළුවන් . ඔබේ සමස්ත සිරුරේ සුන්දරත්වය රැක ගන්නට , ඔබේ දෑත් සුන්දරත්වය ගැනත් ඔබ සැළකිලිමත් යුතුයි . ලිපියේ සඳහන් දේවල් කරන්න කිසිම අමාරුවක් නෑ , වැඩිපුර වෙලාවක් වෙන්නෙත් නැහැ .']\n",
    "seq = tokenizer.texts_to_sequences(new_complaint)\n",
    "padded = pad_sequences(seq, maxlen=3000)\n",
    "pred = model.predict(padded)\n",
    "labels = ['Sports', 'Crime', 'Entertainment', 'Health', 'Bussiness', 'Religious', 'Politics']\n",
    "print(pred, labels[np.argmax(pred)])"
   ]
  },
  {
   "cell_type": "code",
   "execution_count": null,
   "metadata": {},
   "outputs": [],
   "source": [
    "new_complaint = ['හිටපු නියෝජ්‍ය පොලිස්පති අනුර සේනානායක නාරාහේන්පිට පොලිසියේ අපරාධ අංශයේ හිටපු ස්ථානාධිපති සුමිත් පෙරේරා නොවැම්බර් 30 දක්වා රිමාන්ඩ් කිරිමට කොළඹ අතිරේක මහේස්ත්‍රාත් නිශාන්ත පීරිස් මහතා අද නියෝග කළේය . ඔවුන් අත්අඩංගුවට රිමාන්ඩ් භාරයේ සිටින්නේ රගර් ක්‍රීඩක වසීම් තාජුඩීන් ඝාතන සිද්ධියට සම්බන්ධ බවට සැකපිටයි .']\n",
    "seq = tokenizer.texts_to_sequences(new_complaint)\n",
    "padded = pad_sequences(seq, maxlen=3000)\n",
    "pred = model.predict(padded)\n",
    "labels = ['Sports', 'Crime', 'Entertainment', 'Health', 'Bussiness', 'Religious', 'Politics']\n",
    "print(pred, labels[np.argmax(pred)])"
   ]
  },
  {
   "cell_type": "code",
   "execution_count": null,
   "metadata": {},
   "outputs": [],
   "source": [
    "new_complaint = ['ආසියානු කුසලාන ක්‍රිකට් තරගාවලියේ පළමු තරගය ශ්‍රී ලංකාව බංග්ලාදේශය ඩුබායි ක්‍රීඩාංගයේදී 15 වැනිදා තරගයේදී මුෂ්ෆිකුර් රහීම් ලබාගත් අනගි ශතකය හමුවේ ශ්‍රී ලංකාවට එරෙහිව ලකුණු 137 ක දැවැන්ත ජයක් අත්කර ගැනීමට බංග්ලාදේශය සමත් ජයග්‍රහණය ලකුණු 262 ක ඉලක්කයක් හඹාගිය ශ්‍රී ලංකා කණ්ඩායම ඕවර 35.2 ක් අවසානයේ ලකුණු 124 කට සීමා කිරීමට බංග්ලාදේශ පන්දු යවන්නෝ සමත් වූහ දක්ෂ පන්දු යැවීමක නිරත නායක මෂ්රෆී මොටාසා මුස්තෆිසුර් රෙහෙමාන් මෙහෙදි හසන් කඩුලු 2 බැගින් දවාගනිමින් ශ්‍රී ලංකා ඉනිම සුනුවිසුණු කළහ සකීබ් අල් හසන් රුබෙල් හොසේන් මොසද්දික් හොසේන්ද කඩුල්ල බැගින් දවාගනිමින් බංග්ලාදේශ කණ්ඩායමේ ජයග්‍රහණයට දායකත්වය සැපයූහ පෙළ පිතිකරුවන් ඩිල්රුවන් පෙරේරා හයේ පහර 2 ක් ලකුණු 29 ක්ද සුරංග ලක්මාල් හයේ පහරක් හතරේ පහරක් ලකුණු 20 ක්ද බැගින් රැස්කළද ශ්‍රී ලංකා කණ්ඩායම පරාජයෙන් ගළවා ගැනීමට ඔවුන්ට නොහැකි වූහ තරග දිනවිය ප්‍රවේගකාරී පිතිකරුවකු දරා තිසර පෙරේරාටද තරගයේදී සුපුරුදු ක්‍රීඩා විලාශයට අවතීර්ණ නොහැකි මෙහෙදි හසන්ගේ පන්දුවක් හමුවේ රුබෙල් හොසේන් අතට උඩ පන්දුවක් දෙමින් දැවීයන ලකුණු 6 ක් පමණි ඇන්ජලෝ මැතිව්ස් 16 ශ්‍රී ලංකා ඉනිමේ 5 කඩුල්ල වෙනුවෙන් පන්දු 41 කදී ලකුණු 22 ක සම්බන්ධතාවක් ගොඩනැගීමට දසුන් ශානක 7 සමත් දුවද්දී දැවී යෑමකට හසුවෙමින් දැවී යෑමත් සම්බන්ධතාව නිමාවට පත්විය ශානකගේ දැවී යෑමෙන් ශ්‍රී ලංකා ලකුණු පුවරුවට 3 ක් එක්වන මැතිව්ස්ද දැවී ගියේ රුබෙල් හොසේන්ගේ පන්දුවක් හමුවේ කඩුල්ල මුවා කිරීමේ වරදට හසුවෙමිනි දහවැනි ඕවරයේ දෙවැනි පන්දුවේදී විනිසුරුවරයා ලබාදුන් වැරදි තීරණයක් හේතුවෙන් ශ්‍රී ලංකා ඉනිමේ සිවුවැනි කඩුල්ලත් බිඳ වැටිණ ලකුණු 11 ක් සිටියදී මෙහෙදි හසන්ගේ පන්දුවක් හමුවේ කුසල් පෙරේරා කඩුල්ල මුවා විනිසුරුවරයා සංඥ්ඥා කළද සිදුවීමේ පුනුරූපණ නිරීක්ෂණය කිරීමේදී පෙනී ගියේ පන්දුව කුසල්ගේ පාදයේ වැදීමට ඔහුගේ පිත්තේ දාරයේ වදින ලබාගැනීමට විනිසුරු තීරණ විමසීමේ අවස්ථාවක් නොමැතිවීම නොදැවුණ ක්‍රීඩකයකු දැන දැනම කුසල්ට පිටියෙන් ඉවත්ව යෑමට සිදුවිය පන්දු 16 කදී හයේ පහරක් හතරේ පහර 4 ක් ලකුණු 27 ක් රැස්කරමින් වේගවත් ආරම්භයක් ලබාගත් උපුල් තරංග දැවී ගියේ පිත්තේ ඇතුළත දාරයේ වැදුණ මෂ්රෆී මොටාසාගේ පන්දුවක් කඩුල්ල ඇදී ඒමෙනි තරංග එක්දින තරගයකදී මොටාසාගේ පන්දුවක් හමුවේ දැවී 6 අවස්තාව සටහන් මෂ්රෆී මොටාසාගේ පන්දුවක් හමුවේ කඩුල්ල මුවා කිරීමේ වරද හසුවෙමින් ධනංජය සිල්වාද මුස්තෆිසර් රෙහෙමාන්ගේ පන්දුවක් හමුවේ කඩුල්ල මුවා කිරීමේ වරද හසුවෙමින් කුසල් මෙන්ඩිස්ද ලකුණු නොළබාම ආපසු ක්‍රීඩාගාරයේ අසුන් ගත්හ කුසල් දැවී ගියේ මුහුණදුන් පළමු පන්දුවේදීම ධනංජය දැවී ගියේ මුහුණදුන් තෙවැනි පන්දුවේදීය තමාගේ දැවී යාම විනිසුරු තීරණ විමසීමේ ක්‍රමයට කිරීමට ධනංජය ගැනීමත් ශ්‍රී ලංකා කණ්ඩායමට එකම විනිසුරු තීරණ විමසීමේ අවස්ථාවද අහිමිව ගියේය කාසියේ වාසිය දිනා පළමුවෙන් පන්දුවට පහරදුන් බංග්ලාදේශ කණ්ඩායම ඕවර 49.3 ක් අවසානයේ දැවී ලකුණු 261 ක් ලබාගත්තේය බංග්ලාදේශ ඉනිමේ කොඳු නාරටිය මුෂ්ෆිකුර් රහීම් 144 6 එක්දින ශතකය ලබාගත්තේ හයේ පහර 4 ක් හතරේ පහර 11 ක් සමගිනි රහීම් එක්දින තරගයකදී ලබාගත් වැඩිම එක්දින ලකුණු සංඛ්‍යාව වාර්තා අතරට එක්විය ශතකය ලබාගැනීමේන් අනතුරුව ප්‍රවේගකාරී පිතිහරඹයක නිතර රහීම් අවසන් ඕවර කිහිපයේදී ශ්‍රී ලංකා පිතිකරුවන්ට එළවා එළවා පහර දෙමින් පිටිය පුරා ලකුණු රැස්කළේය ලකුණකට කඩුලු 2 ක් බිඳවැටී අවස්ථාවේ පස්වැනි පිතිකරුවා පිටියට පිවිසි මොහොමඞ් මිතුන් තෙවැනි කඩුල්ල වෙනුවෙන් පන්දු 141 කදී ලකුණු 131 ක සම්බන්ධතාවක් ගොඩනැගීමට රහීම් සමත් පන්දු 68 කදී මුහුණදුන් මිතුන් මංගල අර්ධ ශතකය හයේ පහර 2 කින් හතරේ පහර 5 කින් අලංකාර කළේය බංග්ලාදේශ ඉනිමේ 26 ඕවරය යැවීම කැඳවූ ලසිත් මාලිංග තෙවැනි කඩුල්ලේ සම්බන්ධතාව බිඳ දැමුවේ කඩුලු රකින ක්‍රීඩක කුසල් පෙරේරාගේ සහායද ඇතිවය එතැන් පටන් බංග්ලාදේශ ලකුණු පුවරුවට ලකුණු 8 ක් එක්වන මහමදුල්ලා රියාද් මොසෙද්දික් හොසේන්ද ලකුණ බැගින් සිටියදී අමිල අපොන්සුගේ ලසිත් මාලිංගගේ පන්දු හමුවේ දැවී ගියේ ධනංජය සිල්වා කුසල් පෙරේරා අතට උඩ පන්දු දෙමිනි පෙළ පිතිකරුවන් ක්‍රමක්‍රමයෙන් ලකුණු ලබාගැනීමේ වේගය රහීම් බංග්ලාදේශ කණ්ඩායමේ ලකුණු සංඛ්‍යාව 250 සීමාවෙන් ඔබ්බට රැගෙන ගියේය කැපී පෙනෙන සිදුවීම දෙවැනි ඕවරයේදී සුරංග ලක්මාල් යැවූ පන්දුවක් අතේ වැදීම ආබාධයකට ලක්ව පිටියෙන් ඉවත්ව ආරම්භක පිතිකරු ටමීම් ඉක්බාල් 9 කඩුල්ල බිඳ වැටීමෙන් අනතුරුව නැවතත් පිටියට පැමිණ කණ්ඩායමේ ලකුණු සංඛ්‍යාව දැමීම රහීම්ට සහාය දීමය මුල් ඕවර 10 නිමාවන ලකුණු 24 ක් පමණක් බංග්ලාදේශ පිතිකරුවෝ 11 ඕවරයේ ලකුණු ලබාගැනීමේ වේගය කළහ අමිල අපොන්සු යැවූ ඕවරයේදී හයේ පහරක් හතරේ පහරක් බංග්ලාදේශ පිතිකරුවන් රැස්කළ ලකුණු සංඛ්‍යාව 12 කි ඉනිමේ 15 ඕවරය යැවීම ඩිල්රුවන් පෙරේරා කැඳවූ ඕවරයේ පිට පිට පන්දු 3 කදී හයේ පහරක් හතරේ පහර 2 ක් ලකුණු 14 ක් රැස් කිරීමට මොහොමඞ් මිතුන් සමත් පළමු ඕවරයේ පස්වැනි පන්දුවේදී ආරම්භක පිතිකරු ලිටන් දාස් පිටියෙන් ලසිත් මාලිංග ඕවරයේම අවසන් පන්දුවේදී සකීබ් අල් හසන්ගේ කඩුල්ලද බිඳ දමමින් බංග්ලාදේශ කණ්ඩායම අසීරු තත්වයකට ඇද දැමුවේය පිට ඉන්නෙන් ඉවතට ඇදී පන්දුවක් පිත්තේ පිටත දාරයේ වැදී ස්ලිප්හි පන්දු රකිමින් කුසල් මෙන්ඩිස් අතට පත්වීම ලිටන් දාස් දැවී සකීබ් අල් හසන් දැවී ගියේ මාලිංගගේ වේගවත් යෝකර් පන්දුවක් හරි හැටි අවබෝධ කරගැනීමට නොහැකි වීමෙනි දෙදෙනාම ආපසු ක්‍රීඩාගාරය ගියේ එකදු ලකුණක් නොලබාය එක්දින තරගයක පළමු ඕවරය කඩුලු 2 ක් 2 කට සංඛ්‍යාවක් දැවී දුර්ලභ අවස්ථාවක් වාර්තා අතරට එක්වූ මින් අවසන් වරට එවන් අවස්ථාවක් සටහන් තිබුණේ වසර 15 කට ඉහතදීය 2003 වසරේ ලෝක කුසලාන තරගාවලියේදී ශ්‍රී ලංකාව බංග්ලාදේශය තරගයේ පළමු ඕවරයේදී කඩුලු 4 ක් දවාගනිමින් චමින්ද වාස් වාර්තාව පිහිටුවා තිබිණ මොහොමඞ් මිතුන් ලකුණක් සිටියදී මාලිංගගේ පන්දුවක් හමුවේ උඩ පන්දුවක් මිඞ් ඕන් කළාපයේ පන්දු රකිමින් නායක ඇන්ජලෝ මැතිව්ස් අතින් ගිළිහී ගියේය ඕවරයේම අවසන් පන්දුවේදී මොහොමඞ් මිතුන් නැවතත් ෆයින් ලෙග් කළාපයට උඩ පන්දුවක් ලබාදුන් පන්දු රකිමින් අමිල අපොන්සු උඩ පන්දුව රැකගැනීමට අපොහොසත් සමගම මිතුන්ට තවදුරටත් පිටියේ රැදී සිටීමට අවස්ථාව උදා මාලිංගගේ පන්දුව නිපන්දුවක් විනිසුරුවරයා සංඥ්ඥා කිරීමත් බංග්ලාදේශ කණ්ඩායමට නිදහස් පහරක්ද හිමිවිය බංග්ලාදේශ ඉනිමේ 10 ඕවරය යැවීම කැඳවූ තිසර පෙරේරා ඕවරය ලකුණු 2 කට සීමා කිරීමට සමත් ඕවරයේ තෙවැනි පන්දුවේදී ලකුණු 10 ක් සිටියදී මුෂ්ෆිකුර් රහීම් ලබාදුන් පහසු උඩ පන්දුවක් ස්කුවෙයාර් ලෙග්හි පන්දු රකිමින් ඩිල්රුවන් පෙරේරා අතින් ගිළිහී ගියේ ශ්‍රී ලංකා පන්දු රකින්නන්ට උඩ පන්දු අත්හරින හැටි යළිත් මතක් දෙමිනි තරගයේදී ශ්‍රී ලංකා කණ්ඩායමට වේග පන්දු යවන ක්‍රීඩක ලසිත් මාලිංග පිට දඟ පන්දු යවන ක්‍රීඩක ඩිල්රුවන් පෙරේරා කැඳවා සිටියහ මාලිංග එක්දින තරගයකට සහභාගි වසරකට ඩි']\n",
    "seq = tokenizer.texts_to_sequences(new_complaint)\n",
    "padded = pad_sequences(seq, maxlen=3000)\n",
    "pred = model.predict(padded)\n",
    "labels = ['Crime', 'Health', 'Entertainment', 'Bussiness', 'Religious', 'Politics','Sports']\n",
    "print(pred, labels[np.argmax(pred)])"
   ]
  },
  {
   "cell_type": "code",
   "execution_count": null,
   "metadata": {},
   "outputs": [],
   "source": [
    "new_complaint = ['ඌව පාර්ශ්වයේ මහානායක මහෝපාධ්‍යාය අඹේවෙල පඤ්ඤාසාර මහා නා හිමිනමෝතස්ස භගවතෝ අරහතෝ සම්මා සම්බුද්ධස්ස පින්වතුනි , බෞද්ධයාගේ ප්‍රධාන පරමාර්ථය නිවන් පසක් ගැනීමයි . බුදුදහමෙහි ඇතුළත් කුදුමහත් සියලු පිළිවෙත් තුඩු ඇත්තේ සඳහා ය . පිළිවෙත් සීල සමාධි ප්‍රඥා වශයෙන් තුන් ආකාරයයි . එයිනුත් මුලින්ම පිරිය යුත්තේ සීලයයි . සීලය කියන්නේ හික්මීමයි . කය වචන දෙකේ සංවරයයි . සීලයෙන් තොර සමාධියක් නැහැ . සමාධියක් නැතුව ප්‍රඥාව වඩන්නට බැහැ . සීල සමාධි ප්‍රඥා යන ගුණාංග අනුපිළිවෙලින් වඩන්නට ඕනෑ . එහෙම නැතිව රහත් වෙන්නට බැහැ . රහත් වීමට චතුරාර්ය සත්‍යය අවබෝධ ගන්නට ඕනෑ . සඳහා ප්‍රඥාව අවශ්‍යයි . ප්‍රඥාව දියුණු හැක්කේ දියුණු සිතකයි . සිත දියුණු වන්නේ සමාධියෙන් . සමාධිය ගැනීමට පිරිසුදු සීලයක පිහිටන්නට ඕනෑ . අද ඔබ සිල් සමාදන් වීමෙන් ඉතාමත් ඤාණවන්ත ක්‍රියාවක් . ගිහි ජීවිතය වටා ගෙතී තිබෙන දහසක් ප්‍රශ්න අද ඔබ අමතක . පෙහෙවස් සමාදන් . ප්‍රතිපත්ති පූජාවෙන් තෙරුවන් පිදීමට ඉටා ගත්තා . බුදු දහමේ විස්තර වෙන කුදුමහත් පිළිවෙත් සියල්ලම විස්තර කොට තිබෙන්නේ පණවා තිබෙන්නේ නිවන් පසක් ගැනීමට තුඩුදෙන විදියටයි . නිර්වාණ ධාතුව ප්‍රත්‍යක්ෂ ගැනීමට කැමති කා විසිනුත් සැදැහැවත් වෙන්නට ඕනෑ . ශ්‍රද්ධාවෙන් සංසාර සාගරය තරණය හැකි “ සද්ධාය තරති ඕඝං ’ යනුවෙන් තථාගතයන් වහන්සේ වදාළ . ශ්‍රද්ධාව දියුණු වන්නේ තෙරුවන් සරණ උපාසකයෙකු තුළයි . බුද්ධානුස්සති භාවනාවයි , ඔහුට ගැළපෙන්නේ . සාමාන්‍ය කෙනෙකු බෞද්ධ තත්ත්වයට පත් පිළිවෙත තුණුරුවන් සරණ යාමයි . එයින් ශ්‍රද්ධාව දියුණු වෙනවා . සැදැහැ දියුණු කිරීමෙන් සසර ගමන පහසු වෙනවා . එයින් සසරින් මිදීමට හැකි වෙනවා . තෙරුවන් සරණ බෞද්ධයාගේ දෙවෙනි පිළිවෙත පන්සිල් සමාදන්ව රැකීමයි . එයත් පණවා වදාළේ සසර දුකින් මිදීමේ මාර්ගයක් වශයෙන් , නිවන් පසක් කිරීමට බලාපොරොත්තු පින්වතුන් ආසාව නැති ගන්නට ඕනෑ . සතුන් මැරීමෙන් වැළකී සිටීමෙන් කරන්නේ ආශාව මැඩ පැවැත්වීමයි . මිනිසුන් සතුන් මරන්නේ ආශාව නිසයි . සතුන් මැරීමට ආශාව මොකක්ද ? සමහරු මස් කෑමේ ආශාවෙන් සතුන් මරනවා . සමහරු මස් සම් ඇට නිය දත් ආදිය විකුණා මුදල් ඉපයීමේ ආශාවෙන් සතුන් මරනවා . තවත් සමහරු තමාගේ ජීවිතයට හානියක් පැමිණෙයි කියලා සිතලා සැඩපරුෂ සතුන් මරනවා . කියන්නේ ජීවිත ආශාවෙන් සතුන් මරනවා . තවත් සමහරු පලි ගැනීමේ ආශාවෙන් සතුන් මරනවා . විදියට බලන කොට මිනිසුන් සතුන් මරන්නේ ආශාව නිසයි . ප්‍රාණඝාතයෙන් වෙන්වීමෙන් කරන්නේ ආශාව යටපත් කිරීමයි . පඤ්චසීලයේ මුල්ම ශික්ෂාපදයයි . රැකීමෙන් කරන්නේ ආශාව යටපත් කොට නිවන් ලැබීමේ පිළිවෙතක් රැකීමයි . මිනිසුන් නොදුන් දේ ගන්නේ අන්සතු දේ පැහැර ගන්නේ ජීවිතය පෝෂණය කිරීමේ ආශාවෙන් , අලාභ හානි කිරීමේ ආශාවෙන් , පරස්ත්‍රී පරපුරුෂ සේවනය සඳහා . පෙළඹෙන්නේත් ස්පර්ශය පිළිබඳව ආශාව නිසයි . රස තෘෂ්ණාව සපුරා ගැනීම පිණිසයි මත් වතුර පානය කරන්නේ , බොරු කියන්නේ වාසිය් ලාභයක් ජයක් ලැබීමේ ආශාවෙන් , විදියට කල්පනා කරනකොට පැහැදිලි වන්නේ සතුන් මැරීම , සොරකම් කිරීම , කාමයෙහි වරදවා හැසිරීම , බොරු කීම , මත්පැන් පානය යන වැරැදිවලින් වෙන්වෙන කොට සිත ආශාවන්ගෙන් මිදෙන . මීටත් උසස් විදියට ගුණදම් පිරීමට අටසිල් සමාදන්ව රැකීමෙන් හැකි වෙනවා . අබ්‍රහ්මචරියා වේරමණී සික්ඛා පදං සමාදියාමි කියලා සමාදන් වෙන කොට මුළුමනින්ම කාමාශාවෙන් මිදෙන්නට පුළුවන් වෙනවා . එසේම කැමති කැමති විටෙක ආහාර ගැනීමේ ආශාවෙන් මිදීමට පුළුවනි . නැටුම් ගැයුම් වැයුම් දැකීමේ ආශාවන් යටපත් වෙනවා . මල් ගඳ විලවුන් දැරීමේ ආශාව උස් අසුන් , මහ අසුන් පාවිච්චි කිරීමේ ආශාව යටපත්කර ගන්නට හැකි වෙනවා . විදියට බලනකොට අපට පැහැදිලිව තේරුම් ගන්නට පුළුවනි . උපෝසථයත් අෂ්ටාංග සීලයත් සමාදන්ව රැකීම සසර කතරින් එතරවීමට සමත් උසස් පිළිවෙත් ක්‍රමයක් . දසසිල් උපසම්පදා සිල් මෙයටත් උසස් ගුණ ධර්ම . සීලයන් සමාදන්වීමට වැදගත් කාරණය නොකඩවා ආරක්ෂා කිරීමයි . අද පෙහෙවස් සමාදන් වුන ඔබත් ඔබ සමාදන් සීලය ගැන මෙනෙහි කරන්නට ඕනෑ . ඔබ අද ගුණධර්ම අටකින් ඔබේ චරිතය අලංකාර ගැනීමක් . සිල්පද අටෙන් එකක් වත් කිසිලෙසකින් පලුදුවීමට ඉඩ නොදී රැක ගැනීම පෙහෙවස් සමාදන් අයගේ වගකීමයි . ඤාණවන්ත පින්වතුන් සමාදන් සීලය රැකගන්නා අයුරු බෞද්ධ පොත පතේ සඳහන් වන්නේ මෙන්න මෙහෙමයි . කිකීව අණ්ඩං චමරීව වාලධිං පියං ව පුත්තං නයනංච එකකං තථෙව සීලං අනුරක්ඛ මානකා සුපෙසලා හොථ සදා සගාරවා කිරළ ධෙනුව බිත්තර ආරක්ෂා හැටියට - සෙමර මුවා වල්ගය රකින විදියට – එක් පුතෙකු මව පුතු රකින්නා වගේ . එක් ඇසක් තැනැත්තා ඇස රැක ගන්නවා වගේ මහත් සැලකිල්ලෙන් ගෞරවයෙන් පරිශ්‍රමයෙන් සීලය රැක ගන්නවා . එලෙසින් සිල් රැකීමේ අනුසස් පහක් බුදුරජාණන් වහන්සේ දක්වා වදාළා . සීලවන්තයා නොපමාව විසීමෙන් මහත් භෝගස්කන්ධයක් ලබා ගන්නවා . සීලවන්තයාගේ කීර්තිය ලොව හැම තැන පැතිර යනවා . සීලවන්තයා කවර විදියේ පිරිසක් ඉදිරියට යතත් විශාරදව අභීතව නිසැකවයි යන්නේ . සිල්වතා කළුරිය කරන්නේ හොඳ සිහියෙන් යුතුවයි . ඔහු මරණින් මතු ස්වර්ගයෙහි උප්පත්තිය ලබනවා . වගේම ස්වර්ගයට නැගීමට සීලයට හොඳ වෙන හිනිමගක් නැහැ . නිවන පුරයක් එයට ඇතුල්වීමට සීලය හැරවෙන දොරටුවක් නැහැ . “ සග්ගාරොහන සොපානං අඤ්ඤං සීල සමං තුනො ද්වාරං වා පන නිබ්බාණං නගරස්ස පවෙසනෙ ” යනුවෙන් පවසන ලද්දේ එයයි . රැකිය එකම දේ සීලයයි . ඔබ සමාදන් එයයි . හොඳින් ආරක්ෂා කොට හේතුවෙන් සියලු බුදු පසේ බුදු මහරහතුන් වහන්සේ නිවී සැනහී පැමිණ වදාළ ක්ෂාන්ති ලක්ෂණ අමෘත මහා නිර්වාණ සම්පත්තිය ලබා ගැනීමට උත්සාහ කරන්න .']\n",
    "seq = tokenizer.texts_to_sequences(new_complaint)\n",
    "padded = pad_sequences(seq, maxlen=3000)\n",
    "pred = model.predict(padded)\n",
    "labels = ['Politics','Crime', 'Health', 'Entertainment', 'Bussiness', 'Religious' ,'Sports']\n",
    "print(pred, labels[np.argmax(pred)])"
   ]
  },
  {
   "cell_type": "code",
   "execution_count": null,
   "metadata": {},
   "outputs": [],
   "source": [
    "new_complaint = ['රුසියාවේදී පැවැත්වෙන ලෝක කුසලාන පාපන්දු තරඟාවලියේ උරුගුවේ පැවැත්වෙන තරඟයට සහභාගිවීම මොස්කව් නුවර රෝස්තොව් යමින් සවුදි අරාබි කණ්ඩායම ගමන්ගත් ගුවන් යානයේ ගින්නක් තිබෙනවා යානයේ තටුවක එන්ජිමක හටගෙන ගින්න හේතුවෙන් හානියක් සිදුවී නැති යානය සාර්ථකව රෝස්තොව් ගුවන් තොටුපළේ ගොඩබෑමට ගුවන් නියමුවන් සමත්වුණා යානය ගුවන්ගතවී ටික වෙලවකින් ගින්න හටගෙන පැවසෙන්නේ.කෙසේවෙතත් පිළිබඳව දක්වමින් සවුදි පාපන්දු බලධාරීන් පවසන්නේ යානයේ සුළු කාර්මික දෝෂයක් තත්වයක් බවත් සිද්ධියෙන් කණ්ඩායමේ කිසිවකුටත් උපද්‍රවයක් නොවූ']\n",
    "seq = tokenizer.texts_to_sequences(new_complaint)\n",
    "padded = pad_sequences(seq, maxlen=3000)\n",
    "pred = model.predict(padded)\n",
    "labels = ['Crime', 'Health', 'Entertainment', 'Bussiness', 'Religious', 'Politics','Sports']\n",
    "print(pred, labels[np.argmax(pred)])"
   ]
  },
  {
   "cell_type": "code",
   "execution_count": null,
   "metadata": {},
   "outputs": [],
   "source": [
    "new_complaint = ['ශ්‍රී ලංකා ක්‍රිකට් ආයතනය සංවිධානය අන්තර් පළාත් වයස 19 න් පහළ සීමිත ඕවර ක්‍රිකට් තරගාවලියේ අවසන් මහා තරගය සුදුසුකම් ලබාගැනීමට බස්නාහිර පළාත් උතුර කණ්ඩායම බස්නාහිර පළාත් මධ්‍යම කණ්ඩායම සමත්විය අවසන් තරගය සී.සී.සී ක්‍රීඩාංගණයේදී හෙට 23 වැනිදා පැවැත්වීමට නියමිතව මූලික වටය අවසන් වනවිට ප්‍රසාද ලකුණු 17 ලබාගත් බස්නාහිර පළාත් උතුර කණ්ඩායම කාණ්ඩයෙනුත් ප්‍රසාද ලකුණු 18 ලබාගත් බස්නාහිර පළාත් මධ්‍යම කණ්ඩායම බී කාණ්ඩයෙනුත් පෙරමුණ ගැනීමට සමත්විය බස්නාහිර පළාත් උතුර කණ්ඩායම තරග 4 සහභාගිවී තරග 3 ජයගෙන තරගයක් විසඳුමකින් තොරව අවසන්වී ජයගත් තරග 3 අතිරේක ප්‍රසාද ලකුණු 3 හිමිකර ගැනීමටද බස්නාහිර පළාත් උතුර කණ්ඩායම සමත්විය තරග 4 සහභාගීවූ බස්නාහිර පළාත් මධ්‍යම කණ්ඩායම තරග හතරම ජයගනිමින් අතිරේක ප්‍රසාද ලකුණු 2 ක්ද හිමිකර ගැනීමට සමත්විය උතුරු මැද ඌව නැගෙනහිර පළාත් කණ්ඩායම් තරග 4 ක්‍රීඩා කළද තරගයක් ජයගැනීමට අසමත්වූහ']\n",
    "seq = tokenizer.texts_to_sequences(new_complaint)\n",
    "padded = pad_sequences(seq, maxlen=3000)\n",
    "pred = model.predict(padded)\n",
    "labels = ['Crime', 'Health', 'Entertainment', 'Bussiness', 'Religious', 'Politics','Sports']\n",
    "print(pred, labels[np.argmax(pred)])"
   ]
  },
  {
   "cell_type": "code",
   "execution_count": 58,
   "metadata": {},
   "outputs": [
    {
     "name": "stdout",
     "output_type": "stream",
     "text": [
      "[[0.00793829 0.3585974  0.02666572 0.0081682  0.2908775  0.29087734\n",
      "  0.01687555]] Crime\n"
     ]
    }
   ],
   "source": [
    "new_complaint = ['මෙරට ප්‍රථමයෙන්ම වස් සමාදම් වූයේද , ප්‍රථම කඨින පූජාව පැවැත්වූයේ මිහින්තලා පුදබිමේදී , එවන් පුද බිමක කප්රුක් පූජාවක් පැවැත්වීම මහත් ආනිශංස පින්කමක් මිහින්තලා රජ මහා විහාරාධිපති භාරකාර වළවාහැංගුණවැවේ ධම්මරතන හිමියෝ පවසති . මිහින්තලා රජ මහා විහාරාධිපති භාරකාර වළවාහැංගුණවැවේ ධම්මරතන හිමියන්ගේ අනුශාසනා පරිදි ලේක්හවුස් ආයතනයේ සභාපති කාවන් රත්නායක , සාමාන්‍යාධිකාරී අභය අමරදාස යන මහත්වරුන් ඇතුළු අධ්‍යක්ෂ මණ්ඩලයේ තීරණය පරිදි පුර පසළොස්වක දිනකම නොකඩවාම පවත්වනු ලබන කප්රුක් පූජාවේ පස්වෙනි කප්රුක් පූජාව අනුරාධපුර ලේක්හවුස් ආයතනපේ ප්‍රධානී එන්.පී.මංජුල මහතාගේ සංවිධානයෙන් ඉකුත් වප් පුන් පොහෝදින මිහින්තලා පුද බිමේදී පැවැත්විණි . මෙවර දායකත්වය වැල්ලවත්ත සමාජ සේවා පදනම විසින් තිබුණි . කප්රුක් පූජාව පිළිබඳව වළවාහැංගුණවැවේ ධම්මරතන හිමියෝ මෙසේද පැවසූහ . උතුම් කප්රුක් පූජාව අද දින ( 15 ) අනුරාධපුර ලේක්හවුස් ආයතනයේ ප්‍රධානි එන්.පී.මංජුල මහතාගේ සංවිධානයෙන් ලේක්හවුස් ප්‍රධාන කාර්යාලයේ සහකාර සුබසාධන නිලධාරී සමින්ද විජේතුංග මහතාගේ සහභාගීත්වයෙන් වැල්ලවත්ත සමාජ සේවා පදනමේ අධ්‍යක්ෂ කිරිවැල්දොල පියනන්ද හාමුදුරුවන්ගේ දායකත්වයෙන් මිහින්තලය සිවිල් ආරක්ෂක පුහුණු පාසලේ සිවිල් ආරක්ෂක නියාමක වරුන්ගේ සහභාගීත්වයෙන් පැවැත්වුණා . මිහින්තලා මහ සෑරදුන් කප්රුක් පූජාව පැවැත්වීමෙන් වෙරුප්පන්කුලමේ පියරතන හිමියන් විසින් ආගමික වතාවත් පැවැත්වූ අයුරු තිලෝගුරු බුදුපියාණන් වහන්සේගේ ඌර්ණ රෝම ධාතුන් වහන්සේ තැන්පත් මිහින්තලා මහ සෑයට කප්රුක් පූජාවක් පැවැත්වීම මහා පින්කමක් , මහා දාඨික මහා නාග රජු විසින් සෑය නිර්මාණය තිබෙනවා . අද වස් පවාරණ දිනය , කඨින චීවර මාසය ආරම්භ දිනය , පළමුවෙන්ම වස් සමාදම් වූයේත් , පළමුවෙන්ම කඨින පූජාවක් පැවැත්වූයේත් මිහිත්තලා පුද බිමේදී , පින් කම් රැසක්ම සිද්ධවෙච්ච පින් බිමක් . සඳහා උදව් උපකාර සියලුම , දෙනාට , ලේක්හවුස් ආයතනයේ සභාපති කාවන් රත්නායක මහතාට , සාමාන්‍යාධිකාරී අභය අමරදාස මහතාට , වැල්ලවත්ත සමාජ සේවා පදනමේ අධ්‍යක්ෂ කිරිවැල් දොල පියනන්ද හාමුදුරුවන්ට , මිහින්තලා සිවිල් ආරක්ෂක පුහුණු පාසලේ සැමටම , අනුරාධපුර ලේක්හවුස් ආයතනයේ ප්‍රධාන කාර්යාලයේ සැමටම ආශිර්වාද කරනවා උන්වහන්සේ පැවැසූහ . කප්රුක් පූජාවේ ආගමික වතාවත් වෙරුප්පන්කුලමේ පියරතන හිමියන් විසින් ලදී . මිහින්තලා ලේක්හවුස් කප්රුක් පූජාව සඳහා අනුරාධපුර ලේක්හවුස් ආයතනයේ ප්‍රධානී , එන්.පී.මංජුල , ලේක්හවුස් ප්‍රධාන කාර්යාලයේ සහකාර සුබසාධන නිලධාරී සමින්ද විජේතුංග , වැල්වත්ත සමාජ සේවා පදනමේ ලේකම් චන්ද්‍ර පොන්සේකා , මිහින්තලා සිවිල් ආරක්ෂක පුහුණු පාසලේ ප්‍රධාන උපදේශක කපිතාන් සුබසිංහ , අනුරාධපුර දිස්ත්‍රික් භාරව කටයුතු කර්නල් විජේකෝන් යන මහත්වරුන් සහභාගී මිහින්තලා පොලිස් ස්ථානය මිහින්තලා මහා විදුහල කප්රුක් පූජා පෙරහර වර්ණවත් කිරිමට දායකත්වය ලබා තිබුණි .']\n",
    "seq = tokenizer.texts_to_sequences(new_complaint)\n",
    "padded = pad_sequences(seq, maxlen=3000)\n",
    "pred = model.predict(padded)\n",
    "labels = ['Politics','Crime', 'Health', 'Entertainment', 'Bussiness', 'Religious' ,'Sports']\n",
    "print(pred, labels[np.argmax(pred)])"
   ]
  },
  {
   "cell_type": "code",
   "execution_count": 66,
   "metadata": {},
   "outputs": [
    {
     "name": "stdout",
     "output_type": "stream",
     "text": [
      "[[0.01341329 0.27455187 0.03572341 0.01646443 0.28986758 0.34295517\n",
      "  0.02702427]] Religious\n"
     ]
    }
   ],
   "source": [
    "new_complaint = ['ඌව පාර්ශ්වයේ මහානායක මහෝපාධ්‍යාය අඹේවෙල පඤ්ඤාසාර මහා නා හිමිනමෝතස්ස භගවතෝ අරහතෝ සම්මා සම්බුද්ධස්ස පින්වතුනි , බෞද්ධයාගේ ප්‍රධාන පරමාර්ථය නිවන් පසක් ගැනීමයි . බුදුදහමෙහි ඇතුළත් කුදුමහත් සියලු පිළිවෙත් තුඩු ඇත්තේ සඳහා ය . පිළිවෙත් සීල සමාධි ප්‍රඥා වශයෙන් තුන් ආකාරයයි . එයිනුත් මුලින්ම පිරිය යුත්තේ සීලයයි . සීලය කියන්නේ හික්මීමයි . කය වචන දෙකේ සංවරයයි . සීලයෙන් තොර සමාධියක් නැහැ . සමාධියක් නැතුව ප්‍රඥාව වඩන්නට බැහැ . සීල සමාධි ප්‍රඥා යන ගුණාංග අනුපිළිවෙලින් වඩන්නට ඕනෑ . එහෙම නැතිව රහත් වෙන්නට බැහැ . රහත් වීමට චතුරාර්ය සත්‍යය අවබෝධ ගන්නට ඕනෑ . සඳහා ප්‍රඥාව අවශ්‍යයි . ප්‍රඥාව දියුණු හැක්කේ දියුණු සිතකයි . සිත දියුණු වන්නේ සමාධියෙන් . සමාධිය ගැනීමට පිරිසුදු සීලයක පිහිටන්නට ඕනෑ . අද ඔබ සිල් සමාදන් වීමෙන් ඉතාමත් ඤාණවන්ත ක්‍රියාවක් . ගිහි ජීවිතය වටා ගෙතී තිබෙන දහසක් ප්‍රශ්න අද ඔබ අමතක . පෙහෙවස් සමාදන් . ප්‍රතිපත්ති පූජාවෙන් තෙරුවන් පිදීමට ඉටා ගත්තා . බුදු දහමේ විස්තර වෙන කුදුමහත් පිළිවෙත් සියල්ලම විස්තර කොට තිබෙන්නේ පණවා තිබෙන්නේ නිවන් පසක් ගැනීමට තුඩුදෙන විදියටයි . නිර්වාණ ධාතුව ප්‍රත්‍යක්ෂ ගැනීමට කැමති කා විසිනුත් සැදැහැවත් වෙන්නට ඕනෑ . ශ්‍රද්ධාවෙන් සංසාර සාගරය තරණය හැකි “ සද්ධාය තරති ඕඝං ’ යනුවෙන් තථාගතයන් වහන්සේ වදාළ . ශ්‍රද්ධාව දියුණු වන්නේ තෙරුවන් සරණ උපාසකයෙකු තුළයි . බුද්ධානුස්සති භාවනාවයි , ඔහුට ගැළපෙන්නේ . සාමාන්‍ය කෙනෙකු බෞද්ධ තත්ත්වයට පත් පිළිවෙත තුණුරුවන් සරණ යාමයි . එයින් ශ්‍රද්ධාව දියුණු වෙනවා . සැදැහැ දියුණු කිරීමෙන් සසර ගමන පහසු වෙනවා . එයින් සසරින් මිදීමට හැකි වෙනවා . තෙරුවන් සරණ බෞද්ධයාගේ දෙවෙනි පිළිවෙත පන්සිල් සමාදන්ව රැකීමයි . එයත් පණවා වදාළේ සසර දුකින් මිදීමේ මාර්ගයක් වශයෙන් , නිවන් පසක් කිරීමට බලාපොරොත්තු පින්වතුන් ආසාව නැති ගන්නට ඕනෑ . සතුන් මැරීමෙන් වැළකී සිටීමෙන් කරන්නේ ආශාව මැඩ පැවැත්වීමයි . මිනිසුන් සතුන් මරන්නේ ආශාව නිසයි . සතුන් මැරීමට ආශාව මොකක්ද ? සමහරු මස් කෑමේ ආශාවෙන් සතුන් මරනවා . සමහරු මස් සම් ඇට නිය දත් ආදිය විකුණා මුදල් ඉපයීමේ ආශාවෙන් සතුන් මරනවා . තවත් සමහරු තමාගේ ජීවිතයට හානියක් පැමිණෙයි කියලා සිතලා සැඩපරුෂ සතුන් මරනවා . කියන්නේ ජීවිත ආශාවෙන් සතුන් මරනවා . තවත් සමහරු පලි ගැනීමේ ආශාවෙන් සතුන් මරනවා . විදියට බලන කොට මිනිසුන් සතුන් මරන්නේ ආශාව නිසයි . ප්‍රාණඝාතයෙන් වෙන්වීමෙන් කරන්නේ ආශාව යටපත් කිරීමයි . පඤ්චසීලයේ මුල්ම ශික්ෂාපදයයි . රැකීමෙන් කරන්නේ ආශාව යටපත් කොට නිවන් ලැබීමේ පිළිවෙතක් රැකීමයි . මිනිසුන් නොදුන් දේ ගන්නේ අන්සතු දේ පැහැර ගන්නේ ජීවිතය පෝෂණය කිරීමේ ආශාවෙන් , අලාභ හානි කිරීමේ ආශාවෙන් , පරස්ත්‍රී පරපුරුෂ සේවනය සඳහා . පෙළඹෙන්නේත් ස්පර්ශය පිළිබඳව ආශාව නිසයි . රස තෘෂ්ණාව සපුරා ගැනීම පිණිසයි මත් වතුර පානය කරන්නේ , බොරු කියන්නේ වාසිය් ලාභයක් ජයක් ලැබීමේ ආශාවෙන් , විදියට කල්පනා කරනකොට පැහැදිලි වන්නේ සතුන් මැරීම , සොරකම් කිරීම , කාමයෙහි වරදවා හැසිරීම , බොරු කීම , මත්පැන් පානය යන වැරැදිවලින් වෙන්වෙන කොට සිත ආශාවන්ගෙන් මිදෙන . මීටත් උසස් විදියට ගුණදම් පිරීමට අටසිල් සමාදන්ව රැකීමෙන් හැකි වෙනවා . අබ්‍රහ්මචරියා වේරමණී සික්ඛා පදං සමාදියාමි කියලා සමාදන් වෙන කොට මුළුමනින්ම කාමාශාවෙන් මිදෙන්නට පුළුවන් වෙනවා . එසේම කැමති කැමති විටෙක ආහාර ගැනීමේ ආශාවෙන් මිදීමට පුළුවනි . නැටුම් ගැයුම් වැයුම් දැකීමේ ආශාවන් යටපත් වෙනවා . මල් ගඳ විලවුන් දැරීමේ ආශාව උස් අසුන් , මහ අසුන් පාවිච්චි කිරීමේ ආශාව යටපත්කර ගන්නට හැකි වෙනවා . විදියට බලනකොට අපට පැහැදිලිව තේරුම් ගන්නට පුළුවනි . උපෝසථයත් අෂ්ටාංග සීලයත් සමාදන්ව රැකීම සසර කතරින් එතරවීමට සමත් උසස් පිළිවෙත් ක්‍රමයක් . දසසිල් උපසම්පදා සිල් මෙයටත් උසස් ගුණ ධර්ම . සීලයන් සමාදන්වීමට වැදගත් කාරණය නොකඩවා ආරක්ෂා කිරීමයි . අද පෙහෙවස් සමාදන් වුන ඔබත් ඔබ සමාදන් සීලය ගැන මෙනෙහි කරන්නට ඕනෑ . ඔබ අද ගුණධර්ම අටකින් ඔබේ චරිතය අලංකාර ගැනීමක් . සිල්පද අටෙන් එකක් වත් කිසිලෙසකින් පලුදුවීමට ඉඩ නොදී රැක ගැනීම පෙහෙවස් සමාදන් අයගේ වගකීමයි . ඤාණවන්ත පින්වතුන් සමාදන් සීලය රැකගන්නා අයුරු බෞද්ධ පොත පතේ සඳහන් වන්නේ මෙන්න මෙහෙමයි . කිකීව අණ්ඩං චමරීව වාලධිං පියං ව පුත්තං නයනංච එකකං තථෙව සීලං අනුරක්ඛ මානකා සුපෙසලා හොථ සදා සගාරවා කිරළ ධෙනුව බිත්තර ආරක්ෂා හැටියට - සෙමර මුවා වල්ගය රකින විදියට – එක් පුතෙකු මව පුතු රකින්නා වගේ . එක් ඇසක් තැනැත්තා ඇස රැක ගන්නවා වගේ මහත් සැලකිල්ලෙන් ගෞරවයෙන් පරිශ්‍රමයෙන් සීලය රැක ගන්නවා . එලෙසින් සිල් රැකීමේ අනුසස් පහක් බුදුරජාණන් වහන්සේ දක්වා වදාළා . සීලවන්තයා නොපමාව විසීමෙන් මහත් භෝගස්කන්ධයක් ලබා ගන්නවා . සීලවන්තයාගේ කීර්තිය ලොව හැම තැන පැතිර යනවා . සීලවන්තයා කවර විදියේ පිරිසක් ඉදිරියට යතත් විශාරදව අභීතව නිසැකවයි යන්නේ . සිල්වතා කළුරිය කරන්නේ හොඳ සිහියෙන් යුතුවයි . ඔහු මරණින් මතු ස්වර්ගයෙහි උප්පත්තිය ලබනවා . වගේම ස්වර්ගයට නැගීමට සීලයට හොඳ වෙන හිනිමගක් නැහැ . නිවන පුරයක් එයට ඇතුල්වීමට සීලය හැරවෙන දොරටුවක් නැහැ . “ සග්ගාරොහන සොපානං අඤ්ඤං සීල සමං තුනො ද්වාරං වා පන නිබ්බාණං නගරස්ස පවෙසනෙ ” යනුවෙන් පවසන ලද්දේ එයයි . රැකිය එකම දේ සීලයයි . ඔබ සමාදන් එයයි . හොඳින් ආරක්ෂා කොට හේතුවෙන් සියලු බුදු පසේ බුදු මහරහතුන් වහන්සේ නිවී සැනහී පැමිණ වදාළ ක්ෂාන්ති ලක්ෂණ අමෘත මහා නිර්වාණ සම්පත්තිය ලබා ගැනීමට උත්සාහ කරන්න .']\n",
    "seq = tokenizer.texts_to_sequences(new_complaint)\n",
    "padded = pad_sequences(seq, maxlen=3000)\n",
    "pred = model.predict(padded)\n",
    "labels = ['Politics','Crime', 'Health', 'Entertainment', 'Bussiness', 'Religious' ,'Sports']\n",
    "print(pred, labels[np.argmax(pred)])"
   ]
  },
  {
   "cell_type": "code",
   "execution_count": null,
   "metadata": {},
   "outputs": [],
   "source": [
    "new_complaint = ['එදා මිහින්තලා කන්දෙන් පැන නැගී මෙරට දස දෙසට විහිදී ගලා ශාන්ති නායක අමාමෑණී බුදුපියාණන් වහන්සේගේ නිර්මල සදහම් ගංගාවෙන් සියලු සිත් සතන් පහන් වූහ . අවිද්‍යාවෙන් අඳුරුව පැවැති මොහොතක අපේ රට අනුබුදු මිහිඳු මහ රහතන් වහන්සේගේ වැඩවීමෙන් සද්ධර්මාලෝකයෙන් ඒකාලෝක ලදී . කෘතෝපහාර දැක්වීම බොදුනුවාගේ දිවිපෙවෙතෙහි සුවිශේෂී ලක්ෂණයකි . අනුබුදු මිහිඳු මහ රහතන් වහන්සේ ඇතුළු රාජකීය දූත පිරිස සිරිලකට වැඩම ඓතිහාසික දිනය පොසොන් පුර පසළොස්වක දවසයි . එදා මිහින්තලාවට වැඩම අනුබුදු හිමියන් ප්‍රධාන දූත පිරිස සිහියට නැගෙත්ම අතීතයේ දුර්ග ගිරිදුර්ග තරණය කරමින් මුතුන් මිත්තන් මිහින්තලා පුද බිම දැක ගනිමින් වැඳ පුදා ගැනීමට පුරුදු අයුරු මතකයට නැගේ . මිහින්තලා පුදබිම වන්දනාවට පැමිණි සැදැහැවතුන්ගේද පහසුව සඳහා මිහින්තලා පුදබිම විදුලි බුබුලින් ඒකාලෝක කිරීමට මෙයට වසර පනස් පහකට පත්තර මහ ගෙදර කටයුතු යෙදූහ . අපේ රටේ පත්තර මහ ගෙදර විරුදාවලිය ලත් ලේක්හවුස් ආයතනය හෙවත් ලංකාවේ සීමාසහිත එක්සත් ප්‍රවෘත්ති පත්‍ර සමාගම මෙරට ජනතාවගේ නැණ පහන් දැල්වීමට කරනුයේ සුවිශේෂී මෙහෙවරකි . ඊට අමතරව ආගමික සාමාජික අගනා මෙහෙවර රැසක්ද කරනු ලැබේ . අද මෙන් විදුලි බලය ව්‍යාප්තව නොමැති යුගයක මිහින්තලා පුද බිම ඒකාලෝක ලද්දේ විදුලි ජෙනරේටර් උපකාරයෙනි . ලේක්හවුස් ආදි කර්තෘ ඩී.ආර් . විජයවර්ධන ශ්‍රී මතාණන්ගේ උදාර සංකල්පයක් ඵල දරමින් එතුමන්ගේ දයාබර පුතණුවන් එවකට ලේක්හවුස්් සභාපතිවරයා රංජිත් විජයවර්ධන මහතා විසින් අධ්‍යක්ෂ මණ්ඩලයේ සහායෙන් මිහින්තලා ලේක්හවුස් ආලෝක පූජාව ආරම්භ ලදී . මිහින්තලා රජ මහා විහාරාධිපතිව වැඩ විසූ වළවාහැංගුණ වැවේ ශ්‍රී රතනපාල රතනජෝති නා හිමියන්ගේ අනුශාසකත්වයෙන් ඇරැඹුණු මිහින්තලා ලේක්හවුස් ආලෝක පූජාව වසරෙන් වසර නැවුම් පියවර රැසක් තැබූහ . මිහින්තලා ලේක්හවුස් ආලෝක පූජාවේ අසිරිය රට පුරා පැතිරී යද්දී මිහින්තලා පුදබිමෙත් අවට ප්‍රදේශයේත් මෙහෙවර රැසක් ලේක්හවුස් ආයතනය මෙහෙයවීමෙන් කෙරිණි . ආලෝක පූජා පුණ්‍ය මහෝත්සවය වසරෙන් වසර නවතාවයෙන් අලංකාර . අපේ රටේ සතර පොහොයටම අඛණ්ඩව පළවන එකම බෞද්ධ පුවත්පතෙහි පළමු පිටපත මෙයට පනස් දෙවසරකටපෙර පිළැගැන් මිහින්තලා පුදබිමේ එවකට විහාරාධිපතිව වැඩ විසූ වළවාහැංගුණවැවේ ’ ශ්‍රී රතනපාල රතනජෝති නායක ස්වාමීන්ද්‍රයන් වහන්සේ වෙතය . විදුලි ජෙනරේටර් භාවිතයෙන් ඇරැඹුණු ලේක්හවුස් ආලෝක පූජා මහෝත්සවයට සමගාමීව 1978 වසරේ ලංකා විදුලි බල මණ්ඩලයේ සම අනුග්‍රහය ඊට ලැබුණි . මිහින්තලා ලේක්හවුස් ආලෝක පූජාව ක්‍රමවත්ව විධිමත්ව පවත්වාගෙන යාමට මිහින්තලා ආලෝක භාරය ඇරැඹුණු රතනජෝති නා හිමියන් වෙතින් ඊට අගනා සහායක් ලැබුණි . ලේක්හවුස් අනුග්‍රහයෙන් 1989 දහම් පාසල් පාසල් දරුවන් 125 දෙනෙකුගෙන් ඇරැඹුණු සීල සමාදාන පින්කම ව්‍යාප්ත දහසක් දරුවන් මහාභාරකාර දෙපාර්තමේන්තුව ලේක්හවුස් අනුග්‍රහයෙන් සිල් රෙදි පිරිනමා කෙරෙන සීල සමාදාන මහ පින්කමක් බවට පත් . දීප ව්‍යාප්ත රචනා තරගයක් උතුරු මැද පළාතේ පාසල් දහම් පාසල් දරුවන් ජාතික ඉතිරි කිරීමේ බැංකුව අනුග්‍රහයෙන් කථික තරගයක් බුදුසරණ පුවත්පත මෙහෙයවීමෙන් පැවැත්වේ . මිහින්තලා ලේක්හවුස් ආලෝක පූජාවට සමගාමීව මිහින්තලා කම්මලක්කුලම විද්‍යාලයට විද්‍යාගාරයක් පිරිනැමීමත් , ගම්මානයට විදුලි ආලෝකය ලබා දීමත් . 1992 මිහින්තලේ රෝහලට මාතෘ නිවාසයක් 1993 මිහින්තලා කනිටු විදුහලට දන්ත චිකිත්සාගාරයක් ලබාදීමත් 1994 කුරුන්දන්කුලම වඩු කාර්මික වෘත්තීය පුහුණු වැඩමුළුව ඇරඹීමද මිහින්තලා ආලෝක භාරයේ සුවිශේෂී මෙහෙවර . 1996 කටුපොත ගම්මානයේ පාසලක්ද ඇරැඹු මිහින්තලා මහා විද්‍යාලයට පරිගණක මධ්‍යස්ථානයක් පිහිටුවා පරිගණක පරිත්‍යාග විදුලි පහසුකම් සැපයීමට මිහින්තලා ආලෝක භාරය කැපවිය . ලංකා විදුලිබල මණ්ඩලය තාවකාලික විදුලිබල පද්ධතිය නවීකරණයෙන් පසුව භූගත විදුලිබල පද්ධතියක් මගින් මිහින්තලා පුදබිම ඒකාලෝක කිරීමට කටයුතු සැලසීය . මිහින්තලා පතිරාජ තෙන්නකෝන් ආදර්ශ ප්‍රාථමික විද්‍යාලයේ ළමා උද්‍යානය නවීකරණය කරවීමත් වසරේ මිහින්තලා රජ මහා විහාරස්ථ ඓතිහාසික උපෝෂථාගාරය මැලිබන් ආයතනය අනුග්‍රහයෙන් ඉදිකරවීමට ලේක්හවුස් ආයතනය මුල් . වර්තමාන මිහින්තලා රාජ මහා විහාරාධිපති භාරකාර වළවාහැංගුණවැවේ ධම්මරතන ස්වාමීන්ද්‍රයන් වහන්සේගේ කාරුණික මාර්ගෝපදේශකත්වය යටතේ වසරෙන් වසර නවතාවයෙන් මිහින්තලා ලේක්හවුස් ආලෝක පුජා මහෝත්සවය අත්‍යාලංකාරයෙන් පැවැත්වේ . ලංකාවේ සීමාසහිත එක්සත් ප්‍රවෘත්ති පත්‍ර සමාගමේ සභාපති කාවන් රත්නායක මහතා ප්‍රධාන අධ්‍යක්ෂ මණ්ඩලයේත් ආලෝක පූජාවට සම අනුග්‍රහය ලබාදෙන ලංකා විදුලිබල මණ්ඩලයේ වැඩබලන සභාපති ඩබ්ලිව්.බී . ගනේගල මහතා ඇතුළු අධ්‍යක්ෂ මණ්ඩලයේ සහායත් මහාභාරකාර දෙපාර්තමේන්තුව ශ්‍රී ලංකා රූපවාහිනී සංස්ථාවේ විද්‍යුත් මාධ්‍ය දායකත්වයද බෙහෙවින් අගයමු.මෛත්‍රීපාල සිරිසේන ජනාධිපතිතුමාගේ රනිල් වික්‍රමසිංහ අග්‍රාමාත්‍යතුමන්ගේ ප්‍රධානත්වයෙන් කෙරෙන මිහින්තලා ලේක්හවුස් ආලෝක පූජා මහෝත්සවය මෙවර දින පහක් පුරා පැවැත්වේ . අඩසිය වසරකුත් වසර පහක් පුරා ලේක්හවුස් ආයතනය මෙහෙයවීමෙන් මිහින්තලා ආලෝක පූජාවෙන් ලක්ෂ සංඛ්‍යාත සැදැහැවතුන්ගේ ශ්‍රද්ධාවත් ගෞරවයත් වර්ධනයට ඇත්තේ සුවිශේෂී මෙහෙවරකි . දැයේ නැණ පහන් දල්වමින් විවිධාකාරයෙන් සමාජ මෙහෙවරෙහි යෙදෙන ලේක්හවුස් ආයතනය ආදි කර්තෘ ඩී.ආර් . විජයවර්ධන ශ්‍රීමතාණන්ගේ අදහස් මල්ඵල ගන්වමින් සුවිශේෂී මෙහෙවරක නිරත . මිහින්තලා ලේක්හවුස් ආලෝක පූජාව ජුනි 07වනදා 11වනදා දක්වා මිහින්තලා පුදබිමේදී පස්වරු 6.00 පැවැත්වේ.ඩයලොග් , අබාන්ස් , ලංකා බැංකුව බැතිබර දායකත්වය සපයයි .']\n",
    "seq = tokenizer.texts_to_sequences(new_complaint)\n",
    "padded = pad_sequences(seq, maxlen=3000)\n",
    "pred = model.predict(padded)\n",
    "labels = ['Politics','Crime', 'Health', 'Entertainment', 'Bussiness', 'Religious' ,'Sports']\n",
    "print(pred, labels[np.argmax(pred)])"
   ]
  },
  {
   "cell_type": "code",
   "execution_count": null,
   "metadata": {},
   "outputs": [],
   "source": [
    "new_complaint = ['ප්‍රියංකා චොප්රා ගංගනා රනවුද් අතරෙ දවස්වල යුද්ධයක් යනවාලූ ක්‍රිශ් 3 අලූත්ම චිත්‍රපටිය එළි දක්වපුවාම ඒක බලන්න පුළුවන් හැබැයි දෙන්නා අතරෙ සැබෑ ජීවිතෙත් ගැටුම් තියෙනවා කියලයි ආරංචිය තියෙන්නේ']\n",
    "seq = tokenizer.texts_to_sequences(new_complaint)\n",
    "padded = pad_sequences(seq, maxlen=3000)\n",
    "pred = model.predict(padded)\n",
    "labels = ['Politics','Crime','Entertainment', 'Health', 'Bussiness', 'Religious' ,'Sports']\n",
    "print(pred, labels[np.argmax(pred)])"
   ]
  },
  {
   "cell_type": "code",
   "execution_count": null,
   "metadata": {},
   "outputs": [],
   "source": [
    "new_complaint = ['ඩොලරය ශක්තිමත් වීම ගෝලීය වෙළඳ යුද්ධය හේතුවෙන් ලෝක වෙළඳපොලේ රන් මිල තවදුරටත් පහළ මට්ටමක පවතින විශ්ලේෂකයන් පෙන්වා දෙනවා . නමුත් ඉන්දියානු වෙළඳපොලේ රන් කරුවන් වශයෙන් රන් මිලදීගැනීමත් මිලෙහි ප්‍රකෘතිමත්වීමක් සති අන්තය වනවිට දකින්නට ලැබුණා . රන් අවුන්සයක මිල වනවිට ඇමරිකානු ඩොලර් 1200 ඉක්මවා , අවුන්සයක් ඩොලර් 1365ක්ව පැවති පසුගිය අප්‍රේල් මාසය සසඳන සියයට 12ක පමණ පහත වැටීමක් සැළකිය හැකියි .']\n",
    "seq = tokenizer.texts_to_sequences(new_complaint)\n",
    "padded = pad_sequences(seq, maxlen=3000)\n",
    "pred = model.predict(padded)\n",
    "labels = ['Bussiness','Crime','Entertainment', 'Health', 'Politics', 'Religious' ,'Sports']\n",
    "print(pred, labels[np.argmax(pred)])"
   ]
  },
  {
   "cell_type": "code",
   "execution_count": null,
   "metadata": {},
   "outputs": [],
   "source": [
    "new_complaint = ['වර්ෂාවෙන් වගා හානිවූ දඹුල්ලේ ලොකු ළුෑණු ගොවීන්ට හෙක්ටයාරයක් සඳහා රුපියල් ලක්ෂය බැගින් කෘෂි රක්ෂණ වන්දි ලබාදීමට කෘෂිකර්ම අමාත්‍යාංශ්‍ය තීරණය තිබෙනවා . අමාත්‍යාංශය නිවේදනය යළ කන්නනයේදී වගා ආරම්භ කිරීමට ප්‍රමාදවීම හේතුවෙන් මෙලෙස ළුෑණු වගාවට වර්ෂාවෙන් හානි සිදුව . , අමුමිරිස් , ලොකුළුෑණු , අර්තාපල් , බඩඉරිඟු සෝයා බෝංචි වගා සඳහා වර්ෂාවෙන් , නියඟයෙන් අලීින්ගෙන් සිදුවන හානි හේතුවෙන් වන්දි ලබාදීමට රජය වනවිට රුපියල් මිලියන 5228 මුදලක් වෙන්කර තිබෙනවා .']\n",
    "seq = tokenizer.texts_to_sequences(new_complaint)\n",
    "padded = pad_sequences(seq, maxlen=3000)\n",
    "pred = model.predict(padded)\n",
    "labels = ['Bussiness','Crime','Entertainment', 'Health', 'Politics', 'Religious' ,'Sports']\n",
    "print(pred, labels[np.argmax(pred)])"
   ]
  },
  {
   "cell_type": "code",
   "execution_count": null,
   "metadata": {},
   "outputs": [],
   "source": [
    "new_complaint = ['පාස්කු ඉරිදා ප්‍රහාරයෙන් මෙරට බැඳුම්කර වෙළඳපොළෙන් විදේශීය ආයෝජන ඉවත් ගැනීම වේගවත් තිබෙනවා . පසුගිය සතිය පමණක් එලෙස ඉවත් ආයෝජනවල ශුද්ධ වටිනාකම ඇමරිකානු ඩොලර් මිලියන 20කට අධිකයි.ප්‍රහාරයට මෙරට ප්‍රාග්ධන වෙළදපොළ කෙරෙහි විදේශීය ආයෝජකයන්ගේ ධනාත්මක ආකර්ශනයක් වාර්තා . ඇමරිකානු ඩොලරයට සාපේක්ෂව රුපියලේ අගය ශක්තිමත් වෙමින් පැවති අවස්ථාවකයි ත්‍රස්ත ප්‍රහාරය එල්ල . ඩොලරයක විනිමය අනුපාතිකය රුපියල් 172 දක්වා පහත වැටුණු අනුපාතය නැවතත් ඩොලරට රුපියල් 177 ඉක්මවා තිබෙනවා .']\n",
    "seq = tokenizer.texts_to_sequences(new_complaint)\n",
    "padded = pad_sequences(seq, maxlen=3000)\n",
    "pred = model.predict(padded)\n",
    "labels = ['Bussiness','Crime','Entertainment', 'Health', 'Politics', 'Religious' ,'Sports']\n",
    "print(pred, labels[np.argmax(pred)])"
   ]
  },
  {
   "cell_type": "code",
   "execution_count": null,
   "metadata": {},
   "outputs": [],
   "source": [
    "new_complaint = ['ආණ්ඩුව එක්ව කටයුතු ශ්‍රි ලනිප මැති ඇමතිවරු ආණ්ඩුවෙන් වෙන්වුවද ඔවුන් එක්ව කටයුතු කිරීමට ඒකාබද්ධ විපක්ෂය සූදානම් නැතැයි මහනුවර දිස්ත්‍රික් එජනිස පාර්ලිමේන්තු මන්ත්‍රී දිලුම් අමුණුගම මහතා පවසයි . ආණ්ඩුවෙන් වෙන් වුවහොත් ඔවුන් කටයුතු කිරීමට ඒකාබද්ධ විපක්ෂය සූදානම් බවට අවස්ථා කිහිපයක ඔවුන්ට ප්‍රකාශ බවත් තව දුරටත් වලංගු ‍නොවන බවත් මහතා කීය . මහනුවර නුගවෙල පැවැති රැස්වීමක මන්ත්‍රීවරයා බැව් පැවසීය . මෙවරද මැයි රැලිය ඒකාබද්ධ විපක්ෂය වෙනමම පවත්වන බවද ශ්‍රි ලනිප මැයි රැලියට කිසිවකුත් සහභාගි නොවන බවද මන්ත්‍රීවරයා පැවසීය . පක්ෂය පවත්වන ඕනෑම විනය පරීක්ෂණයකට මුහුණ දීමට සූදානම් තමන් නියෝජනය කණ්ඩායම සිටිනුයේ ජන මතය සමග හෙතෙම කීය . ඕනෑම පරීක්ෂණයක් පැවැත්වුවට කමක් නැතැයි එයට ආණ්ඩුවේ සිටින ශ්‍රි.ල.නි.ප . පිරිස්ට පරීක්ෂණ පැවැත්විය යැයිද දිලුම් අමුණුගම මහතා වැඩිදුරටත් පැවසීය']\n",
    "seq = tokenizer.texts_to_sequences(new_complaint)\n",
    "padded = pad_sequences(seq, maxlen=3000)\n",
    "pred = model.predict(padded)\n",
    "labels = ['Bussiness','Crime','Entertainment', 'Health', 'Politics', 'Religious' ,'Sports']\n",
    "print(pred, labels[np.argmax(pred)])"
   ]
  },
  {
   "cell_type": "code",
   "execution_count": null,
   "metadata": {},
   "outputs": [],
   "source": [
    "new_complaint = ['මහින්ද මහත්තයා ශ්‍රීලනිපය පැරදවීමට උත්සහ කිරීම ගැන සතුටට පත්වන පාර්ලිමේන්තු මන්ත්‍රී එස්.එම්.මරික්කාර් මහතා පවසයි . ඔහු අදහස් පළ ලද්දේ කොළොන්නාව , කිත්තම්පහුව කැලණි නදී ක්‍රීඩා සමාජය සදහා රුපියල් 150,000 වටිනා ක්‍රීඩා භාණ්ඩ බෙදා දීමේ උත්සවකට එක්වෙමින්ය . එහිදී අදහස් දැක්වූ මන්ත්‍රීවරයා , '' මහින්ද මහත්තයා ශ්‍රී ලංකා නිදහස් පක්ෂය පරාද කරනවා කිව්වානම් අපිට සතුටුයි . එතකොට අපි අහනවා මහින්ද මහත්තයාගෙන් ඔබට සතුටුයිද දැන් කියලා . කොහොමත් දැන් ගමේ යූන්පී කාරයෝ නැගිටලා ඉන්නේ.ශ්‍රී ලංකා නිදහස් පක්ෂය කල්ලි වලට බෙදනකොට අපිට ඒක මැදින් ගිහිල්ලා දිනනවා . අපි ප්‍රාදේශීය දිනන එක නවත්වන්න බෑ කාටවත් . අනික් කරුණ තමයි අපි ආණ්ඩු බලය තියාගෙන තමයි ඡන්දයකට යන්නේ.කලින් අපි ආණ්ඩු බලය නැතිවනේ ඡන්දවලට ගියේ මහින්ද මහත්තයා ශ්‍රීලනිපය පැරදවීමට උත්සහ කිරීම අපට සතුටුයි . මහින්ද මහත්තයාට වෙලා තියෙන්නේ දේ පළ පළ දේ කියනවා වගේ වැඩක් වෙලා තියෙන්නේ . මොකද එතුමා ආණ්ඩු බලයේ ඉන්නකොට ලංකාවේ තියෙන හැම පක්ෂයක්ම කැඩුවා . යුන්පී , ජේවීපී , මුස්ලිම් කොංග්‍රසය , මෙන්ම තවත් පොඩි පොඩි පක්ෂ ගණනාවක් කැඩුවා . අන්න කරපුවායේ විපාක තමයි දැන් විදින්න වෙලා තියෙන්නේ . ']\n",
    "seq = tokenizer.texts_to_sequences(new_complaint)\n",
    "padded = pad_sequences(seq, maxlen=3000)\n",
    "pred = model.predict(padded)\n",
    "labels = ['Bussiness','Crime','Entertainment', 'Health', 'Politics', 'Religious' ,'Sports']\n",
    "print(pred, labels[np.argmax(pred)])"
   ]
  },
  {
   "cell_type": "code",
   "execution_count": null,
   "metadata": {},
   "outputs": [],
   "source": [
    "new_complaint = ['එංගලන්තය අතර පැවති දෙවැනි එක්දින තරඟයෙන් ශ්‍රී ලංකා කණ්ඩායම ඊයේ (01) කඩුලු 8ක පරාජයක් ලැබීය.තරඟය පැවතියේ ලන්ඩන් ඕවල් ක්‍රීඩාංගණයේ දීය. තරඟයේ පළමුව පන්දුවට පහරදුන් සංචාරක ශ්‍රී ලංකා කණ්ඩායම කඩුලු 9ක් දැවී ලකුණු 241ක් රැස්කළ අතර සත්කාරක එංගලන්ත කණ්ඩායම කඩුලු 2ක් පමණක් දැවී ජයග්‍රහණය ට අවශ්‍ය ලකුණු ප්‍රමාණය ලබාගත්තේය.එය ශ්‍රී ලංකා කණ්ඩායම එක්දින ජාත්‍යන්තර තරඟ 8කදී ලැබූ 7වැනි පරාජය වේ.මෙම පරාජයත් සමග නව ලෝක වාර්තාවක් ශ්‍රී ලංකා කණ්ඩායම සතු විය. ඒ එක්දින ජාත්‍යන්තර ඉතිහාසයේ වැඩිම පරාජයන් ගණනක් වාර්තා කළ කණ්ඩායම බවට පත්වෙමිනි.ඒ අනුව මේ දක්වා ශ්‍රී ලංකා කණ්ඩායම එක්දින ජාත්‍යන්තර තරඟ 860කදී තරඟ 428ක් පරාජය වී තිබේ. මීට පෙර එම වාර්තාව සතුව සිටි ඉන්දීය කණ්ඩායම තරඟ 993කදී පරාජය වූ තරඟ ගණන 427කි.']\n",
    "seq = tokenizer.texts_to_sequences(new_complaint)\n",
    "padded = pad_sequences(seq, maxlen=3000)\n",
    "pred = model.predict(padded)\n",
    "labels = ['Bussiness','Crime','Entertainment', 'Health', 'Politics', 'Religious' ,'Sports']\n",
    "print(pred, labels[np.argmax(pred)])"
   ]
  },
  {
   "cell_type": "code",
   "execution_count": null,
   "metadata": {},
   "outputs": [],
   "source": [
    "new_complaint = ['පළමු එක්දින තරග දෙකම පහසුවෙන් ජයගත් එංගලන්ත කණ්ඩායම තරගාවලියේ ජයග්‍රහණය මේ වනවිටත් හිමිකර ගෙන තිබේ.දෙරට අතර පැවැති 20 – 20 ක්‍රිකට් තරගාවලිය ද තරග 3-0ක් ලෙස පුර්ණ තරගාවලි ජයක් හිමිකර ගැනීමට එංගලන්ත කණ්ඩායම සමත් විය']\n",
    "seq = tokenizer.texts_to_sequences(new_complaint)\n",
    "padded = pad_sequences(seq, maxlen=3000)\n",
    "pred = model.predict(padded)\n",
    "labels = ['Bussiness','Crime','Entertainment', 'Health', 'Politics', 'Religious' ,'Sports']\n",
    "print(pred, labels[np.argmax(pred)])"
   ]
  },
  {
   "cell_type": "code",
   "execution_count": 59,
   "metadata": {},
   "outputs": [
    {
     "name": "stdout",
     "output_type": "stream",
     "text": [
      "[[9.5644534e-01 9.4861630e-04 4.1050846e-03 4.6018804e-03 7.0065010e-04\n",
      "  1.1168986e-03 3.2081589e-02]] Bussiness\n"
     ]
    }
   ],
   "source": [
    "new_complaint = ['තොරතුරු හා සන්නිවේදන තාක්ෂණය, අධ්‍යාපනය, ඇඟලුම් ආහාර ඇතුළු විවිධ අංශ සමග ජපානයේ සහයෝගිතාව වර්ධනය කර ගැනීම සදහා වු වෙබිනාර් සාකච්ඡාවක් ඉකුත් දා පැවැත්විණ. ජපානයේ ශ්‍රී ලංකා තානාපති කාර්යාලය ජපානය වෙත කෙරෙන අපනයනය සහ ශ්‍රී ලංකාවේ ආයෝජනය ඉහළ නැංවීම සඳහා, ජපාන ආයෝජකයින් 220 කට අධික සංඛ්‍යාවකගේ සහභාගීත්වයෙන් යුතුව පැවති මෙම වෙබිනාර් සාකච්ඡාවට ශ්‍රී ලංකා ආයෝජන සංසදයේ…']\n",
    "seq = tokenizer.texts_to_sequences(new_complaint)\n",
    "padded = pad_sequences(seq, maxlen=3000)\n",
    "pred = model.predict(padded)\n",
    "labels = ['Bussiness','Crime','Entertainment', 'Health', 'Politics', 'Religious' ,'Sports']\n",
    "print(pred, labels[np.argmax(pred)])"
   ]
  },
  {
   "cell_type": "code",
   "execution_count": 45,
   "metadata": {},
   "outputs": [
    {
     "name": "stdout",
     "output_type": "stream",
     "text": [
      "[[0.05046348 0.00634853 0.18572354 0.7355953  0.00551641 0.00341518\n",
      "  0.01293758]] Entertainment\n"
     ]
    }
   ],
   "source": [
    "new_complaint = ['\"අපි රාජගිරියේ වෙනත් තැනක තවත් වාට්ටු දෙකක් විවෘත කරන්නට මේ වන විට කටයුතු කරලා තියෙනවා. අද උදේ වන විට ළමුන් 150ක් පමණ රිජ්වේ ආර්යා ළමා රෝහලේ සහ ඉන් පාලනය වන අනෙකුත් වාට්ටු දෙකේ ප්‍රතිකාර ලබනවා. එපමණක් නෙවෙයි. පසුගිය සතිය පුරා සියලු රෝහල්වල ළමා වාට්ටු කොරෝනා රෝගීන්ගෙන් පිරිලා ගියා. සංඛ්‍යා ලේඛන ගත්තොත් මේ වන විට කොරෝනා ආසාදිත ළමුන් 45,000ක් ලංකාවේ වාර්තා වෙලා තියෙනවා. එයින් 20,000ක් පමණ වයස අවුරුදු 10ට අඩු ළමුන්. එයින් 14ක් මියගොස් තිබෙනවා. රිජ්වේ ආර්යා රෝහලේ දැඩි සත්කාර ඒකකයේ පමණක් පසුගිය වසර පුරා කොරෝනා සම්බන්ධ රෝගවලින් මියගියා.\"']\n",
    "seq = tokenizer.texts_to_sequences(new_complaint)\n",
    "padded = pad_sequences(seq, maxlen=3000)\n",
    "pred = model.predict(padded)\n",
    "labels = ['Sports', 'Crime', 'Health', 'Entertainment', 'Bussiness', 'Religious', 'Politics']\n",
    "print(pred, labels[np.argmax(pred)])"
   ]
  },
  {
   "cell_type": "code",
   "execution_count": null,
   "metadata": {},
   "outputs": [],
   "source": []
  }
 ],
 "metadata": {
  "kernelspec": {
   "display_name": "Python 3 (ipykernel)",
   "language": "python",
   "name": "python3"
  },
  "language_info": {
   "codemirror_mode": {
    "name": "ipython",
    "version": 3
   },
   "file_extension": ".py",
   "mimetype": "text/x-python",
   "name": "python",
   "nbconvert_exporter": "python",
   "pygments_lexer": "ipython3",
   "version": "3.8.11"
  }
 },
 "nbformat": 4,
 "nbformat_minor": 2
}
