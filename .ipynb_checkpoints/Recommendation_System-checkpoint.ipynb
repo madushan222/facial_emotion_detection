{
 "cells": [
  {
   "cell_type": "code",
   "execution_count": 1,
   "metadata": {
    "executionInfo": {
     "elapsed": 6,
     "status": "ok",
     "timestamp": 1631273834412,
     "user": {
      "displayName": "Fighting",
      "photoUrl": "https://lh3.googleusercontent.com/a-/AOh14GgyjmB7WNJgSQOE0Te2JHfuvxzMXMjblBryL0x6pA=s64",
      "userId": "11759946499048900849"
     },
     "user_tz": -330
    },
    "id": "wI1PzRGdOwe9"
   },
   "outputs": [],
   "source": [
    " \n",
    "import numpy as np # linear algebra\n",
    "import pandas as pd # data processing, CSV file I/O (e.g. pd.read_csv)\n",
    "\n",
    " \n",
    "import os\n",
    "for dirname, _, filenames in os.walk('/kaggle/input'):\n",
    "    for filename in filenames:\n",
    "        print(os.path.join(dirname, filename))\n",
    " "
   ]
  },
  {
   "cell_type": "code",
   "execution_count": 2,
   "metadata": {
    "executionInfo": {
     "elapsed": 4,
     "status": "ok",
     "timestamp": 1631273834412,
     "user": {
      "displayName": "Fighting",
      "photoUrl": "https://lh3.googleusercontent.com/a-/AOh14GgyjmB7WNJgSQOE0Te2JHfuvxzMXMjblBryL0x6pA=s64",
      "userId": "11759946499048900849"
     },
     "user_tz": -330
    },
    "id": "IUSciaNUOwhQ"
   },
   "outputs": [],
   "source": [
    "import numpy as np \n",
    "import pandas as pd \n",
    "import matplotlib.pyplot as plt"
   ]
  },
  {
   "cell_type": "code",
   "execution_count": 5,
   "metadata": {
    "colab": {
     "base_uri": "https://localhost:8080/"
    },
    "executionInfo": {
     "elapsed": 28432,
     "status": "ok",
     "timestamp": 1631273915196,
     "user": {
      "displayName": "Fighting",
      "photoUrl": "https://lh3.googleusercontent.com/a-/AOh14GgyjmB7WNJgSQOE0Te2JHfuvxzMXMjblBryL0x6pA=s64",
      "userId": "11759946499048900849"
     },
     "user_tz": -330
    },
    "id": "TxNSSlvcOwj1",
    "outputId": "625b7d08-89c2-4138-937c-ee787c4adcc9"
   },
   "outputs": [
    {
     "name": "stdout",
     "output_type": "stream",
     "text": [
      "Mounted at /content/drive\n"
     ]
    }
   ],
   "source": [
    "from google.colab import drive\n",
    "drive.mount('/content/drive') "
   ]
  },
  {
   "cell_type": "code",
   "execution_count": 6,
   "metadata": {
    "executionInfo": {
     "elapsed": 786,
     "status": "ok",
     "timestamp": 1631273915980,
     "user": {
      "displayName": "Fighting",
      "photoUrl": "https://lh3.googleusercontent.com/a-/AOh14GgyjmB7WNJgSQOE0Te2JHfuvxzMXMjblBryL0x6pA=s64",
      "userId": "11759946499048900849"
     },
     "user_tz": -330
    },
    "id": "AX4nG8Q8OwmN"
   },
   "outputs": [],
   "source": [
    "data = pd.read_csv('/content/drive/MyDrive/Colab Notebooks/news pp2/NewsDataNew.csv')"
   ]
  },
  {
   "cell_type": "code",
   "execution_count": 7,
   "metadata": {
    "colab": {
     "base_uri": "https://localhost:8080/"
    },
    "executionInfo": {
     "elapsed": 554,
     "status": "ok",
     "timestamp": 1631273924279,
     "user": {
      "displayName": "Fighting",
      "photoUrl": "https://lh3.googleusercontent.com/a-/AOh14GgyjmB7WNJgSQOE0Te2JHfuvxzMXMjblBryL0x6pA=s64",
      "userId": "11759946499048900849"
     },
     "user_tz": -330
    },
    "id": "RBLiaje6Owpn",
    "outputId": "fbb200fd-a3b3-4f80-f876-66e45a8c78cc"
   },
   "outputs": [
    {
     "data": {
      "text/plain": [
       "(864, 6)"
      ]
     },
     "execution_count": 7,
     "metadata": {},
     "output_type": "execute_result"
    }
   ],
   "source": [
    "data.shape"
   ]
  },
  {
   "cell_type": "code",
   "execution_count": 8,
   "metadata": {
    "colab": {
     "base_uri": "https://localhost:8080/",
     "height": 204
    },
    "executionInfo": {
     "elapsed": 4,
     "status": "ok",
     "timestamp": 1631273924869,
     "user": {
      "displayName": "Fighting",
      "photoUrl": "https://lh3.googleusercontent.com/a-/AOh14GgyjmB7WNJgSQOE0Te2JHfuvxzMXMjblBryL0x6pA=s64",
      "userId": "11759946499048900849"
     },
     "user_tz": -330
    },
    "id": "89KGvDW-QBCT",
    "outputId": "047c1d9a-e63c-4438-eabf-72f39de6923a"
   },
   "outputs": [
    {
     "data": {
      "text/html": [
       "<div>\n",
       "<style scoped>\n",
       "    .dataframe tbody tr th:only-of-type {\n",
       "        vertical-align: middle;\n",
       "    }\n",
       "\n",
       "    .dataframe tbody tr th {\n",
       "        vertical-align: top;\n",
       "    }\n",
       "\n",
       "    .dataframe thead th {\n",
       "        text-align: right;\n",
       "    }\n",
       "</style>\n",
       "<table border=\"1\" class=\"dataframe\">\n",
       "  <thead>\n",
       "    <tr style=\"text-align: right;\">\n",
       "      <th></th>\n",
       "      <th>ID</th>\n",
       "      <th>text</th>\n",
       "      <th>title</th>\n",
       "      <th>date</th>\n",
       "      <th>Category</th>\n",
       "      <th>Views</th>\n",
       "    </tr>\n",
       "  </thead>\n",
       "  <tbody>\n",
       "    <tr>\n",
       "      <th>0</th>\n",
       "      <td>1.0</td>\n",
       "      <td>අද (24) අලුයම 6.00 සිට ක්‍රියාත්මක වන පරිදි තව...</td>\n",
       "      <td>දිස්ත්‍රික්ක 3ක ප්‍රදේශ කිහිපයක් හුදකලා කෙරේ</td>\n",
       "      <td>23-Jun-21</td>\n",
       "      <td>Local News</td>\n",
       "      <td>720.0</td>\n",
       "    </tr>\n",
       "    <tr>\n",
       "      <th>1</th>\n",
       "      <td>2.0</td>\n",
       "      <td>බුස්ස අධිආරක්ෂිත බන්ධනාගාරයේ රඳවා ඇති \"විශේෂ ඝ...</td>\n",
       "      <td>විශේෂ ඝනයේ සැකකරුවන්ට පොසොන් පොහොයට සිල් සමාදන...</td>\n",
       "      <td>23-Jun-21</td>\n",
       "      <td>Local News</td>\n",
       "      <td>250.0</td>\n",
       "    </tr>\n",
       "    <tr>\n",
       "      <th>2</th>\n",
       "      <td>3.0</td>\n",
       "      <td>අද (23) තවත් කොවිඩ් ආසාදිතයින්  820 දෙනෙකු අලු...</td>\n",
       "      <td>ආසාදිතයින් 2,205 ක්</td>\n",
       "      <td>23-Jun-21</td>\n",
       "      <td>Local News</td>\n",
       "      <td>460.0</td>\n",
       "    </tr>\n",
       "    <tr>\n",
       "      <th>3</th>\n",
       "      <td>4.0</td>\n",
       "      <td>ප්‍රවීණ නර්තන ආචාර්ය කුලසිරි බුදවත්ත මහතා අභාව...</td>\n",
       "      <td>ප්‍රවීණ නර්නත ශිල්පී කුලසිරි බුදවත්ත අභාවප්‍රා...</td>\n",
       "      <td>24-Jun-21</td>\n",
       "      <td>Local News</td>\n",
       "      <td>520.0</td>\n",
       "    </tr>\n",
       "    <tr>\n",
       "      <th>4</th>\n",
       "      <td>5.0</td>\n",
       "      <td>කොවිඩ් වසංගතය මධ්‍යයේ වුවද පසුගිය වසරට සාපේක්ෂ...</td>\n",
       "      <td>අපනයන ආදායමේ සියයට 33ක වර්ධනයක්</td>\n",
       "      <td>23-Jun-21</td>\n",
       "      <td>Local News</td>\n",
       "      <td>960.0</td>\n",
       "    </tr>\n",
       "  </tbody>\n",
       "</table>\n",
       "</div>"
      ],
      "text/plain": [
       "    ID                                               text  ...    Category  Views\n",
       "0  1.0  අද (24) අලුයම 6.00 සිට ක්‍රියාත්මක වන පරිදි තව...  ...  Local News  720.0\n",
       "1  2.0  බුස්ස අධිආරක්ෂිත බන්ධනාගාරයේ රඳවා ඇති \"විශේෂ ඝ...  ...  Local News  250.0\n",
       "2  3.0  අද (23) තවත් කොවිඩ් ආසාදිතයින්  820 දෙනෙකු අලු...  ...  Local News  460.0\n",
       "3  4.0  ප්‍රවීණ නර්තන ආචාර්ය කුලසිරි බුදවත්ත මහතා අභාව...  ...  Local News  520.0\n",
       "4  5.0  කොවිඩ් වසංගතය මධ්‍යයේ වුවද පසුගිය වසරට සාපේක්ෂ...  ...  Local News  960.0\n",
       "\n",
       "[5 rows x 6 columns]"
      ]
     },
     "execution_count": 8,
     "metadata": {},
     "output_type": "execute_result"
    }
   ],
   "source": [
    "data.head()"
   ]
  },
  {
   "cell_type": "code",
   "execution_count": 9,
   "metadata": {
    "executionInfo": {
     "elapsed": 3,
     "status": "ok",
     "timestamp": 1631273926672,
     "user": {
      "displayName": "Fighting",
      "photoUrl": "https://lh3.googleusercontent.com/a-/AOh14GgyjmB7WNJgSQOE0Te2JHfuvxzMXMjblBryL0x6pA=s64",
      "userId": "11759946499048900849"
     },
     "user_tz": -330
    },
    "id": "ldO58iRnQBEI"
   },
   "outputs": [],
   "source": [
    " data = data.drop_duplicates(subset=None, keep='first', inplace=False)"
   ]
  },
  {
   "cell_type": "code",
   "execution_count": 10,
   "metadata": {
    "colab": {
     "base_uri": "https://localhost:8080/"
    },
    "executionInfo": {
     "elapsed": 681,
     "status": "ok",
     "timestamp": 1631273928234,
     "user": {
      "displayName": "Fighting",
      "photoUrl": "https://lh3.googleusercontent.com/a-/AOh14GgyjmB7WNJgSQOE0Te2JHfuvxzMXMjblBryL0x6pA=s64",
      "userId": "11759946499048900849"
     },
     "user_tz": -330
    },
    "id": "iHLFhF2qQBHx",
    "outputId": "4e4caac5-3154-4964-ab66-b1cb9f88ae49"
   },
   "outputs": [
    {
     "data": {
      "text/plain": [
       "(790, 6)"
      ]
     },
     "execution_count": 10,
     "metadata": {},
     "output_type": "execute_result"
    }
   ],
   "source": [
    "data.shape  "
   ]
  },
  {
   "cell_type": "code",
   "execution_count": 11,
   "metadata": {
    "colab": {
     "base_uri": "https://localhost:8080/",
     "height": 419
    },
    "executionInfo": {
     "elapsed": 6,
     "status": "ok",
     "timestamp": 1631273928659,
     "user": {
      "displayName": "Fighting",
      "photoUrl": "https://lh3.googleusercontent.com/a-/AOh14GgyjmB7WNJgSQOE0Te2JHfuvxzMXMjblBryL0x6pA=s64",
      "userId": "11759946499048900849"
     },
     "user_tz": -330
    },
    "id": "01S9L2qRQR7B",
    "outputId": "80d4479a-1fe1-490b-a363-0372d37938c1"
   },
   "outputs": [
    {
     "data": {
      "text/html": [
       "<div>\n",
       "<style scoped>\n",
       "    .dataframe tbody tr th:only-of-type {\n",
       "        vertical-align: middle;\n",
       "    }\n",
       "\n",
       "    .dataframe tbody tr th {\n",
       "        vertical-align: top;\n",
       "    }\n",
       "\n",
       "    .dataframe thead th {\n",
       "        text-align: right;\n",
       "    }\n",
       "</style>\n",
       "<table border=\"1\" class=\"dataframe\">\n",
       "  <thead>\n",
       "    <tr style=\"text-align: right;\">\n",
       "      <th></th>\n",
       "      <th>id</th>\n",
       "      <th>ID</th>\n",
       "      <th>text</th>\n",
       "      <th>title</th>\n",
       "      <th>date</th>\n",
       "      <th>Category</th>\n",
       "      <th>Views</th>\n",
       "    </tr>\n",
       "  </thead>\n",
       "  <tbody>\n",
       "    <tr>\n",
       "      <th>0</th>\n",
       "      <td>0</td>\n",
       "      <td>1.0</td>\n",
       "      <td>අද (24) අලුයම 6.00 සිට ක්‍රියාත්මක වන පරිදි තව...</td>\n",
       "      <td>දිස්ත්‍රික්ක 3ක ප්‍රදේශ කිහිපයක් හුදකලා කෙරේ</td>\n",
       "      <td>23-Jun-21</td>\n",
       "      <td>Local News</td>\n",
       "      <td>720.0</td>\n",
       "    </tr>\n",
       "    <tr>\n",
       "      <th>1</th>\n",
       "      <td>1</td>\n",
       "      <td>2.0</td>\n",
       "      <td>බුස්ස අධිආරක්ෂිත බන්ධනාගාරයේ රඳවා ඇති \"විශේෂ ඝ...</td>\n",
       "      <td>විශේෂ ඝනයේ සැකකරුවන්ට පොසොන් පොහොයට සිල් සමාදන...</td>\n",
       "      <td>23-Jun-21</td>\n",
       "      <td>Local News</td>\n",
       "      <td>250.0</td>\n",
       "    </tr>\n",
       "    <tr>\n",
       "      <th>2</th>\n",
       "      <td>2</td>\n",
       "      <td>3.0</td>\n",
       "      <td>අද (23) තවත් කොවිඩ් ආසාදිතයින්  820 දෙනෙකු අලු...</td>\n",
       "      <td>ආසාදිතයින් 2,205 ක්</td>\n",
       "      <td>23-Jun-21</td>\n",
       "      <td>Local News</td>\n",
       "      <td>460.0</td>\n",
       "    </tr>\n",
       "    <tr>\n",
       "      <th>3</th>\n",
       "      <td>3</td>\n",
       "      <td>4.0</td>\n",
       "      <td>ප්‍රවීණ නර්තන ආචාර්ය කුලසිරි බුදවත්ත මහතා අභාව...</td>\n",
       "      <td>ප්‍රවීණ නර්නත ශිල්පී කුලසිරි බුදවත්ත අභාවප්‍රා...</td>\n",
       "      <td>24-Jun-21</td>\n",
       "      <td>Local News</td>\n",
       "      <td>520.0</td>\n",
       "    </tr>\n",
       "    <tr>\n",
       "      <th>4</th>\n",
       "      <td>4</td>\n",
       "      <td>5.0</td>\n",
       "      <td>කොවිඩ් වසංගතය මධ්‍යයේ වුවද පසුගිය වසරට සාපේක්ෂ...</td>\n",
       "      <td>අපනයන ආදායමේ සියයට 33ක වර්ධනයක්</td>\n",
       "      <td>23-Jun-21</td>\n",
       "      <td>Local News</td>\n",
       "      <td>960.0</td>\n",
       "    </tr>\n",
       "    <tr>\n",
       "      <th>...</th>\n",
       "      <td>...</td>\n",
       "      <td>...</td>\n",
       "      <td>...</td>\n",
       "      <td>...</td>\n",
       "      <td>...</td>\n",
       "      <td>...</td>\n",
       "      <td>...</td>\n",
       "    </tr>\n",
       "    <tr>\n",
       "      <th>785</th>\n",
       "      <td>785</td>\n",
       "      <td>787.0</td>\n",
       "      <td>කෝටිපති ව්‍යාපාරික මුකේෂ් අම්බානිගේ නිවසේ පැවත...</td>\n",
       "      <td>කෝටිපති ව්‍යාපාරික මුකේෂ් අම්බානිගේ නිවසේ පැවත...</td>\n",
       "      <td>27-Aug-21</td>\n",
       "      <td>Entertainment News</td>\n",
       "      <td>675.0</td>\n",
       "    </tr>\n",
       "    <tr>\n",
       "      <th>786</th>\n",
       "      <td>786</td>\n",
       "      <td>788.0</td>\n",
       "      <td>ෂාරුක් ඛාන් යළි පාසල් යයි</td>\n",
       "      <td>ෂාරුක් ඛාන් යළි පාසල් යයි</td>\n",
       "      <td>27-Aug-21</td>\n",
       "      <td>Entertainment News</td>\n",
       "      <td>785.0</td>\n",
       "    </tr>\n",
       "    <tr>\n",
       "      <th>787</th>\n",
       "      <td>787</td>\n",
       "      <td>789.0</td>\n",
       "      <td>ජනකාන්ත ජනප්‍රිය කලා තරු රැසක් පායන හිරු සිහින...</td>\n",
       "      <td>ජනකාන්ත ජනප්‍රිය කලා තරු රැසක් පායන හිරු සිහින...</td>\n",
       "      <td>27-Aug-21</td>\n",
       "      <td>Entertainment News</td>\n",
       "      <td>123.0</td>\n",
       "    </tr>\n",
       "    <tr>\n",
       "      <th>788</th>\n",
       "      <td>788</td>\n",
       "      <td>790.0</td>\n",
       "      <td>සැමියා සමඟ ඩුබායි ගිය සනී</td>\n",
       "      <td>සැමියා සමඟ ඩුබායි ගිය සනී</td>\n",
       "      <td>27-Aug-21</td>\n",
       "      <td>Entertainment News</td>\n",
       "      <td>657.0</td>\n",
       "    </tr>\n",
       "    <tr>\n",
       "      <th>789</th>\n",
       "      <td>789</td>\n",
       "      <td>NaN</td>\n",
       "      <td>NaN</td>\n",
       "      <td>NaN</td>\n",
       "      <td>NaN</td>\n",
       "      <td>NaN</td>\n",
       "      <td>NaN</td>\n",
       "    </tr>\n",
       "  </tbody>\n",
       "</table>\n",
       "<p>790 rows × 7 columns</p>\n",
       "</div>"
      ],
      "text/plain": [
       "      id     ID  ...            Category  Views\n",
       "0      0    1.0  ...          Local News  720.0\n",
       "1      1    2.0  ...          Local News  250.0\n",
       "2      2    3.0  ...          Local News  460.0\n",
       "3      3    4.0  ...          Local News  520.0\n",
       "4      4    5.0  ...          Local News  960.0\n",
       "..   ...    ...  ...                 ...    ...\n",
       "785  785  787.0  ...  Entertainment News  675.0\n",
       "786  786  788.0  ...  Entertainment News  785.0\n",
       "787  787  789.0  ...  Entertainment News  123.0\n",
       "788  788  790.0  ...  Entertainment News  657.0\n",
       "789  789    NaN  ...                 NaN    NaN\n",
       "\n",
       "[790 rows x 7 columns]"
      ]
     },
     "execution_count": 11,
     "metadata": {},
     "output_type": "execute_result"
    }
   ],
   "source": [
    "data.insert(0,'id',range(0,data.shape[0]))\n",
    "data"
   ]
  },
  {
   "cell_type": "code",
   "execution_count": 12,
   "metadata": {
    "executionInfo": {
     "elapsed": 1233,
     "status": "ok",
     "timestamp": 1631273936345,
     "user": {
      "displayName": "Fighting",
      "photoUrl": "https://lh3.googleusercontent.com/a-/AOh14GgyjmB7WNJgSQOE0Te2JHfuvxzMXMjblBryL0x6pA=s64",
      "userId": "11759946499048900849"
     },
     "user_tz": -330
    },
    "id": "ny6qvRFbPzLj"
   },
   "outputs": [],
   "source": [
    "import plotly.express as px"
   ]
  },
  {
   "cell_type": "code",
   "execution_count": 13,
   "metadata": {
    "colab": {
     "base_uri": "https://localhost:8080/",
     "height": 542
    },
    "executionInfo": {
     "elapsed": 817,
     "status": "ok",
     "timestamp": 1631273937907,
     "user": {
      "displayName": "Fighting",
      "photoUrl": "https://lh3.googleusercontent.com/a-/AOh14GgyjmB7WNJgSQOE0Te2JHfuvxzMXMjblBryL0x6pA=s64",
      "userId": "11759946499048900849"
     },
     "user_tz": -330
    },
    "id": "tUuTcS7aTZ5Y",
    "outputId": "ace928c2-8729-4ed0-c51b-596c3d26bf6f"
   },
   "outputs": [
    {
     "data": {
      "text/html": [
       "<html>\n",
       "<head><meta charset=\"utf-8\" /></head>\n",
       "<body>\n",
       "    <div>\n",
       "            <script src=\"https://cdnjs.cloudflare.com/ajax/libs/mathjax/2.7.5/MathJax.js?config=TeX-AMS-MML_SVG\"></script><script type=\"text/javascript\">if (window.MathJax) {MathJax.Hub.Config({SVG: {font: \"STIX-Web\"}});}</script>\n",
       "                <script type=\"text/javascript\">window.PlotlyConfig = {MathJaxConfig: 'local'};</script>\n",
       "        <script src=\"https://cdn.plot.ly/plotly-latest.min.js\"></script>    \n",
       "            <div id=\"e8a8b2cb-3bdd-4847-a8b2-68c783b214b1\" class=\"plotly-graph-div\" style=\"height:525px; width:100%;\"></div>\n",
       "            <script type=\"text/javascript\">\n",
       "                \n",
       "                    window.PLOTLYENV=window.PLOTLYENV || {};\n",
       "                    \n",
       "                if (document.getElementById(\"e8a8b2cb-3bdd-4847-a8b2-68c783b214b1\")) {\n",
       "                    Plotly.newPlot(\n",
       "                        'e8a8b2cb-3bdd-4847-a8b2-68c783b214b1',\n",
       "                        [{\"alignmentgroup\": \"True\", \"bingroup\": \"x\", \"hoverlabel\": {\"namelength\": 0}, \"hovertemplate\": \"Category=%{x}<br>count of Views=%{y}\", \"legendgroup\": \"\", \"marker\": {\"color\": \"#636efa\"}, \"name\": \"\", \"offsetgroup\": \"\", \"orientation\": \"v\", \"showlegend\": false, \"type\": \"histogram\", \"x\": [\"Local News\", \"Local News\", \"Local News\", \"Local News\", \"Local News\", \"Local News\", \"Local News\", \"Local News\", \"Local News\", \"Local News\", \"Local News\", \"Local News\", \"Local News\", \"Local News\", \"Local News\", \"Local News\", \"Local News\", \"Local News\", \"Local News\", \"Local News\", \"Local News\", \"Local News\", \"Local News\", \"Local News\", \"Local News\", \"Local News\", \"Local News\", \"Local News\", \"Local News\", \"Local News\", \"Local News\", \"Local News\", \"Local News\", \"Local News\", \"Local News\", \"Local News\", \"Local News\", \"Local News\", \"Local News\", \"Local News\", \"Local News\", \"Local News\", \"Local News\", \"Local News\", \"Local News\", \"Local News\", \"Local News\", \"Sports News\", \"Sports News\", \"Sports News\", \"Sports News\", \"Sports News\", \"Sports News\", \"Sports News\", \"Sports News\", \"Sports News\", \"Sports News\", \"Sports News\", \"Sports News\", \"Sports News\", \"Sports News\", \"Sports News\", \"Sports News\", \"Sports News\", \"Sports News\", \"Sports News\", \"Sports News\", \"Sports News\", \"Sports News\", \"Sports News\", \"Sports News\", \"Sports News\", \"Sports News\", \"Sports News\", \"Sports News\", \"Sports News\", \"Sports News\", \"Sports News\", \"Sports News\", \"Sports News\", \"Sports News\", \"Sports News\", \"Sports News\", \"Sports News\", \"Sports News\", \"Sports News\", \"Sports News\", \"Sports News\", \"Sports News\", \"Sports News\", \"Sports News\", \"Sports News\", \"Sports News\", \"Sports News\", \"Sports News\", \"Sports News\", \"Sports News\", \"Foreign News\", \"Foreign News\", \"Foreign News\", \"Foreign News\", \"Foreign News\", \"Foreign News\", \"Foreign News\", \"Foreign News\", \"Foreign News\", \"Foreign News\", \"Foreign News\", \"Foreign News\", \"Foreign News\", \"Foreign News\", \"Foreign News\", \"Foreign News\", \"Foreign News\", \"Foreign News\", \"Foreign News\", \"Foreign News\", \"Foreign News\", \"Foreign News\", \"Foreign News\", \"Foreign News\", \"Foreign News\", \"Foreign News\", \"Foreign News\", \"Foreign News\", \"Foreign News\", \"Foreign News\", \"Foreign News\", \"Foreign News\", \"Foreign News\", \"Foreign News\", \"Foreign News\", \"Foreign News\", \"Foreign News\", \"Foreign News\", \"Foreign News\", \"Foreign News\", \"Foreign News\", \"Foreign News\", \"Foreign News\", \"Foreign News\", \"Foreign News\", \"Foreign News\", \"Foreign News\", \"Foreign News\", \"Foreign News\", \"Foreign News\", \"Local News\", \"Local News\", \"Local News\", \"Local News\", \"Local News\", \"Local News\", \"Local News\", \"Local News\", \"Local News\", \"Local News\", \"Local News\", \"Local News\", \"Local News\", \"Local News\", \"Local News\", \"Local News\", \"Local News\", \"Local News\", \"Local News\", \"Local News\", \"Local News\", \"Local News\", \"Local News\", \"Local News\", \"Local News\", \"Local News\", \"Local News\", \"Local News\", \"Local News\", \"Local News\", \"Local News\", \"Local News\", \"Local News\", \"Local News\", \"Local News\", \"Local News\", \"Local News\", \"Local News\", \"Local News\", \"Local News\", \"Local News\", \"Local News\", \"Local News\", \"Local News\", \"Local News\", \"Local News\", \"Local News\", \"Local News\", \"Local News\", \"Local News\", \"Sports News\", \"Sports News\", \"Sports News\", \"Sports News\", \"Sports News\", \"Sports News\", \"Sports News\", \"Sports News\", \"Sports News\", \"Sports News\", \"Sports News\", \"Sports News\", \"Sports News\", \"Sports News\", \"Sports News\", \"Sports News\", \"Sports News\", \"Sports News\", \"Sports News\", \"Sports News\", \"Sports News\", \"Sports News\", \"Sports News\", \"Sports News\", \"Sports News\", \"Sports News\", \"Sports News\", \"Sports News\", \"Sports News\", \"Sports News\", \"Sports News\", \"Sports News\", \"Sports News\", \"Sports News\", \"Sports News\", \"Sports News\", \"Sports News\", \"Sports News\", \"Sports News\", \"Sports News\", \"Sports News\", \"Sports News\", \"Sports News\", \"Sports News\", \"Sports News\", \"Sports News\", \"Sports News\", \"Sports News\", \"Sports News\", \"Sports News\", \"Foreign News\", \"Foreign News\", \"Foreign News\", \"Foreign News\", \"Foreign News\", \"Foreign News\", \"Foreign News\", \"Foreign News\", \"Foreign News\", \"Foreign News\", \"Foreign News\", \"Foreign News\", \"Foreign News\", \"Foreign News\", \"Foreign News\", \"Foreign News\", \"Foreign News\", \"Foreign News\", \"Foreign News\", \"Foreign News\", \"Foreign News\", \"Foreign News\", \"Foreign News\", \"Foreign News\", \"Foreign News\", \"Foreign News\", \"Foreign News\", \"Foreign News\", \"Foreign News\", \"Foreign News\", \"Foreign News\", \"Foreign News\", \"Foreign News\", \"Foreign News\", \"Foreign News\", \"Foreign News\", \"Foreign News\", \"Foreign News\", \"Foreign News\", \"Foreign News\", \"Foreign News\", \"Foreign News\", \"Foreign News\", \"Foreign News\", \"Foreign News\", \"Foreign News\", \"Foreign News\", \"Foreign News\", \"Foreign News\", \"Foreign News\", \"Foreign News\", \"Foreign News\", \"Foreign News\", \"Foreign News\", \"Foreign News\", \"BIZ News\", \"BIZ News\", \"BIZ News\", \"BIZ News\", \"BIZ News\", \"BIZ News\", \"BIZ News\", \"BIZ News\", \"BIZ News\", \"BIZ News\", \"BIZ News\", \"BIZ News\", \"BIZ News\", \"BIZ News\", \"BIZ News\", \"BIZ News\", \"BIZ News\", \"BIZ News\", \"BIZ News\", \"BIZ News\", \"BIZ News\", \"BIZ News\", \"BIZ News\", \"BIZ News\", \"BIZ News\", \"BIZ News\", \"BIZ News\", \"BIZ News\", \"BIZ News\", \"BIZ News\", \"BIZ News\", \"BIZ News\", \"BIZ News\", \"BIZ News\", \"BIZ News\", \"BIZ News\", \"BIZ News\", \"BIZ News\", \"BIZ News\", \"BIZ News\", \"BIZ News\", \"BIZ News\", \"BIZ News\", \"BIZ News\", \"BIZ News\", \"BIZ News\", \"BIZ News\", \"BIZ News\", \"BIZ News\", \"BIZ News\", \"BIZ News\", \"BIZ News\", \"BIZ News\", \"BIZ News\", \"BIZ News\", \"BIZ News\", \"BIZ News\", \"BIZ News\", \"BIZ News\", \"BIZ News\", \"BIZ News\", \"BIZ News\", \"BIZ News\", \"BIZ News\", \"BIZ News\", \"BIZ News\", \"BIZ News\", \"BIZ News\", \"BIZ News\", \"BIZ News\", \"BIZ News\", \"BIZ News\", \"BIZ News\", \"BIZ News\", \"BIZ News\", \"BIZ News\", \"BIZ News\", \"BIZ News\", \"BIZ News\", \"BIZ News\", \"BIZ News\", \"BIZ News\", \"BIZ News\", \"BIZ News\", \"BIZ News\", \"BIZ News\", \"BIZ News\", \"BIZ News\", \"Local News\", \"Local News\", \"Local News\", \"Local News\", \"Local News\", \"Local News\", \"Local News\", \"Local News\", \"Local News\", \"Local News\", \"Local News\", \"Local News\", \"Local News\", \"Local News\", \"Local News\", \"Local News\", \"Local News\", \"Local News\", \"Local News\", \"Local News\", \"Local News\", \"Local News\", \"Local News\", \"Local News\", \"Local News\", \"Local News\", \"Local News\", \"Local News\", \"Local News\", \"Local News\", \"Local News\", \"Local News\", \"Local News\", \"Local News\", \"Local News\", \"Local News\", \"Local News\", \"Local News\", \"Local News\", \"Local News\", \"Local News\", \"Local News\", \"Local News\", \"Local News\", \"Local News\", \"Local News\", \"Local News\", \"Local News\", \"Local News\", \"Local News\", \"Local News\", \"Local News\", \"Local News\", \"Local News\", \"Local News\", \"Local News\", \"Local News\", \"Local News\", \"Local News\", \"Local News\", \"Local News\", \"Local News\", \"Local News\", \"Local News\", \"Local News\", \"Local News\", \"Local News\", \"Local News\", \"Local News\", \"Local News\", \"Local News\", \"Local News\", \"Local News\", \"Local News\", \"Local News\", \"Local News\", \"Local News\", \"Local News\", \"Local News\", \"Local News\", \"Local News\", \"Local News\", \"Local News\", \"Local News\", \"Local News\", \"Local News\", \"Local News\", \"Local News\", \"Local News\", \"Local News\", \"Local News\", \"Local News\", \"Local News\", \"Local News\", \"Local News\", \"Local News\", \"Local News\", \"Local News\", \"Local News\", \"Local News\", \"Foreign News\", \"Foreign News\", \"Foreign News\", \"Foreign News\", \"Foreign News\", \"Foreign News\", \"Foreign News\", \"Foreign News\", \"Foreign News\", \"Foreign News\", \"Foreign News\", \"Foreign News\", \"Foreign News\", \"Foreign News\", \"Foreign News\", \"Foreign News\", \"Foreign News\", \"Foreign News\", \"Foreign News\", \"Foreign News\", \"Foreign News\", \"Foreign News\", \"Foreign News\", \"Foreign News\", \"Foreign News\", \"Foreign News\", \"Foreign News\", \"Foreign News\", \"Foreign News\", \"Foreign News\", \"Foreign News\", \"Foreign News\", \"Foreign News\", \"Foreign News\", \"Foreign News\", \"Foreign News\", \"Foreign News\", \"Foreign News\", \"Foreign News\", \"Foreign News\", \"Foreign News\", \"Foreign News\", \"Foreign News\", \"Foreign News\", \"Foreign News\", \"Foreign News\", \"Foreign News\", \"Foreign News\", \"Foreign News\", \"Foreign News\", \"Sports News\", \"Sports News\", \"Sports News\", \"Sports News\", \"Sports News\", \"Sports News\", \"Sports News\", \"Sports News\", \"Sports News\", \"Sports News\", \"Sports News\", \"Sports News\", \"Sports News\", \"Sports News\", \"Sports News\", \"Sports News\", \"Sports News\", \"Sports News\", \"Sports News\", \"Sports News\", \"Sports News\", \"Sports News\", \"Sports News\", \"Sports News\", \"Sports News\", \"Sports News\", \"Sports News\", \"Sports News\", \"Sports News\", \"Sports News\", \"Sports News\", \"Sports News\", \"Sports News\", \"Sports News\", \"Sports News\", \"Sports News\", \"Sports News\", \"Sports News\", \"Sports News\", \"Sports News\", \"Sports News\", \"Sports News\", \"Sports News\", \"Sports News\", \"Sports News\", \"Sports News\", \"Sports News\", \"Sports News\", \"Sports News\", \"Sports News\", \"Entertainment News\", \"Entertainment News\", \"Entertainment News\", \"Entertainment News\", \"Entertainment News\", \"Entertainment News\", \"Entertainment News\", \"Entertainment News\", \"Entertainment News\", \"Entertainment News\", \"Entertainment News\", \"Entertainment News\", \"Entertainment News\", \"Entertainment News\", \"Entertainment News\", \"Entertainment News\", \"Entertainment News\", \"Entertainment News\", \"Entertainment News\", \"Entertainment News\", \"Entertainment News\", \"Entertainment News\", \"Entertainment News\", \"Entertainment News\", \"Entertainment News\", \"Entertainment News\", \"Entertainment News\", \"Entertainment News\", \"Entertainment News\", \"Entertainment News\", \"Entertainment News\", \"Entertainment News\", \"Entertainment News\", \"Entertainment News\", \"Entertainment News\", \"Entertainment News\", \"Entertainment News\", \"Entertainment News\", \"Entertainment News\", \"Entertainment News\", \"Entertainment News\", \"Entertainment News\", \"Entertainment News\", \"Entertainment News\", \"Entertainment News\", \"Entertainment News\", \"Entertainment News\", \"Entertainment News\", \"Entertainment News\", \"Entertainment News\", \"Entertainment News\", \"Entertainment News\", \"Entertainment News\", \"Entertainment News\", \"Entertainment News\", \"Entertainment News\", \"Entertainment News\", \"Entertainment News\", \"Entertainment News\", \"Entertainment News\", \"Entertainment News\", \"Entertainment News\", \"Entertainment News\", \"Entertainment News\", \"Entertainment News\", \"Entertainment News\", \"Entertainment News\", \"Entertainment News\", \"Entertainment News\", \"Entertainment News\", \"Entertainment News\", \"Entertainment News\", \"Entertainment News\", \"Entertainment News\", \"Entertainment News\", \"Entertainment News\", \"Entertainment News\", \"Entertainment News\", \"Entertainment News\", \"Entertainment News\", \"Entertainment News\", \"Entertainment News\", \"Entertainment News\", \"Entertainment News\", \"Entertainment News\", \"Entertainment News\", \"Entertainment News\", \"Entertainment News\", \"Entertainment News\", \"Entertainment News\", \"Entertainment News\", \"Entertainment News\", \"Entertainment News\", \"Entertainment News\", \"Entertainment News\", \"Entertainment News\", \"Entertainment News\", \"Entertainment News\", \"Entertainment News\", \"Entertainment News\", \"Entertainment News\", \"Entertainment News\", \"Entertainment News\", \"Entertainment News\", \"Entertainment News\", \"Entertainment News\", \"Entertainment News\", \"Entertainment News\", \"Entertainment News\", \"Entertainment News\", \"Entertainment News\", \"Entertainment News\", \"Entertainment News\", \"Entertainment News\", \"Entertainment News\", \"Entertainment News\", \"Entertainment News\", \"Entertainment News\", \"Entertainment News\", \"Entertainment News\", \"Entertainment News\", \"Entertainment News\", \"Entertainment News\", \"Entertainment News\", \"Entertainment News\", \"Entertainment News\", \"Entertainment News\", \"Entertainment News\", \"Entertainment News\", \"Entertainment News\", \"Entertainment News\", \"Entertainment News\", \"Entertainment News\", \"Entertainment News\", \"Entertainment News\", \"Entertainment News\", \"Entertainment News\", \"Entertainment News\", \"Entertainment News\", \"Entertainment News\", \"Entertainment News\", \"Entertainment News\", \"Entertainment News\", \"Entertainment News\", \"Entertainment News\", \"Entertainment News\", \"Entertainment News\", \"Entertainment News\", \"Entertainment News\", \"Entertainment News\", \"Entertainment News\", \"Entertainment News\", \"Entertainment News\", \"Entertainment News\", \"Entertainment News\", \"Entertainment News\", \"Entertainment News\", \"Entertainment News\", \"Entertainment News\", \"Entertainment News\", \"Entertainment News\", \"Entertainment News\", \"Entertainment News\", \"Entertainment News\", \"Entertainment News\", \"Entertainment News\", \"Entertainment News\", \"Entertainment News\", \"Entertainment News\", \"Entertainment News\", \"Entertainment News\", \"Entertainment News\", \"Entertainment News\", \"Entertainment News\", \"Entertainment News\", \"Entertainment News\", \"Entertainment News\", \"Entertainment News\", \"Entertainment News\", \"Entertainment News\", \"Entertainment News\", \"Entertainment News\", \"Entertainment News\", \"Entertainment News\", \"Entertainment News\", \"Entertainment News\", \"Entertainment News\", \"Entertainment News\", \"Entertainment News\", \"Entertainment News\", \"Entertainment News\", \"Entertainment News\", \"Entertainment News\", \"Entertainment News\", \"Entertainment News\", \"Entertainment News\", \"Entertainment News\", \"Entertainment News\", \"Entertainment News\", null], \"xaxis\": \"x\", \"y\": [720.0, 250.0, 460.0, 520.0, 960.0, 345.0, 765.0, 452.0, 68.0, 102.0, 388.0, 675.0, 785.0, 123.0, 657.0, 985.0, 418.0, 337.0, 659.0, 520.0, 960.0, 345.0, 765.0, 452.0, 68.0, 102.0, 388.0, 675.0, 785.0, 123.0, 657.0, 985.0, 418.0, 985.0, 664.0, 335.0, 125.0, 875.0, 965.0, 451.0, 112.0, 135.0, 622.0, 710.0, 555.0, 333.0, 654.0, 789.0, 123.0, 321.0, 654.0, 798.0, 645.0, 132.0, 231.0, 564.0, 897.0, 741.0, 147.0, 852.0, 258.0, 963.0, 369.0, 417.0, 528.0, 639.0, 714.0, 825.0, 936.0, 951.0, 753.0, 852.0, 456.0, 159.0, 357.0, 654.0, 765.0, 452.0, 68.0, 102.0, 388.0, 675.0, 785.0, 123.0, 657.0, 985.0, 418.0, 985.0, 664.0, 335.0, 125.0, 875.0, 965.0, 451.0, 112.0, 135.0, 622.0, 710.0, 555.0, 333.0, 654.0, 789.0, 123.0, 321.0, 654.0, 798.0, 645.0, 132.0, 231.0, 564.0, 897.0, 741.0, 147.0, 852.0, 258.0, 963.0, 369.0, 417.0, 528.0, 639.0, 1020.0, 2030.0, 410.0, 933.0, 656.0, 454.0, 212.0, 323.0, 898.0, 787.0, 777.0, 234.0, 167.0, 248.0, 87.0, 579.0, 887.0, 797.0, 1020.0, 432.0, 677.0, 322.0, 367.0, 444.0, 517.0, 117.0, 290.0, 845.0, 720.0, 250.0, 460.0, 520.0, 960.0, 345.0, 765.0, 452.0, 68.0, 102.0, 388.0, 675.0, 785.0, 123.0, 657.0, 985.0, 418.0, 337.0, 659.0, 520.0, 960.0, 345.0, 765.0, 452.0, 68.0, 102.0, 388.0, 675.0, 785.0, 123.0, 657.0, 985.0, 418.0, 985.0, 664.0, 335.0, 125.0, 875.0, 965.0, 451.0, 112.0, 135.0, 622.0, 710.0, 555.0, 333.0, 654.0, 789.0, 123.0, 321.0, 654.0, 798.0, 645.0, 132.0, 231.0, 564.0, 897.0, 741.0, 147.0, 852.0, 258.0, 963.0, 369.0, 417.0, 528.0, 639.0, 714.0, 825.0, 936.0, 951.0, 753.0, 852.0, 456.0, 159.0, 357.0, 654.0, 765.0, 452.0, 68.0, 102.0, 388.0, 675.0, 785.0, 123.0, 657.0, 985.0, 418.0, 985.0, 664.0, 335.0, 125.0, 875.0, 965.0, 451.0, 112.0, 135.0, 622.0, 710.0, 555.0, 985.0, 418.0, 337.0, 659.0, 520.0, 960.0, 345.0, 765.0, 452.0, 68.0, 102.0, 388.0, 675.0, 785.0, 123.0, 657.0, 985.0, 418.0, 985.0, 664.0, 335.0, 125.0, 875.0, 965.0, 451.0, 112.0, 132.0, 231.0, 564.0, 897.0, 741.0, 147.0, 852.0, 258.0, 963.0, 369.0, 417.0, 528.0, 639.0, 714.0, 825.0, 936.0, 951.0, 753.0, 852.0, 456.0, 159.0, 357.0, 654.0, 765.0, 452.0, 123.0, 657.0, 985.0, 418.0, 654.0, 789.0, 123.0, 321.0, 654.0, 798.0, 645.0, 132.0, 231.0, 564.0, 897.0, 741.0, 147.0, 852.0, 258.0, 963.0, 369.0, 417.0, 528.0, 639.0, 1020.0, 2030.0, 410.0, 933.0, 656.0, 454.0, 212.0, 323.0, 898.0, 787.0, 777.0, 234.0, 167.0, 248.0, 87.0, 579.0, 887.0, 797.0, 1020.0, 432.0, 677.0, 322.0, 367.0, 444.0, 517.0, 117.0, 290.0, 845.0, 720.0, 250.0, 460.0, 520.0, 960.0, 345.0, 765.0, 452.0, 68.0, 102.0, 388.0, 675.0, 785.0, 123.0, 657.0, 985.0, 418.0, 337.0, 659.0, 520.0, 960.0, 345.0, 765.0, 452.0, 68.0, 102.0, 388.0, 675.0, 785.0, 123.0, 657.0, 985.0, 418.0, 985.0, 664.0, 335.0, 125.0, 875.0, 965.0, 451.0, 654.0, 789.0, 123.0, 321.0, 654.0, 798.0, 645.0, 132.0, 231.0, 564.0, 897.0, 741.0, 147.0, 852.0, 258.0, 963.0, 369.0, 417.0, 528.0, 639.0, 714.0, 825.0, 936.0, 951.0, 753.0, 852.0, 456.0, 159.0, 357.0, 654.0, 765.0, 452.0, 68.0, 102.0, 388.0, 675.0, 785.0, 123.0, 657.0, 985.0, 418.0, 985.0, 664.0, 335.0, 125.0, 875.0, 965.0, 451.0, 112.0, 135.0, 622.0, 710.0, 555.0, 985.0, 418.0, 337.0, 659.0, 520.0, 960.0, 345.0, 765.0, 452.0, 68.0, 102.0, 388.0, 675.0, 785.0, 123.0, 657.0, 985.0, 418.0, 985.0, 664.0, 335.0, 125.0, 875.0, 965.0, 451.0, 112.0, 132.0, 231.0, 564.0, 897.0, 741.0, 147.0, 852.0, 258.0, 963.0, 369.0, 417.0, 528.0, 639.0, 714.0, 825.0, 936.0, 951.0, 753.0, 852.0, 456.0, 159.0, 622.0, 710.0, 555.0, 985.0, 418.0, 337.0, 659.0, 520.0, 960.0, 345.0, 765.0, 452.0, 68.0, 102.0, 388.0, 675.0, 785.0, 123.0, 657.0, 985.0, 418.0, 985.0, 664.0, 335.0, 125.0, 875.0, 965.0, 451.0, 112.0, 132.0, 231.0, 564.0, 897.0, 741.0, 147.0, 852.0, 258.0, 963.0, 369.0, 417.0, 528.0, 639.0, 714.0, 825.0, 936.0, 951.0, 753.0, 852.0, 456.0, 159.0, 320.0, 695.0, 788.0, 555.0, 789.0, 416.0, 112.0, 132.0, 231.0, 564.0, 897.0, 741.0, 147.0, 852.0, 258.0, 963.0, 369.0, 417.0, 528.0, 639.0, 714.0, 825.0, 936.0, 951.0, 753.0, 852.0, 456.0, 159.0, 622.0, 710.0, 555.0, 985.0, 418.0, 337.0, 659.0, 520.0, 960.0, 345.0, 765.0, 452.0, 68.0, 102.0, 388.0, 675.0, 785.0, 123.0, 657.0, 985.0, 418.0, 985.0, 965.0, 451.0, 654.0, 789.0, 123.0, 321.0, 654.0, 798.0, 645.0, 132.0, 231.0, 564.0, 897.0, 741.0, 147.0, 852.0, 258.0, 963.0, 369.0, 417.0, 528.0, 639.0, 714.0, 825.0, 936.0, 951.0, 753.0, 852.0, 456.0, 159.0, 357.0, 654.0, 765.0, 452.0, 68.0, 102.0, 388.0, 675.0, 785.0, 123.0, 657.0, 985.0, 418.0, 985.0, 664.0, 335.0, 125.0, 875.0, 965.0, 451.0, 112.0, 135.0, 622.0, 710.0, 555.0, 985.0, 418.0, 337.0, 659.0, 520.0, 960.0, 345.0, 765.0, 452.0, 68.0, 102.0, 388.0, 675.0, 785.0, 123.0, 657.0, 985.0, 418.0, 985.0, 664.0, 335.0, 125.0, 875.0, 965.0, 451.0, 112.0, 132.0, 231.0, 564.0, 897.0, 741.0, 147.0, 852.0, 258.0, 963.0, 369.0, 417.0, 528.0, 639.0, 714.0, 825.0, 936.0, 951.0, 753.0, 852.0, 456.0, 159.0, 622.0, 710.0, 555.0, 985.0, 418.0, 337.0, 659.0, 520.0, 960.0, 345.0, 765.0, 452.0, 68.0, 102.0, 388.0, 675.0, 785.0, 123.0, 657.0, 985.0, 418.0, 985.0, 664.0, 335.0, 125.0, 875.0, 965.0, 451.0, 112.0, 132.0, 231.0, 564.0, 897.0, 741.0, 147.0, 852.0, 258.0, 963.0, 369.0, 417.0, 528.0, 639.0, 714.0, 825.0, 936.0, 951.0, 753.0, 852.0, 456.0, 159.0, 320.0, 695.0, 788.0, 555.0, 789.0, 416.0, 112.0, 132.0, 231.0, 564.0, 897.0, 741.0, 147.0, 852.0, 258.0, 963.0, 369.0, 417.0, 528.0, 639.0, 714.0, 825.0, 936.0, 951.0, 753.0, 852.0, 456.0, 159.0, 622.0, 710.0, 555.0, 985.0, 418.0, 337.0, 659.0, 520.0, 960.0, 345.0, 765.0, 452.0, 68.0, 102.0, 388.0, 675.0, 785.0, 123.0, 657.0, null], \"yaxis\": \"y\"}],\n",
       "                        {\"barmode\": \"relative\", \"legend\": {\"tracegroupgap\": 0}, \"margin\": {\"t\": 60}, \"template\": {\"data\": {\"bar\": [{\"error_x\": {\"color\": \"#2a3f5f\"}, \"error_y\": {\"color\": \"#2a3f5f\"}, \"marker\": {\"line\": {\"color\": \"#E5ECF6\", \"width\": 0.5}}, \"type\": \"bar\"}], \"barpolar\": [{\"marker\": {\"line\": {\"color\": \"#E5ECF6\", \"width\": 0.5}}, \"type\": \"barpolar\"}], \"carpet\": [{\"aaxis\": {\"endlinecolor\": \"#2a3f5f\", \"gridcolor\": \"white\", \"linecolor\": \"white\", \"minorgridcolor\": \"white\", \"startlinecolor\": \"#2a3f5f\"}, \"baxis\": {\"endlinecolor\": \"#2a3f5f\", \"gridcolor\": \"white\", \"linecolor\": \"white\", \"minorgridcolor\": \"white\", \"startlinecolor\": \"#2a3f5f\"}, \"type\": \"carpet\"}], \"choropleth\": [{\"colorbar\": {\"outlinewidth\": 0, \"ticks\": \"\"}, \"type\": \"choropleth\"}], \"contour\": [{\"colorbar\": {\"outlinewidth\": 0, \"ticks\": \"\"}, \"colorscale\": [[0.0, \"#0d0887\"], [0.1111111111111111, \"#46039f\"], [0.2222222222222222, \"#7201a8\"], [0.3333333333333333, \"#9c179e\"], [0.4444444444444444, \"#bd3786\"], [0.5555555555555556, \"#d8576b\"], [0.6666666666666666, \"#ed7953\"], [0.7777777777777778, \"#fb9f3a\"], [0.8888888888888888, \"#fdca26\"], [1.0, \"#f0f921\"]], \"type\": \"contour\"}], \"contourcarpet\": [{\"colorbar\": {\"outlinewidth\": 0, \"ticks\": \"\"}, \"type\": \"contourcarpet\"}], \"heatmap\": [{\"colorbar\": {\"outlinewidth\": 0, \"ticks\": \"\"}, \"colorscale\": [[0.0, \"#0d0887\"], [0.1111111111111111, \"#46039f\"], [0.2222222222222222, \"#7201a8\"], [0.3333333333333333, \"#9c179e\"], [0.4444444444444444, \"#bd3786\"], [0.5555555555555556, \"#d8576b\"], [0.6666666666666666, \"#ed7953\"], [0.7777777777777778, \"#fb9f3a\"], [0.8888888888888888, \"#fdca26\"], [1.0, \"#f0f921\"]], \"type\": \"heatmap\"}], \"heatmapgl\": [{\"colorbar\": {\"outlinewidth\": 0, \"ticks\": \"\"}, \"colorscale\": [[0.0, \"#0d0887\"], [0.1111111111111111, \"#46039f\"], [0.2222222222222222, \"#7201a8\"], [0.3333333333333333, \"#9c179e\"], [0.4444444444444444, \"#bd3786\"], [0.5555555555555556, \"#d8576b\"], [0.6666666666666666, \"#ed7953\"], [0.7777777777777778, \"#fb9f3a\"], [0.8888888888888888, \"#fdca26\"], [1.0, \"#f0f921\"]], \"type\": \"heatmapgl\"}], \"histogram\": [{\"marker\": {\"colorbar\": {\"outlinewidth\": 0, \"ticks\": \"\"}}, \"type\": \"histogram\"}], \"histogram2d\": [{\"colorbar\": {\"outlinewidth\": 0, \"ticks\": \"\"}, \"colorscale\": [[0.0, \"#0d0887\"], [0.1111111111111111, \"#46039f\"], [0.2222222222222222, \"#7201a8\"], [0.3333333333333333, \"#9c179e\"], [0.4444444444444444, \"#bd3786\"], [0.5555555555555556, \"#d8576b\"], [0.6666666666666666, \"#ed7953\"], [0.7777777777777778, \"#fb9f3a\"], [0.8888888888888888, \"#fdca26\"], [1.0, \"#f0f921\"]], \"type\": \"histogram2d\"}], \"histogram2dcontour\": [{\"colorbar\": {\"outlinewidth\": 0, \"ticks\": \"\"}, \"colorscale\": [[0.0, \"#0d0887\"], [0.1111111111111111, \"#46039f\"], [0.2222222222222222, \"#7201a8\"], [0.3333333333333333, \"#9c179e\"], [0.4444444444444444, \"#bd3786\"], [0.5555555555555556, \"#d8576b\"], [0.6666666666666666, \"#ed7953\"], [0.7777777777777778, \"#fb9f3a\"], [0.8888888888888888, \"#fdca26\"], [1.0, \"#f0f921\"]], \"type\": \"histogram2dcontour\"}], \"mesh3d\": [{\"colorbar\": {\"outlinewidth\": 0, \"ticks\": \"\"}, \"type\": \"mesh3d\"}], \"parcoords\": [{\"line\": {\"colorbar\": {\"outlinewidth\": 0, \"ticks\": \"\"}}, \"type\": \"parcoords\"}], \"pie\": [{\"automargin\": true, \"type\": \"pie\"}], \"scatter\": [{\"marker\": {\"colorbar\": {\"outlinewidth\": 0, \"ticks\": \"\"}}, \"type\": \"scatter\"}], \"scatter3d\": [{\"line\": {\"colorbar\": {\"outlinewidth\": 0, \"ticks\": \"\"}}, \"marker\": {\"colorbar\": {\"outlinewidth\": 0, \"ticks\": \"\"}}, \"type\": \"scatter3d\"}], \"scattercarpet\": [{\"marker\": {\"colorbar\": {\"outlinewidth\": 0, \"ticks\": \"\"}}, \"type\": \"scattercarpet\"}], \"scattergeo\": [{\"marker\": {\"colorbar\": {\"outlinewidth\": 0, \"ticks\": \"\"}}, \"type\": \"scattergeo\"}], \"scattergl\": [{\"marker\": {\"colorbar\": {\"outlinewidth\": 0, \"ticks\": \"\"}}, \"type\": \"scattergl\"}], \"scattermapbox\": [{\"marker\": {\"colorbar\": {\"outlinewidth\": 0, \"ticks\": \"\"}}, \"type\": \"scattermapbox\"}], \"scatterpolar\": [{\"marker\": {\"colorbar\": {\"outlinewidth\": 0, \"ticks\": \"\"}}, \"type\": \"scatterpolar\"}], \"scatterpolargl\": [{\"marker\": {\"colorbar\": {\"outlinewidth\": 0, \"ticks\": \"\"}}, \"type\": \"scatterpolargl\"}], \"scatterternary\": [{\"marker\": {\"colorbar\": {\"outlinewidth\": 0, \"ticks\": \"\"}}, \"type\": \"scatterternary\"}], \"surface\": [{\"colorbar\": {\"outlinewidth\": 0, \"ticks\": \"\"}, \"colorscale\": [[0.0, \"#0d0887\"], [0.1111111111111111, \"#46039f\"], [0.2222222222222222, \"#7201a8\"], [0.3333333333333333, \"#9c179e\"], [0.4444444444444444, \"#bd3786\"], [0.5555555555555556, \"#d8576b\"], [0.6666666666666666, \"#ed7953\"], [0.7777777777777778, \"#fb9f3a\"], [0.8888888888888888, \"#fdca26\"], [1.0, \"#f0f921\"]], \"type\": \"surface\"}], \"table\": [{\"cells\": {\"fill\": {\"color\": \"#EBF0F8\"}, \"line\": {\"color\": \"white\"}}, \"header\": {\"fill\": {\"color\": \"#C8D4E3\"}, \"line\": {\"color\": \"white\"}}, \"type\": \"table\"}]}, \"layout\": {\"annotationdefaults\": {\"arrowcolor\": \"#2a3f5f\", \"arrowhead\": 0, \"arrowwidth\": 1}, \"coloraxis\": {\"colorbar\": {\"outlinewidth\": 0, \"ticks\": \"\"}}, \"colorscale\": {\"diverging\": [[0, \"#8e0152\"], [0.1, \"#c51b7d\"], [0.2, \"#de77ae\"], [0.3, \"#f1b6da\"], [0.4, \"#fde0ef\"], [0.5, \"#f7f7f7\"], [0.6, \"#e6f5d0\"], [0.7, \"#b8e186\"], [0.8, \"#7fbc41\"], [0.9, \"#4d9221\"], [1, \"#276419\"]], \"sequential\": [[0.0, \"#0d0887\"], [0.1111111111111111, \"#46039f\"], [0.2222222222222222, \"#7201a8\"], [0.3333333333333333, \"#9c179e\"], [0.4444444444444444, \"#bd3786\"], [0.5555555555555556, \"#d8576b\"], [0.6666666666666666, \"#ed7953\"], [0.7777777777777778, \"#fb9f3a\"], [0.8888888888888888, \"#fdca26\"], [1.0, \"#f0f921\"]], \"sequentialminus\": [[0.0, \"#0d0887\"], [0.1111111111111111, \"#46039f\"], [0.2222222222222222, \"#7201a8\"], [0.3333333333333333, \"#9c179e\"], [0.4444444444444444, \"#bd3786\"], [0.5555555555555556, \"#d8576b\"], [0.6666666666666666, \"#ed7953\"], [0.7777777777777778, \"#fb9f3a\"], [0.8888888888888888, \"#fdca26\"], [1.0, \"#f0f921\"]]}, \"colorway\": [\"#636efa\", \"#EF553B\", \"#00cc96\", \"#ab63fa\", \"#FFA15A\", \"#19d3f3\", \"#FF6692\", \"#B6E880\", \"#FF97FF\", \"#FECB52\"], \"font\": {\"color\": \"#2a3f5f\"}, \"geo\": {\"bgcolor\": \"white\", \"lakecolor\": \"white\", \"landcolor\": \"#E5ECF6\", \"showlakes\": true, \"showland\": true, \"subunitcolor\": \"white\"}, \"hoverlabel\": {\"align\": \"left\"}, \"hovermode\": \"closest\", \"mapbox\": {\"style\": \"light\"}, \"paper_bgcolor\": \"white\", \"plot_bgcolor\": \"#E5ECF6\", \"polar\": {\"angularaxis\": {\"gridcolor\": \"white\", \"linecolor\": \"white\", \"ticks\": \"\"}, \"bgcolor\": \"#E5ECF6\", \"radialaxis\": {\"gridcolor\": \"white\", \"linecolor\": \"white\", \"ticks\": \"\"}}, \"scene\": {\"xaxis\": {\"backgroundcolor\": \"#E5ECF6\", \"gridcolor\": \"white\", \"gridwidth\": 2, \"linecolor\": \"white\", \"showbackground\": true, \"ticks\": \"\", \"zerolinecolor\": \"white\"}, \"yaxis\": {\"backgroundcolor\": \"#E5ECF6\", \"gridcolor\": \"white\", \"gridwidth\": 2, \"linecolor\": \"white\", \"showbackground\": true, \"ticks\": \"\", \"zerolinecolor\": \"white\"}, \"zaxis\": {\"backgroundcolor\": \"#E5ECF6\", \"gridcolor\": \"white\", \"gridwidth\": 2, \"linecolor\": \"white\", \"showbackground\": true, \"ticks\": \"\", \"zerolinecolor\": \"white\"}}, \"shapedefaults\": {\"line\": {\"color\": \"#2a3f5f\"}}, \"ternary\": {\"aaxis\": {\"gridcolor\": \"white\", \"linecolor\": \"white\", \"ticks\": \"\"}, \"baxis\": {\"gridcolor\": \"white\", \"linecolor\": \"white\", \"ticks\": \"\"}, \"bgcolor\": \"#E5ECF6\", \"caxis\": {\"gridcolor\": \"white\", \"linecolor\": \"white\", \"ticks\": \"\"}}, \"title\": {\"x\": 0.05}, \"xaxis\": {\"automargin\": true, \"gridcolor\": \"white\", \"linecolor\": \"white\", \"ticks\": \"\", \"title\": {\"standoff\": 15}, \"zerolinecolor\": \"white\", \"zerolinewidth\": 2}, \"yaxis\": {\"automargin\": true, \"gridcolor\": \"white\", \"linecolor\": \"white\", \"ticks\": \"\", \"title\": {\"standoff\": 15}, \"zerolinecolor\": \"white\", \"zerolinewidth\": 2}}}, \"xaxis\": {\"anchor\": \"y\", \"domain\": [0.0, 1.0], \"title\": {\"text\": \"Category\"}}, \"yaxis\": {\"anchor\": \"x\", \"domain\": [0.0, 1.0], \"title\": {\"text\": \"count of Views\"}}},\n",
       "                        {\"responsive\": true}\n",
       "                    ).then(function(){\n",
       "                            \n",
       "var gd = document.getElementById('e8a8b2cb-3bdd-4847-a8b2-68c783b214b1');\n",
       "var x = new MutationObserver(function (mutations, observer) {{\n",
       "        var display = window.getComputedStyle(gd).display;\n",
       "        if (!display || display === 'none') {{\n",
       "            console.log([gd, 'removed!']);\n",
       "            Plotly.purge(gd);\n",
       "            observer.disconnect();\n",
       "        }}\n",
       "}});\n",
       "\n",
       "// Listen for the removal of the full notebook cells\n",
       "var notebookContainer = gd.closest('#notebook-container');\n",
       "if (notebookContainer) {{\n",
       "    x.observe(notebookContainer, {childList: true});\n",
       "}}\n",
       "\n",
       "// Listen for the clearing of the current output cell\n",
       "var outputEl = gd.closest('.output');\n",
       "if (outputEl) {{\n",
       "    x.observe(outputEl, {childList: true});\n",
       "}}\n",
       "\n",
       "                        })\n",
       "                };\n",
       "                \n",
       "            </script>\n",
       "        </div>\n",
       "</body>\n",
       "</html>"
      ]
     },
     "metadata": {},
     "output_type": "display_data"
    }
   ],
   "source": [
    "px.histogram(data, x=\"Category\", y=\"Views\" )"
   ]
  },
  {
   "cell_type": "code",
   "execution_count": 14,
   "metadata": {
    "colab": {
     "base_uri": "https://localhost:8080/",
     "height": 542
    },
    "executionInfo": {
     "elapsed": 659,
     "status": "ok",
     "timestamp": 1631273942794,
     "user": {
      "displayName": "Fighting",
      "photoUrl": "https://lh3.googleusercontent.com/a-/AOh14GgyjmB7WNJgSQOE0Te2JHfuvxzMXMjblBryL0x6pA=s64",
      "userId": "11759946499048900849"
     },
     "user_tz": -330
    },
    "id": "D0EughdfXVnX",
    "outputId": "5f2620d2-6eb7-431f-e109-66eea4759ca1"
   },
   "outputs": [
    {
     "data": {
      "text/html": [
       "<html>\n",
       "<head><meta charset=\"utf-8\" /></head>\n",
       "<body>\n",
       "    <div>\n",
       "            <script src=\"https://cdnjs.cloudflare.com/ajax/libs/mathjax/2.7.5/MathJax.js?config=TeX-AMS-MML_SVG\"></script><script type=\"text/javascript\">if (window.MathJax) {MathJax.Hub.Config({SVG: {font: \"STIX-Web\"}});}</script>\n",
       "                <script type=\"text/javascript\">window.PlotlyConfig = {MathJaxConfig: 'local'};</script>\n",
       "        <script src=\"https://cdn.plot.ly/plotly-latest.min.js\"></script>    \n",
       "            <div id=\"03fd4567-a929-41e4-b95c-c702bcc5d460\" class=\"plotly-graph-div\" style=\"height:525px; width:100%;\"></div>\n",
       "            <script type=\"text/javascript\">\n",
       "                \n",
       "                    window.PLOTLYENV=window.PLOTLYENV || {};\n",
       "                    \n",
       "                if (document.getElementById(\"03fd4567-a929-41e4-b95c-c702bcc5d460\")) {\n",
       "                    Plotly.newPlot(\n",
       "                        '03fd4567-a929-41e4-b95c-c702bcc5d460',\n",
       "                        [{\"alignmentgroup\": \"True\", \"bingroup\": \"x\", \"hoverlabel\": {\"namelength\": 0}, \"hovertemplate\": \"date=%{x}<br>count=%{y}\", \"legendgroup\": \"\", \"marker\": {\"color\": \"#636efa\"}, \"name\": \"\", \"offsetgroup\": \"\", \"orientation\": \"v\", \"showlegend\": false, \"type\": \"histogram\", \"x\": [\"23-Jun-21\", \"23-Jun-21\", \"23-Jun-21\", \"24-Jun-21\", \"23-Jun-21\", \"23-Jun-21\", \"23-Jun-21\", \"23-Jun-21\", \"23-Jun-21\", \"23-Jun-21\", \"24-Jun-21\", \"23-Jun-21\", \"24-Jun-21\", \"24-Jun-21\", \"23-Jun-21\", \"24-Jun-21\", \"24-Jun-21\", \"23-Jun-21\", \"24-Jun-21\", \"23-Jun-21\", \"24-Jun-21\", \"23-Jun-21\", \"24-Jun-21\", \"24-Jun-21\", \"24-Jun-21\", \"23-Jun-21\", \"23-Jun-21\", \"23-Jun-21\", \"23-Jun-21\", \"24-Jun-21\", \"23-Jun-21\", \"24-Jun-21\", \"24-Jun-21\", \"24-Jun-21\", \"24-Jun-21\", \"24-Jun-21\", \"24-Jun-21\", \"24-Jun-21\", \"24-Jun-21\", \"23-Jun-21\", \"24-Jun-21\", \"24-Jun-21\", \"24-Jun-21\", \"23-Jun-21\", \"24-Jun-21\", \"23-Jun-21\", \"1-Jun-21\", \"2-Jun-21\", \"3-Jun-21\", \"4-Jun-21\", \"5-Jun-21\", \"6-Jun-21\", \"7-Jun-21\", \"8-Jun-21\", \"9-Jun-21\", \"10-Jun-21\", \"11-Jun-21\", \"12-Jun-21\", \"13-Jun-21\", \"14-Jun-21\", \"15-Jun-21\", \"1-Jun-21\", \"14-Jun-21\", \"15-Jun-21\", \"16-Jun-21\", \"17-Jun-21\", \"18-Jun-21\", \"19-Jun-21\", \"20-Jun-21\", \"21-Jun-21\", \"22-Jun-21\", \"23-Jun-21\", \"24-Jun-21\", \"25-Jun-21\", \"26-Jun-21\", \"27-Jun-21\", \"28-Jun-21\", \"29-Jun-21\", \"30-Jun-21\", \"1-Jul-21\", \"2-Jul-21\", \"3-Jul-21\", \"4-Jul-21\", \"5-Jul-21\", \"6-Jul-21\", \"7-Jul-21\", \"8-Jul-21\", \"9-Jul-21\", \"10-Jul-21\", \"11-Jul-21\", \"12-Jul-21\", \"13-Jul-21\", \"14-Jul-21\", \"15-Jul-21\", \"16-Jul-21\", \"17-Jul-21\", \"18-Jul-21\", \"19-Jul-21\", \"20-Jul-21\", \"21-Jul-21\", \"22-Jul-21\", \"23-Jul-21\", \"24-Jul-21\", \"25-Jul-21\", \"26-Jul-21\", \"27-Jul-21\", \"28-Jul-21\", \"29-Jul-21\", \"30-Jul-21\", \"31-Jul-21\", \"1-Aug-21\", \"1/11/2020 0:00\", \"2/11/2020 0:00\", \"3/11/2020 0:00\", \"4/11/2020 0:00\", \"5/11/2020 0:00\", \"6/11/2020 0:00\", \"7/11/2020 0:00\", \"8/11/2020 0:00\", \"9/11/2020 0:00\", \"10/11/2020 0:00\", \"11/11/2020 0:00\", \"11/12/2020 0:00\", \"11/13/2020 0:00\", \"11/14/2020 0:00\", \"11/15/2020 0:00\", \"11/16/2020 0:00\", \"11/17/2020 0:00\", \"11/18/2020 0:00\", \"11/19/2020 0:00\", \"11/20/2020 0:00\", \"11/21/2020 0:00\", \"11/22/2020 0:00\", \"11/23/2020 0:00\", \"11/24/2020 0:00\", \"11/25/2020 0:00\", \"11/26/2020 0:00\", \"11/27/2020 0:00\", \"11/28/2020 0:00\", \"11/29/2020 0:00\", \"11/30/2020 0:00\", \"12/1/2020 0:00\", \"12/2/2020 0:00\", \"12/3/2020 0:00\", \"12/4/2020 0:00\", \"12/5/2020 0:00\", \"12/6/2020 0:00\", \"18-Aug-21\", \"18-Aug-21\", \"18-Aug-21\", \"18-Aug-21\", \"18-Aug-21\", \"18-Aug-21\", \"18-Aug-21\", \"18-Aug-21\", \"18-Aug-21\", \"18-Aug-21\", \"18-Aug-21\", \"18-Aug-21\", \"18-Aug-21\", \"18-Aug-21\", \"18-Aug-21\", \"18-Aug-21\", \"18-Aug-21\", \"18-Aug-21\", \"18-Aug-21\", \"18-Aug-21\", \"18-Aug-21\", \"18-Aug-21\", \"18-Aug-21\", \"18-Aug-21\", \"18-Aug-21\", \"18-Aug-21\", \"18-Aug-21\", \"18-Aug-21\", \"18-Aug-21\", \"18-Aug-21\", \"18-Aug-21\", \"18-Aug-21\", \"18-Aug-21\", \"18-Aug-21\", \"18-Aug-21\", \"18-Aug-21\", \"18-Aug-21\", \"18-Aug-21\", \"18-Aug-21\", \"18-Aug-21\", \"18-Aug-21\", \"18-Aug-21\", \"18-Aug-21\", \"18-Aug-21\", \"18-Aug-21\", \"18-Aug-21\", \"18-Aug-21\", \"18-Aug-21\", \"18-Aug-21\", \"18-Aug-21\", \"27-Jul-21\", \"22-Jul-21\", \"23-Jul-21\", \"24-Jul-21\", \"25-Jul-21\", \"26-Jul-21\", \"27-Jul-21\", \"28-Jul-21\", \"29-Jul-21\", \"30-Jul-21\", \"31-Jul-21\", \"1-Aug-21\", \"2-Aug-21\", \"3-Aug-21\", \"4-Aug-21\", \"4-Aug-21\", \"4-Aug-21\", \"4-Aug-21\", \"4-Aug-21\", \"4-Aug-21\", \"10-Aug-21\", \"11-Aug-21\", \"11-Aug-21\", \"11-Aug-21\", \"11-Aug-21\", \"11-Aug-21\", \"17-Aug-21\", \"17-Aug-21\", \"18-Aug-21\", \"19-Aug-21\", \"20-Aug-21\", \"21-Aug-21\", \"22-Aug-21\", \"23-Aug-21\", \"24-Aug-21\", \"25-Aug-21\", \"26-Aug-21\", \"27-Aug-21\", \"28-Aug-21\", \"29-Aug-21\", \"30-Aug-21\", \"31-Aug-21\", \"1-Sep-21\", \"2-Sep-21\", \"3-Sep-21\", \"4-Sep-21\", \"5-Sep-21\", \"6-Sep-21\", \"7-Sep-21\", \"8-Sep-21\", \"10-Aug-21\", \"11-Aug-21\", \"11-Aug-21\", \"11-Aug-21\", \"11-Aug-21\", \"11-Aug-21\", \"17-Aug-21\", \"17-Aug-21\", \"18-Aug-21\", \"19-Aug-21\", \"20-Aug-21\", \"21-Aug-21\", \"22-Aug-21\", \"22-Jul-21\", \"23-Jul-21\", \"24-Jul-21\", \"25-Jul-21\", \"26-Jul-21\", \"27-Jul-21\", \"28-Jul-21\", \"29-Jul-21\", \"30-Jul-21\", \"31-Jul-21\", \"1-Aug-21\", \"2-Aug-21\", \"3-Aug-21\", \"4-Aug-21\", \"4-Aug-21\", \"4-Aug-21\", \"4-Aug-21\", \"11-Aug-21\", \"11-Aug-21\", \"17-Aug-21\", \"17-Aug-21\", \"18-Aug-21\", \"19-Aug-21\", \"20-Aug-21\", \"21-Aug-21\", \"22-Aug-21\", \"11-Aug-21\", \"11-Aug-21\", \"17-Aug-21\", \"17-Aug-21\", \"18-Aug-21\", \"19-Aug-21\", \"20-Aug-21\", \"21-Aug-21\", \"22-Aug-21\", \"23-Aug-21\", \"24-Aug-21\", \"25-Aug-21\", \"26-Aug-21\", \"27-Aug-21\", \"28-Aug-21\", \"29-Aug-21\", \"27-Aug-21\", \"27-Aug-21\", \"27-Aug-21\", \"27-Aug-21\", \"27-Aug-21\", \"27-Aug-21\", \"27-Aug-21\", \"27-Aug-21\", \"27-Aug-21\", \"27-Aug-21\", \"27-Aug-21\", \"27-Aug-21\", \"27-Aug-21\", \"28-Aug-21\", \"28-Aug-21\", \"28-Aug-21\", \"28-Aug-21\", \"28-Aug-21\", \"28-Aug-21\", \"28-Aug-21\", \"28-Aug-21\", \"28-Aug-21\", \"28-Aug-21\", \"28-Aug-21\", \"28-Aug-21\", \"28-Aug-21\", \"29-Aug-21\", \"29-Aug-21\", \"29-Aug-21\", \"29-Aug-21\", \"29-Aug-21\", \"29-Aug-21\", \"29-Aug-21\", \"29-Aug-21\", \"29-Aug-21\", \"29-Aug-21\", \"29-Aug-21\", \"29-Aug-21\", \"29-Aug-21\", \"29-Aug-21\", \"30-Aug-21\", \"30-Aug-21\", \"30-Aug-21\", \"30-Aug-21\", \"30-Aug-21\", \"30-Aug-21\", \"30-Aug-21\", \"30-Aug-21\", \"31-Aug-21\", \"31-Aug-21\", \"31-Aug-21\", \"31-Aug-21\", \"31-Aug-21\", \"31-Aug-21\", \"31-Aug-21\", \"31-Aug-21\", \"1-Sep-21\", \"1-Sep-21\", \"1-Sep-21\", \"1-Sep-21\", \"1-Sep-21\", \"1-Sep-21\", \"1-Sep-21\", \"1-Sep-21\", \"1-Sep-21\", \"2-Sep-21\", \"2-Sep-21\", \"2-Sep-21\", \"2-Sep-21\", \"2-Sep-21\", \"2-Sep-21\", \"2-Sep-21\", \"2-Sep-21\", \"2-Sep-21\", \"2-Sep-21\", \"3-Sep-21\", \"3-Sep-21\", \"3-Sep-21\", \"3-Sep-21\", \"3-Sep-21\", \"3-Sep-21\", \"3-Sep-21\", \"3-Sep-21\", \"3-Sep-21\", \"3-Sep-21\", \"4-Sep-21\", \"5-Sep-21\", \"6-Sep-21\", \"23-Aug-21\", \"24-Aug-21\", \"25-Aug-21\", \"26-Aug-21\", \"27-Aug-21\", \"28-Aug-21\", \"29-Aug-21\", \"27-Aug-21\", \"27-Aug-21\", \"27-Aug-21\", \"27-Aug-21\", \"27-Aug-21\", \"27-Aug-21\", \"27-Aug-21\", \"27-Aug-21\", \"27-Aug-21\", \"27-Aug-21\", \"27-Aug-21\", \"27-Aug-21\", \"27-Aug-21\", \"28-Aug-21\", \"28-Aug-21\", \"28-Aug-21\", \"28-Aug-21\", \"28-Aug-21\", \"28-Aug-21\", \"28-Aug-21\", \"28-Aug-21\", \"28-Aug-21\", \"28-Aug-21\", \"28-Aug-21\", \"28-Aug-21\", \"28-Aug-21\", \"29-Aug-21\", \"29-Aug-21\", \"29-Aug-21\", \"29-Aug-21\", \"29-Aug-21\", \"29-Aug-21\", \"29-Aug-21\", \"29-Aug-21\", \"29-Aug-21\", \"29-Aug-21\", \"29-Aug-21\", \"29-Aug-21\", \"29-Aug-21\", \"29-Aug-21\", \"30-Aug-21\", \"30-Aug-21\", \"30-Aug-21\", \"30-Aug-21\", \"30-Aug-21\", \"30-Aug-21\", \"30-Aug-21\", \"30-Aug-21\", \"31-Aug-21\", \"31-Aug-21\", \"31-Aug-21\", \"31-Aug-21\", \"31-Aug-21\", \"31-Aug-21\", \"31-Aug-21\", \"31-Aug-21\", \"1-Sep-21\", \"1-Sep-21\", \"1-Sep-21\", \"1-Sep-21\", \"1-Sep-21\", \"1-Sep-21\", \"1-Sep-21\", \"1-Sep-21\", \"1-Sep-21\", \"2-Sep-21\", \"2-Sep-21\", \"2-Sep-21\", \"2-Sep-21\", \"2-Sep-21\", \"2-Sep-21\", \"2-Sep-21\", \"2-Sep-21\", \"2-Sep-21\", \"2-Sep-21\", \"3-Sep-21\", \"3-Sep-21\", \"3-Sep-21\", \"3-Sep-21\", \"3-Sep-21\", \"3-Sep-21\", \"3-Sep-21\", \"3-Sep-21\", \"3-Sep-21\", \"3-Sep-21\", \"4-Sep-21\", \"5-Sep-21\", \"6-Sep-21\", \"6-Sep-21\", \"6-Sep-21\", \"6-Sep-21\", \"6-Sep-21\", \"6-Sep-21\", \"30-Aug-21\", \"30-Aug-21\", \"30-Aug-21\", \"30-Aug-21\", \"30-Aug-21\", \"30-Aug-21\", \"31-Aug-21\", \"31-Aug-21\", \"31-Aug-21\", \"31-Aug-21\", \"31-Aug-21\", \"31-Aug-21\", \"31-Aug-21\", \"31-Aug-21\", \"1-Sep-21\", \"1-Sep-21\", \"1-Sep-21\", \"1-Sep-21\", \"1-Sep-21\", \"1-Sep-21\", \"1-Sep-21\", \"1-Sep-21\", \"1-Sep-21\", \"2-Sep-21\", \"2-Sep-21\", \"2-Sep-21\", \"2-Sep-21\", \"2-Sep-21\", \"2-Sep-21\", \"2-Sep-21\", \"2-Sep-21\", \"2-Sep-21\", \"2-Sep-21\", \"3-Sep-21\", \"3-Sep-21\", \"3-Sep-21\", \"3-Sep-21\", \"3-Sep-21\", \"3-Sep-21\", \"3-Sep-21\", \"3-Sep-21\", \"3-Sep-21\", \"3-Sep-21\", \"4-Sep-21\", \"5-Sep-21\", \"6-Sep-21\", \"6-Sep-21\", \"6-Sep-21\", \"6-Sep-21\", \"6-Sep-21\", \"31-Aug-21\", \"31-Aug-21\", \"31-Aug-21\", \"31-Aug-21\", \"31-Aug-21\", \"31-Aug-21\", \"31-Aug-21\", \"31-Aug-21\", \"1-Sep-21\", \"1-Sep-21\", \"1-Sep-21\", \"1-Sep-21\", \"1-Sep-21\", \"1-Sep-21\", \"1-Sep-21\", \"1-Sep-21\", \"1-Sep-21\", \"2-Sep-21\", \"2-Sep-21\", \"2-Sep-21\", \"2-Sep-21\", \"2-Sep-21\", \"2-Sep-21\", \"2-Sep-21\", \"2-Sep-21\", \"2-Sep-21\", \"2-Sep-21\", \"3-Sep-21\", \"3-Sep-21\", \"3-Sep-21\", \"3-Sep-21\", \"3-Sep-21\", \"3-Sep-21\", \"3-Sep-21\", \"3-Sep-21\", \"3-Sep-21\", \"3-Sep-21\", \"4-Sep-21\", \"5-Sep-21\", \"6-Sep-21\", \"6-Sep-21\", \"6-Sep-21\", \"6-Sep-21\", \"6-Sep-21\", \"6-Sep-21\", \"30-Aug-21\", \"30-Aug-21\", \"30-Aug-21\", \"30-Aug-21\", \"30-Aug-21\", \"17-Aug-21\", \"17-Aug-21\", \"18-Aug-21\", \"19-Aug-21\", \"20-Aug-21\", \"21-Aug-21\", \"22-Aug-21\", \"22-Jul-21\", \"23-Jul-21\", \"24-Jul-21\", \"25-Jul-21\", \"26-Jul-21\", \"27-Jul-21\", \"28-Jul-21\", \"29-Jul-21\", \"30-Jul-21\", \"31-Jul-21\", \"1-Aug-21\", \"2-Aug-21\", \"3-Aug-21\", \"4-Aug-21\", \"4-Aug-21\", \"4-Aug-21\", \"4-Aug-21\", \"11-Aug-21\", \"11-Aug-21\", \"17-Aug-21\", \"17-Aug-21\", \"18-Aug-21\", \"19-Aug-21\", \"20-Aug-21\", \"21-Aug-21\", \"22-Aug-21\", \"11-Aug-21\", \"11-Aug-21\", \"17-Aug-21\", \"17-Aug-21\", \"18-Aug-21\", \"19-Aug-21\", \"20-Aug-21\", \"21-Aug-21\", \"22-Aug-21\", \"23-Aug-21\", \"24-Aug-21\", \"25-Aug-21\", \"26-Aug-21\", \"27-Aug-21\", \"28-Aug-21\", \"29-Aug-21\", \"27-Aug-21\", \"27-Aug-21\", \"27-Aug-21\", \"27-Aug-21\", \"27-Aug-21\", \"27-Aug-21\", \"27-Aug-21\", \"27-Aug-21\", \"27-Aug-21\", \"27-Aug-21\", \"27-Aug-21\", \"27-Aug-21\", \"27-Aug-21\", \"28-Aug-21\", \"28-Aug-21\", \"28-Aug-21\", \"28-Aug-21\", \"28-Aug-21\", \"28-Aug-21\", \"28-Aug-21\", \"28-Aug-21\", \"28-Aug-21\", \"28-Aug-21\", \"28-Aug-21\", \"28-Aug-21\", \"28-Aug-21\", \"29-Aug-21\", \"29-Aug-21\", \"29-Aug-21\", \"29-Aug-21\", \"29-Aug-21\", \"29-Aug-21\", \"29-Aug-21\", \"29-Aug-21\", \"29-Aug-21\", \"29-Aug-21\", \"29-Aug-21\", \"29-Aug-21\", \"29-Aug-21\", \"29-Aug-21\", \"30-Aug-21\", \"30-Aug-21\", \"30-Aug-21\", \"30-Aug-21\", \"30-Aug-21\", \"30-Aug-21\", \"30-Aug-21\", \"30-Aug-21\", \"31-Aug-21\", \"31-Aug-21\", \"31-Aug-21\", \"31-Aug-21\", \"31-Aug-21\", \"31-Aug-21\", \"31-Aug-21\", \"31-Aug-21\", \"1-Sep-21\", \"1-Sep-21\", \"1-Sep-21\", \"1-Sep-21\", \"1-Sep-21\", \"1-Sep-21\", \"1-Sep-21\", \"1-Sep-21\", \"1-Sep-21\", \"2-Sep-21\", \"2-Sep-21\", \"2-Sep-21\", \"2-Sep-21\", \"2-Sep-21\", \"2-Sep-21\", \"2-Sep-21\", \"2-Sep-21\", \"2-Sep-21\", \"2-Sep-21\", \"3-Sep-21\", \"3-Sep-21\", \"3-Sep-21\", \"3-Sep-21\", \"3-Sep-21\", \"3-Sep-21\", \"3-Sep-21\", \"3-Sep-21\", \"3-Sep-21\", \"3-Sep-21\", \"4-Sep-21\", \"5-Sep-21\", \"6-Sep-21\", \"17-Aug-21\", \"17-Aug-21\", \"18-Aug-21\", \"19-Aug-21\", \"20-Aug-21\", \"21-Aug-21\", \"22-Aug-21\", \"22-Jul-21\", \"23-Jul-21\", \"24-Jul-21\", \"25-Jul-21\", \"26-Jul-21\", \"27-Jul-21\", \"28-Jul-21\", \"29-Jul-21\", \"30-Jul-21\", \"31-Jul-21\", \"1-Aug-21\", \"2-Aug-21\", \"3-Aug-21\", \"4-Aug-21\", \"4-Aug-21\", \"4-Aug-21\", \"4-Aug-21\", \"11-Aug-21\", \"11-Aug-21\", \"17-Aug-21\", \"17-Aug-21\", \"18-Aug-21\", \"19-Aug-21\", \"20-Aug-21\", \"21-Aug-21\", \"22-Aug-21\", \"11-Aug-21\", \"11-Aug-21\", \"17-Aug-21\", \"17-Aug-21\", \"18-Aug-21\", \"19-Aug-21\", \"20-Aug-21\", \"21-Aug-21\", \"22-Aug-21\", \"23-Aug-21\", \"24-Aug-21\", \"25-Aug-21\", \"26-Aug-21\", \"27-Aug-21\", \"28-Aug-21\", \"29-Aug-21\", \"27-Aug-21\", \"27-Aug-21\", \"27-Aug-21\", \"27-Aug-21\", \"27-Aug-21\", \"27-Aug-21\", \"27-Aug-21\", \"27-Aug-21\", \"27-Aug-21\", \"27-Aug-21\", \"27-Aug-21\", \"27-Aug-21\", \"27-Aug-21\", null], \"xaxis\": \"x\", \"yaxis\": \"y\"}],\n",
       "                        {\"barmode\": \"relative\", \"legend\": {\"tracegroupgap\": 0}, \"margin\": {\"t\": 60}, \"template\": {\"data\": {\"bar\": [{\"error_x\": {\"color\": \"#2a3f5f\"}, \"error_y\": {\"color\": \"#2a3f5f\"}, \"marker\": {\"line\": {\"color\": \"#E5ECF6\", \"width\": 0.5}}, \"type\": \"bar\"}], \"barpolar\": [{\"marker\": {\"line\": {\"color\": \"#E5ECF6\", \"width\": 0.5}}, \"type\": \"barpolar\"}], \"carpet\": [{\"aaxis\": {\"endlinecolor\": \"#2a3f5f\", \"gridcolor\": \"white\", \"linecolor\": \"white\", \"minorgridcolor\": \"white\", \"startlinecolor\": \"#2a3f5f\"}, \"baxis\": {\"endlinecolor\": \"#2a3f5f\", \"gridcolor\": \"white\", \"linecolor\": \"white\", \"minorgridcolor\": \"white\", \"startlinecolor\": \"#2a3f5f\"}, \"type\": \"carpet\"}], \"choropleth\": [{\"colorbar\": {\"outlinewidth\": 0, \"ticks\": \"\"}, \"type\": \"choropleth\"}], \"contour\": [{\"colorbar\": {\"outlinewidth\": 0, \"ticks\": \"\"}, \"colorscale\": [[0.0, \"#0d0887\"], [0.1111111111111111, \"#46039f\"], [0.2222222222222222, \"#7201a8\"], [0.3333333333333333, \"#9c179e\"], [0.4444444444444444, \"#bd3786\"], [0.5555555555555556, \"#d8576b\"], [0.6666666666666666, \"#ed7953\"], [0.7777777777777778, \"#fb9f3a\"], [0.8888888888888888, \"#fdca26\"], [1.0, \"#f0f921\"]], \"type\": \"contour\"}], \"contourcarpet\": [{\"colorbar\": {\"outlinewidth\": 0, \"ticks\": \"\"}, \"type\": \"contourcarpet\"}], \"heatmap\": [{\"colorbar\": {\"outlinewidth\": 0, \"ticks\": \"\"}, \"colorscale\": [[0.0, \"#0d0887\"], [0.1111111111111111, \"#46039f\"], [0.2222222222222222, \"#7201a8\"], [0.3333333333333333, \"#9c179e\"], [0.4444444444444444, \"#bd3786\"], [0.5555555555555556, \"#d8576b\"], [0.6666666666666666, \"#ed7953\"], [0.7777777777777778, \"#fb9f3a\"], [0.8888888888888888, \"#fdca26\"], [1.0, \"#f0f921\"]], \"type\": \"heatmap\"}], \"heatmapgl\": [{\"colorbar\": {\"outlinewidth\": 0, \"ticks\": \"\"}, \"colorscale\": [[0.0, \"#0d0887\"], [0.1111111111111111, \"#46039f\"], [0.2222222222222222, \"#7201a8\"], [0.3333333333333333, \"#9c179e\"], [0.4444444444444444, \"#bd3786\"], [0.5555555555555556, \"#d8576b\"], [0.6666666666666666, \"#ed7953\"], [0.7777777777777778, \"#fb9f3a\"], [0.8888888888888888, \"#fdca26\"], [1.0, \"#f0f921\"]], \"type\": \"heatmapgl\"}], \"histogram\": [{\"marker\": {\"colorbar\": {\"outlinewidth\": 0, \"ticks\": \"\"}}, \"type\": \"histogram\"}], \"histogram2d\": [{\"colorbar\": {\"outlinewidth\": 0, \"ticks\": \"\"}, \"colorscale\": [[0.0, \"#0d0887\"], [0.1111111111111111, \"#46039f\"], [0.2222222222222222, \"#7201a8\"], [0.3333333333333333, \"#9c179e\"], [0.4444444444444444, \"#bd3786\"], [0.5555555555555556, \"#d8576b\"], [0.6666666666666666, \"#ed7953\"], [0.7777777777777778, \"#fb9f3a\"], [0.8888888888888888, \"#fdca26\"], [1.0, \"#f0f921\"]], \"type\": \"histogram2d\"}], \"histogram2dcontour\": [{\"colorbar\": {\"outlinewidth\": 0, \"ticks\": \"\"}, \"colorscale\": [[0.0, \"#0d0887\"], [0.1111111111111111, \"#46039f\"], [0.2222222222222222, \"#7201a8\"], [0.3333333333333333, \"#9c179e\"], [0.4444444444444444, \"#bd3786\"], [0.5555555555555556, \"#d8576b\"], [0.6666666666666666, \"#ed7953\"], [0.7777777777777778, \"#fb9f3a\"], [0.8888888888888888, \"#fdca26\"], [1.0, \"#f0f921\"]], \"type\": \"histogram2dcontour\"}], \"mesh3d\": [{\"colorbar\": {\"outlinewidth\": 0, \"ticks\": \"\"}, \"type\": \"mesh3d\"}], \"parcoords\": [{\"line\": {\"colorbar\": {\"outlinewidth\": 0, \"ticks\": \"\"}}, \"type\": \"parcoords\"}], \"pie\": [{\"automargin\": true, \"type\": \"pie\"}], \"scatter\": [{\"marker\": {\"colorbar\": {\"outlinewidth\": 0, \"ticks\": \"\"}}, \"type\": \"scatter\"}], \"scatter3d\": [{\"line\": {\"colorbar\": {\"outlinewidth\": 0, \"ticks\": \"\"}}, \"marker\": {\"colorbar\": {\"outlinewidth\": 0, \"ticks\": \"\"}}, \"type\": \"scatter3d\"}], \"scattercarpet\": [{\"marker\": {\"colorbar\": {\"outlinewidth\": 0, \"ticks\": \"\"}}, \"type\": \"scattercarpet\"}], \"scattergeo\": [{\"marker\": {\"colorbar\": {\"outlinewidth\": 0, \"ticks\": \"\"}}, \"type\": \"scattergeo\"}], \"scattergl\": [{\"marker\": {\"colorbar\": {\"outlinewidth\": 0, \"ticks\": \"\"}}, \"type\": \"scattergl\"}], \"scattermapbox\": [{\"marker\": {\"colorbar\": {\"outlinewidth\": 0, \"ticks\": \"\"}}, \"type\": \"scattermapbox\"}], \"scatterpolar\": [{\"marker\": {\"colorbar\": {\"outlinewidth\": 0, \"ticks\": \"\"}}, \"type\": \"scatterpolar\"}], \"scatterpolargl\": [{\"marker\": {\"colorbar\": {\"outlinewidth\": 0, \"ticks\": \"\"}}, \"type\": \"scatterpolargl\"}], \"scatterternary\": [{\"marker\": {\"colorbar\": {\"outlinewidth\": 0, \"ticks\": \"\"}}, \"type\": \"scatterternary\"}], \"surface\": [{\"colorbar\": {\"outlinewidth\": 0, \"ticks\": \"\"}, \"colorscale\": [[0.0, \"#0d0887\"], [0.1111111111111111, \"#46039f\"], [0.2222222222222222, \"#7201a8\"], [0.3333333333333333, \"#9c179e\"], [0.4444444444444444, \"#bd3786\"], [0.5555555555555556, \"#d8576b\"], [0.6666666666666666, \"#ed7953\"], [0.7777777777777778, \"#fb9f3a\"], [0.8888888888888888, \"#fdca26\"], [1.0, \"#f0f921\"]], \"type\": \"surface\"}], \"table\": [{\"cells\": {\"fill\": {\"color\": \"#EBF0F8\"}, \"line\": {\"color\": \"white\"}}, \"header\": {\"fill\": {\"color\": \"#C8D4E3\"}, \"line\": {\"color\": \"white\"}}, \"type\": \"table\"}]}, \"layout\": {\"annotationdefaults\": {\"arrowcolor\": \"#2a3f5f\", \"arrowhead\": 0, \"arrowwidth\": 1}, \"coloraxis\": {\"colorbar\": {\"outlinewidth\": 0, \"ticks\": \"\"}}, \"colorscale\": {\"diverging\": [[0, \"#8e0152\"], [0.1, \"#c51b7d\"], [0.2, \"#de77ae\"], [0.3, \"#f1b6da\"], [0.4, \"#fde0ef\"], [0.5, \"#f7f7f7\"], [0.6, \"#e6f5d0\"], [0.7, \"#b8e186\"], [0.8, \"#7fbc41\"], [0.9, \"#4d9221\"], [1, \"#276419\"]], \"sequential\": [[0.0, \"#0d0887\"], [0.1111111111111111, \"#46039f\"], [0.2222222222222222, \"#7201a8\"], [0.3333333333333333, \"#9c179e\"], [0.4444444444444444, \"#bd3786\"], [0.5555555555555556, \"#d8576b\"], [0.6666666666666666, \"#ed7953\"], [0.7777777777777778, \"#fb9f3a\"], [0.8888888888888888, \"#fdca26\"], [1.0, \"#f0f921\"]], \"sequentialminus\": [[0.0, \"#0d0887\"], [0.1111111111111111, \"#46039f\"], [0.2222222222222222, \"#7201a8\"], [0.3333333333333333, \"#9c179e\"], [0.4444444444444444, \"#bd3786\"], [0.5555555555555556, \"#d8576b\"], [0.6666666666666666, \"#ed7953\"], [0.7777777777777778, \"#fb9f3a\"], [0.8888888888888888, \"#fdca26\"], [1.0, \"#f0f921\"]]}, \"colorway\": [\"#636efa\", \"#EF553B\", \"#00cc96\", \"#ab63fa\", \"#FFA15A\", \"#19d3f3\", \"#FF6692\", \"#B6E880\", \"#FF97FF\", \"#FECB52\"], \"font\": {\"color\": \"#2a3f5f\"}, \"geo\": {\"bgcolor\": \"white\", \"lakecolor\": \"white\", \"landcolor\": \"#E5ECF6\", \"showlakes\": true, \"showland\": true, \"subunitcolor\": \"white\"}, \"hoverlabel\": {\"align\": \"left\"}, \"hovermode\": \"closest\", \"mapbox\": {\"style\": \"light\"}, \"paper_bgcolor\": \"white\", \"plot_bgcolor\": \"#E5ECF6\", \"polar\": {\"angularaxis\": {\"gridcolor\": \"white\", \"linecolor\": \"white\", \"ticks\": \"\"}, \"bgcolor\": \"#E5ECF6\", \"radialaxis\": {\"gridcolor\": \"white\", \"linecolor\": \"white\", \"ticks\": \"\"}}, \"scene\": {\"xaxis\": {\"backgroundcolor\": \"#E5ECF6\", \"gridcolor\": \"white\", \"gridwidth\": 2, \"linecolor\": \"white\", \"showbackground\": true, \"ticks\": \"\", \"zerolinecolor\": \"white\"}, \"yaxis\": {\"backgroundcolor\": \"#E5ECF6\", \"gridcolor\": \"white\", \"gridwidth\": 2, \"linecolor\": \"white\", \"showbackground\": true, \"ticks\": \"\", \"zerolinecolor\": \"white\"}, \"zaxis\": {\"backgroundcolor\": \"#E5ECF6\", \"gridcolor\": \"white\", \"gridwidth\": 2, \"linecolor\": \"white\", \"showbackground\": true, \"ticks\": \"\", \"zerolinecolor\": \"white\"}}, \"shapedefaults\": {\"line\": {\"color\": \"#2a3f5f\"}}, \"ternary\": {\"aaxis\": {\"gridcolor\": \"white\", \"linecolor\": \"white\", \"ticks\": \"\"}, \"baxis\": {\"gridcolor\": \"white\", \"linecolor\": \"white\", \"ticks\": \"\"}, \"bgcolor\": \"#E5ECF6\", \"caxis\": {\"gridcolor\": \"white\", \"linecolor\": \"white\", \"ticks\": \"\"}}, \"title\": {\"x\": 0.05}, \"xaxis\": {\"automargin\": true, \"gridcolor\": \"white\", \"linecolor\": \"white\", \"ticks\": \"\", \"title\": {\"standoff\": 15}, \"zerolinecolor\": \"white\", \"zerolinewidth\": 2}, \"yaxis\": {\"automargin\": true, \"gridcolor\": \"white\", \"linecolor\": \"white\", \"ticks\": \"\", \"title\": {\"standoff\": 15}, \"zerolinecolor\": \"white\", \"zerolinewidth\": 2}}}, \"xaxis\": {\"anchor\": \"y\", \"domain\": [0.0, 1.0], \"title\": {\"text\": \"date\"}}, \"yaxis\": {\"anchor\": \"x\", \"domain\": [0.0, 1.0], \"title\": {\"text\": \"count\"}}},\n",
       "                        {\"responsive\": true}\n",
       "                    ).then(function(){\n",
       "                            \n",
       "var gd = document.getElementById('03fd4567-a929-41e4-b95c-c702bcc5d460');\n",
       "var x = new MutationObserver(function (mutations, observer) {{\n",
       "        var display = window.getComputedStyle(gd).display;\n",
       "        if (!display || display === 'none') {{\n",
       "            console.log([gd, 'removed!']);\n",
       "            Plotly.purge(gd);\n",
       "            observer.disconnect();\n",
       "        }}\n",
       "}});\n",
       "\n",
       "// Listen for the removal of the full notebook cells\n",
       "var notebookContainer = gd.closest('#notebook-container');\n",
       "if (notebookContainer) {{\n",
       "    x.observe(notebookContainer, {childList: true});\n",
       "}}\n",
       "\n",
       "// Listen for the clearing of the current output cell\n",
       "var outputEl = gd.closest('.output');\n",
       "if (outputEl) {{\n",
       "    x.observe(outputEl, {childList: true});\n",
       "}}\n",
       "\n",
       "                        })\n",
       "                };\n",
       "                \n",
       "            </script>\n",
       "        </div>\n",
       "</body>\n",
       "</html>"
      ]
     },
     "metadata": {},
     "output_type": "display_data"
    }
   ],
   "source": [
    "px.histogram(data, x=\"date\")"
   ]
  },
  {
   "cell_type": "code",
   "execution_count": 15,
   "metadata": {
    "executionInfo": {
     "elapsed": 2,
     "status": "ok",
     "timestamp": 1631273950097,
     "user": {
      "displayName": "Fighting",
      "photoUrl": "https://lh3.googleusercontent.com/a-/AOh14GgyjmB7WNJgSQOE0Te2JHfuvxzMXMjblBryL0x6pA=s64",
      "userId": "11759946499048900849"
     },
     "user_tz": -330
    },
    "id": "JdrhkFpBQR9Y"
   },
   "outputs": [],
   "source": [
    "ds = data[['date','title','text','Category','Views']]"
   ]
  },
  {
   "cell_type": "code",
   "execution_count": 16,
   "metadata": {
    "colab": {
     "base_uri": "https://localhost:8080/"
    },
    "executionInfo": {
     "elapsed": 5,
     "status": "ok",
     "timestamp": 1631273950528,
     "user": {
      "displayName": "Fighting",
      "photoUrl": "https://lh3.googleusercontent.com/a-/AOh14GgyjmB7WNJgSQOE0Te2JHfuvxzMXMjblBryL0x6pA=s64",
      "userId": "11759946499048900849"
     },
     "user_tz": -330
    },
    "id": "x6lxyOljQSAz",
    "outputId": "89be79ce-f956-4e70-a27b-4d9c90456bcb"
   },
   "outputs": [
    {
     "data": {
      "text/plain": [
       "(790, 5)"
      ]
     },
     "execution_count": 16,
     "metadata": {},
     "output_type": "execute_result"
    }
   ],
   "source": [
    "ds.shape"
   ]
  },
  {
   "cell_type": "code",
   "execution_count": 17,
   "metadata": {
    "executionInfo": {
     "elapsed": 9,
     "status": "ok",
     "timestamp": 1631273952348,
     "user": {
      "displayName": "Fighting",
      "photoUrl": "https://lh3.googleusercontent.com/a-/AOh14GgyjmB7WNJgSQOE0Te2JHfuvxzMXMjblBryL0x6pA=s64",
      "userId": "11759946499048900849"
     },
     "user_tz": -330
    },
    "id": "kbq0CC4HTtJZ"
   },
   "outputs": [],
   "source": [
    "ds = ds.dropna()"
   ]
  },
  {
   "cell_type": "code",
   "execution_count": 18,
   "metadata": {
    "executionInfo": {
     "elapsed": 3,
     "status": "ok",
     "timestamp": 1631273953241,
     "user": {
      "displayName": "Fighting",
      "photoUrl": "https://lh3.googleusercontent.com/a-/AOh14GgyjmB7WNJgSQOE0Te2JHfuvxzMXMjblBryL0x6pA=s64",
      "userId": "11759946499048900849"
     },
     "user_tz": -330
    },
    "id": "ZwLRfPg4TtLu"
   },
   "outputs": [],
   "source": [
    "ds = ds.drop_duplicates(subset=None, keep='first', inplace=False)"
   ]
  },
  {
   "cell_type": "code",
   "execution_count": 19,
   "metadata": {
    "executionInfo": {
     "elapsed": 2,
     "status": "ok",
     "timestamp": 1631273953809,
     "user": {
      "displayName": "Fighting",
      "photoUrl": "https://lh3.googleusercontent.com/a-/AOh14GgyjmB7WNJgSQOE0Te2JHfuvxzMXMjblBryL0x6pA=s64",
      "userId": "11759946499048900849"
     },
     "user_tz": -330
    },
    "id": "RMsZpgSjTtOG"
   },
   "outputs": [],
   "source": [
    "ds.insert(0,'id',range(0,ds.shape[0]))"
   ]
  },
  {
   "cell_type": "code",
   "execution_count": 20,
   "metadata": {
    "colab": {
     "base_uri": "https://localhost:8080/"
    },
    "executionInfo": {
     "elapsed": 5,
     "status": "ok",
     "timestamp": 1631273954883,
     "user": {
      "displayName": "Fighting",
      "photoUrl": "https://lh3.googleusercontent.com/a-/AOh14GgyjmB7WNJgSQOE0Te2JHfuvxzMXMjblBryL0x6pA=s64",
      "userId": "11759946499048900849"
     },
     "user_tz": -330
    },
    "id": "EP2MU8r2TtQh",
    "outputId": "ee9da13e-bf73-49ac-f4c8-d44e0227b138"
   },
   "outputs": [
    {
     "data": {
      "text/plain": [
       "(789, 6)"
      ]
     },
     "execution_count": 20,
     "metadata": {},
     "output_type": "execute_result"
    }
   ],
   "source": [
    "ds.shape"
   ]
  },
  {
   "cell_type": "code",
   "execution_count": 21,
   "metadata": {
    "colab": {
     "base_uri": "https://localhost:8080/",
     "height": 204
    },
    "executionInfo": {
     "elapsed": 3,
     "status": "ok",
     "timestamp": 1631273956621,
     "user": {
      "displayName": "Fighting",
      "photoUrl": "https://lh3.googleusercontent.com/a-/AOh14GgyjmB7WNJgSQOE0Te2JHfuvxzMXMjblBryL0x6pA=s64",
      "userId": "11759946499048900849"
     },
     "user_tz": -330
    },
    "id": "l88VmXORTtSr",
    "outputId": "d0705efa-c273-47e7-ad70-ecdbe88ce627"
   },
   "outputs": [
    {
     "data": {
      "text/html": [
       "<div>\n",
       "<style scoped>\n",
       "    .dataframe tbody tr th:only-of-type {\n",
       "        vertical-align: middle;\n",
       "    }\n",
       "\n",
       "    .dataframe tbody tr th {\n",
       "        vertical-align: top;\n",
       "    }\n",
       "\n",
       "    .dataframe thead th {\n",
       "        text-align: right;\n",
       "    }\n",
       "</style>\n",
       "<table border=\"1\" class=\"dataframe\">\n",
       "  <thead>\n",
       "    <tr style=\"text-align: right;\">\n",
       "      <th></th>\n",
       "      <th>id</th>\n",
       "      <th>date</th>\n",
       "      <th>title</th>\n",
       "      <th>text</th>\n",
       "      <th>Category</th>\n",
       "      <th>Views</th>\n",
       "    </tr>\n",
       "  </thead>\n",
       "  <tbody>\n",
       "    <tr>\n",
       "      <th>0</th>\n",
       "      <td>0</td>\n",
       "      <td>23-Jun-21</td>\n",
       "      <td>දිස්ත්‍රික්ක 3ක ප්‍රදේශ කිහිපයක් හුදකලා කෙරේ</td>\n",
       "      <td>අද (24) අලුයම 6.00 සිට ක්‍රියාත්මක වන පරිදි තව...</td>\n",
       "      <td>Local News</td>\n",
       "      <td>720.0</td>\n",
       "    </tr>\n",
       "    <tr>\n",
       "      <th>1</th>\n",
       "      <td>1</td>\n",
       "      <td>23-Jun-21</td>\n",
       "      <td>විශේෂ ඝනයේ සැකකරුවන්ට පොසොන් පොහොයට සිල් සමාදන...</td>\n",
       "      <td>බුස්ස අධිආරක්ෂිත බන්ධනාගාරයේ රඳවා ඇති \"විශේෂ ඝ...</td>\n",
       "      <td>Local News</td>\n",
       "      <td>250.0</td>\n",
       "    </tr>\n",
       "    <tr>\n",
       "      <th>2</th>\n",
       "      <td>2</td>\n",
       "      <td>23-Jun-21</td>\n",
       "      <td>ආසාදිතයින් 2,205 ක්</td>\n",
       "      <td>අද (23) තවත් කොවිඩ් ආසාදිතයින්  820 දෙනෙකු අලු...</td>\n",
       "      <td>Local News</td>\n",
       "      <td>460.0</td>\n",
       "    </tr>\n",
       "    <tr>\n",
       "      <th>3</th>\n",
       "      <td>3</td>\n",
       "      <td>24-Jun-21</td>\n",
       "      <td>ප්‍රවීණ නර්නත ශිල්පී කුලසිරි බුදවත්ත අභාවප්‍රා...</td>\n",
       "      <td>ප්‍රවීණ නර්තන ආචාර්ය කුලසිරි බුදවත්ත මහතා අභාව...</td>\n",
       "      <td>Local News</td>\n",
       "      <td>520.0</td>\n",
       "    </tr>\n",
       "    <tr>\n",
       "      <th>4</th>\n",
       "      <td>4</td>\n",
       "      <td>23-Jun-21</td>\n",
       "      <td>අපනයන ආදායමේ සියයට 33ක වර්ධනයක්</td>\n",
       "      <td>කොවිඩ් වසංගතය මධ්‍යයේ වුවද පසුගිය වසරට සාපේක්ෂ...</td>\n",
       "      <td>Local News</td>\n",
       "      <td>960.0</td>\n",
       "    </tr>\n",
       "  </tbody>\n",
       "</table>\n",
       "</div>"
      ],
      "text/plain": [
       "   id       date  ...    Category  Views\n",
       "0   0  23-Jun-21  ...  Local News  720.0\n",
       "1   1  23-Jun-21  ...  Local News  250.0\n",
       "2   2  23-Jun-21  ...  Local News  460.0\n",
       "3   3  24-Jun-21  ...  Local News  520.0\n",
       "4   4  23-Jun-21  ...  Local News  960.0\n",
       "\n",
       "[5 rows x 6 columns]"
      ]
     },
     "execution_count": 21,
     "metadata": {},
     "output_type": "execute_result"
    }
   ],
   "source": [
    "ds.head()"
   ]
  },
  {
   "cell_type": "code",
   "execution_count": 22,
   "metadata": {
    "executionInfo": {
     "elapsed": 1234,
     "status": "ok",
     "timestamp": 1631273963349,
     "user": {
      "displayName": "Fighting",
      "photoUrl": "https://lh3.googleusercontent.com/a-/AOh14GgyjmB7WNJgSQOE0Te2JHfuvxzMXMjblBryL0x6pA=s64",
      "userId": "11759946499048900849"
     },
     "user_tz": -330
    },
    "id": "1SmHrCB-TtVG"
   },
   "outputs": [],
   "source": [
    "from nltk.corpus import stopwords\n",
    "from sklearn.metrics.pairwise import linear_kernel\n",
    "from sklearn.feature_extraction.text import CountVectorizer\n",
    "from sklearn.feature_extraction.text import TfidfVectorizer\n",
    "from nltk.tokenize import RegexpTokenizer \n",
    "import re\n",
    "import string\n",
    "import random "
   ]
  },
  {
   "cell_type": "code",
   "execution_count": 23,
   "metadata": {
    "executionInfo": {
     "elapsed": 6,
     "status": "ok",
     "timestamp": 1631273964078,
     "user": {
      "displayName": "Fighting",
      "photoUrl": "https://lh3.googleusercontent.com/a-/AOh14GgyjmB7WNJgSQOE0Te2JHfuvxzMXMjblBryL0x6pA=s64",
      "userId": "11759946499048900849"
     },
     "user_tz": -330
    },
    "id": "16qEz_EvTtYg"
   },
   "outputs": [],
   "source": [
    " import nltk"
   ]
  },
  {
   "cell_type": "code",
   "execution_count": 24,
   "metadata": {
    "colab": {
     "base_uri": "https://localhost:8080/"
    },
    "executionInfo": {
     "elapsed": 12,
     "status": "ok",
     "timestamp": 1631273965307,
     "user": {
      "displayName": "Fighting",
      "photoUrl": "https://lh3.googleusercontent.com/a-/AOh14GgyjmB7WNJgSQOE0Te2JHfuvxzMXMjblBryL0x6pA=s64",
      "userId": "11759946499048900849"
     },
     "user_tz": -330
    },
    "id": "HxP1_1I-UAWh",
    "outputId": "356cd639-e3a5-46e9-f7f1-e7b4e9a955fc"
   },
   "outputs": [
    {
     "name": "stdout",
     "output_type": "stream",
     "text": [
      "[nltk_data] Downloading package stopwords to /root/nltk_data...\n",
      "[nltk_data]   Unzipping corpora/stopwords.zip.\n"
     ]
    },
    {
     "data": {
      "text/plain": [
       "True"
      ]
     },
     "execution_count": 24,
     "metadata": {},
     "output_type": "execute_result"
    }
   ],
   "source": [
    " nltk.download('stopwords')"
   ]
  },
  {
   "cell_type": "code",
   "execution_count": 25,
   "metadata": {
    "executionInfo": {
     "elapsed": 2,
     "status": "ok",
     "timestamp": 1631273966736,
     "user": {
      "displayName": "Fighting",
      "photoUrl": "https://lh3.googleusercontent.com/a-/AOh14GgyjmB7WNJgSQOE0Te2JHfuvxzMXMjblBryL0x6pA=s64",
      "userId": "11759946499048900849"
     },
     "user_tz": -330
    },
    "id": "NtWQDL-hUAY3"
   },
   "outputs": [],
   "source": [
    " \n",
    "def make_lower_case(text):\n",
    "    return text.lower()\n",
    "\n",
    "# Function for removing stop words\n",
    "def remove_stop_words(text):\n",
    "    text = text.split()\n",
    "    stops = set(stopwords.words(\"english\"))\n",
    "    text = [w for w in text if not w in stops]\n",
    "    texts = [w for w in text if w.isalpha()]\n",
    "    texts = \" \".join(texts)                     \n",
    "    return texts                               \n",
    "                                           \n",
    "# Function for removing punctuation        \n",
    "def remove_punctuation(text):                \n",
    "    tokenizer = RegexpTokenizer(r'\\w+')            \n",
    "    text = tokenizer.tokenize(text)             \n",
    "    text = \" \".join(text)\n",
    "    return text\n",
    "\n",
    "# Function for removing the html tags\n",
    "def remove_html(text):\n",
    "    html_pattern = re.compile('<.*?>')\n",
    "    return html_pattern.sub(r'', text)\n",
    "\n",
    "# Applying all the functions in description and storing as a cleaned_desc\n",
    "#ds['cleaned_desc'] = ds['text'].apply(_removeNonAscii)\n",
    "ds['cleaned_desc'] = ds['text'].apply(func = make_lower_case)\n",
    "ds['cleaned_desc'] = ds.cleaned_desc.apply(func = remove_stop_words)\n",
    "ds['cleaned_desc'] = ds.cleaned_desc.apply(func=remove_punctuation)\n",
    "ds['cleaned_desc'] = ds.cleaned_desc.apply(func=remove_html)"
   ]
  },
  {
   "cell_type": "code",
   "execution_count": 26,
   "metadata": {
    "executionInfo": {
     "elapsed": 715,
     "status": "ok",
     "timestamp": 1631273975213,
     "user": {
      "displayName": "Fighting",
      "photoUrl": "https://lh3.googleusercontent.com/a-/AOh14GgyjmB7WNJgSQOE0Te2JHfuvxzMXMjblBryL0x6pA=s64",
      "userId": "11759946499048900849"
     },
     "user_tz": -330
    },
    "id": "otHHrEF9UAbp"
   },
   "outputs": [],
   "source": [
    "import pandas as pd\n",
    "from sklearn.feature_extraction.text import TfidfVectorizer\n",
    "from sklearn.metrics.pairwise import linear_kernel\n",
    "\n",
    "tf = TfidfVectorizer(analyzer='word',stop_words='english',max_df=0.8,min_df=0.0,use_idf=True,ngram_range=(1,3))\n",
    "tfidf_matrix = tf.fit_transform(ds['cleaned_desc'])\n"
   ]
  },
  {
   "cell_type": "code",
   "execution_count": 27,
   "metadata": {
    "colab": {
     "base_uri": "https://localhost:8080/",
     "height": 473
    },
    "executionInfo": {
     "elapsed": 9,
     "status": "ok",
     "timestamp": 1631273977520,
     "user": {
      "displayName": "Fighting",
      "photoUrl": "https://lh3.googleusercontent.com/a-/AOh14GgyjmB7WNJgSQOE0Te2JHfuvxzMXMjblBryL0x6pA=s64",
      "userId": "11759946499048900849"
     },
     "user_tz": -330
    },
    "id": "_Hfyt2yiUAd3",
    "outputId": "958adcf4-30d3-4b4d-adf5-9e35b892baee"
   },
   "outputs": [
    {
     "data": {
      "text/html": [
       "<div>\n",
       "<style scoped>\n",
       "    .dataframe tbody tr th:only-of-type {\n",
       "        vertical-align: middle;\n",
       "    }\n",
       "\n",
       "    .dataframe tbody tr th {\n",
       "        vertical-align: top;\n",
       "    }\n",
       "\n",
       "    .dataframe thead th {\n",
       "        text-align: right;\n",
       "    }\n",
       "</style>\n",
       "<table border=\"1\" class=\"dataframe\">\n",
       "  <thead>\n",
       "    <tr style=\"text-align: right;\">\n",
       "      <th></th>\n",
       "      <th>adani</th>\n",
       "      <th>adani ports</th>\n",
       "      <th>adani ports special</th>\n",
       "      <th>avicii</th>\n",
       "      <th>avicii මරණයට</th>\n",
       "      <th>avicii මරණයට එන</th>\n",
       "      <th>awards</th>\n",
       "      <th>awards වන</th>\n",
       "      <th>awards වන ඔබට</th>\n",
       "      <th>bangladesh</th>\n",
       "      <th>big</th>\n",
       "      <th>big focus</th>\n",
       "      <th>big focus සමඟ</th>\n",
       "      <th>box</th>\n",
       "      <th>box office</th>\n",
       "      <th>cc</th>\n",
       "      <th>cctv</th>\n",
       "      <th>cdc</th>\n",
       "      <th>cdc ණය</th>\n",
       "      <th>cdc ණය cdc</th>\n",
       "      <th>cinnamon</th>\n",
       "      <th>cinnamon life</th>\n",
       "      <th>cinnamon life වන</th>\n",
       "      <th>dancer</th>\n",
       "      <th>dancer කළ</th>\n",
       "      <th>dancer කළ රටම</th>\n",
       "      <th>delivery</th>\n",
       "      <th>delivery versus</th>\n",
       "      <th>delivery versus payment</th>\n",
       "      <th>diplo</th>\n",
       "      <th>dj</th>\n",
       "      <th>dj avicii</th>\n",
       "      <th>dj avicii මරණයට</th>\n",
       "      <th>economic</th>\n",
       "      <th>economic zone</th>\n",
       "      <th>economic zone බව</th>\n",
       "      <th>efl</th>\n",
       "      <th>efl global</th>\n",
       "      <th>efl global llc</th>\n",
       "      <th>efl global logistics</th>\n",
       "      <th>...</th>\n",
       "      <th>සහ වන</th>\n",
       "      <th>සහ වන cdc</th>\n",
       "      <th>සහ වන ඒකක</th>\n",
       "      <th>සහ වන සහ</th>\n",
       "      <th>සහ වයඹ</th>\n",
       "      <th>සහ වයඹ සහ</th>\n",
       "      <th>සහ වයස</th>\n",
       "      <th>සහ වයස අතර</th>\n",
       "      <th>සහ වසර</th>\n",
       "      <th>සහ වසර වල</th>\n",
       "      <th>සහ වසරක</th>\n",
       "      <th>සහ වසරක වන</th>\n",
       "      <th>සහ සමග</th>\n",
       "      <th>සහ සමග අද</th>\n",
       "      <th>සහ සමඟ</th>\n",
       "      <th>සහ සමඟ කර</th>\n",
       "      <th>සහ සහ</th>\n",
       "      <th>සහ සහ ගත</th>\n",
       "      <th>සහ සහ නව</th>\n",
       "      <th>සහ සහ වන</th>\n",
       "      <th>සහ සහ සහ</th>\n",
       "      <th>සහ සහය</th>\n",
       "      <th>සහ හතරවන</th>\n",
       "      <th>සහ හතරවන වන</th>\n",
       "      <th>සහන</th>\n",
       "      <th>සහන කර</th>\n",
       "      <th>සහන කරන</th>\n",
       "      <th>සහන කරන බව</th>\n",
       "      <th>සහය</th>\n",
       "      <th>සහය පළ</th>\n",
       "      <th>සහය පළ කරන</th>\n",
       "      <th>හඬ</th>\n",
       "      <th>හතරවන</th>\n",
       "      <th>හතරවන වන</th>\n",
       "      <th>හතරවන වන අතර</th>\n",
       "      <th>හර</th>\n",
       "      <th>හර සහ</th>\n",
       "      <th>හර සහ කළ</th>\n",
       "      <th>ළඟ</th>\n",
       "      <th>ළඟ සහ</th>\n",
       "    </tr>\n",
       "  </thead>\n",
       "  <tbody>\n",
       "    <tr>\n",
       "      <th>0</th>\n",
       "      <td>0.0</td>\n",
       "      <td>0.0</td>\n",
       "      <td>0.0</td>\n",
       "      <td>0.0</td>\n",
       "      <td>0.0</td>\n",
       "      <td>0.0</td>\n",
       "      <td>0.0</td>\n",
       "      <td>0.0</td>\n",
       "      <td>0.0</td>\n",
       "      <td>0.0</td>\n",
       "      <td>0.0</td>\n",
       "      <td>0.0</td>\n",
       "      <td>0.0</td>\n",
       "      <td>0.0</td>\n",
       "      <td>0.0</td>\n",
       "      <td>0.0</td>\n",
       "      <td>0.0</td>\n",
       "      <td>0.0</td>\n",
       "      <td>0.0</td>\n",
       "      <td>0.0</td>\n",
       "      <td>0.0</td>\n",
       "      <td>0.0</td>\n",
       "      <td>0.0</td>\n",
       "      <td>0.0</td>\n",
       "      <td>0.0</td>\n",
       "      <td>0.0</td>\n",
       "      <td>0.0</td>\n",
       "      <td>0.0</td>\n",
       "      <td>0.0</td>\n",
       "      <td>0.0</td>\n",
       "      <td>0.0</td>\n",
       "      <td>0.0</td>\n",
       "      <td>0.0</td>\n",
       "      <td>0.0</td>\n",
       "      <td>0.0</td>\n",
       "      <td>0.0</td>\n",
       "      <td>0.0</td>\n",
       "      <td>0.0</td>\n",
       "      <td>0.0</td>\n",
       "      <td>0.0</td>\n",
       "      <td>...</td>\n",
       "      <td>0.0</td>\n",
       "      <td>0.0</td>\n",
       "      <td>0.0</td>\n",
       "      <td>0.0</td>\n",
       "      <td>0.0</td>\n",
       "      <td>0.0</td>\n",
       "      <td>0.0</td>\n",
       "      <td>0.0</td>\n",
       "      <td>0.0</td>\n",
       "      <td>0.0</td>\n",
       "      <td>0.0</td>\n",
       "      <td>0.0</td>\n",
       "      <td>0.0</td>\n",
       "      <td>0.0</td>\n",
       "      <td>0.0</td>\n",
       "      <td>0.0</td>\n",
       "      <td>0.0</td>\n",
       "      <td>0.0</td>\n",
       "      <td>0.0</td>\n",
       "      <td>0.0</td>\n",
       "      <td>0.0</td>\n",
       "      <td>0.0</td>\n",
       "      <td>0.0</td>\n",
       "      <td>0.0</td>\n",
       "      <td>0.0</td>\n",
       "      <td>0.0</td>\n",
       "      <td>0.0</td>\n",
       "      <td>0.0</td>\n",
       "      <td>0.0</td>\n",
       "      <td>0.0</td>\n",
       "      <td>0.0</td>\n",
       "      <td>0.0</td>\n",
       "      <td>0.0</td>\n",
       "      <td>0.0</td>\n",
       "      <td>0.0</td>\n",
       "      <td>0.0</td>\n",
       "      <td>0.0</td>\n",
       "      <td>0.0</td>\n",
       "      <td>0.0</td>\n",
       "      <td>0.0</td>\n",
       "    </tr>\n",
       "    <tr>\n",
       "      <th>1</th>\n",
       "      <td>0.0</td>\n",
       "      <td>0.0</td>\n",
       "      <td>0.0</td>\n",
       "      <td>0.0</td>\n",
       "      <td>0.0</td>\n",
       "      <td>0.0</td>\n",
       "      <td>0.0</td>\n",
       "      <td>0.0</td>\n",
       "      <td>0.0</td>\n",
       "      <td>0.0</td>\n",
       "      <td>0.0</td>\n",
       "      <td>0.0</td>\n",
       "      <td>0.0</td>\n",
       "      <td>0.0</td>\n",
       "      <td>0.0</td>\n",
       "      <td>0.0</td>\n",
       "      <td>0.0</td>\n",
       "      <td>0.0</td>\n",
       "      <td>0.0</td>\n",
       "      <td>0.0</td>\n",
       "      <td>0.0</td>\n",
       "      <td>0.0</td>\n",
       "      <td>0.0</td>\n",
       "      <td>0.0</td>\n",
       "      <td>0.0</td>\n",
       "      <td>0.0</td>\n",
       "      <td>0.0</td>\n",
       "      <td>0.0</td>\n",
       "      <td>0.0</td>\n",
       "      <td>0.0</td>\n",
       "      <td>0.0</td>\n",
       "      <td>0.0</td>\n",
       "      <td>0.0</td>\n",
       "      <td>0.0</td>\n",
       "      <td>0.0</td>\n",
       "      <td>0.0</td>\n",
       "      <td>0.0</td>\n",
       "      <td>0.0</td>\n",
       "      <td>0.0</td>\n",
       "      <td>0.0</td>\n",
       "      <td>...</td>\n",
       "      <td>0.0</td>\n",
       "      <td>0.0</td>\n",
       "      <td>0.0</td>\n",
       "      <td>0.0</td>\n",
       "      <td>0.0</td>\n",
       "      <td>0.0</td>\n",
       "      <td>0.0</td>\n",
       "      <td>0.0</td>\n",
       "      <td>0.0</td>\n",
       "      <td>0.0</td>\n",
       "      <td>0.0</td>\n",
       "      <td>0.0</td>\n",
       "      <td>0.0</td>\n",
       "      <td>0.0</td>\n",
       "      <td>0.0</td>\n",
       "      <td>0.0</td>\n",
       "      <td>0.0</td>\n",
       "      <td>0.0</td>\n",
       "      <td>0.0</td>\n",
       "      <td>0.0</td>\n",
       "      <td>0.0</td>\n",
       "      <td>0.0</td>\n",
       "      <td>0.0</td>\n",
       "      <td>0.0</td>\n",
       "      <td>0.0</td>\n",
       "      <td>0.0</td>\n",
       "      <td>0.0</td>\n",
       "      <td>0.0</td>\n",
       "      <td>0.0</td>\n",
       "      <td>0.0</td>\n",
       "      <td>0.0</td>\n",
       "      <td>0.0</td>\n",
       "      <td>0.0</td>\n",
       "      <td>0.0</td>\n",
       "      <td>0.0</td>\n",
       "      <td>0.0</td>\n",
       "      <td>0.0</td>\n",
       "      <td>0.0</td>\n",
       "      <td>0.0</td>\n",
       "      <td>0.0</td>\n",
       "    </tr>\n",
       "    <tr>\n",
       "      <th>2</th>\n",
       "      <td>0.0</td>\n",
       "      <td>0.0</td>\n",
       "      <td>0.0</td>\n",
       "      <td>0.0</td>\n",
       "      <td>0.0</td>\n",
       "      <td>0.0</td>\n",
       "      <td>0.0</td>\n",
       "      <td>0.0</td>\n",
       "      <td>0.0</td>\n",
       "      <td>0.0</td>\n",
       "      <td>0.0</td>\n",
       "      <td>0.0</td>\n",
       "      <td>0.0</td>\n",
       "      <td>0.0</td>\n",
       "      <td>0.0</td>\n",
       "      <td>0.0</td>\n",
       "      <td>0.0</td>\n",
       "      <td>0.0</td>\n",
       "      <td>0.0</td>\n",
       "      <td>0.0</td>\n",
       "      <td>0.0</td>\n",
       "      <td>0.0</td>\n",
       "      <td>0.0</td>\n",
       "      <td>0.0</td>\n",
       "      <td>0.0</td>\n",
       "      <td>0.0</td>\n",
       "      <td>0.0</td>\n",
       "      <td>0.0</td>\n",
       "      <td>0.0</td>\n",
       "      <td>0.0</td>\n",
       "      <td>0.0</td>\n",
       "      <td>0.0</td>\n",
       "      <td>0.0</td>\n",
       "      <td>0.0</td>\n",
       "      <td>0.0</td>\n",
       "      <td>0.0</td>\n",
       "      <td>0.0</td>\n",
       "      <td>0.0</td>\n",
       "      <td>0.0</td>\n",
       "      <td>0.0</td>\n",
       "      <td>...</td>\n",
       "      <td>0.0</td>\n",
       "      <td>0.0</td>\n",
       "      <td>0.0</td>\n",
       "      <td>0.0</td>\n",
       "      <td>0.0</td>\n",
       "      <td>0.0</td>\n",
       "      <td>0.0</td>\n",
       "      <td>0.0</td>\n",
       "      <td>0.0</td>\n",
       "      <td>0.0</td>\n",
       "      <td>0.0</td>\n",
       "      <td>0.0</td>\n",
       "      <td>0.0</td>\n",
       "      <td>0.0</td>\n",
       "      <td>0.0</td>\n",
       "      <td>0.0</td>\n",
       "      <td>0.0</td>\n",
       "      <td>0.0</td>\n",
       "      <td>0.0</td>\n",
       "      <td>0.0</td>\n",
       "      <td>0.0</td>\n",
       "      <td>0.0</td>\n",
       "      <td>0.0</td>\n",
       "      <td>0.0</td>\n",
       "      <td>0.0</td>\n",
       "      <td>0.0</td>\n",
       "      <td>0.0</td>\n",
       "      <td>0.0</td>\n",
       "      <td>0.0</td>\n",
       "      <td>0.0</td>\n",
       "      <td>0.0</td>\n",
       "      <td>0.0</td>\n",
       "      <td>0.0</td>\n",
       "      <td>0.0</td>\n",
       "      <td>0.0</td>\n",
       "      <td>0.0</td>\n",
       "      <td>0.0</td>\n",
       "      <td>0.0</td>\n",
       "      <td>0.0</td>\n",
       "      <td>0.0</td>\n",
       "    </tr>\n",
       "    <tr>\n",
       "      <th>3</th>\n",
       "      <td>0.0</td>\n",
       "      <td>0.0</td>\n",
       "      <td>0.0</td>\n",
       "      <td>0.0</td>\n",
       "      <td>0.0</td>\n",
       "      <td>0.0</td>\n",
       "      <td>0.0</td>\n",
       "      <td>0.0</td>\n",
       "      <td>0.0</td>\n",
       "      <td>0.0</td>\n",
       "      <td>0.0</td>\n",
       "      <td>0.0</td>\n",
       "      <td>0.0</td>\n",
       "      <td>0.0</td>\n",
       "      <td>0.0</td>\n",
       "      <td>0.0</td>\n",
       "      <td>0.0</td>\n",
       "      <td>0.0</td>\n",
       "      <td>0.0</td>\n",
       "      <td>0.0</td>\n",
       "      <td>0.0</td>\n",
       "      <td>0.0</td>\n",
       "      <td>0.0</td>\n",
       "      <td>0.0</td>\n",
       "      <td>0.0</td>\n",
       "      <td>0.0</td>\n",
       "      <td>0.0</td>\n",
       "      <td>0.0</td>\n",
       "      <td>0.0</td>\n",
       "      <td>0.0</td>\n",
       "      <td>0.0</td>\n",
       "      <td>0.0</td>\n",
       "      <td>0.0</td>\n",
       "      <td>0.0</td>\n",
       "      <td>0.0</td>\n",
       "      <td>0.0</td>\n",
       "      <td>0.0</td>\n",
       "      <td>0.0</td>\n",
       "      <td>0.0</td>\n",
       "      <td>0.0</td>\n",
       "      <td>...</td>\n",
       "      <td>0.0</td>\n",
       "      <td>0.0</td>\n",
       "      <td>0.0</td>\n",
       "      <td>0.0</td>\n",
       "      <td>0.0</td>\n",
       "      <td>0.0</td>\n",
       "      <td>0.0</td>\n",
       "      <td>0.0</td>\n",
       "      <td>0.0</td>\n",
       "      <td>0.0</td>\n",
       "      <td>0.0</td>\n",
       "      <td>0.0</td>\n",
       "      <td>0.0</td>\n",
       "      <td>0.0</td>\n",
       "      <td>0.0</td>\n",
       "      <td>0.0</td>\n",
       "      <td>0.0</td>\n",
       "      <td>0.0</td>\n",
       "      <td>0.0</td>\n",
       "      <td>0.0</td>\n",
       "      <td>0.0</td>\n",
       "      <td>0.0</td>\n",
       "      <td>0.0</td>\n",
       "      <td>0.0</td>\n",
       "      <td>0.0</td>\n",
       "      <td>0.0</td>\n",
       "      <td>0.0</td>\n",
       "      <td>0.0</td>\n",
       "      <td>0.0</td>\n",
       "      <td>0.0</td>\n",
       "      <td>0.0</td>\n",
       "      <td>0.0</td>\n",
       "      <td>0.0</td>\n",
       "      <td>0.0</td>\n",
       "      <td>0.0</td>\n",
       "      <td>0.0</td>\n",
       "      <td>0.0</td>\n",
       "      <td>0.0</td>\n",
       "      <td>0.0</td>\n",
       "      <td>0.0</td>\n",
       "    </tr>\n",
       "    <tr>\n",
       "      <th>4</th>\n",
       "      <td>0.0</td>\n",
       "      <td>0.0</td>\n",
       "      <td>0.0</td>\n",
       "      <td>0.0</td>\n",
       "      <td>0.0</td>\n",
       "      <td>0.0</td>\n",
       "      <td>0.0</td>\n",
       "      <td>0.0</td>\n",
       "      <td>0.0</td>\n",
       "      <td>0.0</td>\n",
       "      <td>0.0</td>\n",
       "      <td>0.0</td>\n",
       "      <td>0.0</td>\n",
       "      <td>0.0</td>\n",
       "      <td>0.0</td>\n",
       "      <td>0.0</td>\n",
       "      <td>0.0</td>\n",
       "      <td>0.0</td>\n",
       "      <td>0.0</td>\n",
       "      <td>0.0</td>\n",
       "      <td>0.0</td>\n",
       "      <td>0.0</td>\n",
       "      <td>0.0</td>\n",
       "      <td>0.0</td>\n",
       "      <td>0.0</td>\n",
       "      <td>0.0</td>\n",
       "      <td>0.0</td>\n",
       "      <td>0.0</td>\n",
       "      <td>0.0</td>\n",
       "      <td>0.0</td>\n",
       "      <td>0.0</td>\n",
       "      <td>0.0</td>\n",
       "      <td>0.0</td>\n",
       "      <td>0.0</td>\n",
       "      <td>0.0</td>\n",
       "      <td>0.0</td>\n",
       "      <td>0.0</td>\n",
       "      <td>0.0</td>\n",
       "      <td>0.0</td>\n",
       "      <td>0.0</td>\n",
       "      <td>...</td>\n",
       "      <td>0.0</td>\n",
       "      <td>0.0</td>\n",
       "      <td>0.0</td>\n",
       "      <td>0.0</td>\n",
       "      <td>0.0</td>\n",
       "      <td>0.0</td>\n",
       "      <td>0.0</td>\n",
       "      <td>0.0</td>\n",
       "      <td>0.0</td>\n",
       "      <td>0.0</td>\n",
       "      <td>0.0</td>\n",
       "      <td>0.0</td>\n",
       "      <td>0.0</td>\n",
       "      <td>0.0</td>\n",
       "      <td>0.0</td>\n",
       "      <td>0.0</td>\n",
       "      <td>0.0</td>\n",
       "      <td>0.0</td>\n",
       "      <td>0.0</td>\n",
       "      <td>0.0</td>\n",
       "      <td>0.0</td>\n",
       "      <td>0.0</td>\n",
       "      <td>0.0</td>\n",
       "      <td>0.0</td>\n",
       "      <td>0.0</td>\n",
       "      <td>0.0</td>\n",
       "      <td>0.0</td>\n",
       "      <td>0.0</td>\n",
       "      <td>0.0</td>\n",
       "      <td>0.0</td>\n",
       "      <td>0.0</td>\n",
       "      <td>0.0</td>\n",
       "      <td>0.0</td>\n",
       "      <td>0.0</td>\n",
       "      <td>0.0</td>\n",
       "      <td>0.0</td>\n",
       "      <td>0.0</td>\n",
       "      <td>0.0</td>\n",
       "      <td>0.0</td>\n",
       "      <td>0.0</td>\n",
       "    </tr>\n",
       "    <tr>\n",
       "      <th>...</th>\n",
       "      <td>...</td>\n",
       "      <td>...</td>\n",
       "      <td>...</td>\n",
       "      <td>...</td>\n",
       "      <td>...</td>\n",
       "      <td>...</td>\n",
       "      <td>...</td>\n",
       "      <td>...</td>\n",
       "      <td>...</td>\n",
       "      <td>...</td>\n",
       "      <td>...</td>\n",
       "      <td>...</td>\n",
       "      <td>...</td>\n",
       "      <td>...</td>\n",
       "      <td>...</td>\n",
       "      <td>...</td>\n",
       "      <td>...</td>\n",
       "      <td>...</td>\n",
       "      <td>...</td>\n",
       "      <td>...</td>\n",
       "      <td>...</td>\n",
       "      <td>...</td>\n",
       "      <td>...</td>\n",
       "      <td>...</td>\n",
       "      <td>...</td>\n",
       "      <td>...</td>\n",
       "      <td>...</td>\n",
       "      <td>...</td>\n",
       "      <td>...</td>\n",
       "      <td>...</td>\n",
       "      <td>...</td>\n",
       "      <td>...</td>\n",
       "      <td>...</td>\n",
       "      <td>...</td>\n",
       "      <td>...</td>\n",
       "      <td>...</td>\n",
       "      <td>...</td>\n",
       "      <td>...</td>\n",
       "      <td>...</td>\n",
       "      <td>...</td>\n",
       "      <td>...</td>\n",
       "      <td>...</td>\n",
       "      <td>...</td>\n",
       "      <td>...</td>\n",
       "      <td>...</td>\n",
       "      <td>...</td>\n",
       "      <td>...</td>\n",
       "      <td>...</td>\n",
       "      <td>...</td>\n",
       "      <td>...</td>\n",
       "      <td>...</td>\n",
       "      <td>...</td>\n",
       "      <td>...</td>\n",
       "      <td>...</td>\n",
       "      <td>...</td>\n",
       "      <td>...</td>\n",
       "      <td>...</td>\n",
       "      <td>...</td>\n",
       "      <td>...</td>\n",
       "      <td>...</td>\n",
       "      <td>...</td>\n",
       "      <td>...</td>\n",
       "      <td>...</td>\n",
       "      <td>...</td>\n",
       "      <td>...</td>\n",
       "      <td>...</td>\n",
       "      <td>...</td>\n",
       "      <td>...</td>\n",
       "      <td>...</td>\n",
       "      <td>...</td>\n",
       "      <td>...</td>\n",
       "      <td>...</td>\n",
       "      <td>...</td>\n",
       "      <td>...</td>\n",
       "      <td>...</td>\n",
       "      <td>...</td>\n",
       "      <td>...</td>\n",
       "      <td>...</td>\n",
       "      <td>...</td>\n",
       "      <td>...</td>\n",
       "      <td>...</td>\n",
       "    </tr>\n",
       "    <tr>\n",
       "      <th>784</th>\n",
       "      <td>0.0</td>\n",
       "      <td>0.0</td>\n",
       "      <td>0.0</td>\n",
       "      <td>0.0</td>\n",
       "      <td>0.0</td>\n",
       "      <td>0.0</td>\n",
       "      <td>0.0</td>\n",
       "      <td>0.0</td>\n",
       "      <td>0.0</td>\n",
       "      <td>0.0</td>\n",
       "      <td>0.0</td>\n",
       "      <td>0.0</td>\n",
       "      <td>0.0</td>\n",
       "      <td>0.0</td>\n",
       "      <td>0.0</td>\n",
       "      <td>0.0</td>\n",
       "      <td>0.0</td>\n",
       "      <td>0.0</td>\n",
       "      <td>0.0</td>\n",
       "      <td>0.0</td>\n",
       "      <td>0.0</td>\n",
       "      <td>0.0</td>\n",
       "      <td>0.0</td>\n",
       "      <td>0.0</td>\n",
       "      <td>0.0</td>\n",
       "      <td>0.0</td>\n",
       "      <td>0.0</td>\n",
       "      <td>0.0</td>\n",
       "      <td>0.0</td>\n",
       "      <td>0.0</td>\n",
       "      <td>0.0</td>\n",
       "      <td>0.0</td>\n",
       "      <td>0.0</td>\n",
       "      <td>0.0</td>\n",
       "      <td>0.0</td>\n",
       "      <td>0.0</td>\n",
       "      <td>0.0</td>\n",
       "      <td>0.0</td>\n",
       "      <td>0.0</td>\n",
       "      <td>0.0</td>\n",
       "      <td>...</td>\n",
       "      <td>0.0</td>\n",
       "      <td>0.0</td>\n",
       "      <td>0.0</td>\n",
       "      <td>0.0</td>\n",
       "      <td>0.0</td>\n",
       "      <td>0.0</td>\n",
       "      <td>0.0</td>\n",
       "      <td>0.0</td>\n",
       "      <td>0.0</td>\n",
       "      <td>0.0</td>\n",
       "      <td>0.0</td>\n",
       "      <td>0.0</td>\n",
       "      <td>0.0</td>\n",
       "      <td>0.0</td>\n",
       "      <td>0.0</td>\n",
       "      <td>0.0</td>\n",
       "      <td>0.0</td>\n",
       "      <td>0.0</td>\n",
       "      <td>0.0</td>\n",
       "      <td>0.0</td>\n",
       "      <td>0.0</td>\n",
       "      <td>0.0</td>\n",
       "      <td>0.0</td>\n",
       "      <td>0.0</td>\n",
       "      <td>0.0</td>\n",
       "      <td>0.0</td>\n",
       "      <td>0.0</td>\n",
       "      <td>0.0</td>\n",
       "      <td>0.0</td>\n",
       "      <td>0.0</td>\n",
       "      <td>0.0</td>\n",
       "      <td>0.0</td>\n",
       "      <td>0.0</td>\n",
       "      <td>0.0</td>\n",
       "      <td>0.0</td>\n",
       "      <td>0.0</td>\n",
       "      <td>0.0</td>\n",
       "      <td>0.0</td>\n",
       "      <td>0.0</td>\n",
       "      <td>0.0</td>\n",
       "    </tr>\n",
       "    <tr>\n",
       "      <th>785</th>\n",
       "      <td>0.0</td>\n",
       "      <td>0.0</td>\n",
       "      <td>0.0</td>\n",
       "      <td>0.0</td>\n",
       "      <td>0.0</td>\n",
       "      <td>0.0</td>\n",
       "      <td>0.0</td>\n",
       "      <td>0.0</td>\n",
       "      <td>0.0</td>\n",
       "      <td>0.0</td>\n",
       "      <td>0.0</td>\n",
       "      <td>0.0</td>\n",
       "      <td>0.0</td>\n",
       "      <td>0.0</td>\n",
       "      <td>0.0</td>\n",
       "      <td>0.0</td>\n",
       "      <td>0.0</td>\n",
       "      <td>0.0</td>\n",
       "      <td>0.0</td>\n",
       "      <td>0.0</td>\n",
       "      <td>0.0</td>\n",
       "      <td>0.0</td>\n",
       "      <td>0.0</td>\n",
       "      <td>0.0</td>\n",
       "      <td>0.0</td>\n",
       "      <td>0.0</td>\n",
       "      <td>0.0</td>\n",
       "      <td>0.0</td>\n",
       "      <td>0.0</td>\n",
       "      <td>0.0</td>\n",
       "      <td>0.0</td>\n",
       "      <td>0.0</td>\n",
       "      <td>0.0</td>\n",
       "      <td>0.0</td>\n",
       "      <td>0.0</td>\n",
       "      <td>0.0</td>\n",
       "      <td>0.0</td>\n",
       "      <td>0.0</td>\n",
       "      <td>0.0</td>\n",
       "      <td>0.0</td>\n",
       "      <td>...</td>\n",
       "      <td>0.0</td>\n",
       "      <td>0.0</td>\n",
       "      <td>0.0</td>\n",
       "      <td>0.0</td>\n",
       "      <td>0.0</td>\n",
       "      <td>0.0</td>\n",
       "      <td>0.0</td>\n",
       "      <td>0.0</td>\n",
       "      <td>0.0</td>\n",
       "      <td>0.0</td>\n",
       "      <td>0.0</td>\n",
       "      <td>0.0</td>\n",
       "      <td>0.0</td>\n",
       "      <td>0.0</td>\n",
       "      <td>0.0</td>\n",
       "      <td>0.0</td>\n",
       "      <td>0.0</td>\n",
       "      <td>0.0</td>\n",
       "      <td>0.0</td>\n",
       "      <td>0.0</td>\n",
       "      <td>0.0</td>\n",
       "      <td>0.0</td>\n",
       "      <td>0.0</td>\n",
       "      <td>0.0</td>\n",
       "      <td>0.0</td>\n",
       "      <td>0.0</td>\n",
       "      <td>0.0</td>\n",
       "      <td>0.0</td>\n",
       "      <td>0.0</td>\n",
       "      <td>0.0</td>\n",
       "      <td>0.0</td>\n",
       "      <td>0.0</td>\n",
       "      <td>0.0</td>\n",
       "      <td>0.0</td>\n",
       "      <td>0.0</td>\n",
       "      <td>0.0</td>\n",
       "      <td>0.0</td>\n",
       "      <td>0.0</td>\n",
       "      <td>0.0</td>\n",
       "      <td>0.0</td>\n",
       "    </tr>\n",
       "    <tr>\n",
       "      <th>786</th>\n",
       "      <td>0.0</td>\n",
       "      <td>0.0</td>\n",
       "      <td>0.0</td>\n",
       "      <td>0.0</td>\n",
       "      <td>0.0</td>\n",
       "      <td>0.0</td>\n",
       "      <td>0.0</td>\n",
       "      <td>0.0</td>\n",
       "      <td>0.0</td>\n",
       "      <td>0.0</td>\n",
       "      <td>0.0</td>\n",
       "      <td>0.0</td>\n",
       "      <td>0.0</td>\n",
       "      <td>0.0</td>\n",
       "      <td>0.0</td>\n",
       "      <td>0.0</td>\n",
       "      <td>0.0</td>\n",
       "      <td>0.0</td>\n",
       "      <td>0.0</td>\n",
       "      <td>0.0</td>\n",
       "      <td>0.0</td>\n",
       "      <td>0.0</td>\n",
       "      <td>0.0</td>\n",
       "      <td>0.0</td>\n",
       "      <td>0.0</td>\n",
       "      <td>0.0</td>\n",
       "      <td>0.0</td>\n",
       "      <td>0.0</td>\n",
       "      <td>0.0</td>\n",
       "      <td>0.0</td>\n",
       "      <td>0.0</td>\n",
       "      <td>0.0</td>\n",
       "      <td>0.0</td>\n",
       "      <td>0.0</td>\n",
       "      <td>0.0</td>\n",
       "      <td>0.0</td>\n",
       "      <td>0.0</td>\n",
       "      <td>0.0</td>\n",
       "      <td>0.0</td>\n",
       "      <td>0.0</td>\n",
       "      <td>...</td>\n",
       "      <td>0.0</td>\n",
       "      <td>0.0</td>\n",
       "      <td>0.0</td>\n",
       "      <td>0.0</td>\n",
       "      <td>0.0</td>\n",
       "      <td>0.0</td>\n",
       "      <td>0.0</td>\n",
       "      <td>0.0</td>\n",
       "      <td>0.0</td>\n",
       "      <td>0.0</td>\n",
       "      <td>0.0</td>\n",
       "      <td>0.0</td>\n",
       "      <td>0.0</td>\n",
       "      <td>0.0</td>\n",
       "      <td>0.0</td>\n",
       "      <td>0.0</td>\n",
       "      <td>0.0</td>\n",
       "      <td>0.0</td>\n",
       "      <td>0.0</td>\n",
       "      <td>0.0</td>\n",
       "      <td>0.0</td>\n",
       "      <td>0.0</td>\n",
       "      <td>0.0</td>\n",
       "      <td>0.0</td>\n",
       "      <td>0.0</td>\n",
       "      <td>0.0</td>\n",
       "      <td>0.0</td>\n",
       "      <td>0.0</td>\n",
       "      <td>0.0</td>\n",
       "      <td>0.0</td>\n",
       "      <td>0.0</td>\n",
       "      <td>0.0</td>\n",
       "      <td>0.0</td>\n",
       "      <td>0.0</td>\n",
       "      <td>0.0</td>\n",
       "      <td>0.0</td>\n",
       "      <td>0.0</td>\n",
       "      <td>0.0</td>\n",
       "      <td>0.0</td>\n",
       "      <td>0.0</td>\n",
       "    </tr>\n",
       "    <tr>\n",
       "      <th>787</th>\n",
       "      <td>0.0</td>\n",
       "      <td>0.0</td>\n",
       "      <td>0.0</td>\n",
       "      <td>0.0</td>\n",
       "      <td>0.0</td>\n",
       "      <td>0.0</td>\n",
       "      <td>0.0</td>\n",
       "      <td>0.0</td>\n",
       "      <td>0.0</td>\n",
       "      <td>0.0</td>\n",
       "      <td>0.0</td>\n",
       "      <td>0.0</td>\n",
       "      <td>0.0</td>\n",
       "      <td>0.0</td>\n",
       "      <td>0.0</td>\n",
       "      <td>0.0</td>\n",
       "      <td>0.0</td>\n",
       "      <td>0.0</td>\n",
       "      <td>0.0</td>\n",
       "      <td>0.0</td>\n",
       "      <td>0.0</td>\n",
       "      <td>0.0</td>\n",
       "      <td>0.0</td>\n",
       "      <td>0.0</td>\n",
       "      <td>0.0</td>\n",
       "      <td>0.0</td>\n",
       "      <td>0.0</td>\n",
       "      <td>0.0</td>\n",
       "      <td>0.0</td>\n",
       "      <td>0.0</td>\n",
       "      <td>0.0</td>\n",
       "      <td>0.0</td>\n",
       "      <td>0.0</td>\n",
       "      <td>0.0</td>\n",
       "      <td>0.0</td>\n",
       "      <td>0.0</td>\n",
       "      <td>0.0</td>\n",
       "      <td>0.0</td>\n",
       "      <td>0.0</td>\n",
       "      <td>0.0</td>\n",
       "      <td>...</td>\n",
       "      <td>0.0</td>\n",
       "      <td>0.0</td>\n",
       "      <td>0.0</td>\n",
       "      <td>0.0</td>\n",
       "      <td>0.0</td>\n",
       "      <td>0.0</td>\n",
       "      <td>0.0</td>\n",
       "      <td>0.0</td>\n",
       "      <td>0.0</td>\n",
       "      <td>0.0</td>\n",
       "      <td>0.0</td>\n",
       "      <td>0.0</td>\n",
       "      <td>0.0</td>\n",
       "      <td>0.0</td>\n",
       "      <td>0.0</td>\n",
       "      <td>0.0</td>\n",
       "      <td>0.0</td>\n",
       "      <td>0.0</td>\n",
       "      <td>0.0</td>\n",
       "      <td>0.0</td>\n",
       "      <td>0.0</td>\n",
       "      <td>0.0</td>\n",
       "      <td>0.0</td>\n",
       "      <td>0.0</td>\n",
       "      <td>0.0</td>\n",
       "      <td>0.0</td>\n",
       "      <td>0.0</td>\n",
       "      <td>0.0</td>\n",
       "      <td>0.0</td>\n",
       "      <td>0.0</td>\n",
       "      <td>0.0</td>\n",
       "      <td>0.0</td>\n",
       "      <td>0.0</td>\n",
       "      <td>0.0</td>\n",
       "      <td>0.0</td>\n",
       "      <td>0.0</td>\n",
       "      <td>0.0</td>\n",
       "      <td>0.0</td>\n",
       "      <td>0.0</td>\n",
       "      <td>0.0</td>\n",
       "    </tr>\n",
       "    <tr>\n",
       "      <th>788</th>\n",
       "      <td>0.0</td>\n",
       "      <td>0.0</td>\n",
       "      <td>0.0</td>\n",
       "      <td>0.0</td>\n",
       "      <td>0.0</td>\n",
       "      <td>0.0</td>\n",
       "      <td>0.0</td>\n",
       "      <td>0.0</td>\n",
       "      <td>0.0</td>\n",
       "      <td>0.0</td>\n",
       "      <td>0.0</td>\n",
       "      <td>0.0</td>\n",
       "      <td>0.0</td>\n",
       "      <td>0.0</td>\n",
       "      <td>0.0</td>\n",
       "      <td>0.0</td>\n",
       "      <td>0.0</td>\n",
       "      <td>0.0</td>\n",
       "      <td>0.0</td>\n",
       "      <td>0.0</td>\n",
       "      <td>0.0</td>\n",
       "      <td>0.0</td>\n",
       "      <td>0.0</td>\n",
       "      <td>0.0</td>\n",
       "      <td>0.0</td>\n",
       "      <td>0.0</td>\n",
       "      <td>0.0</td>\n",
       "      <td>0.0</td>\n",
       "      <td>0.0</td>\n",
       "      <td>0.0</td>\n",
       "      <td>0.0</td>\n",
       "      <td>0.0</td>\n",
       "      <td>0.0</td>\n",
       "      <td>0.0</td>\n",
       "      <td>0.0</td>\n",
       "      <td>0.0</td>\n",
       "      <td>0.0</td>\n",
       "      <td>0.0</td>\n",
       "      <td>0.0</td>\n",
       "      <td>0.0</td>\n",
       "      <td>...</td>\n",
       "      <td>0.0</td>\n",
       "      <td>0.0</td>\n",
       "      <td>0.0</td>\n",
       "      <td>0.0</td>\n",
       "      <td>0.0</td>\n",
       "      <td>0.0</td>\n",
       "      <td>0.0</td>\n",
       "      <td>0.0</td>\n",
       "      <td>0.0</td>\n",
       "      <td>0.0</td>\n",
       "      <td>0.0</td>\n",
       "      <td>0.0</td>\n",
       "      <td>0.0</td>\n",
       "      <td>0.0</td>\n",
       "      <td>0.0</td>\n",
       "      <td>0.0</td>\n",
       "      <td>0.0</td>\n",
       "      <td>0.0</td>\n",
       "      <td>0.0</td>\n",
       "      <td>0.0</td>\n",
       "      <td>0.0</td>\n",
       "      <td>0.0</td>\n",
       "      <td>0.0</td>\n",
       "      <td>0.0</td>\n",
       "      <td>0.0</td>\n",
       "      <td>0.0</td>\n",
       "      <td>0.0</td>\n",
       "      <td>0.0</td>\n",
       "      <td>0.0</td>\n",
       "      <td>0.0</td>\n",
       "      <td>0.0</td>\n",
       "      <td>0.0</td>\n",
       "      <td>0.0</td>\n",
       "      <td>0.0</td>\n",
       "      <td>0.0</td>\n",
       "      <td>0.0</td>\n",
       "      <td>0.0</td>\n",
       "      <td>0.0</td>\n",
       "      <td>0.0</td>\n",
       "      <td>0.0</td>\n",
       "    </tr>\n",
       "  </tbody>\n",
       "</table>\n",
       "<p>789 rows × 1494 columns</p>\n",
       "</div>"
      ],
      "text/plain": [
       "     adani  adani ports  adani ports special  ...  හර සහ කළ   ළඟ  ළඟ සහ\n",
       "0      0.0          0.0                  0.0  ...       0.0  0.0    0.0\n",
       "1      0.0          0.0                  0.0  ...       0.0  0.0    0.0\n",
       "2      0.0          0.0                  0.0  ...       0.0  0.0    0.0\n",
       "3      0.0          0.0                  0.0  ...       0.0  0.0    0.0\n",
       "4      0.0          0.0                  0.0  ...       0.0  0.0    0.0\n",
       "..     ...          ...                  ...  ...       ...  ...    ...\n",
       "784    0.0          0.0                  0.0  ...       0.0  0.0    0.0\n",
       "785    0.0          0.0                  0.0  ...       0.0  0.0    0.0\n",
       "786    0.0          0.0                  0.0  ...       0.0  0.0    0.0\n",
       "787    0.0          0.0                  0.0  ...       0.0  0.0    0.0\n",
       "788    0.0          0.0                  0.0  ...       0.0  0.0    0.0\n",
       "\n",
       "[789 rows x 1494 columns]"
      ]
     },
     "execution_count": 27,
     "metadata": {},
     "output_type": "execute_result"
    }
   ],
   "source": [
    "pd.DataFrame(tfidf_matrix.toarray(), columns=tf.get_feature_names())"
   ]
  },
  {
   "cell_type": "code",
   "execution_count": 28,
   "metadata": {
    "executionInfo": {
     "elapsed": 572,
     "status": "ok",
     "timestamp": 1631273983991,
     "user": {
      "displayName": "Fighting",
      "photoUrl": "https://lh3.googleusercontent.com/a-/AOh14GgyjmB7WNJgSQOE0Te2JHfuvxzMXMjblBryL0x6pA=s64",
      "userId": "11759946499048900849"
     },
     "user_tz": -330
    },
    "id": "DKIVx4aoUAgc"
   },
   "outputs": [],
   "source": [
    "cosine_similarities = linear_kernel(tfidf_matrix, tfidf_matrix)"
   ]
  },
  {
   "cell_type": "code",
   "execution_count": 29,
   "metadata": {
    "colab": {
     "base_uri": "https://localhost:8080/"
    },
    "executionInfo": {
     "elapsed": 792,
     "status": "ok",
     "timestamp": 1631273985670,
     "user": {
      "displayName": "Fighting",
      "photoUrl": "https://lh3.googleusercontent.com/a-/AOh14GgyjmB7WNJgSQOE0Te2JHfuvxzMXMjblBryL0x6pA=s64",
      "userId": "11759946499048900849"
     },
     "user_tz": -330
    },
    "id": "yN6_nkR9UAnK",
    "outputId": "d678b114-691e-4839-d2b7-77593049aa6d"
   },
   "outputs": [
    {
     "data": {
      "text/plain": [
       "array([[1.        , 0.        , 0.16227411, ..., 0.        , 0.        ,\n",
       "        0.        ],\n",
       "       [0.        , 1.        , 0.        , ..., 0.        , 0.        ,\n",
       "        0.        ],\n",
       "       [0.16227411, 0.        , 1.        , ..., 0.        , 0.        ,\n",
       "        0.        ],\n",
       "       ...,\n",
       "       [0.        , 0.        , 0.        , ..., 0.        , 0.        ,\n",
       "        0.        ],\n",
       "       [0.        , 0.        , 0.        , ..., 0.        , 1.        ,\n",
       "        0.        ],\n",
       "       [0.        , 0.        , 0.        , ..., 0.        , 0.        ,\n",
       "        1.        ]])"
      ]
     },
     "execution_count": 29,
     "metadata": {},
     "output_type": "execute_result"
    }
   ],
   "source": [
    "cosine_similarities"
   ]
  },
  {
   "cell_type": "code",
   "execution_count": 30,
   "metadata": {
    "executionInfo": {
     "elapsed": 5,
     "status": "ok",
     "timestamp": 1631273986136,
     "user": {
      "displayName": "Fighting",
      "photoUrl": "https://lh3.googleusercontent.com/a-/AOh14GgyjmB7WNJgSQOE0Te2JHfuvxzMXMjblBryL0x6pA=s64",
      "userId": "11759946499048900849"
     },
     "user_tz": -330
    },
    "id": "pRfr-cI3UpO8"
   },
   "outputs": [],
   "source": [
    "def recomendation(idx,no_of_news_article):\n",
    "    #get similarity values with other articles\n",
    "    similarity_score = list(enumerate(cosine_similarities[idx]))\n",
    "    similarity_score = sorted(similarity_score, key=lambda x: x[1], reverse=True)\n",
    "    # Get the scores of the n most similar news articles. Ignore the first News\n",
    "    similarity_score = similarity_score[1:no_of_news_article+1]\n",
    "    \n",
    "    print(\"Article Read -- \" + \" Category --\"+ ds['Category'].iloc[idx])\n",
    "    print(\" --------------------------------------------------------------------------------------------------------------------------------------- \")\n",
    "    news_indices = [i[0] for i in similarity_score]\n",
    "    for i in range(len(news_indices)):\n",
    "        print(\"Recomendation \"+ str(i+1)+\" --- \" +str(news_indices[i])+\"(IDX)  \"+str(ds['date'].iloc[news_indices[i]])+\" : \"+\n",
    "              ds['title'].iloc[news_indices[i]] +\" || Category --\"+ ds['Category'].iloc[news_indices[i]] +\" score -- \"+ str(similarity_score[i][1]))\n",
    "        print()"
   ]
  },
  {
   "cell_type": "code",
   "execution_count": 31,
   "metadata": {
    "colab": {
     "base_uri": "https://localhost:8080/"
    },
    "executionInfo": {
     "elapsed": 479,
     "status": "ok",
     "timestamp": 1631273993310,
     "user": {
      "displayName": "Fighting",
      "photoUrl": "https://lh3.googleusercontent.com/a-/AOh14GgyjmB7WNJgSQOE0Te2JHfuvxzMXMjblBryL0x6pA=s64",
      "userId": "11759946499048900849"
     },
     "user_tz": -330
    },
    "id": "sTmfLiypjEue",
    "outputId": "e5bd5f64-e38e-4386-8268-6c7bb4708ca4"
   },
   "outputs": [
    {
     "name": "stdout",
     "output_type": "stream",
     "text": [
      "Article Read --  Category --Local News\n",
      " --------------------------------------------------------------------------------------------------------------------------------------- \n",
      "Recomendation 1 --- 162(IDX)  18-Aug-21 : පළාත් අතර සංචරණයට අවසර ලැබෙන්නේ මේ කණ්ඩායම්වලට පමණයි || Category --Local News score -- 0.6264833921441291\n",
      "\n",
      "Recomendation 2 --- 451(IDX)  31-Aug-21 : මැකීගිය NMRA දත්ත ගැන අනාවරණයක් || Category --Local News score -- 0.2887756501516769\n",
      "\n",
      "Recomendation 3 --- 0(IDX)  23-Jun-21 : දිස්ත්‍රික්ක 3ක ප්‍රදේශ කිහිපයක් හුදකලා කෙරේ || Category --Local News score -- 0.0\n",
      "\n",
      "Recomendation 4 --- 2(IDX)  23-Jun-21 : ආසාදිතයින් 2,205 ක් || Category --Local News score -- 0.0\n",
      "\n",
      "Recomendation 5 --- 3(IDX)  24-Jun-21 : ප්‍රවීණ නර්නත ශිල්පී කුලසිරි බුදවත්ත අභාවප්‍රාප්ත වෙයි || Category --Local News score -- 0.0\n",
      "\n",
      "Recomendation 6 --- 4(IDX)  23-Jun-21 : අපනයන ආදායමේ සියයට 33ක වර්ධනයක් || Category --Local News score -- 0.0\n",
      "\n",
      "Recomendation 7 --- 5(IDX)  23-Jun-21 : නීතිවිරෝධී ලෙස අපනයනයට සුදානම් වු හක් බෙල්ලන් තොගයක් || Category --Local News score -- 0.0\n",
      "\n",
      "Recomendation 8 --- 6(IDX)  23-Jun-21 : අපට මේ රට බේරගන්න පුළුවන් -සෞඛ්‍ය ඇමතිනිය || Category --Local News score -- 0.0\n",
      "\n",
      "Recomendation 9 --- 7(IDX)  23-Jun-21 : ආසාදිතයින් 40ක් එකවර වාර්තා වූ ගමක් || Category --Local News score -- 0.0\n",
      "\n",
      "Recomendation 10 --- 8(IDX)  23-Jun-21 : තරුණියක් සමග මෝටර් රථයක් පැහැරගනී || Category --Local News score -- 0.0\n",
      "\n"
     ]
    }
   ],
   "source": [
    "idx=1\n",
    "no_of_news_article=10\n",
    "recomendation(idx,no_of_news_article)"
   ]
  },
  {
   "cell_type": "code",
   "execution_count": 32,
   "metadata": {
    "colab": {
     "base_uri": "https://localhost:8080/"
    },
    "executionInfo": {
     "elapsed": 691,
     "status": "ok",
     "timestamp": 1631273999306,
     "user": {
      "displayName": "Fighting",
      "photoUrl": "https://lh3.googleusercontent.com/a-/AOh14GgyjmB7WNJgSQOE0Te2JHfuvxzMXMjblBryL0x6pA=s64",
      "userId": "11759946499048900849"
     },
     "user_tz": -330
    },
    "id": "fwLn7PXBwpxJ",
    "outputId": "a7d697cd-33b9-475e-ba60-fec1cca4f431"
   },
   "outputs": [
    {
     "data": {
      "text/plain": [
       "<pandas.core.groupby.generic.SeriesGroupBy object at 0x7f31a7e5d1d0>"
      ]
     },
     "execution_count": 32,
     "metadata": {},
     "output_type": "execute_result"
    }
   ],
   "source": [
    " data.groupby('Category') ['title']"
   ]
  },
  {
   "cell_type": "code",
   "execution_count": 33,
   "metadata": {
    "colab": {
     "base_uri": "https://localhost:8080/"
    },
    "executionInfo": {
     "elapsed": 4,
     "status": "ok",
     "timestamp": 1631273999744,
     "user": {
      "displayName": "Fighting",
      "photoUrl": "https://lh3.googleusercontent.com/a-/AOh14GgyjmB7WNJgSQOE0Te2JHfuvxzMXMjblBryL0x6pA=s64",
      "userId": "11759946499048900849"
     },
     "user_tz": -330
    },
    "id": "d2RefXi18yqR",
    "outputId": "a9de93d0-bb88-4a9b-d90b-830d74c13e8a"
   },
   "outputs": [
    {
     "data": {
      "text/plain": [
       "Entertainment News    199\n",
       "Local News            197\n",
       "Foreign News          155\n",
       "Sports News           150\n",
       "BIZ News               88\n",
       "Name: Category, dtype: int64"
      ]
     },
     "execution_count": 33,
     "metadata": {},
     "output_type": "execute_result"
    }
   ],
   "source": [
    "data['Category'].value_counts().head(5)"
   ]
  },
  {
   "cell_type": "code",
   "execution_count": 34,
   "metadata": {
    "executionInfo": {
     "elapsed": 1,
     "status": "ok",
     "timestamp": 1631274002545,
     "user": {
      "displayName": "Fighting",
      "photoUrl": "https://lh3.googleusercontent.com/a-/AOh14GgyjmB7WNJgSQOE0Te2JHfuvxzMXMjblBryL0x6pA=s64",
      "userId": "11759946499048900849"
     },
     "user_tz": -330
    },
    "id": "4RjP-Sdm3MJ_"
   },
   "outputs": [],
   "source": [
    "data = data[(data['Category']=='Local News') |(data['Category']=='Sports News') |(data['Category']=='Foreign News') |(data['Category']=='BIZ News')|(data['Category']=='Entertainment News')].reset_index(drop=True)\n",
    " "
   ]
  },
  {
   "cell_type": "code",
   "execution_count": 35,
   "metadata": {
    "colab": {
     "base_uri": "https://localhost:8080/",
     "height": 204
    },
    "executionInfo": {
     "elapsed": 3,
     "status": "ok",
     "timestamp": 1631274003028,
     "user": {
      "displayName": "Fighting",
      "photoUrl": "https://lh3.googleusercontent.com/a-/AOh14GgyjmB7WNJgSQOE0Te2JHfuvxzMXMjblBryL0x6pA=s64",
      "userId": "11759946499048900849"
     },
     "user_tz": -330
    },
    "id": "mVm-ZxmvOJBY",
    "outputId": "c2d01b42-9343-4990-f258-0385210eef39"
   },
   "outputs": [
    {
     "data": {
      "text/html": [
       "<div>\n",
       "<style scoped>\n",
       "    .dataframe tbody tr th:only-of-type {\n",
       "        vertical-align: middle;\n",
       "    }\n",
       "\n",
       "    .dataframe tbody tr th {\n",
       "        vertical-align: top;\n",
       "    }\n",
       "\n",
       "    .dataframe thead th {\n",
       "        text-align: right;\n",
       "    }\n",
       "</style>\n",
       "<table border=\"1\" class=\"dataframe\">\n",
       "  <thead>\n",
       "    <tr style=\"text-align: right;\">\n",
       "      <th></th>\n",
       "      <th>id</th>\n",
       "      <th>ID</th>\n",
       "      <th>text</th>\n",
       "      <th>title</th>\n",
       "      <th>date</th>\n",
       "      <th>Category</th>\n",
       "      <th>Views</th>\n",
       "    </tr>\n",
       "  </thead>\n",
       "  <tbody>\n",
       "    <tr>\n",
       "      <th>0</th>\n",
       "      <td>0</td>\n",
       "      <td>1.0</td>\n",
       "      <td>අද (24) අලුයම 6.00 සිට ක්‍රියාත්මක වන පරිදි තව...</td>\n",
       "      <td>දිස්ත්‍රික්ක 3ක ප්‍රදේශ කිහිපයක් හුදකලා කෙරේ</td>\n",
       "      <td>23-Jun-21</td>\n",
       "      <td>Local News</td>\n",
       "      <td>720.0</td>\n",
       "    </tr>\n",
       "    <tr>\n",
       "      <th>1</th>\n",
       "      <td>1</td>\n",
       "      <td>2.0</td>\n",
       "      <td>බුස්ස අධිආරක්ෂිත බන්ධනාගාරයේ රඳවා ඇති \"විශේෂ ඝ...</td>\n",
       "      <td>විශේෂ ඝනයේ සැකකරුවන්ට පොසොන් පොහොයට සිල් සමාදන...</td>\n",
       "      <td>23-Jun-21</td>\n",
       "      <td>Local News</td>\n",
       "      <td>250.0</td>\n",
       "    </tr>\n",
       "    <tr>\n",
       "      <th>2</th>\n",
       "      <td>2</td>\n",
       "      <td>3.0</td>\n",
       "      <td>අද (23) තවත් කොවිඩ් ආසාදිතයින්  820 දෙනෙකු අලු...</td>\n",
       "      <td>ආසාදිතයින් 2,205 ක්</td>\n",
       "      <td>23-Jun-21</td>\n",
       "      <td>Local News</td>\n",
       "      <td>460.0</td>\n",
       "    </tr>\n",
       "    <tr>\n",
       "      <th>3</th>\n",
       "      <td>3</td>\n",
       "      <td>4.0</td>\n",
       "      <td>ප්‍රවීණ නර්තන ආචාර්ය කුලසිරි බුදවත්ත මහතා අභාව...</td>\n",
       "      <td>ප්‍රවීණ නර්නත ශිල්පී කුලසිරි බුදවත්ත අභාවප්‍රා...</td>\n",
       "      <td>24-Jun-21</td>\n",
       "      <td>Local News</td>\n",
       "      <td>520.0</td>\n",
       "    </tr>\n",
       "    <tr>\n",
       "      <th>4</th>\n",
       "      <td>4</td>\n",
       "      <td>5.0</td>\n",
       "      <td>කොවිඩ් වසංගතය මධ්‍යයේ වුවද පසුගිය වසරට සාපේක්ෂ...</td>\n",
       "      <td>අපනයන ආදායමේ සියයට 33ක වර්ධනයක්</td>\n",
       "      <td>23-Jun-21</td>\n",
       "      <td>Local News</td>\n",
       "      <td>960.0</td>\n",
       "    </tr>\n",
       "  </tbody>\n",
       "</table>\n",
       "</div>"
      ],
      "text/plain": [
       "   id   ID  ...    Category  Views\n",
       "0   0  1.0  ...  Local News  720.0\n",
       "1   1  2.0  ...  Local News  250.0\n",
       "2   2  3.0  ...  Local News  460.0\n",
       "3   3  4.0  ...  Local News  520.0\n",
       "4   4  5.0  ...  Local News  960.0\n",
       "\n",
       "[5 rows x 7 columns]"
      ]
     },
     "execution_count": 35,
     "metadata": {},
     "output_type": "execute_result"
    }
   ],
   "source": [
    "data.head()"
   ]
  },
  {
   "cell_type": "code",
   "execution_count": null,
   "metadata": {
    "id": "zxsv-zJkNRDo"
   },
   "outputs": [],
   "source": []
  },
  {
   "cell_type": "code",
   "execution_count": null,
   "metadata": {
    "id": "1XNnlU6HNRG_"
   },
   "outputs": [],
   "source": []
  },
  {
   "cell_type": "code",
   "execution_count": null,
   "metadata": {
    "id": "puLZ3smFNRLf"
   },
   "outputs": [],
   "source": []
  },
  {
   "cell_type": "code",
   "execution_count": null,
   "metadata": {
    "id": "iofoD9nGNRNz"
   },
   "outputs": [],
   "source": []
  },
  {
   "cell_type": "code",
   "execution_count": null,
   "metadata": {
    "id": "o1pWLc7VNRRV"
   },
   "outputs": [],
   "source": []
  }
 ],
 "metadata": {
  "colab": {
   "collapsed_sections": [],
   "name": "Recommendation_System.ipynb",
   "provenance": []
  },
  "kernelspec": {
   "display_name": "Python 3 (ipykernel)",
   "language": "python",
   "name": "python3"
  },
  "language_info": {
   "codemirror_mode": {
    "name": "ipython",
    "version": 3
   },
   "file_extension": ".py",
   "mimetype": "text/x-python",
   "name": "python",
   "nbconvert_exporter": "python",
   "pygments_lexer": "ipython3",
   "version": "3.8.11"
  }
 },
 "nbformat": 4,
 "nbformat_minor": 1
}
