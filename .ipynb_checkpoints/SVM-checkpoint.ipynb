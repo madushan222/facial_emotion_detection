{
 "cells": [
  {
   "cell_type": "code",
   "execution_count": 1,
   "metadata": {},
   "outputs": [],
   "source": [
    "#import\n",
    "import numpy as np\n",
    "import pandas as pd\n",
    "\n",
    "from sklearn.feature_extraction.text import CountVectorizer\n",
    "from sklearn.pipeline import Pipeline\n",
    "from sklearn.svm import LinearSVC\n",
    "from sklearn.feature_extraction.text import TfidfTransformer\n",
    "from sklearn.model_selection import train_test_split\n",
    "from sklearn.model_selection import GridSearchCV\n",
    "from sklearn import metrics\n",
    "from sklearn.metrics import confusion_matrix\n",
    "from sklearn.metrics import classification_report \n",
    "\n",
    "import matplotlib.pyplot as plt\n",
    "import seaborn as sns \n",
    "import time\n",
    "import re\n",
    "import nltk\n",
    "import warnings\n",
    "warnings.filterwarnings(\"ignore\", category=FutureWarning)"
   ]
  },
  {
   "cell_type": "code",
   "execution_count": 2,
   "metadata": {},
   "outputs": [],
   "source": [
    "#upload dataset\n",
    "sin_doc = pd.read_csv('NewsCom.csv')"
   ]
  },
  {
   "cell_type": "code",
   "execution_count": 3,
   "metadata": {
    "scrolled": true
   },
   "outputs": [
    {
     "data": {
      "text/plain": [
       "(761, 2)"
      ]
     },
     "execution_count": 3,
     "metadata": {},
     "output_type": "execute_result"
    }
   ],
   "source": [
    "sin_doc = sin_doc.dropna()\n",
    "sin_doc.shape"
   ]
  },
  {
   "cell_type": "code",
   "execution_count": 4,
   "metadata": {
    "scrolled": false
   },
   "outputs": [
    {
     "data": {
      "text/html": [
       "<div>\n",
       "<style scoped>\n",
       "    .dataframe tbody tr th:only-of-type {\n",
       "        vertical-align: middle;\n",
       "    }\n",
       "\n",
       "    .dataframe tbody tr th {\n",
       "        vertical-align: top;\n",
       "    }\n",
       "\n",
       "    .dataframe thead th {\n",
       "        text-align: right;\n",
       "    }\n",
       "</style>\n",
       "<table border=\"1\" class=\"dataframe\">\n",
       "  <thead>\n",
       "    <tr style=\"text-align: right;\">\n",
       "      <th></th>\n",
       "      <th>label</th>\n",
       "      <th>comments</th>\n",
       "    </tr>\n",
       "  </thead>\n",
       "  <tbody>\n",
       "    <tr>\n",
       "      <th>0</th>\n",
       "      <td>neutral</td>\n",
       "      <td>දන්නා කෙනෙක් කියලා දෙන්නකෝ මේකේ සහනය</td>\n",
       "    </tr>\n",
       "    <tr>\n",
       "      <th>1</th>\n",
       "      <td>negative</td>\n",
       "      <td>අනේ උබලගේ බම්බුවේ සහන මල්ල වෙලක් කන්නත් මදි යක...</td>\n",
       "    </tr>\n",
       "    <tr>\n",
       "      <th>2</th>\n",
       "      <td>neutral</td>\n",
       "      <td>මෙ කීයපුව මල්ලෙ නෑනෙ</td>\n",
       "    </tr>\n",
       "    <tr>\n",
       "      <th>3</th>\n",
       "      <td>neutral</td>\n",
       "      <td>නොම්මරයක් ගන්න වෙයි ද පොලිමත් ඇති</td>\n",
       "    </tr>\n",
       "    <tr>\n",
       "      <th>4</th>\n",
       "      <td>neutral</td>\n",
       "      <td>69 ලක්ෂයට සැපද</td>\n",
       "    </tr>\n",
       "  </tbody>\n",
       "</table>\n",
       "</div>"
      ],
      "text/plain": [
       "      label                                           comments\n",
       "0   neutral               දන්නා කෙනෙක් කියලා දෙන්නකෝ මේකේ සහනය\n",
       "1  negative  අනේ උබලගේ බම්බුවේ සහන මල්ල වෙලක් කන්නත් මදි යක...\n",
       "2   neutral                               මෙ කීයපුව මල්ලෙ නෑනෙ\n",
       "3   neutral                 නොම්මරයක් ගන්න වෙයි ද පොලිමත් ඇති \n",
       "4   neutral                                     69 ලක්ෂයට සැපද"
      ]
     },
     "execution_count": 4,
     "metadata": {},
     "output_type": "execute_result"
    }
   ],
   "source": [
    "sin_doc.head()"
   ]
  },
  {
   "cell_type": "code",
   "execution_count": 5,
   "metadata": {
    "scrolled": false
   },
   "outputs": [
    {
     "data": {
      "text/plain": [
       "neutral     282\n",
       "positive    227\n",
       "negative    215\n",
       "bad word     37\n",
       "Name: label, dtype: int64"
      ]
     },
     "execution_count": 5,
     "metadata": {},
     "output_type": "execute_result"
    }
   ],
   "source": [
    "sin_doc['label'].value_counts()"
   ]
  },
  {
   "cell_type": "code",
   "execution_count": 6,
   "metadata": {},
   "outputs": [],
   "source": [
    "label_counts = pd.DataFrame(sin_doc.label.value_counts())"
   ]
  },
  {
   "cell_type": "code",
   "execution_count": 7,
   "metadata": {
    "scrolled": true
   },
   "outputs": [
    {
     "data": {
      "text/plain": [
       "<AxesSubplot:ylabel='label'>"
      ]
     },
     "execution_count": 7,
     "metadata": {},
     "output_type": "execute_result"
    },
    {
     "data": {
      "image/png": "[encoded data removed]",
      "text/plain": [
       "<Figure size 432x288 with 1 Axes>"
      ]
     },
     "metadata": {},
     "output_type": "display_data"
    }
   ],
   "source": [
    "sns.set_style('darkgrid')\n",
    "sns.barplot(label_counts.index,label_counts.label)"
   ]
  },
  {
   "cell_type": "code",
   "execution_count": 8,
   "metadata": {},
   "outputs": [],
   "source": [
    "def removing_unwanted_data(text):\n",
    "    \n",
    "    text = re.sub(r'https?:\\/\\/.*[\\r\\n]*', '', text, flags=re.MULTILINE)\n",
    "    text = re.sub(r'\\<a href', '', text)\n",
    "    text = re.sub(r'&amp;', '', text) \n",
    "    text = re.sub(r'[_\"\\-;%()|+&.,!?:#$@\\[\\]/]', ' ', text)\n",
    "    text = re.sub(r'<br />', '', text)\n",
    "    text = re.sub(r'\\'', ' ', text)\n",
    "                  \n",
    "    text = nltk.WordPunctTokenizer().tokenize(text)\n",
    "                  \n",
    "    return text "
   ]
  },
  {
   "cell_type": "code",
   "execution_count": 9,
   "metadata": {},
   "outputs": [],
   "source": [
    "sin_doc['text_cleaned'] = list(map(removing_unwanted_data,sin_doc.comments))"
   ]
  },
  {
   "cell_type": "code",
   "execution_count": 10,
   "metadata": {
    "scrolled": true
   },
   "outputs": [
    {
     "name": "stdout",
     "output_type": "stream",
     "text": [
      "Requirement already satisfied: sinling in c:\\users\\dulmini kalupahana\\anaconda3\\lib\\site-packages (0.3.6)\n",
      "Requirement already satisfied: joblib in c:\\users\\dulmini kalupahana\\anaconda3\\lib\\site-packages (from sinling) (0.17.0)\n",
      "Requirement already satisfied: pygtrie in c:\\users\\dulmini kalupahana\\anaconda3\\lib\\site-packages (from sinling) (2.4.2)\n",
      "Requirement already satisfied: nltk in c:\\users\\dulmini kalupahana\\anaconda3\\lib\\site-packages (from sinling) (3.5)\n",
      "Requirement already satisfied: emoji in c:\\users\\dulmini kalupahana\\anaconda3\\lib\\site-packages (from sinling) (1.2.0)\n",
      "Requirement already satisfied: sklearn-crfsuite in c:\\users\\dulmini kalupahana\\anaconda3\\lib\\site-packages (from sinling) (0.3.6)\n",
      "Requirement already satisfied: click in c:\\users\\dulmini kalupahana\\anaconda3\\lib\\site-packages (from nltk->sinling) (7.1.2)\n",
      "Requirement already satisfied: regex in c:\\users\\dulmini kalupahana\\anaconda3\\lib\\site-packages (from nltk->sinling) (2020.10.15)\n",
      "Requirement already satisfied: tqdm in c:\\users\\dulmini kalupahana\\anaconda3\\lib\\site-packages (from nltk->sinling) (4.50.2)\n",
      "Requirement already satisfied: python-crfsuite>=0.8.3 in c:\\users\\dulmini kalupahana\\anaconda3\\lib\\site-packages (from sklearn-crfsuite->sinling) (0.9.7)\n",
      "Requirement already satisfied: tabulate in c:\\users\\dulmini kalupahana\\anaconda3\\lib\\site-packages (from sklearn-crfsuite->sinling) (0.8.9)\n",
      "Requirement already satisfied: six in c:\\users\\dulmini kalupahana\\anaconda3\\lib\\site-packages (from sklearn-crfsuite->sinling) (1.15.0)\n"
     ]
    }
   ],
   "source": [
    "#install sinhala support library\n",
    "!pip install sinling"
   ]
  },
  {
   "cell_type": "code",
   "execution_count": 11,
   "metadata": {},
   "outputs": [],
   "source": [
    "from sinling import SinhalaTokenizer\n",
    "\n",
    "tokenizer = SinhalaTokenizer()\n"
   ]
  },
  {
   "cell_type": "code",
   "execution_count": 12,
   "metadata": {
    "scrolled": true
   },
   "outputs": [
    {
     "data": {
      "text/plain": [
       "['දන්නා', 'කෙනෙක්', 'කියලා', 'දෙන්නකෝ', 'මේකේ', 'සහනය']"
      ]
     },
     "execution_count": 12,
     "metadata": {},
     "output_type": "execute_result"
    }
   ],
   "source": [
    "sentence = 'දන්නා කෙනෙක් කියලා දෙන්නකෝ මේකේ සහනය'  \n",
    "\n",
    "tokenizer.tokenize(sentence)"
   ]
  },
  {
   "cell_type": "code",
   "execution_count": 13,
   "metadata": {
    "scrolled": true
   },
   "outputs": [
    {
     "name": "stdout",
     "output_type": "stream",
     "text": [
      "Getting words tokenized\n",
      "Time taken 0.06866910000000104 sec\n"
     ]
    }
   ],
   "source": [
    "print('Getting words tokenized')\n",
    "t0 = time.perf_counter()\n",
    "sin_doc['text_tokenized'] = sin_doc.comments.map(lambda t: tokenizer.tokenize(t))\n",
    "t1 = time.perf_counter() - t0\n",
    "print('Time taken',t1,'sec')"
   ]
  },
  {
   "cell_type": "code",
   "execution_count": 14,
   "metadata": {
    "scrolled": false
   },
   "outputs": [
    {
     "data": {
      "text/html": [
       "<div>\n",
       "<style scoped>\n",
       "    .dataframe tbody tr th:only-of-type {\n",
       "        vertical-align: middle;\n",
       "    }\n",
       "\n",
       "    .dataframe tbody tr th {\n",
       "        vertical-align: top;\n",
       "    }\n",
       "\n",
       "    .dataframe thead th {\n",
       "        text-align: right;\n",
       "    }\n",
       "</style>\n",
       "<table border=\"1\" class=\"dataframe\">\n",
       "  <thead>\n",
       "    <tr style=\"text-align: right;\">\n",
       "      <th></th>\n",
       "      <th>label</th>\n",
       "      <th>comments</th>\n",
       "      <th>text_cleaned</th>\n",
       "      <th>text_tokenized</th>\n",
       "    </tr>\n",
       "  </thead>\n",
       "  <tbody>\n",
       "    <tr>\n",
       "      <th>0</th>\n",
       "      <td>neutral</td>\n",
       "      <td>දන්නා කෙනෙක් කියලා දෙන්නකෝ මේකේ සහනය</td>\n",
       "      <td>[දන, ්, න, ා, ක, ෙ, න, ෙ, ක, ්, ක, ි, යල, ා, ද...</td>\n",
       "      <td>[දන්නා, කෙනෙක්, කියලා, දෙන්නකෝ, මේකේ, සහනය]</td>\n",
       "    </tr>\n",
       "    <tr>\n",
       "      <th>1</th>\n",
       "      <td>negative</td>\n",
       "      <td>අනේ උබලගේ බම්බුවේ සහන මල්ල වෙලක් කන්නත් මදි යක...</td>\n",
       "      <td>[අන, ේ, උබලග, ේ, බම, ්, බ, ු, ව, ේ, සහන, මල, ්...</td>\n",
       "      <td>[අනේ, උබලගේ, බම්බුවේ, සහන, මල්ල, වෙලක්, කන්නත්...</td>\n",
       "    </tr>\n",
       "    <tr>\n",
       "      <th>2</th>\n",
       "      <td>neutral</td>\n",
       "      <td>මෙ කීයපුව මල්ලෙ නෑනෙ</td>\n",
       "      <td>[ම, ෙ, ක, ී, යප, ු, ව, මල, ්, ල, ෙ, න, ෑ, න, ෙ]</td>\n",
       "      <td>[මෙ, කීයපුව, මල්ලෙ, නෑනෙ]</td>\n",
       "    </tr>\n",
       "    <tr>\n",
       "      <th>3</th>\n",
       "      <td>neutral</td>\n",
       "      <td>නොම්මරයක් ගන්න වෙයි ද පොලිමත් ඇති</td>\n",
       "      <td>[න, ො, ම, ්, මරයක, ්, ගන, ්, න, ව, ෙ, ය, ි, ද,...</td>\n",
       "      <td>[නොම්මරයක්, ගන්න, වෙයි, ද, පොලිමත්, ඇති]</td>\n",
       "    </tr>\n",
       "    <tr>\n",
       "      <th>4</th>\n",
       "      <td>neutral</td>\n",
       "      <td>69 ලක්ෂයට සැපද</td>\n",
       "      <td>[69, ලක, ්, ෂයට, ස, ැ, පද]</td>\n",
       "      <td>[69, ලක්ෂයට, සැපද]</td>\n",
       "    </tr>\n",
       "  </tbody>\n",
       "</table>\n",
       "</div>"
      ],
      "text/plain": [
       "      label                                           comments  \\\n",
       "0   neutral               දන්නා කෙනෙක් කියලා දෙන්නකෝ මේකේ සහනය   \n",
       "1  negative  අනේ උබලගේ බම්බුවේ සහන මල්ල වෙලක් කන්නත් මදි යක...   \n",
       "2   neutral                               මෙ කීයපුව මල්ලෙ නෑනෙ   \n",
       "3   neutral                 නොම්මරයක් ගන්න වෙයි ද පොලිමත් ඇති    \n",
       "4   neutral                                     69 ලක්ෂයට සැපද   \n",
       "\n",
       "                                        text_cleaned  \\\n",
       "0  [දන, ්, න, ා, ක, ෙ, න, ෙ, ක, ්, ක, ි, යල, ා, ද...   \n",
       "1  [අන, ේ, උබලග, ේ, බම, ්, බ, ු, ව, ේ, සහන, මල, ්...   \n",
       "2    [ම, ෙ, ක, ී, යප, ු, ව, මල, ්, ල, ෙ, න, ෑ, න, ෙ]   \n",
       "3  [න, ො, ම, ්, මරයක, ්, ගන, ්, න, ව, ෙ, ය, ි, ද,...   \n",
       "4                         [69, ලක, ්, ෂයට, ස, ැ, පද]   \n",
       "\n",
       "                                      text_tokenized  \n",
       "0        [දන්නා, කෙනෙක්, කියලා, දෙන්නකෝ, මේකේ, සහනය]  \n",
       "1  [අනේ, උබලගේ, බම්බුවේ, සහන, මල්ල, වෙලක්, කන්නත්...  \n",
       "2                          [මෙ, කීයපුව, මල්ලෙ, නෑනෙ]  \n",
       "3           [නොම්මරයක්, ගන්න, වෙයි, ද, පොලිමත්, ඇති]  \n",
       "4                                 [69, ලක්ෂයට, සැපද]  "
      ]
     },
     "execution_count": 14,
     "metadata": {},
     "output_type": "execute_result"
    }
   ],
   "source": [
    "sin_doc.head(5)"
   ]
  },
  {
   "cell_type": "code",
   "execution_count": 15,
   "metadata": {},
   "outputs": [],
   "source": [
    "pipeline_cls =Pipeline([('count', CountVectorizer()),\n",
    "               ('tfidf', TfidfTransformer()),])\n",
    "    "
   ]
  },
  {
   "cell_type": "code",
   "execution_count": 16,
   "metadata": {},
   "outputs": [],
   "source": [
    "#transform all text which tokenize \n",
    "feature = pipeline_cls.fit_transform(sin_doc.comments)"
   ]
  },
  {
   "cell_type": "code",
   "execution_count": 17,
   "metadata": {
    "scrolled": false
   },
   "outputs": [
    {
     "name": "stdout",
     "output_type": "stream",
     "text": [
      "Training dataset shape = (608, 4)\n",
      "Testing dataset shape = (153, 4)\n"
     ]
    }
   ],
   "source": [
    "train,test = train_test_split(sin_doc, train_size = 0.8, random_state = 42)\n",
    "print('Training dataset shape =',train.shape)\n",
    "print('Testing dataset shape =',test.shape)\n"
   ]
  },
  {
   "cell_type": "code",
   "execution_count": 18,
   "metadata": {
    "scrolled": false
   },
   "outputs": [
    {
     "data": {
      "text/plain": [
       "array([[0., 0., 0., ..., 0., 0., 0.],\n",
       "       [0., 0., 0., ..., 0., 0., 0.],\n",
       "       [0., 0., 0., ..., 0., 0., 0.],\n",
       "       [0., 0., 0., ..., 0., 0., 0.],\n",
       "       [0., 0., 0., ..., 0., 0., 0.]])"
      ]
     },
     "execution_count": 18,
     "metadata": {},
     "output_type": "execute_result"
    }
   ],
   "source": [
    "#convert to sparse matrix into array to print transformed features\n",
    "feature[:5].toarray()"
   ]
  },
  {
   "cell_type": "code",
   "execution_count": 19,
   "metadata": {},
   "outputs": [],
   "source": [
    "trainX, testX, trainY, testY = train_test_split(feature, sin_doc.label)"
   ]
  },
  {
   "cell_type": "code",
   "execution_count": 20,
   "metadata": {},
   "outputs": [],
   "source": [
    "#SVM\n",
    "\n",
    "from sklearn import svm\n",
    "classifier = svm.SVC(kernel = 'linear', gamma = 'auto', C = 2)\n",
    "classifier.fit(trainX, trainY)\n",
    "\n",
    "y_pred = classifier.predict(trainX)"
   ]
  },
  {
   "cell_type": "code",
   "execution_count": 26,
   "metadata": {},
   "outputs": [
    {
     "data": {
      "text/plain": [
       "0.4869109947643979"
      ]
     },
     "execution_count": 26,
     "metadata": {},
     "output_type": "execute_result"
    }
   ],
   "source": [
    "classifier.score(testX,testY)"
   ]
  },
  {
   "cell_type": "code",
   "execution_count": 27,
   "metadata": {},
   "outputs": [
    {
     "name": "stdout",
     "output_type": "stream",
     "text": [
      "Training Accuracy: 0.9280701754385965\n",
      "Testing Accuracy: 0.4869109947643979\n"
     ]
    }
   ],
   "source": [
    "print('Training Accuracy:', classifier.score(trainX,trainY))\n",
    "print('Testing Accuracy:',classifier.score(testX,testY))"
   ]
  },
  {
   "cell_type": "code",
   "execution_count": 28,
   "metadata": {},
   "outputs": [],
   "source": [
    "con_mat = pd.DataFrame(confusion_matrix(classifier.predict(trainX), trainY),\n",
    "                      columns = ['Predicted:positive','Predicted:negative','Predicted:neutral','Predicted:bad word'],\n",
    "                      index = ['Actual:positive', 'Actual:negative','Actual:neutral','Actual:bad word'])\n"
   ]
  },
  {
   "cell_type": "code",
   "execution_count": 21,
   "metadata": {
    "scrolled": true
   },
   "outputs": [
    {
     "name": "stdout",
     "output_type": "stream",
     "text": [
      "              precision    recall  f1-score   support\n",
      "\n",
      "    bad word       0.96      0.93      0.94        27\n",
      "    negative       0.94      0.95      0.94       169\n",
      "     neutral       0.88      0.96      0.92       207\n",
      "    positive       0.98      0.87      0.92       167\n",
      "\n",
      "    accuracy                           0.93       570\n",
      "   macro avg       0.94      0.93      0.93       570\n",
      "weighted avg       0.93      0.93      0.93       570\n",
      "\n"
     ]
    }
   ],
   "source": [
    "print(classification_report(trainY, y_pred))"
   ]
  },
  {
   "cell_type": "code",
   "execution_count": 29,
   "metadata": {},
   "outputs": [
    {
     "name": "stdout",
     "output_type": "stream",
     "text": [
      "\n",
      "CONFUSION MATRIX\n"
     ]
    },
    {
     "data": {
      "text/plain": [
       "<AxesSubplot:>"
      ]
     },
     "execution_count": 29,
     "metadata": {},
     "output_type": "execute_result"
    },
    {
     "data": {
      "image/png": "[encoded data removed]",
      "text/plain": [
       "<Figure size 432x288 with 2 Axes>"
      ]
     },
     "metadata": {},
     "output_type": "display_data"
    }
   ],
   "source": [
    "print('\\nCONFUSION MATRIX')\n",
    "plt.figure(figsize = (6,4))\n",
    "sns.heatmap(con_mat, annot = True,fmt = 'd', cmap=\"YlGnBu\")"
   ]
  },
  {
   "cell_type": "code",
   "execution_count": null,
   "metadata": {},
   "outputs": [],
   "source": [
    "import joblib\n",
    "joblib.dump(classifier, 'svm_model')"
   ]
  },
  {
   "cell_type": "code",
   "execution_count": 30,
   "metadata": {
    "scrolled": true
   },
   "outputs": [
    {
     "data": {
      "text/plain": [
       "array(['positive'], dtype=object)"
      ]
     },
     "execution_count": 30,
     "metadata": {},
     "output_type": "execute_result"
    }
   ],
   "source": [
    "feature = pipeline_cls.transform(['පරිසරයට ආදරෙයි'])\n",
    "classifier.predict(feature)"
   ]
  },
  {
   "cell_type": "code",
   "execution_count": 31,
   "metadata": {
    "scrolled": true
   },
   "outputs": [
    {
     "data": {
      "text/plain": [
       "array(['positive'], dtype=object)"
      ]
     },
     "execution_count": 31,
     "metadata": {},
     "output_type": "execute_result"
    }
   ],
   "source": [
    "feature = pipeline_cls.transform(['ශිු ලංකාවටවත් කිඩනයින්ටත් තෙරැවන්සරණයි '])\n",
    "classifier.predict(feature)"
   ]
  },
  {
   "cell_type": "code",
   "execution_count": 32,
   "metadata": {
    "scrolled": true
   },
   "outputs": [
    {
     "data": {
      "text/plain": [
       "array(['positive'], dtype=object)"
      ]
     },
     "execution_count": 32,
     "metadata": {},
     "output_type": "execute_result"
    }
   ],
   "source": [
    "feature = pipeline_cls.transform(['ඒක හොඳයි'])\n",
    "classifier.predict(feature)"
   ]
  },
  {
   "cell_type": "code",
   "execution_count": 33,
   "metadata": {},
   "outputs": [
    {
     "data": {
      "text/plain": [
       "array(['negative'], dtype=object)"
      ]
     },
     "execution_count": 33,
     "metadata": {},
     "output_type": "execute_result"
    }
   ],
   "source": [
    "feature = pipeline_cls.transform(['මොඩ හරකෙකුටනේ අපි ජන්දේ දුන්නෙ'])\n",
    "classifier.predict(feature)"
   ]
  },
  {
   "cell_type": "code",
   "execution_count": null,
   "metadata": {},
   "outputs": [],
   "source": []
  }
 ],
 "metadata": {
  "kernelspec": {
   "display_name": "Python 3 (ipykernel)",
   "language": "python",
   "name": "python3"
  },
  "language_info": {
   "codemirror_mode": {
    "name": "ipython",
    "version": 3
   },
   "file_extension": ".py",
   "mimetype": "text/x-python",
   "name": "python",
   "nbconvert_exporter": "python",
   "pygments_lexer": "ipython3",
   "version": "3.8.11"
  }
 },
 "nbformat": 4,
 "nbformat_minor": 4
}
